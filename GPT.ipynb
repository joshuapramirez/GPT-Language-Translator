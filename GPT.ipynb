{
 "cells": [
  {
   "cell_type": "markdown",
   "id": "fb10b915-e513-40d4-852d-0b087d987aa0",
   "metadata": {},
   "source": [
    "<h1 style=\"font-size:2rem;color:green;\">English to Portuguese Translator LLM</h1>"
   ]
  },
  {
   "cell_type": "markdown",
   "id": "1120bd07-18ce-4aca-9214-fe217ca94335",
   "metadata": {},
   "source": [
    "## Set up PyTorch"
   ]
  },
  {
   "cell_type": "code",
   "execution_count": 1,
   "id": "33695f12-9591-4444-a964-3c1132c3d734",
   "metadata": {},
   "outputs": [
    {
     "name": "stdout",
     "output_type": "stream",
     "text": [
      "Looking in indexes: https://download.pytorch.org/whl/cu118\n",
      "Requirement already satisfied: torch in c:\\users\\joshu\\anaconda3\\lib\\site-packages (2.1.2)\n",
      "Requirement already satisfied: torchvision in c:\\users\\joshu\\anaconda3\\lib\\site-packages (0.16.2)\n",
      "Requirement already satisfied: torchaudio in c:\\users\\joshu\\anaconda3\\lib\\site-packages (2.1.2)\n",
      "Requirement already satisfied: filelock in c:\\users\\joshu\\anaconda3\\lib\\site-packages (from torch) (3.13.1)\n",
      "Requirement already satisfied: typing-extensions in c:\\users\\joshu\\anaconda3\\lib\\site-packages (from torch) (4.7.1)\n",
      "Requirement already satisfied: sympy in c:\\users\\joshu\\anaconda3\\lib\\site-packages (from torch) (1.12)\n",
      "Requirement already satisfied: networkx in c:\\users\\joshu\\anaconda3\\lib\\site-packages (from torch) (3.1)\n",
      "Requirement already satisfied: jinja2 in c:\\users\\joshu\\anaconda3\\lib\\site-packages (from torch) (3.1.2)\n",
      "Requirement already satisfied: fsspec in c:\\users\\joshu\\anaconda3\\lib\\site-packages (from torch) (2023.10.0)\n",
      "Requirement already satisfied: numpy in c:\\users\\joshu\\anaconda3\\lib\\site-packages (from torchvision) (1.26.3)\n",
      "Requirement already satisfied: requests in c:\\users\\joshu\\anaconda3\\lib\\site-packages (from torchvision) (2.31.0)\n",
      "Requirement already satisfied: pillow!=8.3.*,>=5.3.0 in c:\\users\\joshu\\anaconda3\\lib\\site-packages (from torchvision) (10.0.1)\n",
      "Requirement already satisfied: MarkupSafe>=2.0 in c:\\users\\joshu\\anaconda3\\lib\\site-packages (from jinja2->torch) (2.1.3)\n",
      "Requirement already satisfied: charset-normalizer<4,>=2 in c:\\users\\joshu\\anaconda3\\lib\\site-packages (from requests->torchvision) (2.0.4)\n",
      "Requirement already satisfied: idna<4,>=2.5 in c:\\users\\joshu\\anaconda3\\lib\\site-packages (from requests->torchvision) (3.4)\n",
      "Requirement already satisfied: urllib3<3,>=1.21.1 in c:\\users\\joshu\\anaconda3\\lib\\site-packages (from requests->torchvision) (1.26.18)\n",
      "Requirement already satisfied: certifi>=2017.4.17 in c:\\users\\joshu\\anaconda3\\lib\\site-packages (from requests->torchvision) (2023.11.17)\n",
      "Requirement already satisfied: mpmath>=0.19 in c:\\users\\joshu\\anaconda3\\lib\\site-packages (from sympy->torch) (1.3.0)\n",
      "Requirement already satisfied: pandas in c:\\users\\joshu\\anaconda3\\lib\\site-packages (2.1.4)\n",
      "Requirement already satisfied: numpy<2,>=1.23.2 in c:\\users\\joshu\\anaconda3\\lib\\site-packages (from pandas) (1.26.3)\n",
      "Requirement already satisfied: python-dateutil>=2.8.2 in c:\\users\\joshu\\anaconda3\\lib\\site-packages (from pandas) (2.8.2)\n",
      "Requirement already satisfied: pytz>=2020.1 in c:\\users\\joshu\\anaconda3\\lib\\site-packages (from pandas) (2023.3.post1)\n",
      "Requirement already satisfied: tzdata>=2022.1 in c:\\users\\joshu\\anaconda3\\lib\\site-packages (from pandas) (2023.3)\n",
      "Requirement already satisfied: six>=1.5 in c:\\users\\joshu\\anaconda3\\lib\\site-packages (from python-dateutil>=2.8.2->pandas) (1.16.0)\n",
      "Requirement already satisfied: ipywidgets in c:\\users\\joshu\\anaconda3\\lib\\site-packages (8.0.4)\n",
      "Requirement already satisfied: ipykernel>=4.5.1 in c:\\users\\joshu\\anaconda3\\lib\\site-packages (from ipywidgets) (6.25.0)\n",
      "Requirement already satisfied: ipython>=6.1.0 in c:\\users\\joshu\\anaconda3\\lib\\site-packages (from ipywidgets) (8.20.0)\n",
      "Requirement already satisfied: traitlets>=4.3.1 in c:\\users\\joshu\\anaconda3\\lib\\site-packages (from ipywidgets) (5.7.1)\n",
      "Requirement already satisfied: widgetsnbextension~=4.0 in c:\\users\\joshu\\anaconda3\\lib\\site-packages (from ipywidgets) (4.0.5)\n",
      "Requirement already satisfied: jupyterlab-widgets~=3.0 in c:\\users\\joshu\\anaconda3\\lib\\site-packages (from ipywidgets) (3.0.9)\n",
      "Requirement already satisfied: comm>=0.1.1 in c:\\users\\joshu\\anaconda3\\lib\\site-packages (from ipykernel>=4.5.1->ipywidgets) (0.1.2)\n",
      "Requirement already satisfied: debugpy>=1.6.5 in c:\\users\\joshu\\anaconda3\\lib\\site-packages (from ipykernel>=4.5.1->ipywidgets) (1.6.7)\n",
      "Requirement already satisfied: jupyter-client>=6.1.12 in c:\\users\\joshu\\anaconda3\\lib\\site-packages (from ipykernel>=4.5.1->ipywidgets) (8.6.0)\n",
      "Requirement already satisfied: jupyter-core!=5.0.*,>=4.12 in c:\\users\\joshu\\anaconda3\\lib\\site-packages (from ipykernel>=4.5.1->ipywidgets) (5.5.0)\n",
      "Requirement already satisfied: matplotlib-inline>=0.1 in c:\\users\\joshu\\anaconda3\\lib\\site-packages (from ipykernel>=4.5.1->ipywidgets) (0.1.6)\n",
      "Requirement already satisfied: nest-asyncio in c:\\users\\joshu\\anaconda3\\lib\\site-packages (from ipykernel>=4.5.1->ipywidgets) (1.5.6)\n",
      "Requirement already satisfied: packaging in c:\\users\\joshu\\anaconda3\\lib\\site-packages (from ipykernel>=4.5.1->ipywidgets) (23.1)\n",
      "Requirement already satisfied: psutil in c:\\users\\joshu\\anaconda3\\lib\\site-packages (from ipykernel>=4.5.1->ipywidgets) (5.9.0)\n",
      "Requirement already satisfied: pyzmq>=20 in c:\\users\\joshu\\anaconda3\\lib\\site-packages (from ipykernel>=4.5.1->ipywidgets) (25.1.0)\n",
      "Requirement already satisfied: tornado>=6.1 in c:\\users\\joshu\\anaconda3\\lib\\site-packages (from ipykernel>=4.5.1->ipywidgets) (6.3.3)\n",
      "Requirement already satisfied: decorator in c:\\users\\joshu\\anaconda3\\lib\\site-packages (from ipython>=6.1.0->ipywidgets) (5.1.1)\n",
      "Requirement already satisfied: jedi>=0.16 in c:\\users\\joshu\\anaconda3\\lib\\site-packages (from ipython>=6.1.0->ipywidgets) (0.18.1)\n",
      "Requirement already satisfied: prompt-toolkit<3.1.0,>=3.0.41 in c:\\users\\joshu\\anaconda3\\lib\\site-packages (from ipython>=6.1.0->ipywidgets) (3.0.43)\n",
      "Requirement already satisfied: pygments>=2.4.0 in c:\\users\\joshu\\anaconda3\\lib\\site-packages (from ipython>=6.1.0->ipywidgets) (2.15.1)\n",
      "Requirement already satisfied: stack-data in c:\\users\\joshu\\anaconda3\\lib\\site-packages (from ipython>=6.1.0->ipywidgets) (0.2.0)\n",
      "Requirement already satisfied: colorama in c:\\users\\joshu\\anaconda3\\lib\\site-packages (from ipython>=6.1.0->ipywidgets) (0.4.6)\n",
      "Requirement already satisfied: parso<0.9.0,>=0.8.0 in c:\\users\\joshu\\anaconda3\\lib\\site-packages (from jedi>=0.16->ipython>=6.1.0->ipywidgets) (0.8.3)\n",
      "Requirement already satisfied: python-dateutil>=2.8.2 in c:\\users\\joshu\\anaconda3\\lib\\site-packages (from jupyter-client>=6.1.12->ipykernel>=4.5.1->ipywidgets) (2.8.2)\n",
      "Requirement already satisfied: platformdirs>=2.5 in c:\\users\\joshu\\anaconda3\\lib\\site-packages (from jupyter-core!=5.0.*,>=4.12->ipykernel>=4.5.1->ipywidgets) (3.10.0)\n",
      "Requirement already satisfied: pywin32>=300 in c:\\users\\joshu\\anaconda3\\lib\\site-packages (from jupyter-core!=5.0.*,>=4.12->ipykernel>=4.5.1->ipywidgets) (305.1)\n",
      "Requirement already satisfied: wcwidth in c:\\users\\joshu\\anaconda3\\lib\\site-packages (from prompt-toolkit<3.1.0,>=3.0.41->ipython>=6.1.0->ipywidgets) (0.2.5)\n",
      "Requirement already satisfied: executing in c:\\users\\joshu\\anaconda3\\lib\\site-packages (from stack-data->ipython>=6.1.0->ipywidgets) (0.8.3)\n",
      "Requirement already satisfied: asttokens in c:\\users\\joshu\\anaconda3\\lib\\site-packages (from stack-data->ipython>=6.1.0->ipywidgets) (2.0.5)\n",
      "Requirement already satisfied: pure-eval in c:\\users\\joshu\\anaconda3\\lib\\site-packages (from stack-data->ipython>=6.1.0->ipywidgets) (0.2.2)\n",
      "Requirement already satisfied: six>=1.5 in c:\\users\\joshu\\anaconda3\\lib\\site-packages (from python-dateutil>=2.8.2->jupyter-client>=6.1.12->ipykernel>=4.5.1->ipywidgets) (1.16.0)\n",
      "Requirement already satisfied: widgetsnbextension in c:\\users\\joshu\\anaconda3\\lib\\site-packages (4.0.5)\n",
      "Requirement already satisfied: jupyter_contrib_nbextensions in c:\\users\\joshu\\anaconda3\\lib\\site-packages (0.7.0)\n",
      "Requirement already satisfied: ipython-genutils in c:\\users\\joshu\\anaconda3\\lib\\site-packages (from jupyter_contrib_nbextensions) (0.2.0)\n",
      "Requirement already satisfied: jupyter-contrib-core>=0.3.3 in c:\\users\\joshu\\anaconda3\\lib\\site-packages (from jupyter_contrib_nbextensions) (0.4.2)\n",
      "Requirement already satisfied: jupyter-core in c:\\users\\joshu\\anaconda3\\lib\\site-packages (from jupyter_contrib_nbextensions) (5.5.0)\n",
      "Requirement already satisfied: jupyter-highlight-selected-word>=0.1.1 in c:\\users\\joshu\\anaconda3\\lib\\site-packages (from jupyter_contrib_nbextensions) (0.2.0)\n",
      "Requirement already satisfied: jupyter-nbextensions-configurator>=0.4.0 in c:\\users\\joshu\\anaconda3\\lib\\site-packages (from jupyter_contrib_nbextensions) (0.6.3)\n",
      "Requirement already satisfied: nbconvert>=6.0 in c:\\users\\joshu\\anaconda3\\lib\\site-packages (from jupyter_contrib_nbextensions) (7.10.0)\n",
      "Requirement already satisfied: notebook>=6.0 in c:\\users\\joshu\\anaconda3\\lib\\site-packages (from jupyter_contrib_nbextensions) (7.0.6)\n",
      "Requirement already satisfied: tornado in c:\\users\\joshu\\anaconda3\\lib\\site-packages (from jupyter_contrib_nbextensions) (6.3.3)\n",
      "Requirement already satisfied: traitlets>=4.1 in c:\\users\\joshu\\anaconda3\\lib\\site-packages (from jupyter_contrib_nbextensions) (5.7.1)\n",
      "Requirement already satisfied: lxml in c:\\users\\joshu\\anaconda3\\lib\\site-packages (from jupyter_contrib_nbextensions) (4.9.3)\n",
      "Requirement already satisfied: setuptools in c:\\users\\joshu\\anaconda3\\lib\\site-packages (from jupyter-contrib-core>=0.3.3->jupyter_contrib_nbextensions) (68.0.0)\n",
      "Requirement already satisfied: pyyaml in c:\\users\\joshu\\anaconda3\\lib\\site-packages (from jupyter-nbextensions-configurator>=0.4.0->jupyter_contrib_nbextensions) (6.0.1)\n",
      "Requirement already satisfied: beautifulsoup4 in c:\\users\\joshu\\anaconda3\\lib\\site-packages (from nbconvert>=6.0->jupyter_contrib_nbextensions) (4.12.2)\n",
      "Requirement already satisfied: bleach!=5.0.0 in c:\\users\\joshu\\anaconda3\\lib\\site-packages (from nbconvert>=6.0->jupyter_contrib_nbextensions) (4.1.0)\n",
      "Requirement already satisfied: defusedxml in c:\\users\\joshu\\anaconda3\\lib\\site-packages (from nbconvert>=6.0->jupyter_contrib_nbextensions) (0.7.1)\n",
      "Requirement already satisfied: jinja2>=3.0 in c:\\users\\joshu\\anaconda3\\lib\\site-packages (from nbconvert>=6.0->jupyter_contrib_nbextensions) (3.1.2)\n",
      "Requirement already satisfied: jupyterlab-pygments in c:\\users\\joshu\\anaconda3\\lib\\site-packages (from nbconvert>=6.0->jupyter_contrib_nbextensions) (0.1.2)\n",
      "Requirement already satisfied: markupsafe>=2.0 in c:\\users\\joshu\\anaconda3\\lib\\site-packages (from nbconvert>=6.0->jupyter_contrib_nbextensions) (2.1.3)\n",
      "Requirement already satisfied: mistune<4,>=2.0.3 in c:\\users\\joshu\\anaconda3\\lib\\site-packages (from nbconvert>=6.0->jupyter_contrib_nbextensions) (2.0.4)\n",
      "Requirement already satisfied: nbclient>=0.5.0 in c:\\users\\joshu\\anaconda3\\lib\\site-packages (from nbconvert>=6.0->jupyter_contrib_nbextensions) (0.8.0)\n",
      "Requirement already satisfied: nbformat>=5.7 in c:\\users\\joshu\\anaconda3\\lib\\site-packages (from nbconvert>=6.0->jupyter_contrib_nbextensions) (5.9.2)\n",
      "Requirement already satisfied: packaging in c:\\users\\joshu\\anaconda3\\lib\\site-packages (from nbconvert>=6.0->jupyter_contrib_nbextensions) (23.1)\n",
      "Requirement already satisfied: pandocfilters>=1.4.1 in c:\\users\\joshu\\anaconda3\\lib\\site-packages (from nbconvert>=6.0->jupyter_contrib_nbextensions) (1.5.0)\n",
      "Requirement already satisfied: pygments>=2.4.1 in c:\\users\\joshu\\anaconda3\\lib\\site-packages (from nbconvert>=6.0->jupyter_contrib_nbextensions) (2.15.1)\n",
      "Requirement already satisfied: tinycss2 in c:\\users\\joshu\\anaconda3\\lib\\site-packages (from nbconvert>=6.0->jupyter_contrib_nbextensions) (1.2.1)\n",
      "Requirement already satisfied: platformdirs>=2.5 in c:\\users\\joshu\\anaconda3\\lib\\site-packages (from jupyter-core->jupyter_contrib_nbextensions) (3.10.0)\n",
      "Requirement already satisfied: pywin32>=300 in c:\\users\\joshu\\anaconda3\\lib\\site-packages (from jupyter-core->jupyter_contrib_nbextensions) (305.1)\n",
      "Requirement already satisfied: jupyter-server<3,>=2.4.0 in c:\\users\\joshu\\anaconda3\\lib\\site-packages (from notebook>=6.0->jupyter_contrib_nbextensions) (2.10.0)\n",
      "Requirement already satisfied: jupyterlab-server<3,>=2.22.1 in c:\\users\\joshu\\anaconda3\\lib\\site-packages (from notebook>=6.0->jupyter_contrib_nbextensions) (2.25.1)\n",
      "Requirement already satisfied: jupyterlab<5,>=4.0.2 in c:\\users\\joshu\\anaconda3\\lib\\site-packages (from notebook>=6.0->jupyter_contrib_nbextensions) (4.0.8)\n",
      "Requirement already satisfied: notebook-shim<0.3,>=0.2 in c:\\users\\joshu\\anaconda3\\lib\\site-packages (from notebook>=6.0->jupyter_contrib_nbextensions) (0.2.3)\n",
      "Requirement already satisfied: six>=1.9.0 in c:\\users\\joshu\\anaconda3\\lib\\site-packages (from bleach!=5.0.0->nbconvert>=6.0->jupyter_contrib_nbextensions) (1.16.0)\n",
      "Requirement already satisfied: webencodings in c:\\users\\joshu\\anaconda3\\lib\\site-packages (from bleach!=5.0.0->nbconvert>=6.0->jupyter_contrib_nbextensions) (0.5.1)\n",
      "Requirement already satisfied: anyio>=3.1.0 in c:\\users\\joshu\\anaconda3\\lib\\site-packages (from jupyter-server<3,>=2.4.0->notebook>=6.0->jupyter_contrib_nbextensions) (3.5.0)\n",
      "Requirement already satisfied: argon2-cffi in c:\\users\\joshu\\anaconda3\\lib\\site-packages (from jupyter-server<3,>=2.4.0->notebook>=6.0->jupyter_contrib_nbextensions) (21.3.0)\n",
      "Requirement already satisfied: jupyter-client>=7.4.4 in c:\\users\\joshu\\anaconda3\\lib\\site-packages (from jupyter-server<3,>=2.4.0->notebook>=6.0->jupyter_contrib_nbextensions) (8.6.0)\n",
      "Requirement already satisfied: jupyter-events>=0.6.0 in c:\\users\\joshu\\anaconda3\\lib\\site-packages (from jupyter-server<3,>=2.4.0->notebook>=6.0->jupyter_contrib_nbextensions) (0.8.0)\n",
      "Requirement already satisfied: jupyter-server-terminals in c:\\users\\joshu\\anaconda3\\lib\\site-packages (from jupyter-server<3,>=2.4.0->notebook>=6.0->jupyter_contrib_nbextensions) (0.4.4)\n",
      "Requirement already satisfied: overrides in c:\\users\\joshu\\anaconda3\\lib\\site-packages (from jupyter-server<3,>=2.4.0->notebook>=6.0->jupyter_contrib_nbextensions) (7.4.0)\n",
      "Requirement already satisfied: prometheus-client in c:\\users\\joshu\\anaconda3\\lib\\site-packages (from jupyter-server<3,>=2.4.0->notebook>=6.0->jupyter_contrib_nbextensions) (0.14.1)\n",
      "Requirement already satisfied: pywinpty in c:\\users\\joshu\\anaconda3\\lib\\site-packages (from jupyter-server<3,>=2.4.0->notebook>=6.0->jupyter_contrib_nbextensions) (2.0.10)\n",
      "Requirement already satisfied: pyzmq>=24 in c:\\users\\joshu\\anaconda3\\lib\\site-packages (from jupyter-server<3,>=2.4.0->notebook>=6.0->jupyter_contrib_nbextensions) (25.1.0)\n",
      "Requirement already satisfied: send2trash>=1.8.2 in c:\\users\\joshu\\anaconda3\\lib\\site-packages (from jupyter-server<3,>=2.4.0->notebook>=6.0->jupyter_contrib_nbextensions) (1.8.2)\n",
      "Requirement already satisfied: terminado>=0.8.3 in c:\\users\\joshu\\anaconda3\\lib\\site-packages (from jupyter-server<3,>=2.4.0->notebook>=6.0->jupyter_contrib_nbextensions) (0.17.1)\n",
      "Requirement already satisfied: websocket-client in c:\\users\\joshu\\anaconda3\\lib\\site-packages (from jupyter-server<3,>=2.4.0->notebook>=6.0->jupyter_contrib_nbextensions) (0.58.0)\n",
      "Requirement already satisfied: async-lru>=1.0.0 in c:\\users\\joshu\\anaconda3\\lib\\site-packages (from jupyterlab<5,>=4.0.2->notebook>=6.0->jupyter_contrib_nbextensions) (2.0.4)\n",
      "Requirement already satisfied: ipykernel in c:\\users\\joshu\\anaconda3\\lib\\site-packages (from jupyterlab<5,>=4.0.2->notebook>=6.0->jupyter_contrib_nbextensions) (6.25.0)\n",
      "Requirement already satisfied: jupyter-lsp>=2.0.0 in c:\\users\\joshu\\anaconda3\\lib\\site-packages (from jupyterlab<5,>=4.0.2->notebook>=6.0->jupyter_contrib_nbextensions) (2.2.0)\n",
      "Requirement already satisfied: babel>=2.10 in c:\\users\\joshu\\anaconda3\\lib\\site-packages (from jupyterlab-server<3,>=2.22.1->notebook>=6.0->jupyter_contrib_nbextensions) (2.11.0)\n",
      "Requirement already satisfied: json5>=0.9.0 in c:\\users\\joshu\\anaconda3\\lib\\site-packages (from jupyterlab-server<3,>=2.22.1->notebook>=6.0->jupyter_contrib_nbextensions) (0.9.6)\n",
      "Requirement already satisfied: jsonschema>=4.18.0 in c:\\users\\joshu\\anaconda3\\lib\\site-packages (from jupyterlab-server<3,>=2.22.1->notebook>=6.0->jupyter_contrib_nbextensions) (4.19.2)\n",
      "Requirement already satisfied: requests>=2.31 in c:\\users\\joshu\\anaconda3\\lib\\site-packages (from jupyterlab-server<3,>=2.22.1->notebook>=6.0->jupyter_contrib_nbextensions) (2.31.0)\n",
      "Requirement already satisfied: fastjsonschema in c:\\users\\joshu\\anaconda3\\lib\\site-packages (from nbformat>=5.7->nbconvert>=6.0->jupyter_contrib_nbextensions) (2.16.2)\n",
      "Requirement already satisfied: soupsieve>1.2 in c:\\users\\joshu\\anaconda3\\lib\\site-packages (from beautifulsoup4->nbconvert>=6.0->jupyter_contrib_nbextensions) (2.5)\n",
      "Requirement already satisfied: idna>=2.8 in c:\\users\\joshu\\anaconda3\\lib\\site-packages (from anyio>=3.1.0->jupyter-server<3,>=2.4.0->notebook>=6.0->jupyter_contrib_nbextensions) (3.4)\n",
      "Requirement already satisfied: sniffio>=1.1 in c:\\users\\joshu\\anaconda3\\lib\\site-packages (from anyio>=3.1.0->jupyter-server<3,>=2.4.0->notebook>=6.0->jupyter_contrib_nbextensions) (1.2.0)\n",
      "Requirement already satisfied: pytz>=2015.7 in c:\\users\\joshu\\anaconda3\\lib\\site-packages (from babel>=2.10->jupyterlab-server<3,>=2.22.1->notebook>=6.0->jupyter_contrib_nbextensions) (2023.3.post1)\n",
      "Requirement already satisfied: attrs>=22.2.0 in c:\\users\\joshu\\anaconda3\\lib\\site-packages (from jsonschema>=4.18.0->jupyterlab-server<3,>=2.22.1->notebook>=6.0->jupyter_contrib_nbextensions) (23.1.0)\n",
      "Requirement already satisfied: jsonschema-specifications>=2023.03.6 in c:\\users\\joshu\\anaconda3\\lib\\site-packages (from jsonschema>=4.18.0->jupyterlab-server<3,>=2.22.1->notebook>=6.0->jupyter_contrib_nbextensions) (2023.7.1)\n",
      "Requirement already satisfied: referencing>=0.28.4 in c:\\users\\joshu\\anaconda3\\lib\\site-packages (from jsonschema>=4.18.0->jupyterlab-server<3,>=2.22.1->notebook>=6.0->jupyter_contrib_nbextensions) (0.30.2)\n",
      "Requirement already satisfied: rpds-py>=0.7.1 in c:\\users\\joshu\\anaconda3\\lib\\site-packages (from jsonschema>=4.18.0->jupyterlab-server<3,>=2.22.1->notebook>=6.0->jupyter_contrib_nbextensions) (0.10.6)\n",
      "Requirement already satisfied: python-dateutil>=2.8.2 in c:\\users\\joshu\\anaconda3\\lib\\site-packages (from jupyter-client>=7.4.4->jupyter-server<3,>=2.4.0->notebook>=6.0->jupyter_contrib_nbextensions) (2.8.2)\n",
      "Requirement already satisfied: python-json-logger>=2.0.4 in c:\\users\\joshu\\anaconda3\\lib\\site-packages (from jupyter-events>=0.6.0->jupyter-server<3,>=2.4.0->notebook>=6.0->jupyter_contrib_nbextensions) (2.0.7)\n",
      "Requirement already satisfied: rfc3339-validator in c:\\users\\joshu\\anaconda3\\lib\\site-packages (from jupyter-events>=0.6.0->jupyter-server<3,>=2.4.0->notebook>=6.0->jupyter_contrib_nbextensions) (0.1.4)\n",
      "Requirement already satisfied: rfc3986-validator>=0.1.1 in c:\\users\\joshu\\anaconda3\\lib\\site-packages (from jupyter-events>=0.6.0->jupyter-server<3,>=2.4.0->notebook>=6.0->jupyter_contrib_nbextensions) (0.1.1)\n",
      "Requirement already satisfied: charset-normalizer<4,>=2 in c:\\users\\joshu\\anaconda3\\lib\\site-packages (from requests>=2.31->jupyterlab-server<3,>=2.22.1->notebook>=6.0->jupyter_contrib_nbextensions) (2.0.4)\n",
      "Requirement already satisfied: urllib3<3,>=1.21.1 in c:\\users\\joshu\\anaconda3\\lib\\site-packages (from requests>=2.31->jupyterlab-server<3,>=2.22.1->notebook>=6.0->jupyter_contrib_nbextensions) (1.26.18)\n",
      "Requirement already satisfied: certifi>=2017.4.17 in c:\\users\\joshu\\anaconda3\\lib\\site-packages (from requests>=2.31->jupyterlab-server<3,>=2.22.1->notebook>=6.0->jupyter_contrib_nbextensions) (2023.11.17)\n",
      "Requirement already satisfied: argon2-cffi-bindings in c:\\users\\joshu\\anaconda3\\lib\\site-packages (from argon2-cffi->jupyter-server<3,>=2.4.0->notebook>=6.0->jupyter_contrib_nbextensions) (21.2.0)\n",
      "Requirement already satisfied: comm>=0.1.1 in c:\\users\\joshu\\anaconda3\\lib\\site-packages (from ipykernel->jupyterlab<5,>=4.0.2->notebook>=6.0->jupyter_contrib_nbextensions) (0.1.2)\n",
      "Requirement already satisfied: debugpy>=1.6.5 in c:\\users\\joshu\\anaconda3\\lib\\site-packages (from ipykernel->jupyterlab<5,>=4.0.2->notebook>=6.0->jupyter_contrib_nbextensions) (1.6.7)\n",
      "Requirement already satisfied: ipython>=7.23.1 in c:\\users\\joshu\\anaconda3\\lib\\site-packages (from ipykernel->jupyterlab<5,>=4.0.2->notebook>=6.0->jupyter_contrib_nbextensions) (8.20.0)\n",
      "Requirement already satisfied: matplotlib-inline>=0.1 in c:\\users\\joshu\\anaconda3\\lib\\site-packages (from ipykernel->jupyterlab<5,>=4.0.2->notebook>=6.0->jupyter_contrib_nbextensions) (0.1.6)\n",
      "Requirement already satisfied: nest-asyncio in c:\\users\\joshu\\anaconda3\\lib\\site-packages (from ipykernel->jupyterlab<5,>=4.0.2->notebook>=6.0->jupyter_contrib_nbextensions) (1.5.6)\n",
      "Requirement already satisfied: psutil in c:\\users\\joshu\\anaconda3\\lib\\site-packages (from ipykernel->jupyterlab<5,>=4.0.2->notebook>=6.0->jupyter_contrib_nbextensions) (5.9.0)\n",
      "Requirement already satisfied: decorator in c:\\users\\joshu\\anaconda3\\lib\\site-packages (from ipython>=7.23.1->ipykernel->jupyterlab<5,>=4.0.2->notebook>=6.0->jupyter_contrib_nbextensions) (5.1.1)\n",
      "Requirement already satisfied: jedi>=0.16 in c:\\users\\joshu\\anaconda3\\lib\\site-packages (from ipython>=7.23.1->ipykernel->jupyterlab<5,>=4.0.2->notebook>=6.0->jupyter_contrib_nbextensions) (0.18.1)\n",
      "Requirement already satisfied: prompt-toolkit<3.1.0,>=3.0.41 in c:\\users\\joshu\\anaconda3\\lib\\site-packages (from ipython>=7.23.1->ipykernel->jupyterlab<5,>=4.0.2->notebook>=6.0->jupyter_contrib_nbextensions) (3.0.43)\n",
      "Requirement already satisfied: stack-data in c:\\users\\joshu\\anaconda3\\lib\\site-packages (from ipython>=7.23.1->ipykernel->jupyterlab<5,>=4.0.2->notebook>=6.0->jupyter_contrib_nbextensions) (0.2.0)\n",
      "Requirement already satisfied: colorama in c:\\users\\joshu\\anaconda3\\lib\\site-packages (from ipython>=7.23.1->ipykernel->jupyterlab<5,>=4.0.2->notebook>=6.0->jupyter_contrib_nbextensions) (0.4.6)\n",
      "Requirement already satisfied: fqdn in c:\\users\\joshu\\anaconda3\\lib\\site-packages (from jsonschema>=4.18.0->jupyterlab-server<3,>=2.22.1->notebook>=6.0->jupyter_contrib_nbextensions) (1.5.1)\n",
      "Requirement already satisfied: isoduration in c:\\users\\joshu\\anaconda3\\lib\\site-packages (from jsonschema>=4.18.0->jupyterlab-server<3,>=2.22.1->notebook>=6.0->jupyter_contrib_nbextensions) (20.11.0)\n",
      "Requirement already satisfied: jsonpointer>1.13 in c:\\users\\joshu\\anaconda3\\lib\\site-packages (from jsonschema>=4.18.0->jupyterlab-server<3,>=2.22.1->notebook>=6.0->jupyter_contrib_nbextensions) (2.1)\n",
      "Requirement already satisfied: uri-template in c:\\users\\joshu\\anaconda3\\lib\\site-packages (from jsonschema>=4.18.0->jupyterlab-server<3,>=2.22.1->notebook>=6.0->jupyter_contrib_nbextensions) (1.3.0)\n",
      "Requirement already satisfied: webcolors>=1.11 in c:\\users\\joshu\\anaconda3\\lib\\site-packages (from jsonschema>=4.18.0->jupyterlab-server<3,>=2.22.1->notebook>=6.0->jupyter_contrib_nbextensions) (1.13)\n",
      "Requirement already satisfied: cffi>=1.0.1 in c:\\users\\joshu\\anaconda3\\lib\\site-packages (from argon2-cffi-bindings->argon2-cffi->jupyter-server<3,>=2.4.0->notebook>=6.0->jupyter_contrib_nbextensions) (1.16.0)\n",
      "Requirement already satisfied: pycparser in c:\\users\\joshu\\anaconda3\\lib\\site-packages (from cffi>=1.0.1->argon2-cffi-bindings->argon2-cffi->jupyter-server<3,>=2.4.0->notebook>=6.0->jupyter_contrib_nbextensions) (2.21)\n",
      "Requirement already satisfied: parso<0.9.0,>=0.8.0 in c:\\users\\joshu\\anaconda3\\lib\\site-packages (from jedi>=0.16->ipython>=7.23.1->ipykernel->jupyterlab<5,>=4.0.2->notebook>=6.0->jupyter_contrib_nbextensions) (0.8.3)\n",
      "Requirement already satisfied: wcwidth in c:\\users\\joshu\\anaconda3\\lib\\site-packages (from prompt-toolkit<3.1.0,>=3.0.41->ipython>=7.23.1->ipykernel->jupyterlab<5,>=4.0.2->notebook>=6.0->jupyter_contrib_nbextensions) (0.2.5)\n",
      "Requirement already satisfied: arrow>=0.15.0 in c:\\users\\joshu\\anaconda3\\lib\\site-packages (from isoduration->jsonschema>=4.18.0->jupyterlab-server<3,>=2.22.1->notebook>=6.0->jupyter_contrib_nbextensions) (1.2.3)\n",
      "Requirement already satisfied: executing in c:\\users\\joshu\\anaconda3\\lib\\site-packages (from stack-data->ipython>=7.23.1->ipykernel->jupyterlab<5,>=4.0.2->notebook>=6.0->jupyter_contrib_nbextensions) (0.8.3)\n",
      "Requirement already satisfied: asttokens in c:\\users\\joshu\\anaconda3\\lib\\site-packages (from stack-data->ipython>=7.23.1->ipykernel->jupyterlab<5,>=4.0.2->notebook>=6.0->jupyter_contrib_nbextensions) (2.0.5)\n",
      "Requirement already satisfied: pure-eval in c:\\users\\joshu\\anaconda3\\lib\\site-packages (from stack-data->ipython>=7.23.1->ipykernel->jupyterlab<5,>=4.0.2->notebook>=6.0->jupyter_contrib_nbextensions) (0.2.2)\n"
     ]
    },
    {
     "name": "stderr",
     "output_type": "stream",
     "text": [
      "Traceback (most recent call last):\n",
      "  File \"<frozen runpy>\", line 198, in _run_module_as_main\n",
      "  File \"<frozen runpy>\", line 88, in _run_code\n",
      "  File \"C:\\Users\\joshu\\anaconda3\\Scripts\\jupyter-contrib.EXE\\__main__.py\", line 7, in <module>\n",
      "  File \"C:\\Users\\joshu\\anaconda3\\Lib\\site-packages\\jupyter_core\\application.py\", line 280, in launch_instance\n",
      "    super().launch_instance(argv=argv, **kwargs)\n",
      "  File \"C:\\Users\\joshu\\anaconda3\\Lib\\site-packages\\traitlets\\config\\application.py\", line 990, in launch_instance\n",
      "    app = cls.instance(**kwargs)\n",
      "          ^^^^^^^^^^^^^^^^^^^^^^\n",
      "  File \"C:\\Users\\joshu\\anaconda3\\Lib\\site-packages\\traitlets\\config\\configurable.py\", line 552, in instance\n",
      "    inst = cls(*args, **kwargs)\n",
      "           ^^^^^^^^^^^^^^^^^^^^\n",
      "  File \"C:\\Users\\joshu\\anaconda3\\Lib\\site-packages\\jupyter_contrib_core\\application.py\", line 27, in __init__\n",
      "    self._refresh_subcommands()\n",
      "  File \"C:\\Users\\joshu\\anaconda3\\Lib\\site-packages\\jupyter_contrib_core\\application.py\", line 43, in _refresh_subcommands\n",
      "    get_subcommands_dict = entrypoint.load()\n",
      "                           ^^^^^^^^^^^^^^^^^\n",
      "  File \"C:\\Users\\joshu\\anaconda3\\Lib\\site-packages\\pkg_resources\\__init__.py\", line 2518, in load\n",
      "    return self.resolve()\n",
      "           ^^^^^^^^^^^^^^\n",
      "  File \"C:\\Users\\joshu\\anaconda3\\Lib\\site-packages\\pkg_resources\\__init__.py\", line 2524, in resolve\n",
      "    module = __import__(self.module_name, fromlist=['__name__'], level=0)\n",
      "             ^^^^^^^^^^^^^^^^^^^^^^^^^^^^^^^^^^^^^^^^^^^^^^^^^^^^^^^^^^^^\n",
      "  File \"C:\\Users\\joshu\\anaconda3\\Lib\\site-packages\\jupyter_contrib_nbextensions\\__init__.py\", line 5, in <module>\n",
      "    import jupyter_nbextensions_configurator\n",
      "  File \"C:\\Users\\joshu\\anaconda3\\Lib\\site-packages\\jupyter_nbextensions_configurator\\__init__.py\", line 18, in <module>\n",
      "    from notebook.base.handlers import APIHandler, IPythonHandler\n",
      "ModuleNotFoundError: No module named 'notebook.base'\n",
      "usage: jupyter [-h] [--version] [--config-dir] [--data-dir] [--runtime-dir]\n",
      "               [--paths] [--json] [--debug]\n",
      "               [subcommand]\n",
      "\n",
      "Jupyter: Interactive Computing\n",
      "\n",
      "positional arguments:\n",
      "  subcommand     the subcommand to launch\n",
      "\n",
      "options:\n",
      "  -h, --help     show this help message and exit\n",
      "  --version      show the versions of core jupyter packages and exit\n",
      "  --config-dir   show Jupyter config dir\n",
      "  --data-dir     show Jupyter data dir\n",
      "  --runtime-dir  show Jupyter runtime dir\n",
      "  --paths        show all Jupyter paths. Add --json for machine-readable\n",
      "                 format.\n",
      "  --json         output paths as machine-readable json\n",
      "  --debug        output debug information about paths\n",
      "\n",
      "Available subcommands: console contrib dejavu events execute kernel kernelspec\n",
      "lab labextension labhub migrate nbconvert nbextensions_configurator notebook\n",
      "qtconsole run script server troubleshoot trust\n",
      "\n",
      "Jupyter command `jupyter-nbextension` not found.\n"
     ]
    }
   ],
   "source": [
    "!pip3 install torch torchvision torchaudio --index-url https://download.pytorch.org/whl/cu118\n",
    "!pip install pandas\n",
    "!pip install ipywidgets\n",
    "!pip install widgetsnbextension\n",
    "!pip install jupyter_contrib_nbextensions\n",
    "!jupyter contrib nbextension install --user\n",
    "!jupyter nbextension enable --py widgetsnbextension --sys-prefix"
   ]
  },
  {
   "cell_type": "markdown",
   "id": "f2186ad4-7342-4ec6-b168-97a93b66af7f",
   "metadata": {},
   "source": [
    "## 1. Import the necessary libraries and modules"
   ]
  },
  {
   "cell_type": "code",
   "execution_count": 2,
   "id": "c3b80005-deb8-4b0b-9174-b4832e9e5819",
   "metadata": {},
   "outputs": [
    {
     "name": "stderr",
     "output_type": "stream",
     "text": [
      "C:\\Users\\joshu\\AppData\\Local\\Temp\\ipykernel_324\\547781205.py:7: DeprecationWarning: \n",
      "Pyarrow will become a required dependency of pandas in the next major release of pandas (pandas 3.0),\n",
      "(to allow more performant data types, such as the Arrow string type, and better interoperability with other libraries)\n",
      "but was not found to be installed on your system.\n",
      "If this would cause problems for you,\n",
      "please provide us feedback at https://github.com/pandas-dev/pandas/issues/54466\n",
      "        \n",
      "  import pandas as pd\n"
     ]
    }
   ],
   "source": [
    "import torch\n",
    "import torch.nn as nn\n",
    "import torch.optim as optim\n",
    "import torch.utils.data as data\n",
    "import math\n",
    "import copy\n",
    "import pandas as pd"
   ]
  },
  {
   "cell_type": "markdown",
   "id": "c689cd82-b256-4d28-b9a2-18fca3c8c3b8",
   "metadata": {},
   "source": [
    "## 2. Defining the basic building blocks: Multi-Head Attention, Position-wise Feed-Forward Networks, Positional Encoding"
   ]
  },
  {
   "cell_type": "code",
   "execution_count": 3,
   "id": "6116b6d4-9cab-42e5-a5e8-9ea303cb955b",
   "metadata": {},
   "outputs": [],
   "source": [
    "class MultiHeadAttention(nn.Module):\n",
    "    def __init__(self, d_model, num_heads):\n",
    "        super(MultiHeadAttention, self).__init__()\n",
    "        # Ensure that the model dimension (d_model) is divisible by the number of heads\n",
    "        assert d_model % num_heads == 0, \"d_model must be divisible by num_heads\"\n",
    "        \n",
    "        # Initialize dimensions\n",
    "        self.d_model = d_model # Model's dimension\n",
    "        self.num_heads = num_heads # Number of attention heads\n",
    "        self.d_k = d_model // num_heads # Dimension of each head's key, query, and value\n",
    "        \n",
    "        # Linear layers for transforming inputs\n",
    "        self.W_q = nn.Linear(d_model, d_model) # Query transformation\n",
    "        self.W_k = nn.Linear(d_model, d_model) # Key transformation\n",
    "        self.W_v = nn.Linear(d_model, d_model) # Value transformation\n",
    "        self.W_o = nn.Linear(d_model, d_model) # Output transformation\n",
    "        \n",
    "    def scaled_dot_product_attention(self, Q, K, V, mask=None):\n",
    "        # Calculate attention scores\n",
    "        attn_scores = torch.matmul(Q, K.transpose(-2, -1)) / math.sqrt(self.d_k)\n",
    "        \n",
    "        # Apply mask if provided (useful for preventing attention to certain parts like padding)\n",
    "        if mask is not None:\n",
    "            _MASKING_VALUE = -1e+30 if attn_scores.dtype == torch.float32 else -1e+4            \n",
    "            attn_scores = attn_scores.masked_fill(mask == 0, value=_MASKING_VALUE)\n",
    "        \n",
    "        # Softmax is applied to obtain attention probabilities\n",
    "        attn_probs = torch.softmax(attn_scores, dim=-1)\n",
    "        \n",
    "        # Multiply by values to obtain the final output\n",
    "        output = torch.matmul(attn_probs, V)\n",
    "        return output\n",
    "        \n",
    "    def split_heads(self, x):\n",
    "        # Reshape the input to have num_heads for multi-head attention\n",
    "        batch_size, seq_length, d_model = x.size()\n",
    "        return x.view(batch_size, seq_length, self.num_heads, self.d_k).transpose(1, 2)\n",
    "        \n",
    "    def combine_heads(self, x):\n",
    "        # Combine the multiple heads back to original shape\n",
    "        batch_size, _, seq_length, d_k = x.size()\n",
    "        return x.transpose(1, 2).contiguous().view(batch_size, seq_length, self.d_model)\n",
    "        \n",
    "    def forward(self, Q, K, V, mask=None):\n",
    "        # Apply linear transformations and split heads\n",
    "        Q = self.split_heads(self.W_q(Q))\n",
    "        K = self.split_heads(self.W_k(K))\n",
    "        V = self.split_heads(self.W_v(V))\n",
    "        \n",
    "        # Perform scaled dot-product attention\n",
    "        attn_output = self.scaled_dot_product_attention(Q, K, V, mask)\n",
    "        \n",
    "        # Combine heads and apply output transformation\n",
    "        output = self.W_o(self.combine_heads(attn_output))\n",
    "        return output"
   ]
  },
  {
   "cell_type": "markdown",
   "id": "38a03d9a-3674-4a5f-b02d-9cb21b7e89a0",
   "metadata": {},
   "source": [
    "### Position-wise Feed-Forward Networks"
   ]
  },
  {
   "cell_type": "code",
   "execution_count": 4,
   "id": "fd96f8ee-42a2-4ece-852d-42f7988dc789",
   "metadata": {},
   "outputs": [],
   "source": [
    "class PositionWiseFeedForward(nn.Module):\n",
    "    def __init__(self, d_model, d_ff):\n",
    "        super(PositionWiseFeedForward, self).__init__()\n",
    "        self.fc1 = nn.Linear(d_model, d_ff)\n",
    "        self.fc2 = nn.Linear(d_ff, d_model)\n",
    "        self.relu = nn.ReLU()\n",
    "\n",
    "    def forward(self, x):\n",
    "        return self.fc2(self.relu(self.fc1(x)))"
   ]
  },
  {
   "cell_type": "markdown",
   "id": "cb81f4f9-a0a1-4b94-a121-7dbb1c2dbac0",
   "metadata": {},
   "source": [
    "### Positional Encoding"
   ]
  },
  {
   "cell_type": "code",
   "execution_count": 5,
   "id": "9ab59428-74c5-49af-a45a-214b5601c0b4",
   "metadata": {},
   "outputs": [],
   "source": [
    "class PositionalEncoding(nn.Module):\n",
    "    def __init__(self, d_model, max_seq_length):\n",
    "        super(PositionalEncoding, self).__init__()\n",
    "\n",
    "        self.max_seq_length = max_seq_length  # Store max_seq_length explicitly\n",
    "        pe = torch.zeros(max_seq_length, d_model)\n",
    "        position = torch.arange(0, max_seq_length, dtype=torch.float).unsqueeze(1)\n",
    "        div_term = torch.exp(torch.arange(0, d_model, 2).float() * -(math.log(10000.0) / d_model))\n",
    "        \n",
    "        pe[:, 0::2] = torch.sin(position * div_term)\n",
    "        pe[:, 1::2] = torch.cos(position * div_term)\n",
    "        \n",
    "        self.register_buffer('pe', pe.unsqueeze(0))\n",
    "        \n",
    "    def forward(self, x):\n",
    "        # print(f'x size: {x.size()}')\n",
    "        # print(f'self.pe size: {self.pe.size()}')\n",
    "        return x + self.pe[:, :x.size(1)]"
   ]
  },
  {
   "cell_type": "markdown",
   "id": "45275168-5ae2-41c3-98e7-2e966d126851",
   "metadata": {},
   "source": [
    "## 3. Building the Encoder Blocks"
   ]
  },
  {
   "cell_type": "code",
   "execution_count": 6,
   "id": "86792e14-9ce9-4392-b3fb-ef30c4b1d10d",
   "metadata": {},
   "outputs": [],
   "source": [
    "class EncoderLayer(nn.Module):\n",
    "    def __init__(self, d_model, num_heads, d_ff, dropout):\n",
    "        super(EncoderLayer, self).__init__()\n",
    "        self.self_attn = MultiHeadAttention(d_model, num_heads)\n",
    "        self.feed_forward = PositionWiseFeedForward(d_model, d_ff)\n",
    "        self.norm1 = nn.LayerNorm(d_model)\n",
    "        self.norm2 = nn.LayerNorm(d_model)\n",
    "        self.dropout = nn.Dropout(dropout)\n",
    "        \n",
    "    def forward(self, x, mask):\n",
    "        attn_output = self.self_attn(x, x, x, mask)\n",
    "        x = self.norm1(x + self.dropout(attn_output))\n",
    "        ff_output = self.feed_forward(x)\n",
    "        x = self.norm2(x + self.dropout(ff_output))\n",
    "        return x"
   ]
  },
  {
   "cell_type": "markdown",
   "id": "6d4d2041-cc0e-45fb-bfc9-93d5a548c74b",
   "metadata": {},
   "source": [
    "## 4. Building the Decoder Blocks"
   ]
  },
  {
   "cell_type": "code",
   "execution_count": 7,
   "id": "a928c711-0279-4216-9c2b-019c88045e56",
   "metadata": {},
   "outputs": [],
   "source": [
    "class DecoderLayer(nn.Module):\n",
    "    def __init__(self, d_model, num_heads, d_ff, dropout):\n",
    "        super(DecoderLayer, self).__init__()\n",
    "        self.self_attn = MultiHeadAttention(d_model, num_heads)\n",
    "        self.cross_attn = MultiHeadAttention(d_model, num_heads)\n",
    "        self.feed_forward = PositionWiseFeedForward(d_model, d_ff)\n",
    "        self.norm1 = nn.LayerNorm(d_model)\n",
    "        self.norm2 = nn.LayerNorm(d_model)\n",
    "        self.norm3 = nn.LayerNorm(d_model)\n",
    "        self.dropout = nn.Dropout(dropout)\n",
    "        \n",
    "    def forward(self, x, enc_output, src_mask, tgt_mask):\n",
    "        attn_output = self.self_attn(x, x, x, tgt_mask)\n",
    "        x = self.norm1(x + self.dropout(attn_output))\n",
    "        attn_output = self.cross_attn(x, enc_output, enc_output, src_mask)\n",
    "        x = self.norm2(x + self.dropout(attn_output))\n",
    "        ff_output = self.feed_forward(x)\n",
    "        x = self.norm3(x + self.dropout(ff_output))\n",
    "        return x"
   ]
  },
  {
   "cell_type": "markdown",
   "id": "6dcc0d17-3d30-4a4f-a6d2-2469b72be26c",
   "metadata": {},
   "source": [
    "## 5. Combine the Encoder and Decoder layers to complete the Transformer network"
   ]
  },
  {
   "cell_type": "code",
   "execution_count": 8,
   "id": "75509b7c-d556-4fb3-aa97-cc6d2ae9aef0",
   "metadata": {},
   "outputs": [],
   "source": [
    "class Transformer(nn.Module):\n",
    "    def __init__(self, src_vocab_size, tgt_vocab_size, d_model, num_heads, num_layers, d_ff, max_seq_length, dropout):\n",
    "        super(Transformer, self).__init__()\n",
    "        self.encoder_embedding = nn.Embedding(src_vocab_size, d_model)\n",
    "        self.decoder_embedding = nn.Embedding(tgt_vocab_size, d_model)\n",
    "        self.positional_encoding = PositionalEncoding(d_model, max_seq_length)\n",
    "        \n",
    "        self.encoder_layers = nn.ModuleList([EncoderLayer(d_model, num_heads, d_ff, dropout) for _ in range(num_layers)])\n",
    "        self.decoder_layers = nn.ModuleList([DecoderLayer(d_model, num_heads, d_ff, dropout) for _ in range(num_layers)])\n",
    "\n",
    "        self.fc = nn.Linear(d_model, tgt_vocab_size)\n",
    "        self.dropout = nn.Dropout(dropout)\n",
    "\n",
    "    def generate_mask(self, src, tgt):\n",
    "        src_mask = (src != 0).unsqueeze(1).unsqueeze(2)\n",
    "        tgt_mask = (tgt != 0).unsqueeze(1).unsqueeze(3)\n",
    "        seq_length = tgt.size(1)\n",
    "        nopeak_mask = (1 - torch.triu(torch.ones(1, seq_length, seq_length), diagonal=1)).bool()\n",
    "        # Ensure tgt_mask is on the same device as tgt\n",
    "        #tgt_mask = tgt_mask.to(tgt.device)\n",
    "\n",
    "        nopeak_mask = nopeak_mask.to(tgt.device)\n",
    "        \n",
    "        tgt_mask = tgt_mask & nopeak_mask\n",
    "        \n",
    "        tgt_on_cuda = tgt_mask.is_cuda\n",
    "        nopeak_on_cuda = nopeak_mask.is_cuda\n",
    "        \n",
    "        return src_mask, tgt_mask\n",
    "\n",
    "    def forward(self, src, tgt):\n",
    "        src_mask, tgt_mask = self.generate_mask(src, tgt)\n",
    "        src_embedded = self.dropout(self.positional_encoding(self.encoder_embedding(src)))\n",
    "        tgt_embedded = self.dropout(self.positional_encoding(self.decoder_embedding(tgt)))\n",
    "    \n",
    "        enc_output = src_embedded\n",
    "        for enc_layer in self.encoder_layers:\n",
    "            enc_output = enc_layer(enc_output, src_mask)\n",
    "    \n",
    "        dec_output = tgt_embedded\n",
    "        for dec_layer in self.decoder_layers:\n",
    "            dec_output = dec_layer(dec_output, enc_output, src_mask, tgt_mask)\n",
    "\n",
    "        output = self.fc(dec_output)\n",
    "        return output"
   ]
  },
  {
   "cell_type": "markdown",
   "id": "2950fe9c-a625-4cf0-98cd-9c1b0496ad2f",
   "metadata": {},
   "source": [
    "<h1 style=\"font-size:2rem;color:green;\">Dataset Loading and Tokenization, and Model Training</h1>"
   ]
  },
  {
   "cell_type": "markdown",
   "id": "1dbdcdf7-6ec4-4be2-b152-456a2f9b4427",
   "metadata": {},
   "source": [
    "# Import Libraries"
   ]
  },
  {
   "cell_type": "code",
   "execution_count": 70,
   "id": "f80d8880-fd5f-45a6-a523-cabd21e5bd8e",
   "metadata": {},
   "outputs": [
    {
     "name": "stdout",
     "output_type": "stream",
     "text": [
      "Requirement already satisfied: torchtext==0.6.0 in c:\\users\\joshu\\anaconda3\\lib\\site-packages (0.6.0)\n",
      "Requirement already satisfied: spacy in c:\\users\\joshu\\anaconda3\\lib\\site-packages (3.7.2)\n",
      "Requirement already satisfied: numpy in c:\\users\\joshu\\anaconda3\\lib\\site-packages (1.26.3)\n",
      "Requirement already satisfied: nltk in c:\\users\\joshu\\anaconda3\\lib\\site-packages (3.8.1)\n",
      "Requirement already satisfied: scikit-learn in c:\\users\\joshu\\anaconda3\\lib\\site-packages (1.2.2)\n",
      "Requirement already satisfied: tqdm in c:\\users\\joshu\\anaconda3\\lib\\site-packages (4.65.0)\n",
      "Requirement already satisfied: matplotlib in c:\\users\\joshu\\anaconda3\\lib\\site-packages (3.8.0)\n",
      "Requirement already satisfied: requests in c:\\users\\joshu\\anaconda3\\lib\\site-packages (from torchtext==0.6.0) (2.31.0)\n",
      "Requirement already satisfied: torch in c:\\users\\joshu\\anaconda3\\lib\\site-packages (from torchtext==0.6.0) (2.1.2)\n",
      "Requirement already satisfied: six in c:\\users\\joshu\\anaconda3\\lib\\site-packages (from torchtext==0.6.0) (1.16.0)\n",
      "Requirement already satisfied: sentencepiece in c:\\users\\joshu\\anaconda3\\lib\\site-packages (from torchtext==0.6.0) (0.1.99)\n",
      "Requirement already satisfied: spacy-legacy<3.1.0,>=3.0.11 in c:\\users\\joshu\\anaconda3\\lib\\site-packages (from spacy) (3.0.12)\n",
      "Requirement already satisfied: spacy-loggers<2.0.0,>=1.0.0 in c:\\users\\joshu\\anaconda3\\lib\\site-packages (from spacy) (1.0.5)\n",
      "Requirement already satisfied: murmurhash<1.1.0,>=0.28.0 in c:\\users\\joshu\\anaconda3\\lib\\site-packages (from spacy) (1.0.10)\n",
      "Requirement already satisfied: cymem<2.1.0,>=2.0.2 in c:\\users\\joshu\\anaconda3\\lib\\site-packages (from spacy) (2.0.8)\n",
      "Requirement already satisfied: preshed<3.1.0,>=3.0.2 in c:\\users\\joshu\\anaconda3\\lib\\site-packages (from spacy) (3.0.9)\n",
      "Requirement already satisfied: thinc<8.3.0,>=8.1.8 in c:\\users\\joshu\\anaconda3\\lib\\site-packages (from spacy) (8.2.2)\n",
      "Requirement already satisfied: wasabi<1.2.0,>=0.9.1 in c:\\users\\joshu\\anaconda3\\lib\\site-packages (from spacy) (1.1.2)\n",
      "Requirement already satisfied: srsly<3.0.0,>=2.4.3 in c:\\users\\joshu\\anaconda3\\lib\\site-packages (from spacy) (2.4.8)\n",
      "Requirement already satisfied: catalogue<2.1.0,>=2.0.6 in c:\\users\\joshu\\anaconda3\\lib\\site-packages (from spacy) (2.0.10)\n",
      "Requirement already satisfied: weasel<0.4.0,>=0.1.0 in c:\\users\\joshu\\anaconda3\\lib\\site-packages (from spacy) (0.3.4)\n",
      "Requirement already satisfied: typer<0.10.0,>=0.3.0 in c:\\users\\joshu\\anaconda3\\lib\\site-packages (from spacy) (0.9.0)\n",
      "Requirement already satisfied: smart-open<7.0.0,>=5.2.1 in c:\\users\\joshu\\anaconda3\\lib\\site-packages (from spacy) (5.2.1)\n",
      "Requirement already satisfied: pydantic!=1.8,!=1.8.1,<3.0.0,>=1.7.4 in c:\\users\\joshu\\anaconda3\\lib\\site-packages (from spacy) (1.10.12)\n",
      "Requirement already satisfied: jinja2 in c:\\users\\joshu\\anaconda3\\lib\\site-packages (from spacy) (3.1.2)\n",
      "Requirement already satisfied: setuptools in c:\\users\\joshu\\anaconda3\\lib\\site-packages (from spacy) (68.0.0)\n",
      "Requirement already satisfied: packaging>=20.0 in c:\\users\\joshu\\anaconda3\\lib\\site-packages (from spacy) (23.1)\n",
      "Requirement already satisfied: langcodes<4.0.0,>=3.2.0 in c:\\users\\joshu\\anaconda3\\lib\\site-packages (from spacy) (3.3.0)\n",
      "Requirement already satisfied: click in c:\\users\\joshu\\anaconda3\\lib\\site-packages (from nltk) (8.1.7)\n",
      "Requirement already satisfied: joblib in c:\\users\\joshu\\anaconda3\\lib\\site-packages (from nltk) (1.2.0)\n",
      "Requirement already satisfied: regex>=2021.8.3 in c:\\users\\joshu\\anaconda3\\lib\\site-packages (from nltk) (2023.10.3)\n",
      "Requirement already satisfied: scipy>=1.3.2 in c:\\users\\joshu\\anaconda3\\lib\\site-packages (from scikit-learn) (1.11.4)\n",
      "Requirement already satisfied: threadpoolctl>=2.0.0 in c:\\users\\joshu\\anaconda3\\lib\\site-packages (from scikit-learn) (2.2.0)\n",
      "Requirement already satisfied: colorama in c:\\users\\joshu\\anaconda3\\lib\\site-packages (from tqdm) (0.4.6)\n",
      "Requirement already satisfied: contourpy>=1.0.1 in c:\\users\\joshu\\anaconda3\\lib\\site-packages (from matplotlib) (1.2.0)\n",
      "Requirement already satisfied: cycler>=0.10 in c:\\users\\joshu\\anaconda3\\lib\\site-packages (from matplotlib) (0.11.0)\n",
      "Requirement already satisfied: fonttools>=4.22.0 in c:\\users\\joshu\\anaconda3\\lib\\site-packages (from matplotlib) (4.25.0)\n",
      "Requirement already satisfied: kiwisolver>=1.0.1 in c:\\users\\joshu\\anaconda3\\lib\\site-packages (from matplotlib) (1.4.4)\n",
      "Requirement already satisfied: pillow>=6.2.0 in c:\\users\\joshu\\anaconda3\\lib\\site-packages (from matplotlib) (10.0.1)\n",
      "Requirement already satisfied: pyparsing>=2.3.1 in c:\\users\\joshu\\anaconda3\\lib\\site-packages (from matplotlib) (3.0.9)\n",
      "Requirement already satisfied: python-dateutil>=2.7 in c:\\users\\joshu\\anaconda3\\lib\\site-packages (from matplotlib) (2.8.2)\n",
      "Requirement already satisfied: typing-extensions>=4.2.0 in c:\\users\\joshu\\anaconda3\\lib\\site-packages (from pydantic!=1.8,!=1.8.1,<3.0.0,>=1.7.4->spacy) (4.7.1)\n",
      "Requirement already satisfied: charset-normalizer<4,>=2 in c:\\users\\joshu\\anaconda3\\lib\\site-packages (from requests->torchtext==0.6.0) (2.0.4)\n",
      "Requirement already satisfied: idna<4,>=2.5 in c:\\users\\joshu\\anaconda3\\lib\\site-packages (from requests->torchtext==0.6.0) (3.4)\n",
      "Requirement already satisfied: urllib3<3,>=1.21.1 in c:\\users\\joshu\\anaconda3\\lib\\site-packages (from requests->torchtext==0.6.0) (1.26.18)\n",
      "Requirement already satisfied: certifi>=2017.4.17 in c:\\users\\joshu\\anaconda3\\lib\\site-packages (from requests->torchtext==0.6.0) (2023.11.17)\n",
      "Requirement already satisfied: blis<0.8.0,>=0.7.8 in c:\\users\\joshu\\anaconda3\\lib\\site-packages (from thinc<8.3.0,>=8.1.8->spacy) (0.7.11)\n",
      "Requirement already satisfied: confection<1.0.0,>=0.0.1 in c:\\users\\joshu\\anaconda3\\lib\\site-packages (from thinc<8.3.0,>=8.1.8->spacy) (0.1.4)\n",
      "Requirement already satisfied: cloudpathlib<0.17.0,>=0.7.0 in c:\\users\\joshu\\anaconda3\\lib\\site-packages (from weasel<0.4.0,>=0.1.0->spacy) (0.16.0)\n",
      "Requirement already satisfied: MarkupSafe>=2.0 in c:\\users\\joshu\\anaconda3\\lib\\site-packages (from jinja2->spacy) (2.1.3)\n",
      "Requirement already satisfied: filelock in c:\\users\\joshu\\anaconda3\\lib\\site-packages (from torch->torchtext==0.6.0) (3.13.1)\n",
      "Requirement already satisfied: sympy in c:\\users\\joshu\\anaconda3\\lib\\site-packages (from torch->torchtext==0.6.0) (1.12)\n",
      "Requirement already satisfied: networkx in c:\\users\\joshu\\anaconda3\\lib\\site-packages (from torch->torchtext==0.6.0) (3.1)\n",
      "Requirement already satisfied: fsspec in c:\\users\\joshu\\anaconda3\\lib\\site-packages (from torch->torchtext==0.6.0) (2023.10.0)\n",
      "Requirement already satisfied: mpmath>=0.19 in c:\\users\\joshu\\anaconda3\\lib\\site-packages (from sympy->torch->torchtext==0.6.0) (1.3.0)\n"
     ]
    }
   ],
   "source": [
    "!pip install torchtext==0.6.0 spacy numpy nltk scikit-learn tqdm matplotlib"
   ]
  },
  {
   "cell_type": "code",
   "execution_count": 72,
   "id": "e4da134f-b4f3-4529-b8c0-6b8570cbb0f0",
   "metadata": {},
   "outputs": [
    {
     "name": "stderr",
     "output_type": "stream",
     "text": [
      "[nltk_data] Downloading package punkt to\n",
      "[nltk_data]     C:\\Users\\joshu\\AppData\\Roaming\\nltk_data...\n",
      "[nltk_data]   Package punkt is already up-to-date!\n"
     ]
    },
    {
     "name": "stdout",
     "output_type": "stream",
     "text": [
      "\u001b[38;5;2m✔ Download and installation successful\u001b[0m\n",
      "You can now load the package via spacy.load('en_core_web_sm')\n",
      "\u001b[38;5;2m✔ Download and installation successful\u001b[0m\n",
      "You can now load the package via spacy.load('pt_core_news_sm')\n"
     ]
    }
   ],
   "source": [
    "import os\n",
    "import torchtext\n",
    "from torchtext.data import get_tokenizer, Field, TabularDataset\n",
    "from torch.nn.utils.rnn import pad_sequence\n",
    "import torch.nn.functional as F\n",
    "from torch.optim.lr_scheduler import ReduceLROnPlateau\n",
    "from torch.cuda.amp import GradScaler, autocast\n",
    "from sklearn.model_selection import train_test_split\n",
    "from torch.utils.data import Dataset, DataLoader\n",
    "import numpy as np\n",
    "import re\n",
    "import nltk\n",
    "nltk.download('punkt')\n",
    "import spacy\n",
    "spacy.cli.download(\"en_core_web_sm\")\n",
    "spacy.cli.download(\"pt_core_news_sm\")\n",
    "from tqdm.notebook import tqdm\n",
    "import matplotlib.pyplot as plt"
   ]
  },
  {
   "cell_type": "markdown",
   "id": "dd1d58c5-a03d-4597-9e62-f8e625dd7275",
   "metadata": {},
   "source": [
    "# Load English to Portuguese Translation Dataset"
   ]
  },
  {
   "cell_type": "code",
   "execution_count": 11,
   "id": "84eba007-4cf8-44a8-ba48-f91200fbec81",
   "metadata": {},
   "outputs": [
    {
     "data": {
      "text/html": [
       "<div>\n",
       "<style scoped>\n",
       "    .dataframe tbody tr th:only-of-type {\n",
       "        vertical-align: middle;\n",
       "    }\n",
       "\n",
       "    .dataframe tbody tr th {\n",
       "        vertical-align: top;\n",
       "    }\n",
       "\n",
       "    .dataframe thead th {\n",
       "        text-align: right;\n",
       "    }\n",
       "</style>\n",
       "<table border=\"1\" class=\"dataframe\">\n",
       "  <thead>\n",
       "    <tr style=\"text-align: right;\">\n",
       "      <th></th>\n",
       "      <th>EN</th>\n",
       "      <th>PT</th>\n",
       "    </tr>\n",
       "  </thead>\n",
       "  <tbody>\n",
       "    <tr>\n",
       "      <th>0</th>\n",
       "      <td>Go.</td>\n",
       "      <td>Vai.</td>\n",
       "    </tr>\n",
       "    <tr>\n",
       "      <th>1</th>\n",
       "      <td>Go.</td>\n",
       "      <td>Vá.</td>\n",
       "    </tr>\n",
       "    <tr>\n",
       "      <th>2</th>\n",
       "      <td>Hi.</td>\n",
       "      <td>Oi.</td>\n",
       "    </tr>\n",
       "    <tr>\n",
       "      <th>3</th>\n",
       "      <td>Run!</td>\n",
       "      <td>Corre!</td>\n",
       "    </tr>\n",
       "    <tr>\n",
       "      <th>4</th>\n",
       "      <td>Run!</td>\n",
       "      <td>Corra!</td>\n",
       "    </tr>\n",
       "  </tbody>\n",
       "</table>\n",
       "</div>"
      ],
      "text/plain": [
       "     EN      PT\n",
       "0   Go.    Vai.\n",
       "1   Go.     Vá.\n",
       "2   Hi.     Oi.\n",
       "3  Run!  Corre!\n",
       "4  Run!  Corra!"
      ]
     },
     "execution_count": 11,
     "metadata": {},
     "output_type": "execute_result"
    }
   ],
   "source": [
    "# Load English to Portuguese translation data\n",
    "dataset_file_path = './por.txt'  # Adjust the path accordingly\n",
    "\n",
    "# Load and preprocess translation data\n",
    "df = pd.read_csv(dataset_file_path, sep='\\t', header=None)[[0, 1]].rename(columns={0: 'EN', 1: 'PT'})\n",
    "\n",
    "df.head()"
   ]
  },
  {
   "cell_type": "code",
   "execution_count": 12,
   "id": "9d09e0db-d466-41aa-b39a-21f50ab1bc25",
   "metadata": {},
   "outputs": [
    {
     "data": {
      "text/plain": [
       "(168903, 2)"
      ]
     },
     "execution_count": 12,
     "metadata": {},
     "output_type": "execute_result"
    }
   ],
   "source": [
    "df.shape"
   ]
  },
  {
   "cell_type": "code",
   "execution_count": 13,
   "id": "39734877-7322-4b74-8100-50ef9ffc28b9",
   "metadata": {},
   "outputs": [
    {
     "data": {
      "text/html": [
       "<div>\n",
       "<style scoped>\n",
       "    .dataframe tbody tr th:only-of-type {\n",
       "        vertical-align: middle;\n",
       "    }\n",
       "\n",
       "    .dataframe tbody tr th {\n",
       "        vertical-align: top;\n",
       "    }\n",
       "\n",
       "    .dataframe thead th {\n",
       "        text-align: right;\n",
       "    }\n",
       "</style>\n",
       "<table border=\"1\" class=\"dataframe\">\n",
       "  <thead>\n",
       "    <tr style=\"text-align: right;\">\n",
       "      <th></th>\n",
       "      <th>EN</th>\n",
       "      <th>PT</th>\n",
       "    </tr>\n",
       "  </thead>\n",
       "  <tbody>\n",
       "    <tr>\n",
       "      <th>0</th>\n",
       "      <td>Do you know any of them?</td>\n",
       "      <td>Você sabe de algum deles?</td>\n",
       "    </tr>\n",
       "    <tr>\n",
       "      <th>1</th>\n",
       "      <td>I think I can help.</td>\n",
       "      <td>Eu acho que posso ajudar.</td>\n",
       "    </tr>\n",
       "    <tr>\n",
       "      <th>2</th>\n",
       "      <td>It was a horrible scene.</td>\n",
       "      <td>Foi uma cena pavorosa.</td>\n",
       "    </tr>\n",
       "    <tr>\n",
       "      <th>3</th>\n",
       "      <td>You must study grammar more.</td>\n",
       "      <td>Você precisa estudar mais gramática.</td>\n",
       "    </tr>\n",
       "    <tr>\n",
       "      <th>4</th>\n",
       "      <td>I've noticed that Tom doesn't usually lock his...</td>\n",
       "      <td>Notei que Tom não costuma trancar sua porta.</td>\n",
       "    </tr>\n",
       "  </tbody>\n",
       "</table>\n",
       "</div>"
      ],
      "text/plain": [
       "                                                  EN  \\\n",
       "0                           Do you know any of them?   \n",
       "1                                I think I can help.   \n",
       "2                           It was a horrible scene.   \n",
       "3                       You must study grammar more.   \n",
       "4  I've noticed that Tom doesn't usually lock his...   \n",
       "\n",
       "                                             PT  \n",
       "0                     Você sabe de algum deles?  \n",
       "1                     Eu acho que posso ajudar.  \n",
       "2                        Foi uma cena pavorosa.  \n",
       "3          Você precisa estudar mais gramática.  \n",
       "4  Notei que Tom não costuma trancar sua porta.  "
      ]
     },
     "execution_count": 13,
     "metadata": {},
     "output_type": "execute_result"
    }
   ],
   "source": [
    "# Shuffle the rows and reindex\n",
    "df = df.sample(frac = 1).reset_index(drop=True)\n",
    "\n",
    "df.head()"
   ]
  },
  {
   "cell_type": "code",
   "execution_count": 14,
   "id": "4cf73afb-6268-4b80-88ba-c85077c2fda9",
   "metadata": {},
   "outputs": [
    {
     "data": {
      "text/plain": [
       "(100000, 2)"
      ]
     },
     "execution_count": 14,
     "metadata": {},
     "output_type": "execute_result"
    }
   ],
   "source": [
    "df = df[:100000]\n",
    "\n",
    "df.shape"
   ]
  },
  {
   "cell_type": "code",
   "execution_count": 15,
   "id": "8386ae48-c4d3-4279-9b57-dfc8be7fc7ff",
   "metadata": {},
   "outputs": [
    {
     "data": {
      "text/html": [
       "<div>\n",
       "<style scoped>\n",
       "    .dataframe tbody tr th:only-of-type {\n",
       "        vertical-align: middle;\n",
       "    }\n",
       "\n",
       "    .dataframe tbody tr th {\n",
       "        vertical-align: top;\n",
       "    }\n",
       "\n",
       "    .dataframe thead th {\n",
       "        text-align: right;\n",
       "    }\n",
       "</style>\n",
       "<table border=\"1\" class=\"dataframe\">\n",
       "  <thead>\n",
       "    <tr style=\"text-align: right;\">\n",
       "      <th></th>\n",
       "      <th>EN</th>\n",
       "      <th>PT</th>\n",
       "    </tr>\n",
       "  </thead>\n",
       "  <tbody>\n",
       "    <tr>\n",
       "      <th>0</th>\n",
       "      <td>Do you know any of them?</td>\n",
       "      <td>&lt;SOS&gt; Você sabe de algum deles? &lt;EOS&gt;</td>\n",
       "    </tr>\n",
       "    <tr>\n",
       "      <th>1</th>\n",
       "      <td>I think I can help.</td>\n",
       "      <td>&lt;SOS&gt; Eu acho que posso ajudar. &lt;EOS&gt;</td>\n",
       "    </tr>\n",
       "    <tr>\n",
       "      <th>2</th>\n",
       "      <td>It was a horrible scene.</td>\n",
       "      <td>&lt;SOS&gt; Foi uma cena pavorosa. &lt;EOS&gt;</td>\n",
       "    </tr>\n",
       "    <tr>\n",
       "      <th>3</th>\n",
       "      <td>You must study grammar more.</td>\n",
       "      <td>&lt;SOS&gt; Você precisa estudar mais gramática. &lt;EOS&gt;</td>\n",
       "    </tr>\n",
       "    <tr>\n",
       "      <th>4</th>\n",
       "      <td>I've noticed that Tom doesn't usually lock his...</td>\n",
       "      <td>&lt;SOS&gt; Notei que Tom não costuma trancar sua po...</td>\n",
       "    </tr>\n",
       "  </tbody>\n",
       "</table>\n",
       "</div>"
      ],
      "text/plain": [
       "                                                  EN  \\\n",
       "0                           Do you know any of them?   \n",
       "1                                I think I can help.   \n",
       "2                           It was a horrible scene.   \n",
       "3                       You must study grammar more.   \n",
       "4  I've noticed that Tom doesn't usually lock his...   \n",
       "\n",
       "                                                  PT  \n",
       "0              <SOS> Você sabe de algum deles? <EOS>  \n",
       "1              <SOS> Eu acho que posso ajudar. <EOS>  \n",
       "2                 <SOS> Foi uma cena pavorosa. <EOS>  \n",
       "3   <SOS> Você precisa estudar mais gramática. <EOS>  \n",
       "4  <SOS> Notei que Tom não costuma trancar sua po...  "
      ]
     },
     "execution_count": 15,
     "metadata": {},
     "output_type": "execute_result"
    }
   ],
   "source": [
    "# Add Extra Context for Tranformer\n",
    "df['PT'] = df['PT'].apply(lambda x: \"<SOS> \" + x + \" <EOS>\")\n",
    "\n",
    "df.head()"
   ]
  },
  {
   "cell_type": "markdown",
   "id": "6fc4bc8b-436e-48e2-9692-03d959ae175b",
   "metadata": {},
   "source": [
    "# Preprocess/Tokenize Dataset"
   ]
  },
  {
   "cell_type": "code",
   "execution_count": 16,
   "id": "c9db7008-09be-4ef9-882d-eee788b8d6ff",
   "metadata": {},
   "outputs": [],
   "source": [
    "def eng_preprocess(text):\n",
    "    text = text.lower()\n",
    "    text = re.sub(re.compile(r'[^a-zA-Z0-9\\s]'), '', text)\n",
    "    text = nltk.word_tokenize(text)\n",
    "    text = \" \".join([i.strip() for i in text])\n",
    "    return text\n",
    "\n",
    "\n",
    "def pt_preprocess(text):\n",
    "    text = text.replace(\"\\u202f\",\" \")\n",
    "    text = text.lower()\n",
    "    text = re.sub(re.compile(\"[^a-zéâàçêêëôîû!?',]\"), ' ', text)\n",
    "    return text"
   ]
  },
  {
   "cell_type": "code",
   "execution_count": 17,
   "id": "c8cafba9-9648-4068-9a62-04fbfb8f1eba",
   "metadata": {},
   "outputs": [
    {
     "data": {
      "text/html": [
       "<div>\n",
       "<style scoped>\n",
       "    .dataframe tbody tr th:only-of-type {\n",
       "        vertical-align: middle;\n",
       "    }\n",
       "\n",
       "    .dataframe tbody tr th {\n",
       "        vertical-align: top;\n",
       "    }\n",
       "\n",
       "    .dataframe thead th {\n",
       "        text-align: right;\n",
       "    }\n",
       "</style>\n",
       "<table border=\"1\" class=\"dataframe\">\n",
       "  <thead>\n",
       "    <tr style=\"text-align: right;\">\n",
       "      <th></th>\n",
       "      <th>EN</th>\n",
       "      <th>PT</th>\n",
       "    </tr>\n",
       "  </thead>\n",
       "  <tbody>\n",
       "    <tr>\n",
       "      <th>0</th>\n",
       "      <td>do you know any of them</td>\n",
       "      <td>&lt;SOS&gt; Você sabe de algum deles? &lt;EOS&gt;</td>\n",
       "    </tr>\n",
       "    <tr>\n",
       "      <th>1</th>\n",
       "      <td>i think i can help</td>\n",
       "      <td>&lt;SOS&gt; Eu acho que posso ajudar. &lt;EOS&gt;</td>\n",
       "    </tr>\n",
       "    <tr>\n",
       "      <th>2</th>\n",
       "      <td>it was a horrible scene</td>\n",
       "      <td>&lt;SOS&gt; Foi uma cena pavorosa. &lt;EOS&gt;</td>\n",
       "    </tr>\n",
       "    <tr>\n",
       "      <th>3</th>\n",
       "      <td>you must study grammar more</td>\n",
       "      <td>&lt;SOS&gt; Você precisa estudar mais gramática. &lt;EOS&gt;</td>\n",
       "    </tr>\n",
       "    <tr>\n",
       "      <th>4</th>\n",
       "      <td>ive noticed that tom doesnt usually lock his door</td>\n",
       "      <td>&lt;SOS&gt; Notei que Tom não costuma trancar sua po...</td>\n",
       "    </tr>\n",
       "  </tbody>\n",
       "</table>\n",
       "</div>"
      ],
      "text/plain": [
       "                                                  EN  \\\n",
       "0                            do you know any of them   \n",
       "1                                 i think i can help   \n",
       "2                            it was a horrible scene   \n",
       "3                        you must study grammar more   \n",
       "4  ive noticed that tom doesnt usually lock his door   \n",
       "\n",
       "                                                  PT  \n",
       "0              <SOS> Você sabe de algum deles? <EOS>  \n",
       "1              <SOS> Eu acho que posso ajudar. <EOS>  \n",
       "2                 <SOS> Foi uma cena pavorosa. <EOS>  \n",
       "3   <SOS> Você precisa estudar mais gramática. <EOS>  \n",
       "4  <SOS> Notei que Tom não costuma trancar sua po...  "
      ]
     },
     "execution_count": 17,
     "metadata": {},
     "output_type": "execute_result"
    }
   ],
   "source": [
    "df['EN'] = df['EN'].apply(lambda x: eng_preprocess(x))\n",
    "\n",
    "df.head()"
   ]
  },
  {
   "cell_type": "code",
   "execution_count": 18,
   "id": "20761db9-4273-47ee-8bda-3ab856b6fa76",
   "metadata": {},
   "outputs": [
    {
     "data": {
      "text/html": [
       "<div>\n",
       "<style scoped>\n",
       "    .dataframe tbody tr th:only-of-type {\n",
       "        vertical-align: middle;\n",
       "    }\n",
       "\n",
       "    .dataframe tbody tr th {\n",
       "        vertical-align: top;\n",
       "    }\n",
       "\n",
       "    .dataframe thead th {\n",
       "        text-align: right;\n",
       "    }\n",
       "</style>\n",
       "<table border=\"1\" class=\"dataframe\">\n",
       "  <thead>\n",
       "    <tr style=\"text-align: right;\">\n",
       "      <th></th>\n",
       "      <th>EN</th>\n",
       "      <th>PT</th>\n",
       "    </tr>\n",
       "  </thead>\n",
       "  <tbody>\n",
       "    <tr>\n",
       "      <th>0</th>\n",
       "      <td>do you know any of them</td>\n",
       "      <td>sos  você sabe de algum deles?  eos</td>\n",
       "    </tr>\n",
       "    <tr>\n",
       "      <th>1</th>\n",
       "      <td>i think i can help</td>\n",
       "      <td>sos  eu acho que posso ajudar   eos</td>\n",
       "    </tr>\n",
       "    <tr>\n",
       "      <th>2</th>\n",
       "      <td>it was a horrible scene</td>\n",
       "      <td>sos  foi uma cena pavorosa   eos</td>\n",
       "    </tr>\n",
       "    <tr>\n",
       "      <th>3</th>\n",
       "      <td>you must study grammar more</td>\n",
       "      <td>sos  você precisa estudar mais gram tica   eos</td>\n",
       "    </tr>\n",
       "    <tr>\n",
       "      <th>4</th>\n",
       "      <td>ive noticed that tom doesnt usually lock his door</td>\n",
       "      <td>sos  notei que tom n o costuma trancar sua po...</td>\n",
       "    </tr>\n",
       "  </tbody>\n",
       "</table>\n",
       "</div>"
      ],
      "text/plain": [
       "                                                  EN  \\\n",
       "0                            do you know any of them   \n",
       "1                                 i think i can help   \n",
       "2                            it was a horrible scene   \n",
       "3                        you must study grammar more   \n",
       "4  ive noticed that tom doesnt usually lock his door   \n",
       "\n",
       "                                                  PT  \n",
       "0               sos  você sabe de algum deles?  eos   \n",
       "1               sos  eu acho que posso ajudar   eos   \n",
       "2                  sos  foi uma cena pavorosa   eos   \n",
       "3    sos  você precisa estudar mais gram tica   eos   \n",
       "4   sos  notei que tom n o costuma trancar sua po...  "
      ]
     },
     "execution_count": 18,
     "metadata": {},
     "output_type": "execute_result"
    }
   ],
   "source": [
    "df['PT'] = df['PT'].apply(lambda x: pt_preprocess(x))\n",
    "\n",
    "df.head()"
   ]
  },
  {
   "cell_type": "markdown",
   "id": "58d51b47-0b9a-401e-ae77-f11a6804a64c",
   "metadata": {},
   "source": [
    "# Tokenize Features and Targets"
   ]
  },
  {
   "cell_type": "code",
   "execution_count": 19,
   "id": "a75d2af8-b180-4a99-9079-56692a650b32",
   "metadata": {},
   "outputs": [],
   "source": [
    "def feature_tokenization(feat):\n",
    "    # Step 1: Create a tokenizer\n",
    "    tokenizer = get_tokenizer(\"spacy\", language=\"en_core_web_sm\")\n",
    "\n",
    "    # Step 2: Create a torchtext Field for English features\n",
    "    eng_field = Field(tokenize=tokenizer, lower=True)\n",
    "\n",
    "    # Step 3: Use the Field to process the feature text\n",
    "    eng_field.build_vocab([eng_field.preprocess(f) for f in feat])\n",
    "\n",
    "    # Step 4: Convert feature text to sequences\n",
    "    eng_seq = [eng_field.numericalize([f]) for f in feat]\n",
    "\n",
    "    # Step 5: Convert PyTorch tensors to Python lists\n",
    "    eng_seq = [seq.squeeze().tolist() for seq in eng_seq]\n",
    "\n",
    "    return eng_seq, eng_field\n",
    "\n",
    "def target_tokenization(target):\n",
    "    # Step 1: Create a tokenizer\n",
    "    tokenizer = get_tokenizer(\"spacy\", language=\"pt_core_news_sm\")\n",
    "\n",
    "    # Step 2: Create a torchtext Field for Portuguese targets\n",
    "    port_field = Field(tokenize=tokenizer, init_token='<sos>', eos_token='<eos>', lower=True)\n",
    "\n",
    "    # Step 3: Use the Field to process the target text\n",
    "    port_field.build_vocab([port_field.preprocess(t) for t in target])\n",
    "\n",
    "    # Step 4: Convert target text to sequences\n",
    "    port_seq = [port_field.numericalize([t]) for t in target]\n",
    "\n",
    "    # Step 5: Convert PyTorch tensors to Python lists\n",
    "    port_seq = [seq.squeeze().tolist() for seq in port_seq]\n",
    "\n",
    "    return port_seq, port_field"
   ]
  },
  {
   "cell_type": "code",
   "execution_count": 20,
   "id": "ed8ad18a-39a3-4626-bcd5-10bd3a9dbfec",
   "metadata": {},
   "outputs": [],
   "source": [
    "eng_sequences, eng_field = feature_tokenization(df['EN'])"
   ]
  },
  {
   "cell_type": "code",
   "execution_count": 21,
   "id": "ad545b8e-aaf1-4151-97d4-feeea14c4124",
   "metadata": {},
   "outputs": [
    {
     "data": {
      "text/plain": [
       "10864"
      ]
     },
     "execution_count": 21,
     "metadata": {},
     "output_type": "execute_result"
    }
   ],
   "source": [
    "eng_vocab = len(eng_field.vocab) + 1\n",
    "eng_vocab"
   ]
  },
  {
   "cell_type": "code",
   "execution_count": 22,
   "id": "8399e7a9-c5ae-4ad0-b037-eff8db83c86f",
   "metadata": {},
   "outputs": [
    {
     "data": {
      "text/plain": [
       "[[83, 0, 0, 0, 0, 0, 0, 0, 0, 0, 0, 0, 10, 0, 0, 0, 0, 4990, 0, 0, 0, 0, 25],\n",
       " [2, 0, 0, 0, 2, 0, 0, 0, 2, 0, 2548, 10, 0, 0, 0, 0, 0, 9562],\n",
       " [2,\n",
       "  0,\n",
       "  0,\n",
       "  0,\n",
       "  10,\n",
       "  34,\n",
       "  0,\n",
       "  10,\n",
       "  0,\n",
       "  0,\n",
       "  0,\n",
       "  0,\n",
       "  0,\n",
       "  2,\n",
       "  4155,\n",
       "  0,\n",
       "  0,\n",
       "  0,\n",
       "  34,\n",
       "  2548,\n",
       "  0,\n",
       "  0,\n",
       "  0],\n",
       " [0,\n",
       "  0,\n",
       "  0,\n",
       "  0,\n",
       "  25,\n",
       "  0,\n",
       "  34,\n",
       "  0,\n",
       "  0,\n",
       "  34,\n",
       "  0,\n",
       "  0,\n",
       "  83,\n",
       "  0,\n",
       "  0,\n",
       "  0,\n",
       "  0,\n",
       "  10,\n",
       "  25,\n",
       "  25,\n",
       "  10,\n",
       "  0,\n",
       "  0,\n",
       "  25,\n",
       "  0,\n",
       "  0,\n",
       "  0],\n",
       " [2,\n",
       "  0,\n",
       "  0,\n",
       "  0,\n",
       "  0,\n",
       "  0,\n",
       "  0,\n",
       "  2,\n",
       "  2548,\n",
       "  0,\n",
       "  83,\n",
       "  0,\n",
       "  0,\n",
       "  0,\n",
       "  10,\n",
       "  0,\n",
       "  0,\n",
       "  0,\n",
       "  0,\n",
       "  25,\n",
       "  0,\n",
       "  83,\n",
       "  0,\n",
       "  0,\n",
       "  34,\n",
       "  0,\n",
       "  0,\n",
       "  0,\n",
       "  0,\n",
       "  34,\n",
       "  0,\n",
       "  10,\n",
       "  0,\n",
       "  0,\n",
       "  0,\n",
       "  0,\n",
       "  0,\n",
       "  0,\n",
       "  2548,\n",
       "  0,\n",
       "  0,\n",
       "  0,\n",
       "  2,\n",
       "  34,\n",
       "  0,\n",
       "  83,\n",
       "  0,\n",
       "  0,\n",
       "  0]]"
      ]
     },
     "execution_count": 22,
     "metadata": {},
     "output_type": "execute_result"
    }
   ],
   "source": [
    "eng_sequences[:5]"
   ]
  },
  {
   "cell_type": "code",
   "execution_count": 23,
   "id": "5aadfb6b-71fb-4bab-82eb-a6db4a69ab13",
   "metadata": {},
   "outputs": [],
   "source": [
    "port_sequences, port_field = target_tokenization(df['PT'])"
   ]
  },
  {
   "cell_type": "code",
   "execution_count": 24,
   "id": "307d1051-b56d-4320-8d29-e4865b3d76bf",
   "metadata": {},
   "outputs": [
    {
     "data": {
      "text/plain": [
       "16607"
      ]
     },
     "execution_count": 24,
     "metadata": {},
     "output_type": "execute_result"
    }
   ],
   "source": [
    "port_vocab = len(port_field.vocab) + 1\n",
    "port_vocab"
   ]
  },
  {
   "cell_type": "code",
   "execution_count": 25,
   "id": "cda22b41-02d2-40f8-89e7-6b91a8a1058e",
   "metadata": {},
   "outputs": [
    {
     "data": {
      "text/plain": [
       "[[4,\n",
       "  23,\n",
       "  8,\n",
       "  23,\n",
       "  4,\n",
       "  4,\n",
       "  127,\n",
       "  8,\n",
       "  412,\n",
       "  0,\n",
       "  4,\n",
       "  23,\n",
       "  15,\n",
       "  1797,\n",
       "  35,\n",
       "  4,\n",
       "  198,\n",
       "  35,\n",
       "  4,\n",
       "  15,\n",
       "  91,\n",
       "  2033,\n",
       "  3723,\n",
       "  79,\n",
       "  4,\n",
       "  198,\n",
       "  35,\n",
       "  91,\n",
       "  35,\n",
       "  23,\n",
       "  13,\n",
       "  4,\n",
       "  4,\n",
       "  35,\n",
       "  8,\n",
       "  23,\n",
       "  4],\n",
       " [4,\n",
       "  23,\n",
       "  8,\n",
       "  23,\n",
       "  4,\n",
       "  4,\n",
       "  35,\n",
       "  3723,\n",
       "  4,\n",
       "  15,\n",
       "  412,\n",
       "  82,\n",
       "  8,\n",
       "  4,\n",
       "  0,\n",
       "  3723,\n",
       "  35,\n",
       "  4,\n",
       "  259,\n",
       "  8,\n",
       "  23,\n",
       "  23,\n",
       "  8,\n",
       "  4,\n",
       "  15,\n",
       "  75,\n",
       "  3723,\n",
       "  198,\n",
       "  15,\n",
       "  224,\n",
       "  4,\n",
       "  4,\n",
       "  4,\n",
       "  35,\n",
       "  8,\n",
       "  23,\n",
       "  4],\n",
       " [4,\n",
       "  23,\n",
       "  8,\n",
       "  23,\n",
       "  4,\n",
       "  4,\n",
       "  234,\n",
       "  8,\n",
       "  1082,\n",
       "  4,\n",
       "  3723,\n",
       "  79,\n",
       "  15,\n",
       "  4,\n",
       "  412,\n",
       "  35,\n",
       "  10,\n",
       "  15,\n",
       "  4,\n",
       "  259,\n",
       "  15,\n",
       "  127,\n",
       "  8,\n",
       "  224,\n",
       "  8,\n",
       "  23,\n",
       "  15,\n",
       "  4,\n",
       "  4,\n",
       "  4,\n",
       "  35,\n",
       "  8,\n",
       "  23,\n",
       "  4],\n",
       " [4,\n",
       "  23,\n",
       "  8,\n",
       "  23,\n",
       "  4,\n",
       "  4,\n",
       "  127,\n",
       "  8,\n",
       "  412,\n",
       "  0,\n",
       "  4,\n",
       "  259,\n",
       "  224,\n",
       "  35,\n",
       "  412,\n",
       "  1082,\n",
       "  23,\n",
       "  15,\n",
       "  4,\n",
       "  35,\n",
       "  23,\n",
       "  85,\n",
       "  3723,\n",
       "  198,\n",
       "  15,\n",
       "  224,\n",
       "  4,\n",
       "  79,\n",
       "  15,\n",
       "  1082,\n",
       "  23,\n",
       "  4,\n",
       "  2033,\n",
       "  224,\n",
       "  15,\n",
       "  79,\n",
       "  4,\n",
       "  85,\n",
       "  1082,\n",
       "  412,\n",
       "  15,\n",
       "  4,\n",
       "  4,\n",
       "  4,\n",
       "  35,\n",
       "  8,\n",
       "  23,\n",
       "  4],\n",
       " [4,\n",
       "  23,\n",
       "  8,\n",
       "  23,\n",
       "  4,\n",
       "  4,\n",
       "  10,\n",
       "  8,\n",
       "  85,\n",
       "  35,\n",
       "  1082,\n",
       "  4,\n",
       "  0,\n",
       "  3723,\n",
       "  35,\n",
       "  4,\n",
       "  85,\n",
       "  8,\n",
       "  79,\n",
       "  4,\n",
       "  10,\n",
       "  4,\n",
       "  8,\n",
       "  4,\n",
       "  412,\n",
       "  8,\n",
       "  23,\n",
       "  85,\n",
       "  3723,\n",
       "  79,\n",
       "  15,\n",
       "  4,\n",
       "  85,\n",
       "  224,\n",
       "  15,\n",
       "  10,\n",
       "  412,\n",
       "  15,\n",
       "  224,\n",
       "  4,\n",
       "  23,\n",
       "  3723,\n",
       "  15,\n",
       "  4,\n",
       "  259,\n",
       "  8,\n",
       "  224,\n",
       "  85,\n",
       "  15,\n",
       "  4,\n",
       "  4,\n",
       "  4,\n",
       "  35,\n",
       "  8,\n",
       "  23,\n",
       "  4]]"
      ]
     },
     "execution_count": 25,
     "metadata": {},
     "output_type": "execute_result"
    }
   ],
   "source": [
    "port_sequences[:5]"
   ]
  },
  {
   "cell_type": "code",
   "execution_count": 26,
   "id": "71755b5e-f40a-4132-8785-3f26575314f3",
   "metadata": {},
   "outputs": [
    {
     "data": {
      "text/plain": [
       "[[4,\n",
       "  23,\n",
       "  8,\n",
       "  23,\n",
       "  4,\n",
       "  4,\n",
       "  127,\n",
       "  8,\n",
       "  412,\n",
       "  0,\n",
       "  4,\n",
       "  23,\n",
       "  15,\n",
       "  1797,\n",
       "  35,\n",
       "  4,\n",
       "  198,\n",
       "  35,\n",
       "  4,\n",
       "  15,\n",
       "  91,\n",
       "  2033,\n",
       "  3723,\n",
       "  79,\n",
       "  4,\n",
       "  198,\n",
       "  35,\n",
       "  91,\n",
       "  35,\n",
       "  23,\n",
       "  13,\n",
       "  4,\n",
       "  4,\n",
       "  35,\n",
       "  8,\n",
       "  23],\n",
       " [4,\n",
       "  23,\n",
       "  8,\n",
       "  23,\n",
       "  4,\n",
       "  4,\n",
       "  35,\n",
       "  3723,\n",
       "  4,\n",
       "  15,\n",
       "  412,\n",
       "  82,\n",
       "  8,\n",
       "  4,\n",
       "  0,\n",
       "  3723,\n",
       "  35,\n",
       "  4,\n",
       "  259,\n",
       "  8,\n",
       "  23,\n",
       "  23,\n",
       "  8,\n",
       "  4,\n",
       "  15,\n",
       "  75,\n",
       "  3723,\n",
       "  198,\n",
       "  15,\n",
       "  224,\n",
       "  4,\n",
       "  4,\n",
       "  4,\n",
       "  35,\n",
       "  8,\n",
       "  23],\n",
       " [4,\n",
       "  23,\n",
       "  8,\n",
       "  23,\n",
       "  4,\n",
       "  4,\n",
       "  234,\n",
       "  8,\n",
       "  1082,\n",
       "  4,\n",
       "  3723,\n",
       "  79,\n",
       "  15,\n",
       "  4,\n",
       "  412,\n",
       "  35,\n",
       "  10,\n",
       "  15,\n",
       "  4,\n",
       "  259,\n",
       "  15,\n",
       "  127,\n",
       "  8,\n",
       "  224,\n",
       "  8,\n",
       "  23,\n",
       "  15,\n",
       "  4,\n",
       "  4,\n",
       "  4,\n",
       "  35,\n",
       "  8,\n",
       "  23],\n",
       " [4,\n",
       "  23,\n",
       "  8,\n",
       "  23,\n",
       "  4,\n",
       "  4,\n",
       "  127,\n",
       "  8,\n",
       "  412,\n",
       "  0,\n",
       "  4,\n",
       "  259,\n",
       "  224,\n",
       "  35,\n",
       "  412,\n",
       "  1082,\n",
       "  23,\n",
       "  15,\n",
       "  4,\n",
       "  35,\n",
       "  23,\n",
       "  85,\n",
       "  3723,\n",
       "  198,\n",
       "  15,\n",
       "  224,\n",
       "  4,\n",
       "  79,\n",
       "  15,\n",
       "  1082,\n",
       "  23,\n",
       "  4,\n",
       "  2033,\n",
       "  224,\n",
       "  15,\n",
       "  79,\n",
       "  4,\n",
       "  85,\n",
       "  1082,\n",
       "  412,\n",
       "  15,\n",
       "  4,\n",
       "  4,\n",
       "  4,\n",
       "  35,\n",
       "  8,\n",
       "  23],\n",
       " [4,\n",
       "  23,\n",
       "  8,\n",
       "  23,\n",
       "  4,\n",
       "  4,\n",
       "  10,\n",
       "  8,\n",
       "  85,\n",
       "  35,\n",
       "  1082,\n",
       "  4,\n",
       "  0,\n",
       "  3723,\n",
       "  35,\n",
       "  4,\n",
       "  85,\n",
       "  8,\n",
       "  79,\n",
       "  4,\n",
       "  10,\n",
       "  4,\n",
       "  8,\n",
       "  4,\n",
       "  412,\n",
       "  8,\n",
       "  23,\n",
       "  85,\n",
       "  3723,\n",
       "  79,\n",
       "  15,\n",
       "  4,\n",
       "  85,\n",
       "  224,\n",
       "  15,\n",
       "  10,\n",
       "  412,\n",
       "  15,\n",
       "  224,\n",
       "  4,\n",
       "  23,\n",
       "  3723,\n",
       "  15,\n",
       "  4,\n",
       "  259,\n",
       "  8,\n",
       "  224,\n",
       "  85,\n",
       "  15,\n",
       "  4,\n",
       "  4,\n",
       "  4,\n",
       "  35,\n",
       "  8,\n",
       "  23]]"
      ]
     },
     "execution_count": 26,
     "metadata": {},
     "output_type": "execute_result"
    }
   ],
   "source": [
    "port_inp = [x[:-1] for x in port_sequences]\n",
    "port_inp[:5]"
   ]
  },
  {
   "cell_type": "code",
   "execution_count": 27,
   "id": "ab112cea-74f7-4598-b67d-e0357ac22b13",
   "metadata": {},
   "outputs": [
    {
     "data": {
      "text/plain": [
       "[[23,\n",
       "  8,\n",
       "  23,\n",
       "  4,\n",
       "  4,\n",
       "  127,\n",
       "  8,\n",
       "  412,\n",
       "  0,\n",
       "  4,\n",
       "  23,\n",
       "  15,\n",
       "  1797,\n",
       "  35,\n",
       "  4,\n",
       "  198,\n",
       "  35,\n",
       "  4,\n",
       "  15,\n",
       "  91,\n",
       "  2033,\n",
       "  3723,\n",
       "  79,\n",
       "  4,\n",
       "  198,\n",
       "  35,\n",
       "  91,\n",
       "  35,\n",
       "  23,\n",
       "  13,\n",
       "  4,\n",
       "  4,\n",
       "  35,\n",
       "  8,\n",
       "  23,\n",
       "  4],\n",
       " [23,\n",
       "  8,\n",
       "  23,\n",
       "  4,\n",
       "  4,\n",
       "  35,\n",
       "  3723,\n",
       "  4,\n",
       "  15,\n",
       "  412,\n",
       "  82,\n",
       "  8,\n",
       "  4,\n",
       "  0,\n",
       "  3723,\n",
       "  35,\n",
       "  4,\n",
       "  259,\n",
       "  8,\n",
       "  23,\n",
       "  23,\n",
       "  8,\n",
       "  4,\n",
       "  15,\n",
       "  75,\n",
       "  3723,\n",
       "  198,\n",
       "  15,\n",
       "  224,\n",
       "  4,\n",
       "  4,\n",
       "  4,\n",
       "  35,\n",
       "  8,\n",
       "  23,\n",
       "  4],\n",
       " [23,\n",
       "  8,\n",
       "  23,\n",
       "  4,\n",
       "  4,\n",
       "  234,\n",
       "  8,\n",
       "  1082,\n",
       "  4,\n",
       "  3723,\n",
       "  79,\n",
       "  15,\n",
       "  4,\n",
       "  412,\n",
       "  35,\n",
       "  10,\n",
       "  15,\n",
       "  4,\n",
       "  259,\n",
       "  15,\n",
       "  127,\n",
       "  8,\n",
       "  224,\n",
       "  8,\n",
       "  23,\n",
       "  15,\n",
       "  4,\n",
       "  4,\n",
       "  4,\n",
       "  35,\n",
       "  8,\n",
       "  23,\n",
       "  4],\n",
       " [23,\n",
       "  8,\n",
       "  23,\n",
       "  4,\n",
       "  4,\n",
       "  127,\n",
       "  8,\n",
       "  412,\n",
       "  0,\n",
       "  4,\n",
       "  259,\n",
       "  224,\n",
       "  35,\n",
       "  412,\n",
       "  1082,\n",
       "  23,\n",
       "  15,\n",
       "  4,\n",
       "  35,\n",
       "  23,\n",
       "  85,\n",
       "  3723,\n",
       "  198,\n",
       "  15,\n",
       "  224,\n",
       "  4,\n",
       "  79,\n",
       "  15,\n",
       "  1082,\n",
       "  23,\n",
       "  4,\n",
       "  2033,\n",
       "  224,\n",
       "  15,\n",
       "  79,\n",
       "  4,\n",
       "  85,\n",
       "  1082,\n",
       "  412,\n",
       "  15,\n",
       "  4,\n",
       "  4,\n",
       "  4,\n",
       "  35,\n",
       "  8,\n",
       "  23,\n",
       "  4],\n",
       " [23,\n",
       "  8,\n",
       "  23,\n",
       "  4,\n",
       "  4,\n",
       "  10,\n",
       "  8,\n",
       "  85,\n",
       "  35,\n",
       "  1082,\n",
       "  4,\n",
       "  0,\n",
       "  3723,\n",
       "  35,\n",
       "  4,\n",
       "  85,\n",
       "  8,\n",
       "  79,\n",
       "  4,\n",
       "  10,\n",
       "  4,\n",
       "  8,\n",
       "  4,\n",
       "  412,\n",
       "  8,\n",
       "  23,\n",
       "  85,\n",
       "  3723,\n",
       "  79,\n",
       "  15,\n",
       "  4,\n",
       "  85,\n",
       "  224,\n",
       "  15,\n",
       "  10,\n",
       "  412,\n",
       "  15,\n",
       "  224,\n",
       "  4,\n",
       "  23,\n",
       "  3723,\n",
       "  15,\n",
       "  4,\n",
       "  259,\n",
       "  8,\n",
       "  224,\n",
       "  85,\n",
       "  15,\n",
       "  4,\n",
       "  4,\n",
       "  4,\n",
       "  35,\n",
       "  8,\n",
       "  23,\n",
       "  4]]"
      ]
     },
     "execution_count": 27,
     "metadata": {},
     "output_type": "execute_result"
    }
   ],
   "source": [
    "port_out = [x[1:] for x in port_sequences]\n",
    "port_out[:5]"
   ]
  },
  {
   "cell_type": "markdown",
   "id": "880cee15-64b6-4e48-b332-65e0844093df",
   "metadata": {},
   "source": [
    "# Pad Sequence"
   ]
  },
  {
   "cell_type": "code",
   "execution_count": 28,
   "id": "8db0ac9e-2f4d-41aa-b02a-d4478fbc7eb2",
   "metadata": {},
   "outputs": [],
   "source": [
    "def pad_seq(pad):\n",
    "    # Convert to PyTorch tensor\n",
    "    pad_tensor = [torch.tensor(seq) for seq in pad]\n",
    "    \n",
    "    # Pad sequences using pad_sequence\n",
    "    padded_seq = pad_sequence(pad_tensor, batch_first=True, padding_value=0)\n",
    "    \n",
    "    return padded_seq"
   ]
  },
  {
   "cell_type": "code",
   "execution_count": 29,
   "id": "b73e2a1c-604a-44a1-8ea4-0b359d20af31",
   "metadata": {},
   "outputs": [
    {
     "data": {
      "text/plain": [
       "tensor([[83,  0,  0,  ...,  0,  0,  0],\n",
       "        [ 2,  0,  0,  ...,  0,  0,  0],\n",
       "        [ 2,  0,  0,  ...,  0,  0,  0],\n",
       "        ...,\n",
       "        [ 0,  0,  0,  ...,  0,  0,  0],\n",
       "        [ 2,  0,  0,  ...,  0,  0,  0],\n",
       "        [ 2, 34,  0,  ...,  0,  0,  0]])"
      ]
     },
     "execution_count": 29,
     "metadata": {},
     "output_type": "execute_result"
    }
   ],
   "source": [
    "encoder_input = pad_seq(eng_sequences)\n",
    "encoder_input"
   ]
  },
  {
   "cell_type": "code",
   "execution_count": 30,
   "id": "457f8bb9-6b76-4b80-983b-2f5a9475ac09",
   "metadata": {},
   "outputs": [
    {
     "data": {
      "text/plain": [
       "torch.Size([100000, 188])"
      ]
     },
     "execution_count": 30,
     "metadata": {},
     "output_type": "execute_result"
    }
   ],
   "source": [
    "encoder_input.shape"
   ]
  },
  {
   "cell_type": "code",
   "execution_count": 31,
   "id": "cd6f5386-646e-4adb-9912-86880c53aee9",
   "metadata": {},
   "outputs": [
    {
     "data": {
      "text/plain": [
       "tensor([[ 4, 23,  8,  ...,  0,  0,  0],\n",
       "        [ 4, 23,  8,  ...,  0,  0,  0],\n",
       "        [ 4, 23,  8,  ...,  0,  0,  0],\n",
       "        ...,\n",
       "        [ 4, 23,  8,  ...,  0,  0,  0],\n",
       "        [ 4, 23,  8,  ...,  0,  0,  0],\n",
       "        [ 4, 23,  8,  ...,  0,  0,  0]])"
      ]
     },
     "execution_count": 31,
     "metadata": {},
     "output_type": "execute_result"
    }
   ],
   "source": [
    "decoder_input = pad_seq(port_inp)\n",
    "decoder_input"
   ]
  },
  {
   "cell_type": "code",
   "execution_count": 32,
   "id": "70b3982f-42a4-4a77-a545-43f0e2e68c6f",
   "metadata": {},
   "outputs": [
    {
     "data": {
      "text/plain": [
       "torch.Size([100000, 195])"
      ]
     },
     "execution_count": 32,
     "metadata": {},
     "output_type": "execute_result"
    }
   ],
   "source": [
    "decoder_input.shape"
   ]
  },
  {
   "cell_type": "code",
   "execution_count": 33,
   "id": "185dc8aa-e7e1-42c3-a92d-603337c29029",
   "metadata": {},
   "outputs": [
    {
     "data": {
      "text/plain": [
       "tensor([[23,  8, 23,  ...,  0,  0,  0],\n",
       "        [23,  8, 23,  ...,  0,  0,  0],\n",
       "        [23,  8, 23,  ...,  0,  0,  0],\n",
       "        ...,\n",
       "        [23,  8, 23,  ...,  0,  0,  0],\n",
       "        [23,  8, 23,  ...,  0,  0,  0],\n",
       "        [23,  8, 23,  ...,  0,  0,  0]])"
      ]
     },
     "execution_count": 33,
     "metadata": {},
     "output_type": "execute_result"
    }
   ],
   "source": [
    "decoder_output = pad_seq(port_out)\n",
    "decoder_output"
   ]
  },
  {
   "cell_type": "code",
   "execution_count": 34,
   "id": "13af1533-8896-4b5f-85f5-3cf0ecb43a3a",
   "metadata": {},
   "outputs": [
    {
     "data": {
      "text/plain": [
       "torch.Size([100000, 195])"
      ]
     },
     "execution_count": 34,
     "metadata": {},
     "output_type": "execute_result"
    }
   ],
   "source": [
    "decoder_output.shape"
   ]
  },
  {
   "cell_type": "code",
   "execution_count": 78,
   "id": "0e57a746-7908-4588-b761-28bacfa64179",
   "metadata": {},
   "outputs": [],
   "source": [
    "assert not torch.isnan(encoder_input).any()\n",
    "assert not torch.isnan(decoder_input).any()"
   ]
  },
  {
   "cell_type": "markdown",
   "id": "85106181-7db9-45ba-9eaf-97eb42990a91",
   "metadata": {},
   "source": [
    "# Training the PyTorch Transformer Model"
   ]
  },
  {
   "cell_type": "code",
   "execution_count": 35,
   "id": "ff53bfcc-4656-470b-84e1-d540fed4f7c9",
   "metadata": {},
   "outputs": [
    {
     "name": "stdout",
     "output_type": "stream",
     "text": [
      "Current device: cuda\n",
      "Model parameters device: cuda:0\n"
     ]
    }
   ],
   "source": [
    "# Hyperparameters\n",
    "src_vocab_size = eng_vocab\n",
    "tgt_vocab_size = port_vocab\n",
    "batch_size = 64\n",
    "d_model = 512\n",
    "num_heads = 8\n",
    "num_layers = 6\n",
    "d_ff = 1024 #prev 2048\n",
    "max_seq_len = max(encoder_input.size(1), decoder_input.size(1))\n",
    "dropout = 0.1\n",
    "epoch = None\n",
    "\n",
    "# Use GPU if available\n",
    "device = 'cuda' if torch.cuda.is_available() else 'cpu'\n",
    "print(f\"Current device: {device}\")\n",
    "\n",
    "# Sequence Length\n",
    "src_seq_len = encoder_input.shape[1]\n",
    "tgt_seq_len = decoder_input.shape[1]\n",
    "\n",
    "# Src and tgt datasets\n",
    "src_data = encoder_input\n",
    "tgt_data = decoder_input\n",
    "\n",
    "# Create an instance of the Transformer model\n",
    "transformer = Transformer(src_vocab_size, tgt_vocab_size, d_model, num_heads, num_layers, d_ff, max_seq_len, dropout)\n",
    "\n",
    "# Move model and data to the selected device\n",
    "transformer.to(device)\n",
    "#src_data, tgt_data = src_data.to(device), tgt_data.to(device)\n",
    "\n",
    "# Print the device on which the model parameters are located\n",
    "print(f\"Model parameters device: {next(transformer.parameters()).device}\")\n",
    "\n",
    "# Define loss function and optimizer\n",
    "criterion = nn.CrossEntropyLoss(ignore_index=0)\n",
    "optimizer = optim.Adam(transformer.parameters(), lr=0.0001, betas=(0.9, 0.98), eps=1e-9)\n",
    "\n",
    "# Create ReduceLROnPlateau scheduler\n",
    "scheduler = ReduceLROnPlateau(optimizer, mode='min', patience=5, factor=0.1, verbose=True)\n",
    "\n",
    "# Scaler\n",
    "scaler = GradScaler()"
   ]
  },
  {
   "cell_type": "markdown",
   "id": "3a4f6455-f471-4ae3-9f93-206055c40c1e",
   "metadata": {},
   "source": [
    "## Prepare Training and Validation Splits, and DataLoaders"
   ]
  },
  {
   "cell_type": "code",
   "execution_count": 36,
   "id": "2052c4c0-0fef-49aa-a456-15a5a6859012",
   "metadata": {},
   "outputs": [],
   "source": [
    "# Split the data into training and validation sets\n",
    "train_src_data, val_src_data, train_tgt_data, val_tgt_data = train_test_split(\n",
    "    src_data, tgt_data, test_size=0.2, random_state=42\n",
    ")"
   ]
  },
  {
   "cell_type": "code",
   "execution_count": 37,
   "id": "5fed643f-d764-4e9c-baeb-550a780f4665",
   "metadata": {},
   "outputs": [],
   "source": [
    "# Assuming you have a custom dataset class, let's call it MyDataset\n",
    "class MyDataset(Dataset):\n",
    "    def __init__(self, src_data, tgt_data):\n",
    "        self.src_data = src_data\n",
    "        self.tgt_data = tgt_data\n",
    "\n",
    "    def __len__(self):\n",
    "        return len(self.src_data)\n",
    "\n",
    "    def __getitem__(self, idx):\n",
    "        src_sample = self.src_data[idx].to(device)\n",
    "        tgt_sample = self.tgt_data[idx].to(device)\n",
    "        return src_sample, tgt_sample"
   ]
  },
  {
   "cell_type": "code",
   "execution_count": 38,
   "id": "fe2a1b41-1478-48c9-a1e5-fb1e51dd2937",
   "metadata": {},
   "outputs": [],
   "source": [
    "# Create an instance of your dataset\n",
    "train_dataset = MyDataset(train_src_data, train_tgt_data)\n",
    "\n",
    "# Create a DataLoader for training\n",
    "train_dataloader = DataLoader(train_dataset, batch_size=batch_size, shuffle=True)"
   ]
  },
  {
   "cell_type": "code",
   "execution_count": 39,
   "id": "927bf1b1-c6e4-4d15-b550-8d4c3930a5e8",
   "metadata": {},
   "outputs": [],
   "source": [
    "# Create an instance of your validation dataset\n",
    "val_dataset = MyDataset(val_src_data, val_tgt_data)\n",
    "val_dataloader = DataLoader(val_dataset, batch_size=batch_size, shuffle=False)"
   ]
  },
  {
   "cell_type": "markdown",
   "id": "5f6ad3ce-3528-4e70-a80e-8f68ba648168",
   "metadata": {},
   "source": [
    "## Compute Accuracy Function"
   ]
  },
  {
   "cell_type": "code",
   "execution_count": 40,
   "id": "3cbe8d5a-854d-49e6-8825-a764b465b282",
   "metadata": {},
   "outputs": [],
   "source": [
    "def compute_accuracy(output, target):\n",
    "    \"\"\"\n",
    "    Compute accuracy based on the model's output and target values.\n",
    "\n",
    "    Args:\n",
    "    - output (torch.Tensor): Model's output tensor.\n",
    "    - target (torch.Tensor): Target tensor.\n",
    "\n",
    "    Returns:\n",
    "    - accuracy (float): Accuracy value.\n",
    "    \"\"\"\n",
    "    # Assuming output and target are tensors\n",
    "    # Get the predicted indices with maximum probability\n",
    "    _, predicted = torch.max(output, dim=2)\n",
    "\n",
    "    # Mask for valid positions (non-padding)\n",
    "    mask = (target != 0).float()\n",
    "\n",
    "    # Compare predicted and target values, count correct predictions\n",
    "    correct = (predicted == target) * mask\n",
    "\n",
    "    # Calculate accuracy\n",
    "    accuracy = correct.sum().item() / mask.sum().item() if mask.sum().item() > 0 else 0.0\n",
    "\n",
    "    return accuracy"
   ]
  },
  {
   "cell_type": "markdown",
   "id": "b70127be-36e6-4851-8844-8f5efc96be58",
   "metadata": {},
   "source": [
    "## Create/Load Checkpoints and Training Progress"
   ]
  },
  {
   "cell_type": "code",
   "execution_count": 41,
   "id": "ef866a09-5f22-4c6e-a54c-acac06b96797",
   "metadata": {
    "scrolled": true
   },
   "outputs": [
    {
     "name": "stdout",
     "output_type": "stream",
     "text": [
      "Checkpoint loaded successfully\n"
     ]
    }
   ],
   "source": [
    "# File path for the saved checkpoint\n",
    "checkpoint_file_path = './checkpoint.pth'\n",
    "\n",
    "# Check if the file exists\n",
    "if os.path.exists(checkpoint_file_path):\n",
    "    # Load the saved checkpoint\n",
    "    checkpoint = torch.load(checkpoint_file_path)\n",
    "\n",
    "    # Load epoch\n",
    "    epoch = checkpoint['epoch']\n",
    "\n",
    "    # Load transformer\n",
    "    transformer_checkpoint = checkpoint['model_state_dict']\n",
    "    keys_to_load = ['encoder_embedding', 'decoder_embedding', 'positional_encoding', \n",
    "                    'encoder_layers', 'decoder_layers', 'fc']\n",
    "    filtered_state_dict = {k: v for k, v in transformer_checkpoint.items() if k in keys_to_load}\n",
    "    transformer.load_state_dict(filtered_state_dict, strict=False)\n",
    "    #transformer.load_state_dict(checkpoint['model_state_dict'])\n",
    "\n",
    "    # Load the optimizer state dict\n",
    "    optimizer.load_state_dict(checkpoint['optimizer_state_dict'])\n",
    "\n",
    "    # Load Scheduler\n",
    "    scheduler.load_state_dict(checkpoint['scheduler_state_dict'])\n",
    "\n",
    "    # Load Scaler\n",
    "    scaler.load_state_dict(checkpoint['scaler_state_dict'])\n",
    "    \n",
    "    print(\"Checkpoint loaded successfully\")\n",
    "\n",
    "else:\n",
    "    # If the file doesn't exist, create and save checkpoint\n",
    "    epoch = 0\n",
    "    torch.save({\n",
    "    'epoch': epoch,\n",
    "    'model_state_dict': transformer.state_dict(),\n",
    "    'optimizer_state_dict': optimizer.state_dict(),\n",
    "    'scheduler_state_dict': scheduler.state_dict(),\n",
    "    'scaler_state_dict': scaler.state_dict(),\n",
    "    }, checkpoint_file_path)\n",
    "    print(\"Checkpoint file not found. Initial checkpoint created and saved.\")"
   ]
  },
  {
   "cell_type": "code",
   "execution_count": 42,
   "id": "e9de7c92-1df2-4837-9d5d-774bb17f0938",
   "metadata": {},
   "outputs": [
    {
     "name": "stdout",
     "output_type": "stream",
     "text": [
      "Training progress loaded successfully\n",
      "Information in the training progress:\n",
      "Epoch: 1, Avg Loss: 1.4146, Avg Accuracy: 0.5892, Avg Val Loss: 1.0164, Avg Val Accuracy: 0.6875, Learning Rate: 0.0001\n",
      "Epoch: 2, Avg Loss: 0.9134, Avg Accuracy: 0.7185, Avg Val Loss: 0.8416, Avg Val Accuracy: 0.7402, Learning Rate: 0.0001\n",
      "Epoch: 3, Avg Loss: 0.7887, Avg Accuracy: 0.7567, Avg Val Loss: 0.7653, Avg Val Accuracy: 0.7644, Learning Rate: 0.0001\n",
      "Epoch: 4, Avg Loss: 0.7288, Avg Accuracy: 0.7749, Avg Val Loss: 0.7427, Avg Val Accuracy: 0.7711, Learning Rate: 0.0001\n",
      "Epoch: 5, Avg Loss: nan, Avg Accuracy: 0.0003, Avg Val Loss: nan, Avg Val Accuracy: 0.0000, Learning Rate: 0.0001\n",
      "Epoch: 6, Avg Loss: nan, Avg Accuracy: 0.0000, Avg Val Loss: nan, Avg Val Accuracy: 0.0000, Learning Rate: 0.0001\n"
     ]
    }
   ],
   "source": [
    "# File path for the saved checkpoint\n",
    "progress_file_path = './training_progress.pth'\n",
    "training_progress = None\n",
    "\n",
    "# Check if the file exists\n",
    "if os.path.exists(progress_file_path):\n",
    "    # Load the saved checkpoint\n",
    "    print(\"Training progress loaded successfully\")\n",
    "    training_progress = torch.load(progress_file_path)\n",
    "\n",
    "    print(\"Information in the training progress:\")\n",
    "    for epoch_info in training_progress:\n",
    "        print(f\"Epoch: {epoch_info['epoch']}, \"\n",
    "              f\"Avg Loss: {epoch_info['avg_loss']:.4f}, \"\n",
    "              f\"Avg Accuracy: {epoch_info['avg_accuracy']:.4f}, \"\n",
    "              f\"Avg Val Loss: {epoch_info['avg_val_loss']:.4f}, \"\n",
    "              f\"Avg Val Accuracy: {epoch_info['avg_val_accuracy']:.4f}, \"\n",
    "              f\"Learning Rate: {epoch_info['learning_rate']:.4f}\")\n",
    "\n",
    "\n",
    "else:\n",
    "    # If the file doesn't exist, create and save training progress\n",
    "    training_progress = []\n",
    "    torch.save(training_progress, progress_file_path)\n",
    "    print(\"Training progress file not found. File created and saved.\")"
   ]
  },
  {
   "cell_type": "code",
   "execution_count": 43,
   "id": "50f181cd-befb-419d-9d81-84b220c1e09c",
   "metadata": {},
   "outputs": [
    {
     "data": {
      "text/plain": [
       "Transformer(\n",
       "  (encoder_embedding): Embedding(10864, 512)\n",
       "  (decoder_embedding): Embedding(16607, 512)\n",
       "  (positional_encoding): PositionalEncoding()\n",
       "  (encoder_layers): ModuleList(\n",
       "    (0-5): 6 x EncoderLayer(\n",
       "      (self_attn): MultiHeadAttention(\n",
       "        (W_q): Linear(in_features=512, out_features=512, bias=True)\n",
       "        (W_k): Linear(in_features=512, out_features=512, bias=True)\n",
       "        (W_v): Linear(in_features=512, out_features=512, bias=True)\n",
       "        (W_o): Linear(in_features=512, out_features=512, bias=True)\n",
       "      )\n",
       "      (feed_forward): PositionWiseFeedForward(\n",
       "        (fc1): Linear(in_features=512, out_features=1024, bias=True)\n",
       "        (fc2): Linear(in_features=1024, out_features=512, bias=True)\n",
       "        (relu): ReLU()\n",
       "      )\n",
       "      (norm1): LayerNorm((512,), eps=1e-05, elementwise_affine=True)\n",
       "      (norm2): LayerNorm((512,), eps=1e-05, elementwise_affine=True)\n",
       "      (dropout): Dropout(p=0.1, inplace=False)\n",
       "    )\n",
       "  )\n",
       "  (decoder_layers): ModuleList(\n",
       "    (0-5): 6 x DecoderLayer(\n",
       "      (self_attn): MultiHeadAttention(\n",
       "        (W_q): Linear(in_features=512, out_features=512, bias=True)\n",
       "        (W_k): Linear(in_features=512, out_features=512, bias=True)\n",
       "        (W_v): Linear(in_features=512, out_features=512, bias=True)\n",
       "        (W_o): Linear(in_features=512, out_features=512, bias=True)\n",
       "      )\n",
       "      (cross_attn): MultiHeadAttention(\n",
       "        (W_q): Linear(in_features=512, out_features=512, bias=True)\n",
       "        (W_k): Linear(in_features=512, out_features=512, bias=True)\n",
       "        (W_v): Linear(in_features=512, out_features=512, bias=True)\n",
       "        (W_o): Linear(in_features=512, out_features=512, bias=True)\n",
       "      )\n",
       "      (feed_forward): PositionWiseFeedForward(\n",
       "        (fc1): Linear(in_features=512, out_features=1024, bias=True)\n",
       "        (fc2): Linear(in_features=1024, out_features=512, bias=True)\n",
       "        (relu): ReLU()\n",
       "      )\n",
       "      (norm1): LayerNorm((512,), eps=1e-05, elementwise_affine=True)\n",
       "      (norm2): LayerNorm((512,), eps=1e-05, elementwise_affine=True)\n",
       "      (norm3): LayerNorm((512,), eps=1e-05, elementwise_affine=True)\n",
       "      (dropout): Dropout(p=0.1, inplace=False)\n",
       "    )\n",
       "  )\n",
       "  (fc): Linear(in_features=512, out_features=16607, bias=True)\n",
       "  (dropout): Dropout(p=0.1, inplace=False)\n",
       ")"
      ]
     },
     "execution_count": 43,
     "metadata": {},
     "output_type": "execute_result"
    }
   ],
   "source": [
    "# Set the model to evaluation mode\n",
    "transformer.eval()"
   ]
  },
  {
   "cell_type": "markdown",
   "id": "f1883d1a-e055-4b05-a6f0-2cc9fc52fd90",
   "metadata": {},
   "source": [
    "# Training the Model"
   ]
  },
  {
   "cell_type": "code",
   "execution_count": 44,
   "id": "bccf48b2-742d-47fe-97b4-1d5200c66699",
   "metadata": {},
   "outputs": [
    {
     "name": "stdout",
     "output_type": "stream",
     "text": [
      "Starting Epoch: 7\n"
     ]
    },
    {
     "data": {
      "application/vnd.jupyter.widget-view+json": {
       "model_id": "dc1b13642a744ef898845b3b5da228a8",
       "version_major": 2,
       "version_minor": 0
      },
      "text/plain": [
       "Epoch 7/100, Training Set:   0%|                                                                              …"
      ]
     },
     "metadata": {},
     "output_type": "display_data"
    },
    {
     "ename": "RuntimeError",
     "evalue": "The size of tensor a (10801) must match the size of tensor b (10864) at non-singleton dimension 0",
     "output_type": "error",
     "traceback": [
      "\u001b[1;31m---------------------------------------------------------------------------\u001b[0m",
      "\u001b[1;31mRuntimeError\u001b[0m                              Traceback (most recent call last)",
      "Cell \u001b[1;32mIn[44], line 31\u001b[0m\n\u001b[0;32m     28\u001b[0m torch\u001b[38;5;241m.\u001b[39mnn\u001b[38;5;241m.\u001b[39mutils\u001b[38;5;241m.\u001b[39mclip_grad_norm_(transformer\u001b[38;5;241m.\u001b[39mparameters(), max_norm\u001b[38;5;241m=\u001b[39m\u001b[38;5;241m1\u001b[39m)\n\u001b[0;32m     30\u001b[0m \u001b[38;5;66;03m# Update Optimizer\u001b[39;00m\n\u001b[1;32m---> 31\u001b[0m \u001b[43mscaler\u001b[49m\u001b[38;5;241;43m.\u001b[39;49m\u001b[43mstep\u001b[49m\u001b[43m(\u001b[49m\u001b[43moptimizer\u001b[49m\u001b[43m)\u001b[49m\n\u001b[0;32m     32\u001b[0m scaler\u001b[38;5;241m.\u001b[39mupdate()\n\u001b[0;32m     34\u001b[0m \u001b[38;5;66;03m# Accumulate total validation loss\u001b[39;00m\n",
      "File \u001b[1;32m~\\Desktop\\GPT_translator\\cuda\\Lib\\site-packages\\torch\\cuda\\amp\\grad_scaler.py:416\u001b[0m, in \u001b[0;36mGradScaler.step\u001b[1;34m(self, optimizer, *args, **kwargs)\u001b[0m\n\u001b[0;32m    410\u001b[0m     \u001b[38;5;28mself\u001b[39m\u001b[38;5;241m.\u001b[39munscale_(optimizer)\n\u001b[0;32m    412\u001b[0m \u001b[38;5;28;01massert\u001b[39;00m (\n\u001b[0;32m    413\u001b[0m     \u001b[38;5;28mlen\u001b[39m(optimizer_state[\u001b[38;5;124m\"\u001b[39m\u001b[38;5;124mfound_inf_per_device\u001b[39m\u001b[38;5;124m\"\u001b[39m]) \u001b[38;5;241m>\u001b[39m \u001b[38;5;241m0\u001b[39m\n\u001b[0;32m    414\u001b[0m ), \u001b[38;5;124m\"\u001b[39m\u001b[38;5;124mNo inf checks were recorded for this optimizer.\u001b[39m\u001b[38;5;124m\"\u001b[39m\n\u001b[1;32m--> 416\u001b[0m retval \u001b[38;5;241m=\u001b[39m \u001b[38;5;28;43mself\u001b[39;49m\u001b[38;5;241;43m.\u001b[39;49m\u001b[43m_maybe_opt_step\u001b[49m\u001b[43m(\u001b[49m\u001b[43moptimizer\u001b[49m\u001b[43m,\u001b[49m\u001b[43m \u001b[49m\u001b[43moptimizer_state\u001b[49m\u001b[43m,\u001b[49m\u001b[43m \u001b[49m\u001b[38;5;241;43m*\u001b[39;49m\u001b[43margs\u001b[49m\u001b[43m,\u001b[49m\u001b[43m \u001b[49m\u001b[38;5;241;43m*\u001b[39;49m\u001b[38;5;241;43m*\u001b[39;49m\u001b[43mkwargs\u001b[49m\u001b[43m)\u001b[49m\n\u001b[0;32m    418\u001b[0m optimizer_state[\u001b[38;5;124m\"\u001b[39m\u001b[38;5;124mstage\u001b[39m\u001b[38;5;124m\"\u001b[39m] \u001b[38;5;241m=\u001b[39m OptState\u001b[38;5;241m.\u001b[39mSTEPPED\n\u001b[0;32m    420\u001b[0m \u001b[38;5;28;01mreturn\u001b[39;00m retval\n",
      "File \u001b[1;32m~\\Desktop\\GPT_translator\\cuda\\Lib\\site-packages\\torch\\cuda\\amp\\grad_scaler.py:315\u001b[0m, in \u001b[0;36mGradScaler._maybe_opt_step\u001b[1;34m(self, optimizer, optimizer_state, *args, **kwargs)\u001b[0m\n\u001b[0;32m    313\u001b[0m retval \u001b[38;5;241m=\u001b[39m \u001b[38;5;28;01mNone\u001b[39;00m\n\u001b[0;32m    314\u001b[0m \u001b[38;5;28;01mif\u001b[39;00m \u001b[38;5;129;01mnot\u001b[39;00m \u001b[38;5;28msum\u001b[39m(v\u001b[38;5;241m.\u001b[39mitem() \u001b[38;5;28;01mfor\u001b[39;00m v \u001b[38;5;129;01min\u001b[39;00m optimizer_state[\u001b[38;5;124m\"\u001b[39m\u001b[38;5;124mfound_inf_per_device\u001b[39m\u001b[38;5;124m\"\u001b[39m]\u001b[38;5;241m.\u001b[39mvalues()):\n\u001b[1;32m--> 315\u001b[0m     retval \u001b[38;5;241m=\u001b[39m \u001b[43moptimizer\u001b[49m\u001b[38;5;241;43m.\u001b[39;49m\u001b[43mstep\u001b[49m\u001b[43m(\u001b[49m\u001b[38;5;241;43m*\u001b[39;49m\u001b[43margs\u001b[49m\u001b[43m,\u001b[49m\u001b[43m \u001b[49m\u001b[38;5;241;43m*\u001b[39;49m\u001b[38;5;241;43m*\u001b[39;49m\u001b[43mkwargs\u001b[49m\u001b[43m)\u001b[49m\n\u001b[0;32m    316\u001b[0m \u001b[38;5;28;01mreturn\u001b[39;00m retval\n",
      "File \u001b[1;32m~\\Desktop\\GPT_translator\\cuda\\Lib\\site-packages\\torch\\optim\\optimizer.py:373\u001b[0m, in \u001b[0;36mOptimizer.profile_hook_step.<locals>.wrapper\u001b[1;34m(*args, **kwargs)\u001b[0m\n\u001b[0;32m    368\u001b[0m         \u001b[38;5;28;01melse\u001b[39;00m:\n\u001b[0;32m    369\u001b[0m             \u001b[38;5;28;01mraise\u001b[39;00m \u001b[38;5;167;01mRuntimeError\u001b[39;00m(\n\u001b[0;32m    370\u001b[0m                 \u001b[38;5;124mf\u001b[39m\u001b[38;5;124m\"\u001b[39m\u001b[38;5;132;01m{\u001b[39;00mfunc\u001b[38;5;132;01m}\u001b[39;00m\u001b[38;5;124m must return None or a tuple of (new_args, new_kwargs), but got \u001b[39m\u001b[38;5;132;01m{\u001b[39;00mresult\u001b[38;5;132;01m}\u001b[39;00m\u001b[38;5;124m.\u001b[39m\u001b[38;5;124m\"\u001b[39m\n\u001b[0;32m    371\u001b[0m             )\n\u001b[1;32m--> 373\u001b[0m out \u001b[38;5;241m=\u001b[39m \u001b[43mfunc\u001b[49m\u001b[43m(\u001b[49m\u001b[38;5;241;43m*\u001b[39;49m\u001b[43margs\u001b[49m\u001b[43m,\u001b[49m\u001b[43m \u001b[49m\u001b[38;5;241;43m*\u001b[39;49m\u001b[38;5;241;43m*\u001b[39;49m\u001b[43mkwargs\u001b[49m\u001b[43m)\u001b[49m\n\u001b[0;32m    374\u001b[0m \u001b[38;5;28mself\u001b[39m\u001b[38;5;241m.\u001b[39m_optimizer_step_code()\n\u001b[0;32m    376\u001b[0m \u001b[38;5;66;03m# call optimizer step post hooks\u001b[39;00m\n",
      "File \u001b[1;32m~\\Desktop\\GPT_translator\\cuda\\Lib\\site-packages\\torch\\optim\\optimizer.py:76\u001b[0m, in \u001b[0;36m_use_grad_for_differentiable.<locals>._use_grad\u001b[1;34m(self, *args, **kwargs)\u001b[0m\n\u001b[0;32m     74\u001b[0m     torch\u001b[38;5;241m.\u001b[39mset_grad_enabled(\u001b[38;5;28mself\u001b[39m\u001b[38;5;241m.\u001b[39mdefaults[\u001b[38;5;124m'\u001b[39m\u001b[38;5;124mdifferentiable\u001b[39m\u001b[38;5;124m'\u001b[39m])\n\u001b[0;32m     75\u001b[0m     torch\u001b[38;5;241m.\u001b[39m_dynamo\u001b[38;5;241m.\u001b[39mgraph_break()\n\u001b[1;32m---> 76\u001b[0m     ret \u001b[38;5;241m=\u001b[39m \u001b[43mfunc\u001b[49m\u001b[43m(\u001b[49m\u001b[38;5;28;43mself\u001b[39;49m\u001b[43m,\u001b[49m\u001b[43m \u001b[49m\u001b[38;5;241;43m*\u001b[39;49m\u001b[43margs\u001b[49m\u001b[43m,\u001b[49m\u001b[43m \u001b[49m\u001b[38;5;241;43m*\u001b[39;49m\u001b[38;5;241;43m*\u001b[39;49m\u001b[43mkwargs\u001b[49m\u001b[43m)\u001b[49m\n\u001b[0;32m     77\u001b[0m \u001b[38;5;28;01mfinally\u001b[39;00m:\n\u001b[0;32m     78\u001b[0m     torch\u001b[38;5;241m.\u001b[39m_dynamo\u001b[38;5;241m.\u001b[39mgraph_break()\n",
      "File \u001b[1;32m~\\Desktop\\GPT_translator\\cuda\\Lib\\site-packages\\torch\\optim\\adam.py:163\u001b[0m, in \u001b[0;36mAdam.step\u001b[1;34m(self, closure)\u001b[0m\n\u001b[0;32m    152\u001b[0m     beta1, beta2 \u001b[38;5;241m=\u001b[39m group[\u001b[38;5;124m'\u001b[39m\u001b[38;5;124mbetas\u001b[39m\u001b[38;5;124m'\u001b[39m]\n\u001b[0;32m    154\u001b[0m     \u001b[38;5;28mself\u001b[39m\u001b[38;5;241m.\u001b[39m_init_group(\n\u001b[0;32m    155\u001b[0m         group,\n\u001b[0;32m    156\u001b[0m         params_with_grad,\n\u001b[1;32m   (...)\u001b[0m\n\u001b[0;32m    160\u001b[0m         max_exp_avg_sqs,\n\u001b[0;32m    161\u001b[0m         state_steps)\n\u001b[1;32m--> 163\u001b[0m     \u001b[43madam\u001b[49m\u001b[43m(\u001b[49m\n\u001b[0;32m    164\u001b[0m \u001b[43m        \u001b[49m\u001b[43mparams_with_grad\u001b[49m\u001b[43m,\u001b[49m\n\u001b[0;32m    165\u001b[0m \u001b[43m        \u001b[49m\u001b[43mgrads\u001b[49m\u001b[43m,\u001b[49m\n\u001b[0;32m    166\u001b[0m \u001b[43m        \u001b[49m\u001b[43mexp_avgs\u001b[49m\u001b[43m,\u001b[49m\n\u001b[0;32m    167\u001b[0m \u001b[43m        \u001b[49m\u001b[43mexp_avg_sqs\u001b[49m\u001b[43m,\u001b[49m\n\u001b[0;32m    168\u001b[0m \u001b[43m        \u001b[49m\u001b[43mmax_exp_avg_sqs\u001b[49m\u001b[43m,\u001b[49m\n\u001b[0;32m    169\u001b[0m \u001b[43m        \u001b[49m\u001b[43mstate_steps\u001b[49m\u001b[43m,\u001b[49m\n\u001b[0;32m    170\u001b[0m \u001b[43m        \u001b[49m\u001b[43mamsgrad\u001b[49m\u001b[38;5;241;43m=\u001b[39;49m\u001b[43mgroup\u001b[49m\u001b[43m[\u001b[49m\u001b[38;5;124;43m'\u001b[39;49m\u001b[38;5;124;43mamsgrad\u001b[39;49m\u001b[38;5;124;43m'\u001b[39;49m\u001b[43m]\u001b[49m\u001b[43m,\u001b[49m\n\u001b[0;32m    171\u001b[0m \u001b[43m        \u001b[49m\u001b[43mbeta1\u001b[49m\u001b[38;5;241;43m=\u001b[39;49m\u001b[43mbeta1\u001b[49m\u001b[43m,\u001b[49m\n\u001b[0;32m    172\u001b[0m \u001b[43m        \u001b[49m\u001b[43mbeta2\u001b[49m\u001b[38;5;241;43m=\u001b[39;49m\u001b[43mbeta2\u001b[49m\u001b[43m,\u001b[49m\n\u001b[0;32m    173\u001b[0m \u001b[43m        \u001b[49m\u001b[43mlr\u001b[49m\u001b[38;5;241;43m=\u001b[39;49m\u001b[43mgroup\u001b[49m\u001b[43m[\u001b[49m\u001b[38;5;124;43m'\u001b[39;49m\u001b[38;5;124;43mlr\u001b[39;49m\u001b[38;5;124;43m'\u001b[39;49m\u001b[43m]\u001b[49m\u001b[43m,\u001b[49m\n\u001b[0;32m    174\u001b[0m \u001b[43m        \u001b[49m\u001b[43mweight_decay\u001b[49m\u001b[38;5;241;43m=\u001b[39;49m\u001b[43mgroup\u001b[49m\u001b[43m[\u001b[49m\u001b[38;5;124;43m'\u001b[39;49m\u001b[38;5;124;43mweight_decay\u001b[39;49m\u001b[38;5;124;43m'\u001b[39;49m\u001b[43m]\u001b[49m\u001b[43m,\u001b[49m\n\u001b[0;32m    175\u001b[0m \u001b[43m        \u001b[49m\u001b[43meps\u001b[49m\u001b[38;5;241;43m=\u001b[39;49m\u001b[43mgroup\u001b[49m\u001b[43m[\u001b[49m\u001b[38;5;124;43m'\u001b[39;49m\u001b[38;5;124;43meps\u001b[39;49m\u001b[38;5;124;43m'\u001b[39;49m\u001b[43m]\u001b[49m\u001b[43m,\u001b[49m\n\u001b[0;32m    176\u001b[0m \u001b[43m        \u001b[49m\u001b[43mmaximize\u001b[49m\u001b[38;5;241;43m=\u001b[39;49m\u001b[43mgroup\u001b[49m\u001b[43m[\u001b[49m\u001b[38;5;124;43m'\u001b[39;49m\u001b[38;5;124;43mmaximize\u001b[39;49m\u001b[38;5;124;43m'\u001b[39;49m\u001b[43m]\u001b[49m\u001b[43m,\u001b[49m\n\u001b[0;32m    177\u001b[0m \u001b[43m        \u001b[49m\u001b[43mforeach\u001b[49m\u001b[38;5;241;43m=\u001b[39;49m\u001b[43mgroup\u001b[49m\u001b[43m[\u001b[49m\u001b[38;5;124;43m'\u001b[39;49m\u001b[38;5;124;43mforeach\u001b[39;49m\u001b[38;5;124;43m'\u001b[39;49m\u001b[43m]\u001b[49m\u001b[43m,\u001b[49m\n\u001b[0;32m    178\u001b[0m \u001b[43m        \u001b[49m\u001b[43mcapturable\u001b[49m\u001b[38;5;241;43m=\u001b[39;49m\u001b[43mgroup\u001b[49m\u001b[43m[\u001b[49m\u001b[38;5;124;43m'\u001b[39;49m\u001b[38;5;124;43mcapturable\u001b[39;49m\u001b[38;5;124;43m'\u001b[39;49m\u001b[43m]\u001b[49m\u001b[43m,\u001b[49m\n\u001b[0;32m    179\u001b[0m \u001b[43m        \u001b[49m\u001b[43mdifferentiable\u001b[49m\u001b[38;5;241;43m=\u001b[39;49m\u001b[43mgroup\u001b[49m\u001b[43m[\u001b[49m\u001b[38;5;124;43m'\u001b[39;49m\u001b[38;5;124;43mdifferentiable\u001b[39;49m\u001b[38;5;124;43m'\u001b[39;49m\u001b[43m]\u001b[49m\u001b[43m,\u001b[49m\n\u001b[0;32m    180\u001b[0m \u001b[43m        \u001b[49m\u001b[43mfused\u001b[49m\u001b[38;5;241;43m=\u001b[39;49m\u001b[43mgroup\u001b[49m\u001b[43m[\u001b[49m\u001b[38;5;124;43m'\u001b[39;49m\u001b[38;5;124;43mfused\u001b[39;49m\u001b[38;5;124;43m'\u001b[39;49m\u001b[43m]\u001b[49m\u001b[43m,\u001b[49m\n\u001b[0;32m    181\u001b[0m \u001b[43m        \u001b[49m\u001b[43mgrad_scale\u001b[49m\u001b[38;5;241;43m=\u001b[39;49m\u001b[38;5;28;43mgetattr\u001b[39;49m\u001b[43m(\u001b[49m\u001b[38;5;28;43mself\u001b[39;49m\u001b[43m,\u001b[49m\u001b[43m \u001b[49m\u001b[38;5;124;43m\"\u001b[39;49m\u001b[38;5;124;43mgrad_scale\u001b[39;49m\u001b[38;5;124;43m\"\u001b[39;49m\u001b[43m,\u001b[49m\u001b[43m \u001b[49m\u001b[38;5;28;43;01mNone\u001b[39;49;00m\u001b[43m)\u001b[49m\u001b[43m,\u001b[49m\n\u001b[0;32m    182\u001b[0m \u001b[43m        \u001b[49m\u001b[43mfound_inf\u001b[49m\u001b[38;5;241;43m=\u001b[39;49m\u001b[38;5;28;43mgetattr\u001b[39;49m\u001b[43m(\u001b[49m\u001b[38;5;28;43mself\u001b[39;49m\u001b[43m,\u001b[49m\u001b[43m \u001b[49m\u001b[38;5;124;43m\"\u001b[39;49m\u001b[38;5;124;43mfound_inf\u001b[39;49m\u001b[38;5;124;43m\"\u001b[39;49m\u001b[43m,\u001b[49m\u001b[43m \u001b[49m\u001b[38;5;28;43;01mNone\u001b[39;49;00m\u001b[43m)\u001b[49m\u001b[43m,\u001b[49m\n\u001b[0;32m    183\u001b[0m \u001b[43m    \u001b[49m\u001b[43m)\u001b[49m\n\u001b[0;32m    185\u001b[0m \u001b[38;5;28;01mreturn\u001b[39;00m loss\n",
      "File \u001b[1;32m~\\Desktop\\GPT_translator\\cuda\\Lib\\site-packages\\torch\\optim\\adam.py:311\u001b[0m, in \u001b[0;36madam\u001b[1;34m(params, grads, exp_avgs, exp_avg_sqs, max_exp_avg_sqs, state_steps, foreach, capturable, differentiable, fused, grad_scale, found_inf, amsgrad, beta1, beta2, lr, weight_decay, eps, maximize)\u001b[0m\n\u001b[0;32m    308\u001b[0m \u001b[38;5;28;01melse\u001b[39;00m:\n\u001b[0;32m    309\u001b[0m     func \u001b[38;5;241m=\u001b[39m _single_tensor_adam\n\u001b[1;32m--> 311\u001b[0m \u001b[43mfunc\u001b[49m\u001b[43m(\u001b[49m\u001b[43mparams\u001b[49m\u001b[43m,\u001b[49m\n\u001b[0;32m    312\u001b[0m \u001b[43m     \u001b[49m\u001b[43mgrads\u001b[49m\u001b[43m,\u001b[49m\n\u001b[0;32m    313\u001b[0m \u001b[43m     \u001b[49m\u001b[43mexp_avgs\u001b[49m\u001b[43m,\u001b[49m\n\u001b[0;32m    314\u001b[0m \u001b[43m     \u001b[49m\u001b[43mexp_avg_sqs\u001b[49m\u001b[43m,\u001b[49m\n\u001b[0;32m    315\u001b[0m \u001b[43m     \u001b[49m\u001b[43mmax_exp_avg_sqs\u001b[49m\u001b[43m,\u001b[49m\n\u001b[0;32m    316\u001b[0m \u001b[43m     \u001b[49m\u001b[43mstate_steps\u001b[49m\u001b[43m,\u001b[49m\n\u001b[0;32m    317\u001b[0m \u001b[43m     \u001b[49m\u001b[43mamsgrad\u001b[49m\u001b[38;5;241;43m=\u001b[39;49m\u001b[43mamsgrad\u001b[49m\u001b[43m,\u001b[49m\n\u001b[0;32m    318\u001b[0m \u001b[43m     \u001b[49m\u001b[43mbeta1\u001b[49m\u001b[38;5;241;43m=\u001b[39;49m\u001b[43mbeta1\u001b[49m\u001b[43m,\u001b[49m\n\u001b[0;32m    319\u001b[0m \u001b[43m     \u001b[49m\u001b[43mbeta2\u001b[49m\u001b[38;5;241;43m=\u001b[39;49m\u001b[43mbeta2\u001b[49m\u001b[43m,\u001b[49m\n\u001b[0;32m    320\u001b[0m \u001b[43m     \u001b[49m\u001b[43mlr\u001b[49m\u001b[38;5;241;43m=\u001b[39;49m\u001b[43mlr\u001b[49m\u001b[43m,\u001b[49m\n\u001b[0;32m    321\u001b[0m \u001b[43m     \u001b[49m\u001b[43mweight_decay\u001b[49m\u001b[38;5;241;43m=\u001b[39;49m\u001b[43mweight_decay\u001b[49m\u001b[43m,\u001b[49m\n\u001b[0;32m    322\u001b[0m \u001b[43m     \u001b[49m\u001b[43meps\u001b[49m\u001b[38;5;241;43m=\u001b[39;49m\u001b[43meps\u001b[49m\u001b[43m,\u001b[49m\n\u001b[0;32m    323\u001b[0m \u001b[43m     \u001b[49m\u001b[43mmaximize\u001b[49m\u001b[38;5;241;43m=\u001b[39;49m\u001b[43mmaximize\u001b[49m\u001b[43m,\u001b[49m\n\u001b[0;32m    324\u001b[0m \u001b[43m     \u001b[49m\u001b[43mcapturable\u001b[49m\u001b[38;5;241;43m=\u001b[39;49m\u001b[43mcapturable\u001b[49m\u001b[43m,\u001b[49m\n\u001b[0;32m    325\u001b[0m \u001b[43m     \u001b[49m\u001b[43mdifferentiable\u001b[49m\u001b[38;5;241;43m=\u001b[39;49m\u001b[43mdifferentiable\u001b[49m\u001b[43m,\u001b[49m\n\u001b[0;32m    326\u001b[0m \u001b[43m     \u001b[49m\u001b[43mgrad_scale\u001b[49m\u001b[38;5;241;43m=\u001b[39;49m\u001b[43mgrad_scale\u001b[49m\u001b[43m,\u001b[49m\n\u001b[0;32m    327\u001b[0m \u001b[43m     \u001b[49m\u001b[43mfound_inf\u001b[49m\u001b[38;5;241;43m=\u001b[39;49m\u001b[43mfound_inf\u001b[49m\u001b[43m)\u001b[49m\n",
      "File \u001b[1;32m~\\Desktop\\GPT_translator\\cuda\\Lib\\site-packages\\torch\\optim\\adam.py:506\u001b[0m, in \u001b[0;36m_multi_tensor_adam\u001b[1;34m(params, grads, exp_avgs, exp_avg_sqs, max_exp_avg_sqs, state_steps, grad_scale, found_inf, amsgrad, beta1, beta2, lr, weight_decay, eps, maximize, capturable, differentiable)\u001b[0m\n\u001b[0;32m    503\u001b[0m         device_grads \u001b[38;5;241m=\u001b[39m torch\u001b[38;5;241m.\u001b[39m_foreach_add(device_grads, device_params, alpha\u001b[38;5;241m=\u001b[39mweight_decay)\n\u001b[0;32m    505\u001b[0m \u001b[38;5;66;03m# Decay the first and second moment running average coefficient\u001b[39;00m\n\u001b[1;32m--> 506\u001b[0m \u001b[43mtorch\u001b[49m\u001b[38;5;241;43m.\u001b[39;49m\u001b[43m_foreach_lerp_\u001b[49m\u001b[43m(\u001b[49m\u001b[43mdevice_exp_avgs\u001b[49m\u001b[43m,\u001b[49m\u001b[43m \u001b[49m\u001b[43mdevice_grads\u001b[49m\u001b[43m,\u001b[49m\u001b[43m \u001b[49m\u001b[38;5;241;43m1\u001b[39;49m\u001b[43m \u001b[49m\u001b[38;5;241;43m-\u001b[39;49m\u001b[43m \u001b[49m\u001b[43mbeta1\u001b[49m\u001b[43m)\u001b[49m\n\u001b[0;32m    508\u001b[0m torch\u001b[38;5;241m.\u001b[39m_foreach_mul_(device_exp_avg_sqs, beta2)\n\u001b[0;32m    509\u001b[0m torch\u001b[38;5;241m.\u001b[39m_foreach_addcmul_(device_exp_avg_sqs, device_grads, device_grads, \u001b[38;5;241m1\u001b[39m \u001b[38;5;241m-\u001b[39m beta2)\n",
      "\u001b[1;31mRuntimeError\u001b[0m: The size of tensor a (10801) must match the size of tensor b (10864) at non-singleton dimension 0"
     ]
    }
   ],
   "source": [
    "# Training loop\n",
    "transformer.train()\n",
    "\n",
    "for current_epoch in range(epoch, 100):\n",
    "    epoch = current_epoch\n",
    "    total_loss = 0.0\n",
    "    total_accuracy = 0.0\n",
    "    total_val_loss = 0.0\n",
    "    total_val_accuracy = 0.0\n",
    "    \n",
    "    print(f\"Starting Epoch: {epoch+1}\")\n",
    "    optimizer.zero_grad()\n",
    "\n",
    "    # Run \n",
    "    for train_batch_idx, (train_src_batch, train_tgt_batch) in enumerate(tqdm(train_dataloader, desc=f\"Epoch {epoch+1}/100, Training Set\", position=0, ncols=240), start=1):\n",
    "        with autocast():\n",
    "            # Forward Pass\n",
    "            output = transformer(train_src_batch, train_tgt_batch[:, :-1])\n",
    "\n",
    "            # Compute the loss using normalized outputs\n",
    "            loss = criterion(output.contiguous().view(-1, tgt_vocab_size), train_tgt_batch[:, 1:].contiguous().view(-1))\n",
    "\n",
    "        # Backward Pass\n",
    "        scaler.scale(loss).backward()\n",
    "\n",
    "        # Gradient Clipping\n",
    "        torch.nn.utils.clip_grad_norm_(transformer.parameters(), max_norm=1)\n",
    "\n",
    "        # Update Optimizer\n",
    "        scaler.step(optimizer)\n",
    "        scaler.update()\n",
    "\n",
    "        # Accumulate total validation loss\n",
    "        total_loss += loss.item()\n",
    "        avg_loss = total_loss / len(train_dataloader)\n",
    "        \n",
    "        # Compute accuracy\n",
    "        train_accuracy = compute_accuracy(output, train_tgt_batch[:, 1:])\n",
    "        total_accuracy += train_accuracy\n",
    "        avg_accuracy = total_accuracy / len(train_dataloader)\n",
    "        \n",
    "        # Print progress\n",
    "        if train_batch_idx % 25 == 0:  # Print every 25 batches\n",
    "            print(f\"Epoch: {epoch+1}/100, Train Batch: {train_batch_idx}/{len(train_dataloader)}, Loss: {loss.item():.4f}, Accuracy: {train_accuracy:.4f}\")\n",
    "\n",
    "    print(f\"Train_Batch for Epoch {epoch+1} completed. Avg_Loss: {avg_loss:.4f}, Avg_Accuracy: {avg_accuracy:.4f}\")\n",
    "\n",
    "    \n",
    "    for val_batch_idx, (val_src_batch, val_tgt_batch) in enumerate(tqdm(val_dataloader, desc=f\"Epoch {epoch+1}/100, Validation Set\", position=0, ncols=240), start=1):\n",
    "        with torch.no_grad():\n",
    "            val_output = transformer(val_src_batch, val_tgt_batch[:, :-1])\n",
    "            val_loss = criterion(val_output.contiguous().view(-1, tgt_vocab_size), val_tgt_batch[:, 1:].contiguous().view(-1))\n",
    "\n",
    "        # Calculate average validation loss\n",
    "        total_val_loss += val_loss.item()\n",
    "        avg_val_loss = total_val_loss / len(val_dataloader)\n",
    "        \n",
    "        # Compute accuracy\n",
    "        val_accuracy = compute_accuracy(val_output, val_tgt_batch[:, 1:])\n",
    "        total_val_accuracy += val_accuracy\n",
    "        avg_val_accuracy = total_val_accuracy / len(val_dataloader)\n",
    "        \n",
    "        # Print progress\n",
    "        if val_batch_idx % 25 == 0:  # Print every 25 batches (adjust as needed)\n",
    "            print(f\"Epoch: {epoch+1}/100, Val_Batch: {val_batch_idx}/{len(val_dataloader)}, Val_Loss: {val_loss.item():.4f}, Val_Accuracy: {val_accuracy:.4f}\")\n",
    "\n",
    "    print(f\"Val_Batch for Epoch {epoch+1} completed. Avg_Val_Loss: {avg_val_loss:.4f}, Avg_Val_Accuracy: {avg_val_accuracy:.4f}\")\n",
    "    \n",
    "    # Update scheduler based on validation loss\n",
    "    scheduler.step(avg_val_loss)\n",
    "    \n",
    "    torch.save({\n",
    "        'epoch': epoch + 1,\n",
    "        'model_state_dict': transformer.state_dict(),\n",
    "        'optimizer_state_dict': optimizer.state_dict(),\n",
    "        'scheduler_state_dict': scheduler.state_dict(),\n",
    "        'scaler_state_dict': scaler.state_dict(),\n",
    "    }, checkpoint_file_path)\n",
    "    print(f\"Model, Optimizer, Scheduler, and Scaler states for Epoch {epoch+1} updated and saved.\")\n",
    "    \n",
    "    print(f\"Epoch {epoch+1} Complete, Avg_Loss: {avg_loss:.4f}, Avg_Accuracy: {avg_accuracy:.4f}, Avg_Val_Loss: {avg_val_loss:.4f}, Avg_Val_Accuracy: {avg_val_accuracy:.4f}\")\n",
    "\n",
    "    current_learning_rate = optimizer.param_groups[0]['lr']\n",
    "    \n",
    "    # Save training progress (average loss and average accuracy)\n",
    "    training_progress.append({\n",
    "        'epoch': epoch + 1,\n",
    "        'avg_loss': avg_loss,\n",
    "        'avg_accuracy': avg_accuracy,\n",
    "        'avg_val_loss': avg_val_loss,\n",
    "        'avg_val_accuracy': avg_val_accuracy,\n",
    "        'learning_rate': current_learning_rate\n",
    "    })\n",
    "\n",
    "    print(f\"Learning Rate: {current_learning_rate:.8f}\")\n",
    "\n",
    "    # Save the updated training progress\n",
    "    torch.save(training_progress, progress_file_path)\n",
    "    print(f\"Training progress updated and saved.\")\n",
    "\n",
    "    # Check for early stopping using scheduler metrics\n",
    "    if scheduler.num_bad_epochs > scheduler.patience:\n",
    "        print(\"Early stopping triggered.\")\n",
    "        break"
   ]
  },
  {
   "cell_type": "markdown",
   "id": "97d7bf31-fb90-405a-8f52-2f7425ca95d5",
   "metadata": {},
   "source": [
    "# Plot a Graph with the info of training progress"
   ]
  },
  {
   "cell_type": "code",
   "execution_count": 75,
   "id": "14da569e-9def-433c-8cd4-347368eaa9fa",
   "metadata": {},
   "outputs": [],
   "source": [
    "def plot_training_progress(training_progress):\n",
    "    epochs = [entry['epoch'] for entry in training_progress]\n",
    "    avg_loss = [entry['avg_loss'] for entry in training_progress]\n",
    "    avg_accuracy = [entry['avg_accuracy'] for entry in training_progress]\n",
    "    avg_val_loss = [entry['avg_val_loss'] for entry in training_progress]\n",
    "    avg_val_accuracy = [entry['avg_val_accuracy'] for entry in training_progress]\n",
    "    learning_rate = [entry['learning_rate'] for entry in training_progress]\n",
    "\n",
    "    # Plotting Loss\n",
    "    plt.figure(figsize=(12, 8))\n",
    "    plt.subplot(2, 1, 1)\n",
    "    plt.plot(epochs, avg_loss, label='Training Loss')\n",
    "    plt.plot(epochs, avg_val_loss, label='Validation Loss')\n",
    "    plt.title('Training and Validation Loss')\n",
    "    plt.xlabel('Epochs')\n",
    "    plt.ylabel('Loss')\n",
    "    plt.legend()\n",
    "\n",
    "    # Plotting Accuracy\n",
    "    plt.subplot(2, 1, 2)\n",
    "    plt.plot(epochs, avg_accuracy, label='Training Accuracy')\n",
    "    plt.plot(epochs, avg_val_accuracy, label='Validation Accuracy')\n",
    "    plt.title('Training and Validation Accuracy')\n",
    "    plt.xlabel('Epochs')\n",
    "    plt.ylabel('Accuracy')\n",
    "    plt.legend()\n",
    "\n",
    "    # Show the plot\n",
    "    plt.tight_layout()\n",
    "    plt.show()\n",
    "\n",
    "    # Plotting Learning Rate\n",
    "    plt.figure(figsize=(12, 6))\n",
    "    plt.plot(epochs, learning_rate, label='Learning Rate')\n",
    "    plt.title('Learning Rate Over Epochs')\n",
    "    plt.xlabel('Epochs')\n",
    "    plt.ylabel('Learning Rate')\n",
    "    plt.legend()\n",
    "    plt.show()\n"
   ]
  },
  {
   "cell_type": "code",
   "execution_count": 76,
   "id": "fc5fdd0d-3fb4-4507-909f-16af2452b321",
   "metadata": {},
   "outputs": [
    {
     "data": {
      "image/png": "[encoded data removed]",
      "text/plain": [
       "<Figure size 1200x800 with 2 Axes>"
      ]
     },
     "metadata": {},
     "output_type": "display_data"
    },
    {
     "data": {
      "image/png": "[encoded data removed]",
      "text/plain": [
       "<Figure size 1200x600 with 1 Axes>"
      ]
     },
     "metadata": {},
     "output_type": "display_data"
    }
   ],
   "source": [
    "# Call the function to plot the training progress\n",
    "plot_training_progress(training_progress)"
   ]
  },
  {
   "cell_type": "markdown",
   "id": "79443976-1af5-4030-9f45-c991cefdeb70",
   "metadata": {},
   "source": [
    "# Prepare Inputs, Decode, and Translate"
   ]
  },
  {
   "cell_type": "code",
   "execution_count": 64,
   "id": "89659b3e-2b99-4c7b-b188-66eff3a5b301",
   "metadata": {},
   "outputs": [],
   "source": [
    "def prepare_inputs(sentences):\n",
    "    input_tokenized = eng_field.numericalize([sentences])\n",
    "    input_padded = pad_sequence(input_tokenized, batch_first=True, padding_value=0)\n",
    "    \n",
    "    # Truncate or zero-pad to the specified maxlen\n",
    "    if input_padded.size(1) > src_seq_len:\n",
    "        input_padded = input_padded[:, :src_seq_len]\n",
    "    else:\n",
    "        input_padded = F.pad(input_padded, (0, src_seq_len - input_padded.size(1)))\n",
    "    \n",
    "    input_tensor = torch.tensor(input_padded, dtype=torch.long)\n",
    "    \n",
    "    return input_tensor"
   ]
  },
  {
   "cell_type": "code",
   "execution_count": 65,
   "id": "9ce0c4ca-18b3-4b0e-9d7c-874ad24a5262",
   "metadata": {},
   "outputs": [],
   "source": [
    "def decode_process(d):\n",
    "    target_tokenized = port_field.numericalize([d])\n",
    "    target_padded = pad_sequence(target_tokenized, batch_first=True, padding_value=0)\n",
    "    \n",
    "    # Truncate or zero-pad to the specified maxlen\n",
    "    if target_padded.size(1) > tgt_seq_len:\n",
    "        target_padded = target_padded[:, :tgt_seq_len]\n",
    "    else:\n",
    "        target_padded = F.pad(target_padded, (0, tgt_seq_len - target_padded.size(1)))\n",
    "    \n",
    "    dt = torch.tensor(target_padded, dtype=torch.long)\n",
    "    \n",
    "    return dt"
   ]
  },
  {
   "cell_type": "code",
   "execution_count": 66,
   "id": "d0fc1ce4-5cf2-4563-b5d1-3d4e1887d161",
   "metadata": {},
   "outputs": [
    {
     "data": {
      "text/plain": [
       "tensor([0])"
      ]
     },
     "execution_count": 66,
     "metadata": {},
     "output_type": "execute_result"
    }
   ],
   "source": [
    "decoder_end = [\"<EOS>\"]\n",
    "end = port_field.numericalize([decoder_end])\n",
    "end = end[0].clone().detach()\n",
    "end"
   ]
  },
  {
   "cell_type": "code",
   "execution_count": 67,
   "id": "23c2206f-2d26-462e-8719-0e070adfc355",
   "metadata": {},
   "outputs": [],
   "source": [
    "def translate(inputs):\n",
    "    # Set the model to evaluation mode\n",
    "    transformer.eval()\n",
    "    \n",
    "    # Prepare input tensor\n",
    "    tt = prepare_inputs(inputs)\n",
    "    \n",
    "    # Initialize the target input with \"<SOS>\"\n",
    "    d = [\"<sos>\"]\n",
    "\n",
    "    # Numericalize the target input\n",
    "    dt = decode_process(d)\n",
    "\n",
    "    # Move tensors to the appropriate device (GPU if available)\n",
    "    # device = torch.device(\"cuda\" if torch.cuda.is_available() else \"cpu\")\n",
    "    tt = tt.to(device)\n",
    "    dt = dt.to(device)\n",
    "    \n",
    "    # Generate translations\n",
    "    with torch.no_grad():\n",
    "        for i in tqdm(range(tgt_seq_len), desc=\"Generating Translations\", position=0, ncols=240):\n",
    "            # Forward pass\n",
    "            output = transformer(tt, dt)\n",
    "\n",
    "            # Get the indices of the predicted tokens at the last position\n",
    "            pred_indices = torch.argmax(output[:, -1, :], dim=-1)\n",
    "\n",
    "            # Extract the predicted tokens as a list\n",
    "            pred_tokens = [port_field.vocab.itos[index.item()] for index in pred_indices]\n",
    "\n",
    "            # Append the predicted tokens to the target sequence\n",
    "            d.extend(pred_tokens)\n",
    "\n",
    "            # Stop if <EOS> is predicted\n",
    "            if (pred_indices == port_field.vocab.stoi[end]).any():\n",
    "                break\n",
    "            \n",
    "            # Update the target input tensor for the next step\n",
    "            dt = torch.cat([dt, pred_indices.unsqueeze(0)], dim=-1)\n",
    "            \n",
    "            # Enforce max_seq_length by keeping the last max_seq_length elements\n",
    "            dt = dt[:, -max_seq_len:]\n",
    "\n",
    "    # Convert the generated translation back to a string\n",
    "    translation = \" \".join(d)\n",
    "\n",
    "    return translation"
   ]
  },
  {
   "cell_type": "code",
   "execution_count": 77,
   "id": "95313b5f-1fd6-45a1-9ba0-12af4cee0a32",
   "metadata": {},
   "outputs": [
    {
     "name": "stdout",
     "output_type": "stream",
     "text": [
      "English Sentence :  do you know any of them\n",
      "Original Portugal Sentence :   sos  você sabe de algum deles?  eos \n"
     ]
    },
    {
     "name": "stderr",
     "output_type": "stream",
     "text": [
      "C:\\Users\\joshu\\AppData\\Local\\Temp\\ipykernel_324\\1569868288.py:11: UserWarning: To copy construct from a tensor, it is recommended to use sourceTensor.clone().detach() or sourceTensor.clone().detach().requires_grad_(True), rather than torch.tensor(sourceTensor).\n",
      "  input_tensor = torch.tensor(input_padded, dtype=torch.long)\n"
     ]
    },
    {
     "data": {
      "application/vnd.jupyter.widget-view+json": {
       "model_id": "532ce29c9d47496ea32afdae78d9582a",
       "version_major": 2,
       "version_minor": 0
      },
      "text/plain": [
       "Generating Translations:   0%|                                                                                …"
      ]
     },
     "metadata": {},
     "output_type": "display_data"
    },
    {
     "name": "stdout",
     "output_type": "stream",
     "text": [
      "Predicted Sentence :  <sos> fibras planeje planeje planeje planeje planeje planeje planeje planeje planeje planeje planeje gênio planeje planeje planeje planeje depress planeje planeje planeje planeje yukio partilhe repentina repentina repentina repentina repentina repentina repentina repentina repentina repentina repentina normalizar repentina repentina repentina repentina arrotei repentina repentina repentina repentina detestasse frustrar supérfluo supérfluo supérfluo supérfluo supérfluo supérfluo supérfluo supérfluo supérfluo supérfluo supérfluo focas supérfluo supérfluo supérfluo supérfluo arrotei supérfluo supérfluo supérfluo supérfluo japonês frustrar dezessete dezessete dezessete dezessete dezessete dezessete dezessete dezessete dezessete dezessete dezessete antibi dezessete dezessete dezessete dezessete exagero dezessete dezessete dezessete dezessete assassinado lembro ervilhas ervilhas ervilhas ervilhas ervilhas ervilhas ervilhas ervilhas ervilhas ervilhas ervilhas restos ervilhas ervilhas ervilhas ervilhas exagero ervilhas ervilhas ervilhas ervilhas comecei exagerando cobertas cobertas cobertas cobertas cobertas cobertas cobertas cobertas cobertas cobertas cobertas dançaremos cobertas cobertas cobertas cobertas aterrissar cobertas cobertas cobertas cobertas comecei exagerando cobertas cobertas cobertas cobertas cobertas cobertas cobertas cobertas cobertas cobertas cobertas dançaremos cobertas cobertas cobertas cobertas aterrissar cobertas cobertas cobertas cobertas comecei exagerando cobertas cobertas cobertas cobertas cobertas cobertas cobertas cobertas cobertas cobertas cobertas dançaremos cobertas cobertas cobertas cobertas aterrissar cobertas cobertas cobertas cobertas traveler abraçar voam voam voam voam voam voam voam voam voam voam voam alimente voam voam voam voam puseram voam voam voam voam quiseram muralha voam voam voam voam voam voam voam voam voam voam voam apresentarei voam voam voam voam barba voam voam voam voam quiseram muralha ausentei ausentei ausentei ausentei ausentei ausentei ausentei ausentei ausentei ausentei ausentei alimente ausentei ausentei ausentei ausentei barba ausentei ausentei ausentei ausentei quiseram muralha ausentei ausentei ausentei ausentei ausentei ausentei ausentei ausentei ausentei ausentei ausentei alimente ausentei ausentei ausentei ausentei barba ausentei ausentei ausentei ausentei quiseram muralha voam voam voam voam voam voam voam voam voam voam voam apresentarei voam voam voam voam barba voam voam voam voam bondosa quebrou choveu choveu choveu choveu choveu choveu choveu choveu choveu choveu choveu geram choveu choveu choveu choveu barba choveu choveu choveu choveu quiseram muralha ausentei ausentei ausentei ausentei ausentei ausentei ausentei ausentei ausentei ausentei ausentei apresentarei ausentei ausentei ausentei ausentei barba ausentei ausentei ausentei ausentei bondosa quebrou canceladas canceladas canceladas canceladas canceladas canceladas canceladas canceladas canceladas canceladas canceladas geram canceladas canceladas canceladas canceladas barba canceladas canceladas canceladas canceladas quiseram muralha ausentei ausentei ausentei ausentei ausentei ausentei ausentei ausentei ausentei ausentei ausentei tivesse ausentei ausentei ausentei ausentei barba ausentei ausentei ausentei ausentei teremos visitante obrigou obrigou obrigou obrigou obrigou obrigou obrigou obrigou obrigou obrigou obrigou urbana obrigou obrigou obrigou obrigou barba obrigou obrigou obrigou obrigou yukio partilhe guardaremos guardaremos guardaremos guardaremos guardaremos guardaremos guardaremos guardaremos guardaremos guardaremos guardaremos normalizar guardaremos guardaremos guardaremos guardaremos balsa guardaremos guardaremos guardaremos guardaremos ximas congelado ervilhas ervilhas ervilhas ervilhas ervilhas ervilhas ervilhas ervilhas ervilhas ervilhas ervilhas dançaremos ervilhas ervilhas ervilhas ervilhas tratores ervilhas ervilhas ervilhas ervilhas japonês pecado afiei afiei afiei afiei afiei afiei afiei afiei afiei afiei afiei antibi afiei afiei afiei afiei barba afiei afiei afiei afiei assassinado assass recomenda recomenda recomenda recomenda recomenda recomenda recomenda recomenda recomenda recomenda recomenda ça recomenda recomenda recomenda recomenda exagero recomenda recomenda recomenda recomenda comecei segurem cobertas cobertas cobertas cobertas cobertas cobertas cobertas cobertas cobertas cobertas cobertas cantaria cobertas cobertas cobertas cobertas confort cobertas cobertas cobertas cobertas adaptou quebrou assustados assustados assustados assustados assustados assustados assustados assustados assustados assustados assustados receitou assustados assustados assustados assustados chuvosa assustados assustados assustados assustados ximas congelado ervilhas ervilhas ervilhas ervilhas ervilhas ervilhas ervilhas ervilhas ervilhas ervilhas ervilhas dançaremos ervilhas ervilhas ervilhas ervilhas ligarem ervilhas ervilhas ervilhas ervilhas yukio quebrou guardaremos guardaremos guardaremos guardaremos guardaremos guardaremos guardaremos guardaremos guardaremos guardaremos guardaremos normalizar guardaremos guardaremos guardaremos guardaremos balsa guardaremos guardaremos guardaremos guardaremos detestasse frustrar patrocinador patrocinador patrocinador patrocinador patrocinador patrocinador patrocinador patrocinador patrocinador patrocinador patrocinador geram patrocinador patrocinador patrocinador patrocinador chuvosa patrocinador patrocinador patrocinador patrocinador yukio quebrou fizesses fizesses fizesses fizesses fizesses fizesses fizesses fizesses fizesses fizesses fizesses normalizar fizesses fizesses fizesses fizesses puseram fizesses fizesses fizesses fizesses detestasse frustrar patrocinador patrocinador patrocinador patrocinador patrocinador patrocinador patrocinador patrocinador patrocinador patrocinador patrocinador geram patrocinador patrocinador patrocinador patrocinador chuvosa patrocinador patrocinador patrocinador patrocinador japonês pecado afiei afiei afiei afiei afiei afiei afiei afiei afiei afiei afiei antibi afiei afiei afiei afiei caixeiro afiei afiei afiei afiei assassinado pecado caixeiro caixeiro caixeiro caixeiro caixeiro caixeiro caixeiro caixeiro caixeiro caixeiro caixeiro ça caixeiro caixeiro caixeiro caixeiro mestre caixeiro caixeiro caixeiro caixeiro comecei traveler cobertas cobertas cobertas cobertas cobertas cobertas cobertas cobertas cobertas cobertas cobertas cantaria cobertas cobertas cobertas cobertas aterrissar cobertas cobertas cobertas cobertas teremos eiffel obrigou obrigou obrigou obrigou obrigou obrigou obrigou obrigou obrigou obrigou obrigou urbana obrigou obrigou obrigou obrigou falantes obrigou obrigou obrigou obrigou japonês pecado afiei afiei afiei afiei afiei afiei afiei afiei afiei afiei afiei antibi afiei afiei afiei afiei caixeiro afiei afiei afiei afiei assassinado pecado ervilhas ervilhas ervilhas ervilhas ervilhas ervilhas ervilhas ervilhas ervilhas ervilhas ervilhas mentira ervilhas ervilhas ervilhas ervilhas passarinhos ervilhas ervilhas ervilhas ervilhas transformou abraçar fac fac fac fac fac fac fac fac fac fac fac lavem fac fac fac fac exagero fac fac fac fac ximas tiver ervilhas ervilhas ervilhas ervilhas ervilhas ervilhas ervilhas ervilhas ervilhas ervilhas ervilhas restos ervilhas ervilhas ervilhas ervilhas ligarem ervilhas ervilhas ervilhas ervilhas detestasse frustrar patrocinador patrocinador patrocinador patrocinador patrocinador patrocinador patrocinador patrocinador patrocinador patrocinador patrocinador urbana patrocinador patrocinador patrocinador patrocinador chuvosa patrocinador patrocinador patrocinador patrocinador yukio quebrou guardaremos guardaremos guardaremos guardaremos guardaremos guardaremos guardaremos guardaremos guardaremos guardaremos guardaremos normalizar guardaremos guardaremos guardaremos guardaremos puseram guardaremos guardaremos guardaremos guardaremos detestasse frustrar patrocinador patrocinador patrocinador patrocinador patrocinador patrocinador patrocinador patrocinador patrocinador patrocinador patrocinador urbana patrocinador patrocinador patrocinador patrocinador chuvosa patrocinador patrocinador patrocinador patrocinador japonês pecado afiei afiei afiei afiei afiei afiei afiei afiei afiei afiei afiei antibi afiei afiei afiei afiei barba afiei afiei afiei afiei assassinado pecado ervilhas ervilhas ervilhas ervilhas ervilhas ervilhas ervilhas ervilhas ervilhas ervilhas ervilhas ça ervilhas ervilhas ervilhas ervilhas mestre ervilhas ervilhas ervilhas ervilhas comecei segurem cobertas cobertas cobertas cobertas cobertas cobertas cobertas cobertas cobertas cobertas cobertas anunciaram cobertas cobertas cobertas cobertas confort cobertas cobertas cobertas cobertas teremos eiffel urbana urbana urbana urbana urbana urbana urbana urbana urbana urbana urbana urbana urbana urbana urbana urbana falantes urbana urbana urbana urbana japonês pecado afiei afiei afiei afiei afiei afiei afiei afiei afiei afiei afiei antibi afiei afiei afiei afiei barba afiei afiei afiei afiei assassinado pecado ervilhas ervilhas ervilhas ervilhas ervilhas ervilhas ervilhas ervilhas ervilhas ervilhas ervilhas ça ervilhas ervilhas ervilhas ervilhas mestre ervilhas ervilhas ervilhas ervilhas comecei exagerando cobertas cobertas cobertas cobertas cobertas cobertas cobertas cobertas cobertas cobertas cobertas dançamos cobertas cobertas cobertas cobertas aterrissar cobertas cobertas cobertas cobertas teremos eiffel urbana urbana urbana urbana urbana urbana urbana urbana urbana urbana urbana urbana urbana urbana urbana urbana yukio urbana urbana urbana urbana japonês pecado canceladas canceladas canceladas canceladas canceladas canceladas canceladas canceladas canceladas canceladas canceladas antibi canceladas canceladas canceladas canceladas barba canceladas canceladas canceladas canceladas assassinado pecado recomenda recomenda recomenda recomenda recomenda recomenda recomenda recomenda recomenda recomenda recomenda urbana recomenda recomenda recomenda recomenda mestre recomenda recomenda recomenda recomenda comecei segurem cobertas cobertas cobertas cobertas cobertas cobertas cobertas cobertas cobertas cobertas cobertas cantaria cobertas cobertas cobertas cobertas aterrissar cobertas cobertas cobertas cobertas teremos eiffel urbana urbana urbana urbana urbana urbana urbana urbana urbana urbana urbana urbana urbana urbana urbana urbana yukio urbana urbana urbana urbana japonês pecado canceladas canceladas canceladas canceladas canceladas canceladas canceladas canceladas canceladas canceladas canceladas antibi canceladas canceladas canceladas canceladas barba canceladas canceladas canceladas canceladas assassinado pecado recomenda recomenda recomenda recomenda recomenda recomenda recomenda recomenda recomenda recomenda recomenda ça recomenda recomenda recomenda recomenda exagero recomenda recomenda recomenda recomenda comecei segurem cobertas cobertas cobertas cobertas cobertas cobertas cobertas cobertas cobertas cobertas cobertas cantaria cobertas cobertas cobertas cobertas aterrissar cobertas cobertas cobertas cobertas teremos eiffel urbana urbana urbana urbana urbana urbana urbana urbana urbana urbana urbana urbana urbana urbana urbana urbana barba urbana urbana urbana urbana yukio sofreu guardaremos guardaremos guardaremos guardaremos guardaremos guardaremos guardaremos guardaremos guardaremos guardaremos guardaremos apegue guardaremos guardaremos guardaremos guardaremos convença guardaremos guardaremos guardaremos guardaremos detestasse frustrar ansiosos ansiosos ansiosos ansiosos ansiosos ansiosos ansiosos ansiosos ansiosos ansiosos ansiosos devem ansiosos ansiosos ansiosos ansiosos chuvosa ansiosos ansiosos ansiosos ansiosos yukio quebrou empresa empresa empresa empresa empresa empresa empresa empresa empresa empresa empresa normalizar empresa empresa empresa empresa convença empresa empresa empresa empresa detestasse ansiosos ansiosos ansiosos ansiosos ansiosos ansiosos ansiosos ansiosos ansiosos ansiosos ansiosos ansiosos devem ansiosos ansiosos ansiosos ansiosos chuvosa ansiosos ansiosos ansiosos ansiosos yukio quebrou guardaremos guardaremos guardaremos guardaremos guardaremos guardaremos guardaremos guardaremos guardaremos guardaremos guardaremos normalizar guardaremos guardaremos guardaremos guardaremos convença guardaremos guardaremos guardaremos guardaremos gaga abraçar afinando afinando afinando afinando afinando afinando afinando afinando afinando afinando afinando ça afinando afinando afinando afinando impetuoso afinando afinando afinando afinando japonês pecado canceladas canceladas canceladas canceladas canceladas canceladas canceladas canceladas canceladas canceladas canceladas antibi canceladas canceladas canceladas canceladas exagero canceladas canceladas canceladas canceladas assassinado pecado mataria mataria mataria mataria mataria mataria mataria mataria mataria mataria mataria mentira mataria mataria mataria mataria exagero mataria mataria mataria mataria comecei exagerando cobertas cobertas cobertas cobertas cobertas cobertas cobertas cobertas cobertas cobertas cobertas cantaria cobertas cobertas cobertas cobertas confort cobertas cobertas cobertas cobertas traveler abraçar bot bot bot bot bot bot bot bot bot bot bot alimente bot bot bot bot puseram bot bot bot bot quiseram muralha voam voam voam voam voam voam voam voam voam voam voam tivesse voam voam voam voam nauseado voam voam voam voam quiseram muralha ausentei ausentei ausentei ausentei ausentei ausentei ausentei ausentei ausentei ausentei ausentei tivesse ausentei ausentei ausentei ausentei barba ausentei ausentei ausentei ausentei quiseram muralha ausentei ausentei ausentei ausentei ausentei ausentei ausentei ausentei ausentei ausentei ausentei tivesse ausentei ausentei ausentei ausentei barba ausentei ausentei ausentei ausentei quiseram muralha ausentei ausentei ausentei ausentei ausentei ausentei ausentei ausentei ausentei ausentei ausentei tivesse ausentei ausentei ausentei ausentei barba ausentei ausentei ausentei ausentei quiseram muralha ausentei ausentei ausentei ausentei ausentei ausentei ausentei ausentei ausentei ausentei ausentei tivesse ausentei ausentei ausentei ausentei barba ausentei ausentei ausentei ausentei quiseram muralha ausentei ausentei ausentei ausentei ausentei ausentei ausentei ausentei ausentei ausentei ausentei tivesse ausentei ausentei ausentei ausentei barba ausentei ausentei ausentei ausentei quiseram muralha ausentei ausentei ausentei ausentei ausentei ausentei ausentei ausentei ausentei ausentei ausentei tivesse ausentei ausentei ausentei ausentei barba ausentei ausentei ausentei ausentei teremos lembro obrigou obrigou obrigou obrigou obrigou obrigou obrigou obrigou obrigou obrigou obrigou japonês obrigou obrigou obrigou obrigou barba obrigou obrigou obrigou obrigou japonês pecado afiei afiei afiei afiei afiei afiei afiei afiei afiei afiei afiei antibi afiei afiei afiei afiei barba afiei afiei afiei afiei assassinado assass odeias odeias odeias odeias odeias odeias odeias odeias odeias odeias odeias hokkaido odeias odeias odeias odeias exagero odeias odeias odeias odeias yukio abraçar guardaremos guardaremos guardaremos guardaremos guardaremos guardaremos guardaremos guardaremos guardaremos guardaremos guardaremos normalizar guardaremos guardaremos guardaremos guardaremos balsa guardaremos guardaremos guardaremos guardaremos detestasse batalha patrocinador patrocinador patrocinador patrocinador patrocinador patrocinador patrocinador patrocinador patrocinador patrocinador patrocinador devem patrocinador patrocinador patrocinador patrocinador chuvosa patrocinador patrocinador patrocinador patrocinador japonês pecado afiei afiei afiei afiei afiei afiei afiei afiei afiei afiei afiei antibi afiei afiei afiei afiei barba afiei afiei afiei afiei assassinado pecado ervilhas ervilhas ervilhas ervilhas ervilhas ervilhas ervilhas ervilhas ervilhas ervilhas ervilhas ça ervilhas ervilhas ervilhas ervilhas exagero ervilhas ervilhas ervilhas ervilhas comecei saiote cobertas cobertas cobertas cobertas cobertas cobertas cobertas cobertas cobertas cobertas cobertas cantaria cobertas cobertas cobertas cobertas confort cobertas cobertas cobertas cobertas adaptou quebrou assustados assustados assustados assustados assustados assustados assustados assustados assustados assustados assustados acompanho assustados assustados assustados assustados chuvosa assustados assustados assustados assustados ximas tiver ervilhas ervilhas ervilhas ervilhas ervilhas ervilhas ervilhas ervilhas ervilhas ervilhas ervilhas importasse ervilhas ervilhas ervilhas ervilhas ligarem ervilhas ervilhas ervilhas ervilhas yukio quebrou guardaremos guardaremos guardaremos guardaremos guardaremos guardaremos guardaremos guardaremos guardaremos guardaremos guardaremos normalizar guardaremos guardaremos guardaremos guardaremos balsa guardaremos guardaremos guardaremos guardaremos detestasse frustrar patrocinador patrocinador patrocinador patrocinador patrocinador patrocinador patrocinador patrocinador patrocinador patrocinador patrocinador devem patrocinador patrocinador patrocinador patrocinador chuvosa patrocinador patrocinador patrocinador patrocinador yukio quebrou puseram puseram puseram puseram puseram puseram puseram puseram puseram puseram puseram normalizar puseram puseram puseram puseram puseram puseram puseram puseram puseram detestasse frustrar patrocinador patrocinador patrocinador patrocinador patrocinador patrocinador patrocinador patrocinador patrocinador patrocinador patrocinador devem patrocinador patrocinador patrocinador patrocinador chuvosa patrocinador patrocinador patrocinador patrocinador yukio partilhe puseram puseram puseram puseram puseram puseram puseram puseram puseram puseram puseram normalizar puseram puseram puseram puseram puseram puseram puseram puseram puseram detestasse dormirei patrocinador patrocinador patrocinador patrocinador patrocinador patrocinador patrocinador patrocinador patrocinador patrocinador patrocinador lavem patrocinador patrocinador patrocinador patrocinador chuvosa patrocinador patrocinador patrocinador patrocinador japonês pecado caixeiro caixeiro caixeiro caixeiro caixeiro caixeiro caixeiro caixeiro caixeiro caixeiro caixeiro antibi caixeiro caixeiro caixeiro caixeiro caixeiro caixeiro caixeiro caixeiro caixeiro assassinado assass ervilhas ervilhas ervilhas ervilhas ervilhas ervilhas ervilhas ervilhas ervilhas ervilhas ervilhas ça ervilhas ervilhas ervilhas ervilhas mestre ervilhas ervilhas ervilhas ervilhas comecei procela cobertas cobertas cobertas cobertas cobertas cobertas cobertas cobertas cobertas cobertas cobertas receitou cobertas cobertas cobertas cobertas confort cobertas cobertas cobertas cobertas teremos eiffel urbana urbana urbana urbana urbana urbana urbana urbana urbana urbana urbana urbana urbana urbana urbana urbana barba urbana urbana urbana urbana japonês pecado caixeiro caixeiro caixeiro caixeiro caixeiro caixeiro caixeiro caixeiro caixeiro caixeiro caixeiro antibi caixeiro caixeiro caixeiro caixeiro caixeiro caixeiro caixeiro caixeiro caixeiro assassinado assass ervilhas ervilhas ervilhas ervilhas ervilhas ervilhas ervilhas ervilhas ervilhas ervilhas ervilhas restos ervilhas ervilhas ervilhas ervilhas exagero ervilhas ervilhas ervilhas ervilhas comecei procela cobertas cobertas cobertas cobertas cobertas cobertas cobertas cobertas cobertas cobertas cobertas teremos cobertas cobertas cobertas cobertas aterrissar cobertas cobertas cobertas cobertas teremos eiffel urbana urbana urbana urbana urbana urbana urbana urbana urbana urbana urbana urbana urbana urbana urbana urbana yukio urbana urbana urbana urbana teremos eiffel urbana urbana urbana urbana urbana urbana urbana urbana urbana urbana urbana urbana urbana urbana urbana urbana yukio urbana urbana urbana urbana teremos eiffel urbana urbana urbana urbana urbana urbana urbana urbana urbana urbana urbana urbana urbana urbana urbana urbana yukio urbana urbana urbana urbana teremos eiffel urbana urbana urbana urbana urbana urbana urbana urbana urbana urbana urbana urbana urbana urbana urbana urbana yukio urbana urbana urbana urbana teremos eiffel urbana urbana urbana urbana urbana urbana urbana urbana urbana urbana urbana urbana urbana urbana urbana urbana yukio urbana urbana urbana urbana teremos eiffel urbana urbana urbana urbana urbana urbana urbana urbana urbana urbana urbana urbana urbana urbana urbana urbana yukio urbana urbana urbana urbana teremos lembro urbana urbana urbana urbana urbana urbana urbana urbana urbana urbana urbana urbana urbana urbana urbana urbana yukio urbana urbana urbana urbana teremos lembro urbana urbana urbana urbana urbana urbana urbana urbana urbana urbana urbana urbana urbana urbana urbana urbana yukio urbana urbana urbana urbana teremos agradeci urbana urbana urbana urbana urbana urbana urbana urbana urbana urbana urbana urbana urbana urbana urbana urbana yukio urbana urbana urbana urbana teremos agradeci urbana urbana urbana urbana urbana urbana urbana urbana urbana urbana urbana urbana urbana urbana urbana urbana barba urbana urbana urbana urbana teremos agradeci urbana urbana urbana urbana urbana urbana urbana urbana urbana urbana urbana urbana urbana urbana urbana urbana barba urbana urbana urbana urbana teremos agradeci urbana urbana urbana urbana urbana urbana urbana urbana urbana urbana urbana urbana urbana urbana urbana urbana barba urbana urbana urbana urbana teremos agradeci urbana urbana urbana urbana urbana urbana urbana urbana urbana urbana urbana urbana urbana urbana urbana urbana barba urbana urbana urbana urbana teremos agradeci urbana urbana urbana urbana urbana urbana urbana urbana urbana urbana urbana urbana urbana urbana urbana urbana barba urbana urbana urbana urbana teremos agradeci urbana urbana urbana urbana urbana urbana urbana urbana urbana urbana urbana urbana urbana urbana urbana urbana barba urbana urbana urbana urbana teremos agradeci urbana urbana urbana urbana urbana urbana urbana urbana urbana urbana urbana urbana urbana urbana urbana urbana barba urbana urbana urbana urbana teremos agradeci urbana urbana urbana urbana urbana urbana urbana urbana urbana urbana urbana urbana urbana urbana urbana urbana barba urbana urbana urbana urbana teremos agradeci urbana urbana urbana urbana urbana urbana urbana urbana urbana urbana urbana urbana urbana urbana urbana urbana barba urbana urbana urbana urbana teremos agradeci urbana urbana urbana urbana urbana urbana urbana urbana urbana urbana urbana urbana urbana urbana urbana urbana barba urbana urbana urbana urbana teremos agradeci urbana urbana urbana urbana urbana urbana urbana urbana urbana urbana urbana urbana urbana urbana urbana urbana barba urbana urbana urbana urbana teremos agradeci urbana urbana urbana urbana urbana urbana urbana urbana urbana urbana urbana urbana urbana urbana urbana urbana barba urbana urbana urbana urbana teremos agradeci urbana urbana urbana urbana urbana urbana urbana urbana urbana urbana urbana urbana urbana urbana urbana urbana barba urbana urbana urbana urbana teremos agradeci urbana urbana urbana urbana urbana urbana urbana urbana urbana urbana urbana urbana urbana urbana urbana urbana barba urbana urbana urbana urbana teremos agradeci urbana urbana urbana urbana urbana urbana urbana urbana urbana urbana urbana urbana urbana urbana urbana urbana barba urbana urbana urbana urbana teremos agradeci urbana urbana urbana urbana urbana urbana urbana urbana urbana urbana urbana urbana urbana urbana urbana urbana barba urbana urbana urbana urbana teremos agradeci urbana urbana urbana urbana urbana urbana urbana urbana urbana urbana urbana urbana urbana urbana urbana urbana barba urbana urbana urbana urbana teremos agradeci urbana urbana urbana urbana urbana urbana urbana urbana urbana urbana urbana urbana urbana urbana urbana urbana barba urbana urbana urbana urbana teremos agradeci urbana urbana urbana urbana urbana urbana urbana urbana urbana urbana urbana urbana urbana urbana urbana urbana barba urbana urbana urbana urbana teremos agradeci urbana urbana urbana urbana urbana urbana urbana urbana urbana urbana urbana urbana urbana urbana urbana urbana barba urbana urbana urbana urbana teremos agradeci urbana urbana urbana urbana urbana urbana urbana urbana urbana urbana urbana urbana urbana urbana urbana urbana barba urbana urbana urbana urbana teremos agradeci urbana urbana urbana urbana urbana urbana urbana urbana urbana urbana urbana urbana urbana urbana urbana urbana barba urbana urbana urbana urbana teremos agradeci urbana urbana urbana urbana urbana urbana urbana urbana urbana urbana urbana urbana urbana urbana urbana urbana barba urbana urbana urbana urbana teremos agradeci urbana urbana urbana urbana urbana urbana urbana urbana urbana urbana urbana urbana urbana urbana urbana urbana barba urbana urbana urbana urbana teremos agradeci urbana urbana urbana urbana urbana urbana urbana urbana urbana urbana urbana urbana urbana urbana urbana urbana barba urbana urbana urbana urbana teremos agradeci urbana urbana urbana urbana urbana urbana urbana urbana urbana urbana urbana urbana urbana urbana urbana urbana barba urbana urbana urbana urbana teremos agradeci urbana urbana urbana urbana urbana urbana urbana urbana urbana urbana urbana urbana urbana urbana urbana urbana barba urbana urbana urbana urbana teremos agradeci urbana urbana urbana urbana urbana urbana urbana urbana urbana urbana urbana urbana urbana urbana urbana urbana barba urbana urbana urbana urbana teremos agradeci urbana urbana urbana urbana urbana urbana urbana urbana urbana urbana urbana urbana urbana urbana urbana urbana barba urbana urbana urbana urbana teremos agradeci urbana urbana urbana urbana urbana urbana urbana urbana urbana urbana urbana urbana urbana urbana urbana urbana barba urbana urbana urbana urbana teremos agradeci urbana urbana urbana urbana urbana urbana urbana urbana urbana urbana urbana urbana urbana urbana urbana urbana barba urbana urbana urbana urbana teremos agradeci urbana urbana urbana urbana urbana urbana urbana urbana urbana urbana urbana urbana urbana urbana urbana urbana barba urbana urbana urbana urbana teremos agradeci urbana urbana urbana urbana urbana urbana urbana urbana urbana urbana urbana urbana urbana urbana urbana urbana barba urbana urbana urbana urbana teremos agradeci urbana urbana urbana urbana urbana urbana urbana urbana urbana urbana urbana urbana urbana urbana urbana urbana barba urbana urbana urbana urbana teremos agradeci urbana urbana urbana urbana urbana urbana urbana urbana urbana urbana urbana urbana urbana urbana urbana urbana barba urbana urbana urbana urbana teremos agradeci urbana urbana urbana urbana urbana urbana urbana urbana urbana urbana urbana urbana urbana urbana urbana urbana barba urbana urbana urbana urbana teremos agradeci urbana urbana urbana urbana urbana urbana urbana urbana urbana urbana urbana urbana urbana urbana urbana urbana barba urbana urbana urbana urbana teremos agradeci urbana urbana urbana urbana urbana urbana urbana urbana urbana urbana urbana urbana urbana urbana urbana urbana barba urbana urbana urbana urbana teremos agradeci urbana urbana urbana urbana urbana urbana urbana urbana urbana urbana urbana urbana urbana urbana urbana urbana barba urbana urbana urbana urbana teremos agradeci urbana urbana urbana urbana urbana urbana urbana urbana urbana urbana urbana urbana urbana urbana urbana urbana barba urbana urbana urbana urbana teremos agradeci urbana urbana urbana urbana urbana urbana urbana urbana urbana urbana urbana urbana urbana urbana urbana urbana barba urbana urbana urbana urbana teremos agradeci urbana urbana urbana urbana urbana urbana urbana urbana urbana urbana urbana urbana urbana urbana urbana urbana barba urbana urbana urbana urbana teremos agradeci urbana urbana urbana urbana urbana urbana urbana urbana urbana urbana urbana urbana urbana urbana urbana urbana barba urbana urbana urbana urbana teremos agradeci urbana urbana urbana urbana urbana urbana urbana urbana urbana urbana urbana urbana urbana urbana urbana urbana barba urbana urbana urbana urbana teremos agradeci urbana urbana urbana urbana urbana urbana urbana urbana urbana urbana urbana urbana urbana urbana urbana urbana barba urbana urbana urbana urbana teremos agradeci urbana urbana urbana urbana urbana urbana urbana urbana urbana urbana urbana urbana urbana urbana urbana urbana barba urbana urbana urbana urbana teremos agradeci urbana urbana urbana urbana urbana urbana urbana urbana urbana urbana urbana urbana urbana urbana urbana urbana barba urbana urbana urbana urbana teremos agradeci urbana urbana urbana urbana urbana urbana urbana urbana urbana urbana urbana urbana urbana urbana urbana urbana barba urbana urbana urbana urbana teremos agradeci urbana urbana urbana urbana urbana urbana urbana urbana urbana urbana urbana urbana urbana urbana urbana urbana barba urbana urbana urbana urbana teremos agradeci urbana urbana urbana urbana urbana urbana urbana urbana urbana urbana urbana urbana urbana urbana urbana urbana barba urbana urbana urbana urbana teremos agradeci urbana urbana urbana urbana urbana urbana urbana urbana urbana urbana urbana urbana urbana urbana urbana urbana barba urbana urbana urbana urbana teremos agradeci urbana urbana urbana urbana urbana urbana urbana urbana urbana urbana urbana urbana urbana urbana urbana urbana barba urbana urbana urbana urbana teremos agradeci urbana urbana urbana urbana urbana urbana urbana urbana urbana urbana urbana urbana urbana urbana urbana urbana barba urbana urbana urbana urbana teremos agradeci urbana urbana urbana urbana urbana urbana urbana urbana urbana urbana urbana urbana urbana urbana urbana urbana barba urbana urbana urbana urbana teremos agradeci urbana urbana urbana urbana urbana urbana urbana urbana urbana urbana urbana urbana urbana urbana urbana urbana barba urbana urbana urbana urbana teremos agradeci urbana urbana urbana urbana urbana urbana urbana urbana urbana urbana urbana urbana urbana urbana urbana urbana barba urbana urbana urbana urbana teremos agradeci urbana urbana urbana urbana urbana urbana urbana urbana urbana urbana urbana urbana urbana urbana urbana urbana barba urbana urbana urbana urbana teremos agradeci urbana urbana urbana urbana urbana urbana urbana urbana urbana urbana urbana urbana urbana urbana urbana urbana barba urbana urbana urbana urbana teremos agradeci urbana urbana urbana urbana urbana urbana urbana urbana urbana urbana urbana urbana urbana urbana urbana urbana barba urbana urbana urbana urbana teremos agradeci urbana urbana urbana urbana urbana urbana urbana urbana urbana urbana urbana urbana urbana urbana urbana urbana barba urbana urbana urbana urbana teremos agradeci urbana urbana urbana urbana urbana urbana urbana urbana urbana urbana urbana urbana urbana urbana urbana urbana barba urbana urbana urbana urbana teremos agradeci urbana urbana urbana urbana urbana urbana urbana urbana urbana urbana urbana urbana urbana urbana urbana urbana barba urbana urbana urbana urbana teremos agradeci urbana urbana urbana urbana urbana urbana urbana urbana urbana urbana urbana urbana urbana urbana urbana urbana barba urbana urbana urbana urbana teremos agradeci urbana urbana urbana urbana urbana urbana urbana urbana urbana urbana urbana urbana urbana urbana urbana urbana barba urbana urbana urbana urbana teremos agradeci urbana urbana urbana urbana urbana urbana urbana urbana urbana urbana urbana urbana urbana urbana urbana urbana barba urbana urbana urbana urbana teremos agradeci urbana urbana urbana urbana urbana urbana urbana urbana urbana urbana urbana urbana urbana urbana urbana urbana barba urbana urbana urbana urbana teremos agradeci urbana urbana urbana urbana urbana urbana urbana urbana urbana urbana urbana urbana urbana urbana urbana urbana barba urbana urbana urbana urbana teremos agradeci urbana urbana urbana urbana urbana urbana urbana urbana urbana urbana urbana urbana urbana urbana urbana urbana barba urbana urbana urbana urbana teremos agradeci urbana urbana urbana urbana urbana urbana urbana urbana urbana urbana urbana urbana urbana urbana urbana urbana barba urbana urbana urbana urbana teremos agradeci urbana urbana urbana urbana urbana urbana urbana urbana urbana urbana urbana urbana urbana urbana urbana urbana barba urbana urbana urbana urbana teremos agradeci urbana urbana urbana urbana urbana urbana urbana urbana urbana urbana urbana urbana urbana urbana urbana urbana barba urbana urbana urbana urbana teremos agradeci urbana urbana urbana urbana urbana urbana urbana urbana urbana urbana urbana urbana urbana urbana urbana urbana barba urbana urbana urbana urbana teremos agradeci urbana urbana urbana urbana urbana urbana urbana urbana urbana urbana urbana urbana urbana urbana urbana urbana barba urbana urbana urbana urbana teremos agradeci urbana urbana urbana urbana urbana urbana urbana urbana urbana urbana urbana urbana urbana urbana urbana urbana barba urbana urbana urbana urbana teremos agradeci urbana urbana urbana urbana urbana urbana urbana urbana urbana urbana urbana urbana urbana urbana urbana urbana barba urbana urbana urbana urbana teremos agradeci urbana urbana urbana urbana urbana urbana urbana urbana urbana urbana urbana urbana urbana urbana urbana urbana barba urbana urbana urbana urbana teremos agradeci urbana urbana urbana urbana urbana urbana urbana urbana urbana urbana urbana urbana urbana urbana urbana urbana barba urbana urbana urbana urbana teremos agradeci urbana urbana urbana urbana urbana urbana urbana urbana urbana urbana urbana urbana urbana urbana urbana urbana barba urbana urbana urbana urbana teremos agradeci urbana urbana urbana urbana urbana urbana urbana urbana urbana urbana urbana urbana urbana urbana urbana urbana barba urbana urbana urbana urbana teremos agradeci urbana urbana urbana urbana urbana urbana urbana urbana urbana urbana urbana urbana urbana urbana urbana urbana barba urbana urbana urbana urbana teremos agradeci urbana urbana urbana urbana urbana urbana urbana urbana urbana urbana urbana urbana urbana urbana urbana urbana barba urbana urbana urbana urbana teremos agradeci urbana urbana urbana urbana urbana urbana urbana urbana urbana urbana urbana urbana urbana urbana urbana urbana barba urbana urbana urbana urbana teremos agradeci urbana urbana urbana urbana urbana urbana urbana urbana urbana urbana urbana urbana urbana urbana urbana urbana barba urbana urbana urbana urbana teremos agradeci urbana urbana urbana urbana urbana urbana urbana urbana urbana urbana urbana urbana urbana urbana urbana urbana barba urbana urbana urbana urbana teremos agradeci urbana urbana urbana urbana urbana urbana urbana urbana urbana urbana urbana urbana urbana urbana urbana urbana barba urbana urbana urbana urbana teremos agradeci urbana urbana urbana urbana urbana urbana urbana urbana urbana urbana urbana urbana urbana urbana urbana urbana barba urbana urbana urbana urbana teremos agradeci urbana urbana urbana urbana urbana urbana urbana urbana urbana urbana urbana urbana urbana urbana urbana urbana barba urbana urbana urbana urbana teremos agradeci urbana urbana urbana urbana urbana urbana urbana urbana urbana urbana urbana urbana urbana urbana urbana urbana barba urbana urbana urbana urbana teremos agradeci urbana urbana urbana urbana urbana urbana urbana urbana urbana urbana urbana urbana urbana urbana urbana urbana barba urbana urbana urbana urbana teremos agradeci urbana urbana urbana urbana urbana urbana urbana urbana urbana urbana urbana urbana urbana urbana urbana urbana barba urbana urbana urbana urbana teremos\n",
      "**************************************************\n",
      "English Sentence :  i think i can help\n",
      "Original Portugal Sentence :   sos  eu acho que posso ajudar   eos \n"
     ]
    },
    {
     "data": {
      "application/vnd.jupyter.widget-view+json": {
       "model_id": "ee3bee5e30694279afcf8755c22d43d6",
       "version_major": 2,
       "version_minor": 0
      },
      "text/plain": [
       "Generating Translations:   0%|                                                                                …"
      ]
     },
     "metadata": {},
     "output_type": "display_data"
    },
    {
     "name": "stdout",
     "output_type": "stream",
     "text": [
      "Predicted Sentence :  <sos> limonada planeje planeje planeje limonada planeje planeje planeje limonada planeje chopin gênio planeje planeje planeje planeje planeje planeje correspondência enfrentaram enfrentaram enfrentaram correspondência enfrentaram enfrentaram enfrentaram correspondência enfrentaram chopin daltônica enfrentaram enfrentaram enfrentaram enfrentaram enfrentaram planeje correspondência enfrentaram enfrentaram enfrentaram correspondência enfrentaram enfrentaram enfrentaram correspondência enfrentaram chopin daltônica enfrentaram enfrentaram enfrentaram enfrentaram enfrentaram quebrou crendo ervilhas ervilhas ervilhas crendo ervilhas ervilhas ervilhas crendo ervilhas chopin receitou ervilhas ervilhas ervilhas ervilhas ervilhas contornar sobressai arrotei arrotei arrotei sobressai arrotei arrotei arrotei sobressai arrotei chopin museus arrotei arrotei arrotei arrotei arrotei recordar galinheiro festejado festejado festejado galinheiro festejado festejado festejado galinheiro festejado rastro restos festejado festejado festejado festejado festejado injustas galinheiro cobertas cobertas cobertas galinheiro cobertas cobertas cobertas galinheiro cobertas acostumando hokkaido cobertas cobertas cobertas cobertas cobertas cachoro brido cobertas cobertas cobertas brido cobertas cobertas cobertas brido cobertas prometeste apresentarei cobertas cobertas cobertas cobertas cobertas cachoro brido cobertas cobertas cobertas brido cobertas cobertas cobertas brido cobertas prometeste apresentarei cobertas cobertas cobertas cobertas cobertas cachoro brido cobertas cobertas cobertas brido cobertas cobertas cobertas brido cobertas veloc apresentarei cobertas cobertas cobertas cobertas cobertas cachoro brido cobertas cobertas cobertas brido cobertas cobertas cobertas brido cobertas teremos apresentarei cobertas cobertas cobertas cobertas cobertas cachoro brido cobertas cobertas cobertas brido cobertas cobertas cobertas brido cobertas teremos apresentarei cobertas cobertas cobertas cobertas cobertas cachoro brido cobertas cobertas cobertas brido cobertas cobertas cobertas brido cobertas repouso dançaremos cobertas cobertas cobertas cobertas cobertas cachoro brido cobertas cobertas cobertas brido cobertas cobertas cobertas brido cobertas repouso dançaremos cobertas cobertas cobertas cobertas cobertas cachoro brido cobertas cobertas cobertas brido cobertas cobertas cobertas brido cobertas banimos dançaremos cobertas cobertas cobertas cobertas cobertas cachoro brido cobertas cobertas cobertas brido cobertas cobertas cobertas brido cobertas banimos apresentarei cobertas cobertas cobertas cobertas cobertas cachoro brido cobertas cobertas cobertas brido cobertas cobertas cobertas brido cobertas repouso dançaremos cobertas cobertas cobertas cobertas cobertas cachoro brido cobertas cobertas cobertas brido cobertas cobertas cobertas brido cobertas repouso apresentarei cobertas cobertas cobertas cobertas cobertas camomila crendo cobertas cobertas cobertas crendo cobertas cobertas cobertas crendo cobertas acostumando traidores cobertas cobertas cobertas cobertas cobertas roubaram bancos canceladas canceladas canceladas bancos canceladas canceladas canceladas bancos canceladas repouso hokkaido canceladas canceladas canceladas canceladas canceladas faltando puseram cobertas cobertas cobertas puseram cobertas cobertas cobertas puseram cobertas repouso urbana cobertas cobertas cobertas cobertas cobertas contornar teremos cuidaria cuidaria cuidaria teremos cuidaria cuidaria cuidaria teremos cuidaria veloc alimente cuidaria cuidaria cuidaria cuidaria cuidaria recordar galinheiro assustados assustados assustados galinheiro assustados assustados assustados galinheiro assustados repouso apresentarei assustados assustados assustados assustados assustados faltando puseram cobertas cobertas cobertas puseram cobertas cobertas cobertas puseram cobertas repouso urbana cobertas cobertas cobertas cobertas cobertas contornar teremos cuidaria cuidaria cuidaria teremos cuidaria cuidaria cuidaria teremos cuidaria veloc alimente cuidaria cuidaria cuidaria cuidaria cuidaria recordar galinheiro assustados assustados assustados galinheiro assustados assustados assustados galinheiro assustados repouso urbana assustados assustados assustados assustados assustados faltando puseram cobertas cobertas cobertas puseram cobertas cobertas cobertas puseram cobertas repouso urbana cobertas cobertas cobertas cobertas cobertas contornar teremos cuidaria cuidaria cuidaria teremos cuidaria cuidaria cuidaria teremos cuidaria veloc alimente cuidaria cuidaria cuidaria cuidaria cuidaria recordar galinheiro calçados calçados calçados galinheiro calçados calçados calçados galinheiro calçados repouso apresentarei calçados calçados calçados calçados calçados injustas panquecas cobertas cobertas cobertas panquecas cobertas cobertas cobertas panquecas cobertas veloc hokkaido cobertas cobertas cobertas cobertas cobertas cachoro brido cobertas cobertas cobertas brido cobertas cobertas cobertas brido cobertas repouso dançaremos cobertas cobertas cobertas cobertas cobertas atendente morreu atendimento atendimento atendimento morreu atendimento atendimento atendimento morreu atendimento veloc antibi atendimento atendimento atendimento atendimento atendimento recordar galinheiro obrigou obrigou obrigou galinheiro obrigou obrigou obrigou galinheiro obrigou repouso consulado obrigou obrigou obrigou obrigou obrigou injustas teremos cobertas cobertas cobertas teremos cobertas cobertas cobertas teremos cobertas teremos hokkaido cobertas cobertas cobertas cobertas cobertas cachoro brido cobertas cobertas cobertas brido cobertas cobertas cobertas brido cobertas repouso dançaremos cobertas cobertas cobertas cobertas cobertas atendente morreu atendimento atendimento atendimento morreu atendimento atendimento atendimento morreu atendimento veloc receitou atendimento atendimento atendimento atendimento atendimento cachoro brido cobertas cobertas cobertas brido cobertas cobertas cobertas brido cobertas repouso apresentarei cobertas cobertas cobertas cobertas cobertas atendente morreu atendimento atendimento atendimento morreu atendimento atendimento atendimento morreu atendimento veloc receitou atendimento atendimento atendimento atendimento atendimento recordar galinheiro obrigou obrigou obrigou galinheiro obrigou obrigou obrigou galinheiro obrigou repouso consulado obrigou obrigou obrigou obrigou obrigou injustas panquecas cobertas cobertas cobertas panquecas cobertas cobertas cobertas panquecas cobertas teremos hokkaido cobertas cobertas cobertas cobertas cobertas cachoro brido cobertas cobertas cobertas brido cobertas cobertas cobertas brido cobertas banimos apresentarei cobertas cobertas cobertas cobertas cobertas atendente morreu atendimento atendimento atendimento morreu atendimento atendimento atendimento morreu atendimento veloc receitou atendimento atendimento atendimento atendimento atendimento recordar galinheiro obrigou obrigou obrigou galinheiro obrigou obrigou obrigou galinheiro obrigou rastro apresentarei obrigou obrigou obrigou obrigou obrigou injustas panquecas seguros seguros seguros panquecas seguros seguros seguros panquecas seguros teremos hokkaido seguros seguros seguros seguros seguros cachoro brido cobertas cobertas cobertas brido cobertas cobertas cobertas brido cobertas banimos apresentarei cobertas cobertas cobertas cobertas cobertas cachoro brido cobertas cobertas cobertas brido cobertas cobertas cobertas brido cobertas teremos apresentarei cobertas cobertas cobertas cobertas cobertas cachoro brido cobertas cobertas cobertas brido cobertas cobertas cobertas brido cobertas teremos apresentarei cobertas cobertas cobertas cobertas cobertas cachoro brido cobertas cobertas cobertas brido cobertas cobertas cobertas brido cobertas veloc apresentarei cobertas cobertas cobertas cobertas cobertas cachoro brido cobertas cobertas cobertas brido cobertas cobertas cobertas brido cobertas teremos apresentarei cobertas cobertas cobertas cobertas cobertas cachoro brido cobertas cobertas cobertas brido cobertas cobertas cobertas brido cobertas banimos apresentarei cobertas cobertas cobertas cobertas cobertas cachoro brido cobertas cobertas cobertas brido cobertas cobertas cobertas brido cobertas teremos apresentarei cobertas cobertas cobertas cobertas cobertas cachoro brido cobertas cobertas cobertas brido cobertas cobertas cobertas brido cobertas teremos apresentarei cobertas cobertas cobertas cobertas cobertas cachoro brido cobertas cobertas cobertas brido cobertas cobertas cobertas brido cobertas teremos apresentarei cobertas cobertas cobertas cobertas cobertas cachoro brido cobertas cobertas cobertas brido cobertas cobertas cobertas brido cobertas teremos apresentarei cobertas cobertas cobertas cobertas cobertas cachoro brido cobertas cobertas cobertas brido cobertas cobertas cobertas brido cobertas teremos apresentarei cobertas cobertas cobertas cobertas cobertas cachoro brido cobertas cobertas cobertas brido cobertas cobertas cobertas brido cobertas repouso dançaremos cobertas cobertas cobertas cobertas cobertas camomila crendo cobertas cobertas cobertas crendo cobertas cobertas cobertas crendo cobertas acostumando traidores cobertas cobertas cobertas cobertas cobertas roubaram bancos canceladas canceladas canceladas bancos canceladas canceladas canceladas bancos canceladas repouso hokkaido canceladas canceladas canceladas canceladas canceladas faltando puseram cobertas cobertas cobertas puseram cobertas cobertas cobertas puseram cobertas repouso urbana cobertas cobertas cobertas cobertas cobertas contornar teremos cuidaria cuidaria cuidaria teremos cuidaria cuidaria cuidaria teremos cuidaria veloc alimente cuidaria cuidaria cuidaria cuidaria cuidaria recordar galinheiro cobertas cobertas cobertas galinheiro cobertas cobertas cobertas galinheiro cobertas repouso apresentarei cobertas cobertas cobertas cobertas cobertas faltando puseram cobertas cobertas cobertas puseram cobertas cobertas cobertas puseram cobertas repouso urbana cobertas cobertas cobertas cobertas cobertas contornar teremos cuidaria cuidaria cuidaria teremos cuidaria cuidaria cuidaria teremos cuidaria veloc alimente cuidaria cuidaria cuidaria cuidaria cuidaria recordar galinheiro cobertas cobertas cobertas galinheiro cobertas cobertas cobertas galinheiro cobertas repouso apresentarei cobertas cobertas cobertas cobertas cobertas faltando puseram cobertas cobertas cobertas puseram cobertas cobertas cobertas puseram cobertas repouso urbana cobertas cobertas cobertas cobertas cobertas contornar teremos cuidaria cuidaria cuidaria teremos cuidaria cuidaria cuidaria teremos cuidaria veloc alimente cuidaria cuidaria cuidaria cuidaria cuidaria quebrou panquecas cobertas cobertas cobertas panquecas cobertas cobertas cobertas panquecas cobertas repouso devem cobertas cobertas cobertas cobertas cobertas contem panquecas cobertas cobertas cobertas panquecas cobertas cobertas cobertas panquecas cobertas repouso alimente cobertas cobertas cobertas cobertas cobertas mala travessura caidinho caidinho caidinho travessura caidinho caidinho caidinho travessura caidinho veloc urbana caidinho caidinho caidinho caidinho caidinho cachoro brido cobertas cobertas cobertas brido cobertas cobertas cobertas brido cobertas repouso dançaremos cobertas cobertas cobertas cobertas cobertas atendente morreu atendimento atendimento atendimento morreu atendimento atendimento atendimento morreu atendimento veloc receitou atendimento atendimento atendimento atendimento atendimento cachoro brido cobertas cobertas cobertas brido cobertas cobertas cobertas brido cobertas repouso dançaremos cobertas cobertas cobertas cobertas cobertas atendente morreu atendimento atendimento atendimento morreu atendimento atendimento atendimento morreu atendimento veloc receitou atendimento atendimento atendimento atendimento atendimento recordar galinheiro obrigou obrigou obrigou galinheiro obrigou obrigou obrigou galinheiro obrigou repouso apresentarei obrigou obrigou obrigou obrigou obrigou injustas panquecas seguros seguros seguros panquecas seguros seguros seguros panquecas seguros acostumando hokkaido seguros seguros seguros seguros seguros cachoro brido cobertas cobertas cobertas brido cobertas cobertas cobertas brido cobertas repouso dançaremos cobertas cobertas cobertas cobertas cobertas atendente morreu receitou receitou receitou morreu receitou receitou receitou morreu receitou veloc receitou receitou receitou receitou receitou receitou recordar galinheiro assustados assustados assustados galinheiro assustados assustados assustados galinheiro assustados repouso lavem assustados assustados assustados assustados assustados injustas teremos seguros seguros seguros teremos seguros seguros seguros teremos seguros teremos hokkaido seguros seguros seguros seguros seguros cachoro brido cobertas cobertas cobertas brido cobertas cobertas cobertas brido cobertas teremos apresentarei cobertas cobertas cobertas cobertas cobertas cachoro brido cobertas cobertas cobertas brido cobertas cobertas cobertas brido cobertas teremos apresentarei cobertas cobertas cobertas cobertas cobertas cachoro teremos cobertas cobertas cobertas teremos cobertas cobertas cobertas teremos cobertas teremos apresentarei cobertas cobertas cobertas cobertas cobertas cachoro brido cobertas cobertas cobertas brido cobertas cobertas cobertas brido cobertas teremos apresentarei cobertas cobertas cobertas cobertas cobertas cachoro brido cobertas cobertas cobertas brido cobertas cobertas cobertas brido cobertas teremos apresentarei cobertas cobertas cobertas cobertas cobertas cachoro brido cobertas cobertas cobertas brido cobertas cobertas cobertas brido cobertas teremos apresentarei cobertas cobertas cobertas cobertas cobertas cachoro brido cobertas cobertas cobertas brido cobertas cobertas cobertas brido cobertas teremos apresentarei cobertas cobertas cobertas cobertas cobertas cachoro brido cobertas cobertas cobertas brido cobertas cobertas cobertas brido cobertas repouso dançaremos cobertas cobertas cobertas cobertas cobertas cachoro brido cobertas cobertas cobertas brido cobertas cobertas cobertas brido cobertas repouso dançaremos cobertas cobertas cobertas cobertas cobertas cachoro brido cobertas cobertas cobertas brido cobertas cobertas cobertas brido cobertas teremos apresentarei cobertas cobertas cobertas cobertas cobertas cachoro brido cobertas cobertas cobertas brido cobertas cobertas cobertas brido cobertas teremos dançaremos cobertas cobertas cobertas cobertas cobertas cachoro brido cobertas cobertas cobertas brido cobertas cobertas cobertas brido cobertas repouso dançaremos cobertas cobertas cobertas cobertas cobertas camomila crendo cobertas cobertas cobertas crendo cobertas cobertas cobertas crendo cobertas acostumando traidores cobertas cobertas cobertas cobertas cobertas roubaram bancos canceladas canceladas canceladas bancos canceladas canceladas canceladas bancos canceladas repouso hokkaido canceladas canceladas canceladas canceladas canceladas faltando puseram cobertas cobertas cobertas puseram cobertas cobertas cobertas puseram cobertas repouso urbana cobertas cobertas cobertas cobertas cobertas contornar teremos cuidaria cuidaria cuidaria teremos cuidaria cuidaria cuidaria teremos cuidaria veloc alimente cuidaria cuidaria cuidaria cuidaria cuidaria recordar galinheiro cobertas cobertas cobertas galinheiro cobertas cobertas cobertas galinheiro cobertas repouso apresentarei cobertas cobertas cobertas cobertas cobertas faltando puseram cobertas cobertas cobertas puseram cobertas cobertas cobertas puseram cobertas repouso urbana cobertas cobertas cobertas cobertas cobertas contornar teremos cuidaria cuidaria cuidaria teremos cuidaria cuidaria cuidaria teremos cuidaria veloc alimente cuidaria cuidaria cuidaria cuidaria cuidaria recordar galinheiro assustados assustados assustados galinheiro assustados assustados assustados galinheiro assustados repouso urbana assustados assustados assustados assustados assustados faltando puseram cobertas cobertas cobertas puseram cobertas cobertas cobertas puseram cobertas repouso urbana cobertas cobertas cobertas cobertas cobertas contornar teremos cuidaria cuidaria cuidaria teremos cuidaria cuidaria cuidaria teremos cuidaria veloc alimente cuidaria cuidaria cuidaria cuidaria cuidaria quebrou panquecas cobertas cobertas cobertas panquecas cobertas cobertas cobertas panquecas cobertas repouso antibi cobertas cobertas cobertas cobertas cobertas contem panquecas cobertas cobertas cobertas panquecas cobertas cobertas cobertas panquecas cobertas repouso alimente cobertas cobertas cobertas cobertas cobertas mala travessura caidinho caidinho caidinho travessura caidinho caidinho caidinho travessura caidinho veloc urbana caidinho caidinho caidinho caidinho caidinho cachoro brido cobertas cobertas cobertas brido cobertas cobertas cobertas brido cobertas repouso dançaremos cobertas cobertas cobertas cobertas cobertas atendente morreu atendimento atendimento atendimento morreu atendimento atendimento atendimento morreu atendimento veloc antibi atendimento atendimento atendimento atendimento atendimento recordar galinheiro assustados assustados assustados galinheiro assustados assustados assustados galinheiro assustados repouso apresentarei assustados assustados assustados assustados assustados injustas teremos cobertas cobertas cobertas teremos cobertas cobertas cobertas teremos cobertas teremos hokkaido cobertas cobertas cobertas cobertas cobertas cachoro brido cobertas cobertas cobertas brido cobertas cobertas cobertas brido cobertas repouso dançaremos cobertas cobertas cobertas cobertas cobertas atendente morreu atendimento atendimento atendimento morreu atendimento atendimento atendimento morreu atendimento veloc antibi atendimento atendimento atendimento atendimento atendimento recordar galinheiro assustados assustados assustados galinheiro assustados assustados assustados galinheiro assustados repouso apresentarei assustados assustados assustados assustados assustados injustas teremos cobertas cobertas cobertas teremos cobertas cobertas cobertas teremos cobertas teremos hokkaido cobertas cobertas cobertas cobertas cobertas cachoro brido cobertas cobertas cobertas brido cobertas cobertas cobertas brido cobertas teremos apresentarei cobertas cobertas cobertas cobertas cobertas atendente morreu atendimento atendimento atendimento morreu atendimento atendimento atendimento morreu atendimento veloc antibi atendimento atendimento atendimento atendimento atendimento recordar galinheiro obrigou obrigou obrigou galinheiro obrigou obrigou obrigou galinheiro obrigou repouso apresentarei obrigou obrigou obrigou obrigou obrigou injustas panquecas seguros seguros seguros panquecas seguros seguros seguros panquecas seguros teremos hokkaido seguros seguros seguros seguros seguros cachoro brido cobertas cobertas cobertas brido cobertas cobertas cobertas brido cobertas teremos apresentarei cobertas cobertas cobertas cobertas cobertas cachoro brido cobertas cobertas cobertas brido cobertas cobertas cobertas brido cobertas teremos apresentarei cobertas cobertas cobertas cobertas cobertas cachoro brido cobertas cobertas cobertas brido cobertas cobertas cobertas brido cobertas teremos apresentarei cobertas cobertas cobertas cobertas cobertas cachoro brido cobertas cobertas cobertas brido cobertas cobertas cobertas brido cobertas teremos apresentarei cobertas cobertas cobertas cobertas cobertas cachoro brido cobertas cobertas cobertas brido cobertas cobertas cobertas brido cobertas teremos apresentarei cobertas cobertas cobertas cobertas cobertas cachoro brido cobertas cobertas cobertas brido cobertas cobertas cobertas brido cobertas teremos apresentarei cobertas cobertas cobertas cobertas cobertas cachoro brido cobertas cobertas cobertas brido cobertas cobertas cobertas brido cobertas teremos dançaremos cobertas cobertas cobertas cobertas cobertas cachoro brido cobertas cobertas cobertas brido cobertas cobertas cobertas brido cobertas teremos apresentarei cobertas cobertas cobertas cobertas cobertas cachoro brido cobertas cobertas cobertas brido cobertas cobertas cobertas brido cobertas teremos apresentarei cobertas cobertas cobertas cobertas cobertas cachoro brido cobertas cobertas cobertas brido cobertas cobertas cobertas brido cobertas teremos apresentarei cobertas cobertas cobertas cobertas cobertas cachoro brido cobertas cobertas cobertas brido cobertas cobertas cobertas brido cobertas teremos dançaremos cobertas cobertas cobertas cobertas cobertas cachoro brido cobertas cobertas cobertas brido cobertas cobertas cobertas brido cobertas repouso dançaremos cobertas cobertas cobertas cobertas cobertas camomila crendo cobertas cobertas cobertas crendo cobertas cobertas cobertas crendo cobertas acostumando traidores cobertas cobertas cobertas cobertas cobertas roubaram bancos canceladas canceladas canceladas bancos canceladas canceladas canceladas bancos canceladas repouso hokkaido canceladas canceladas canceladas canceladas canceladas faltando puseram cobertas cobertas cobertas puseram cobertas cobertas cobertas puseram cobertas repouso urbana cobertas cobertas cobertas cobertas cobertas contornar teremos cuidaria cuidaria cuidaria teremos cuidaria cuidaria cuidaria teremos cuidaria veloc alimente cuidaria cuidaria cuidaria cuidaria cuidaria recordar galinheiro cobertas cobertas cobertas galinheiro cobertas cobertas cobertas galinheiro cobertas repouso apresentarei cobertas cobertas cobertas cobertas cobertas faltando puseram cobertas cobertas cobertas puseram cobertas cobertas cobertas puseram cobertas repouso urbana cobertas cobertas cobertas cobertas cobertas contornar teremos cuidaria cuidaria cuidaria teremos cuidaria cuidaria cuidaria teremos cuidaria veloc alimente cuidaria cuidaria cuidaria cuidaria cuidaria recordar galinheiro assustados assustados assustados galinheiro assustados assustados assustados galinheiro assustados repouso urbana assustados assustados assustados assustados assustados faltando puseram cobertas cobertas cobertas puseram cobertas cobertas cobertas puseram cobertas repouso urbana cobertas cobertas cobertas cobertas cobertas contornar teremos cuidaria cuidaria cuidaria teremos cuidaria cuidaria cuidaria teremos cuidaria veloc alimente cuidaria cuidaria cuidaria cuidaria cuidaria quebrou panquecas cobertas cobertas cobertas panquecas cobertas cobertas cobertas panquecas cobertas repouso antibi cobertas cobertas cobertas cobertas cobertas contem panquecas cobertas cobertas cobertas panquecas cobertas cobertas cobertas panquecas cobertas repouso alimente cobertas cobertas cobertas cobertas cobertas mala travessura caidinho caidinho caidinho travessura caidinho caidinho caidinho travessura caidinho veloc urbana caidinho caidinho caidinho caidinho caidinho cachoro brido cobertas cobertas cobertas brido cobertas cobertas cobertas brido cobertas repouso dançaremos cobertas cobertas cobertas cobertas cobertas atendente morreu atendimento atendimento atendimento morreu atendimento atendimento atendimento morreu atendimento veloc antibi atendimento atendimento atendimento atendimento atendimento recordar galinheiro assustados assustados assustados galinheiro assustados assustados assustados galinheiro assustados repouso apresentarei assustados assustados assustados assustados assustados injustas teremos cobertas cobertas cobertas teremos cobertas cobertas cobertas teremos cobertas teremos hokkaido cobertas cobertas cobertas cobertas cobertas cachoro brido cobertas cobertas cobertas brido cobertas cobertas cobertas brido cobertas repouso dançaremos cobertas cobertas cobertas cobertas cobertas atendente morreu atendimento atendimento atendimento morreu atendimento atendimento atendimento morreu atendimento veloc antibi atendimento atendimento atendimento atendimento atendimento recordar galinheiro assustados assustados assustados galinheiro assustados assustados assustados galinheiro assustados repouso apresentarei assustados assustados assustados assustados assustados injustas teremos cobertas cobertas cobertas teremos cobertas cobertas cobertas teremos cobertas teremos hokkaido cobertas cobertas cobertas cobertas cobertas cachoro brido cobertas cobertas cobertas brido cobertas cobertas cobertas brido cobertas teremos apresentarei cobertas cobertas cobertas cobertas cobertas atendente morreu atendimento atendimento atendimento morreu atendimento atendimento atendimento morreu atendimento veloc antibi atendimento atendimento atendimento atendimento atendimento recordar galinheiro obrigou obrigou obrigou galinheiro obrigou obrigou obrigou galinheiro obrigou repouso apresentarei obrigou obrigou obrigou obrigou obrigou injustas panquecas seguros seguros seguros panquecas seguros seguros seguros panquecas seguros teremos hokkaido seguros seguros seguros seguros seguros cachoro brido cobertas cobertas cobertas brido cobertas cobertas cobertas brido cobertas teremos apresentarei cobertas cobertas cobertas cobertas cobertas cachoro brido cobertas cobertas cobertas brido cobertas cobertas cobertas brido cobertas teremos apresentarei cobertas cobertas cobertas cobertas cobertas cachoro brido cobertas cobertas cobertas brido cobertas cobertas cobertas brido cobertas teremos apresentarei cobertas cobertas cobertas cobertas cobertas cachoro brido cobertas cobertas cobertas brido cobertas cobertas cobertas brido cobertas teremos apresentarei cobertas cobertas cobertas cobertas cobertas cachoro brido cobertas cobertas cobertas brido cobertas cobertas cobertas brido cobertas teremos apresentarei cobertas cobertas cobertas cobertas cobertas cachoro brido cobertas cobertas cobertas brido cobertas cobertas cobertas brido cobertas teremos apresentarei cobertas cobertas cobertas cobertas cobertas cachoro brido cobertas cobertas cobertas brido cobertas cobertas cobertas brido cobertas teremos dançaremos cobertas cobertas cobertas cobertas cobertas cachoro brido cobertas cobertas cobertas brido cobertas cobertas cobertas brido cobertas teremos apresentarei cobertas cobertas cobertas cobertas cobertas cachoro brido cobertas cobertas cobertas brido cobertas cobertas cobertas brido cobertas teremos apresentarei cobertas cobertas cobertas cobertas cobertas cachoro brido cobertas cobertas cobertas brido cobertas cobertas cobertas brido cobertas teremos apresentarei cobertas cobertas cobertas cobertas cobertas cachoro brido cobertas cobertas cobertas brido cobertas cobertas cobertas brido cobertas teremos dançaremos cobertas cobertas cobertas cobertas cobertas cachoro brido cobertas cobertas cobertas brido cobertas cobertas cobertas brido cobertas repouso dançaremos cobertas cobertas cobertas cobertas cobertas camomila crendo cobertas cobertas cobertas crendo cobertas cobertas cobertas crendo cobertas acostumando traidores cobertas cobertas cobertas cobertas cobertas roubaram bancos canceladas canceladas canceladas bancos canceladas canceladas canceladas bancos canceladas repouso hokkaido canceladas canceladas canceladas canceladas canceladas faltando puseram cobertas cobertas cobertas puseram cobertas cobertas cobertas puseram cobertas repouso urbana cobertas cobertas cobertas cobertas cobertas contornar teremos cuidaria cuidaria cuidaria teremos cuidaria cuidaria cuidaria teremos cuidaria veloc alimente cuidaria cuidaria cuidaria cuidaria cuidaria recordar galinheiro cobertas cobertas cobertas galinheiro cobertas cobertas cobertas galinheiro cobertas repouso apresentarei cobertas cobertas cobertas cobertas cobertas faltando puseram cobertas cobertas cobertas puseram cobertas cobertas cobertas puseram cobertas repouso urbana cobertas cobertas cobertas cobertas cobertas contornar teremos cuidaria cuidaria cuidaria teremos cuidaria cuidaria cuidaria teremos cuidaria veloc alimente cuidaria cuidaria cuidaria cuidaria cuidaria recordar galinheiro assustados assustados assustados galinheiro assustados assustados assustados galinheiro assustados repouso urbana assustados assustados assustados assustados assustados faltando puseram cobertas cobertas cobertas puseram cobertas cobertas cobertas puseram cobertas repouso urbana cobertas cobertas cobertas cobertas cobertas contornar teremos cuidaria cuidaria cuidaria teremos cuidaria cuidaria cuidaria teremos cuidaria veloc alimente cuidaria cuidaria cuidaria cuidaria cuidaria quebrou panquecas cobertas cobertas cobertas panquecas cobertas cobertas cobertas panquecas cobertas repouso antibi cobertas cobertas cobertas cobertas cobertas contem panquecas cobertas cobertas cobertas panquecas cobertas cobertas cobertas panquecas cobertas repouso alimente cobertas cobertas cobertas cobertas cobertas mala travessura caidinho caidinho caidinho travessura caidinho caidinho caidinho travessura caidinho veloc urbana caidinho caidinho caidinho caidinho caidinho cachoro brido cobertas cobertas cobertas brido cobertas cobertas cobertas brido cobertas repouso dançaremos cobertas cobertas cobertas cobertas cobertas atendente morreu atendimento atendimento atendimento morreu atendimento atendimento atendimento morreu atendimento veloc antibi atendimento atendimento atendimento atendimento atendimento recordar galinheiro assustados assustados assustados galinheiro assustados assustados assustados galinheiro assustados repouso apresentarei assustados assustados assustados assustados assustados injustas teremos cobertas cobertas cobertas teremos cobertas cobertas cobertas teremos cobertas teremos hokkaido cobertas cobertas cobertas cobertas cobertas cachoro brido cobertas cobertas cobertas brido cobertas cobertas cobertas brido cobertas repouso dançaremos cobertas cobertas cobertas cobertas cobertas atendente morreu atendimento atendimento atendimento morreu atendimento atendimento atendimento morreu atendimento veloc antibi atendimento atendimento atendimento atendimento atendimento recordar galinheiro assustados assustados assustados galinheiro assustados assustados assustados galinheiro assustados repouso apresentarei assustados assustados assustados assustados assustados injustas teremos cobertas cobertas cobertas teremos cobertas cobertas cobertas teremos cobertas teremos hokkaido cobertas cobertas cobertas cobertas cobertas cachoro brido cobertas cobertas cobertas brido cobertas cobertas cobertas brido cobertas teremos apresentarei cobertas cobertas cobertas cobertas cobertas atendente morreu atendimento atendimento atendimento morreu atendimento atendimento atendimento morreu atendimento veloc antibi atendimento atendimento atendimento atendimento atendimento recordar galinheiro obrigou obrigou obrigou galinheiro obrigou obrigou obrigou galinheiro obrigou repouso apresentarei obrigou obrigou obrigou obrigou obrigou injustas panquecas seguros seguros seguros panquecas seguros seguros seguros panquecas seguros teremos hokkaido seguros seguros seguros seguros seguros cachoro brido cobertas cobertas cobertas brido cobertas cobertas cobertas brido cobertas teremos apresentarei cobertas cobertas cobertas cobertas cobertas cachoro brido cobertas cobertas cobertas brido cobertas cobertas cobertas brido cobertas teremos apresentarei cobertas cobertas cobertas cobertas cobertas cachoro brido cobertas cobertas cobertas brido cobertas cobertas cobertas brido cobertas teremos apresentarei cobertas cobertas cobertas cobertas cobertas cachoro brido cobertas cobertas cobertas brido cobertas cobertas cobertas brido cobertas teremos apresentarei cobertas cobertas cobertas cobertas cobertas cachoro brido cobertas cobertas cobertas brido cobertas cobertas cobertas brido cobertas teremos apresentarei cobertas cobertas cobertas cobertas cobertas cachoro\n",
      "**************************************************\n",
      "English Sentence :  it was a horrible scene\n",
      "Original Portugal Sentence :   sos  foi uma cena pavorosa   eos \n"
     ]
    },
    {
     "data": {
      "application/vnd.jupyter.widget-view+json": {
       "model_id": "5dd19c1dd2de435f81f59cfdffc969a7",
       "version_major": 2,
       "version_minor": 0
      },
      "text/plain": [
       "Generating Translations:   0%|                                                                                …"
      ]
     },
     "metadata": {},
     "output_type": "display_data"
    },
    {
     "name": "stdout",
     "output_type": "stream",
     "text": [
      "Predicted Sentence :  <sos> limonada planeje planeje planeje gênio depress planeje gênio planeje planeje planeje planeje planeje limonada pretende planeje planeje planeje depress chopin planeje planeje planeje correspondência enfrentaram enfrentaram enfrentaram daltônica resolvê enfrentaram daltônica enfrentaram enfrentaram enfrentaram enfrentaram enfrentaram correspondência afinando enfrentaram enfrentaram enfrentaram resolvê chopin enfrentaram enfrentaram enfrentaram morreu planeje planeje planeje calar lidar planeje calar planeje planeje planeje planeje planeje morreu afinando planeje planeje planeje lidar assassinado planeje planeje planeje correspondência ervilhas ervilhas ervilhas daltônica resolvê ervilhas daltônica ervilhas ervilhas ervilhas ervilhas ervilhas correspondência afinando ervilhas ervilhas ervilhas resolvê chopin ervilhas ervilhas ervilhas museus repentina repentina repentina restos comecei repentina restos repentina repentina repentina repentina repentina museus esquente repentina repentina repentina comecei assassinado repentina repentina repentina shopping prestei prestei prestei alimente provem prestei alimente prestei prestei prestei prestei prestei shopping shopping prestei prestei prestei provem provem prestei prestei prestei afinando afinando afinando afinando usou afinando afinando usou afinando afinando afinando afinando afinando afinando afinando afinando afinando afinando afinando afinando afinando afinando afinando ximas barulhos barulhos barulhos alimente chique barulhos alimente barulhos barulhos barulhos barulhos barulhos ximas abeto barulhos barulhos barulhos chique ambientada barulhos barulhos barulhos odos mestre mestre mestre sequer chique mestre sequer mestre mestre mestre mestre mestre odos odos mestre mestre mestre chique assassinado mestre mestre mestre teremos ervilhas ervilhas ervilhas teremos enganamos ervilhas teremos ervilhas ervilhas ervilhas ervilhas ervilhas teremos afinando ervilhas ervilhas ervilhas enganamos teremos ervilhas ervilhas ervilhas teremos antissoci antissoci antissoci hokkaido comecei antissoci hokkaido antissoci antissoci antissoci antissoci antissoci teremos aquelas antissoci antissoci antissoci comecei veloc antissoci antissoci antissoci enfrentam abraç abraç abraç urbana punhado abraç urbana abraç abraç abraç abraç abraç enfrentam punhado abraç abraç abraç punhado veloc abraç abraç abraç trabalhadora hackeado hackeado hackeado restos vitrina hackeado restos hackeado hackeado hackeado hackeado hackeado trabalhadora bacanas hackeado hackeado hackeado vitrina atacaram hackeado hackeado hackeado teremos cobertas cobertas cobertas hokkaido saudades cobertas hokkaido cobertas cobertas cobertas cobertas cobertas teremos humanos cobertas cobertas cobertas saudades repouso cobertas cobertas cobertas tido astronomia astronomia astronomia lavem molhada astronomia lavem astronomia astronomia astronomia astronomia astronomia tido ronronam astronomia astronomia astronomia molhada astronomia astronomia astronomia astronomia pulso palavra palavra palavra palavra tecidos palavra palavra palavra palavra palavra palavra palavra pulso patinho palavra palavra palavra tecidos veloc palavra palavra palavra teremos mataria mataria mataria dançaremos saudades mataria dançaremos mataria mataria mataria mataria mataria teremos admito mataria mataria mataria saudades teremos mataria mataria mataria quiseram quiseram quiseram quiseram hokkaido apresente quiseram hokkaido quiseram quiseram quiseram quiseram quiseram quiseram pretende quiseram quiseram quiseram apresente quiseram quiseram quiseram quiseram bondosa voam voam voam tivesse enganamos voam tivesse voam voam voam voam voam bondosa afinando voam voam voam enganamos teremos voam voam voam obedecemos prestei prestei prestei alimente enganamos prestei alimente prestei prestei prestei prestei prestei obedecemos bacanas prestei prestei prestei enganamos retornem prestei prestei prestei panquecas antissoci antissoci antissoci usou usou antissoci usou antissoci antissoci antissoci antissoci antissoci panquecas afinando antissoci antissoci antissoci usou afinando antissoci antissoci antissoci yukio cobertas cobertas cobertas urbana punhado cobertas urbana cobertas cobertas cobertas cobertas cobertas yukio punhado cobertas cobertas cobertas punhado veloc cobertas cobertas cobertas bondosa cobertas cobertas cobertas lavem saudades cobertas lavem cobertas cobertas cobertas cobertas cobertas bondosa pretende cobertas cobertas cobertas saudades pecado cobertas cobertas cobertas tido astronomia astronomia astronomia lavem saudades astronomia lavem astronomia astronomia astronomia astronomia astronomia tido pretende astronomia astronomia astronomia saudades pecado astronomia astronomia astronomia puseram palavra palavra palavra palavra tecidos palavra palavra palavra palavra palavra palavra palavra puseram pretende palavra palavra palavra tecidos veloc palavra palavra palavra bancos cobertas cobertas cobertas dançaremos fascinante cobertas dançaremos cobertas cobertas cobertas cobertas cobertas bancos admito cobertas cobertas cobertas fascinante teremos cobertas cobertas cobertas tido cobertas cobertas cobertas lavem molhada cobertas lavem cobertas cobertas cobertas cobertas cobertas tido ronronam cobertas cobertas cobertas molhada pecado cobertas cobertas cobertas bondosa cobertas cobertas cobertas lavem molhada cobertas lavem cobertas cobertas cobertas cobertas cobertas bondosa pretende cobertas cobertas cobertas molhada pecado cobertas cobertas cobertas bondosa cobertas cobertas cobertas lavem molhada cobertas lavem cobertas cobertas cobertas cobertas cobertas bondosa pretende cobertas cobertas cobertas molhada repouso cobertas cobertas cobertas bondosa cobertas cobertas cobertas lavem saudades cobertas lavem cobertas cobertas cobertas cobertas cobertas bondosa pretende cobertas cobertas cobertas saudades repouso cobertas cobertas cobertas bondosa astronomia astronomia astronomia lavem saudades astronomia lavem astronomia astronomia astronomia astronomia astronomia bondosa pretende astronomia astronomia astronomia saudades repouso astronomia astronomia astronomia iniciante palavra palavra palavra palavra tecidos palavra palavra palavra palavra palavra palavra palavra iniciante palavra palavra palavra palavra tecidos veloc palavra palavra palavra bancos cobertas cobertas cobertas dançaremos saudades cobertas dançaremos cobertas cobertas cobertas cobertas cobertas bancos admito cobertas cobertas cobertas saudades teremos cobertas cobertas cobertas bondosa astronomia astronomia astronomia lavem saudades astronomia lavem astronomia astronomia astronomia astronomia astronomia bondosa bacanas astronomia astronomia astronomia saudades repouso astronomia astronomia astronomia iniciante palavra palavra palavra palavra tecidos palavra palavra palavra palavra palavra palavra palavra iniciante palavra palavra palavra palavra tecidos veloc palavra palavra palavra bancos mataria mataria mataria dançaremos saudades mataria dançaremos mataria mataria mataria mataria mataria bancos admito mataria mataria mataria saudades teremos mataria mataria mataria quiseram cobertas cobertas cobertas hokkaido apresente cobertas hokkaido cobertas cobertas cobertas cobertas cobertas quiseram pretende cobertas cobertas cobertas apresente repouso cobertas cobertas cobertas bondosa cobertas cobertas cobertas lavem saudades cobertas lavem cobertas cobertas cobertas cobertas cobertas bondosa bacanas cobertas cobertas cobertas saudades pecado cobertas cobertas cobertas bondosa cobertas cobertas cobertas lavem saudades cobertas lavem cobertas cobertas cobertas cobertas cobertas bondosa bacanas cobertas cobertas cobertas saudades pecado cobertas cobertas cobertas bondosa astronomia astronomia astronomia astronomia saudades astronomia astronomia astronomia astronomia astronomia astronomia astronomia bondosa bacanas astronomia astronomia astronomia saudades pecado astronomia astronomia astronomia iniciante palavra palavra palavra palavra tecidos palavra palavra palavra palavra palavra palavra palavra iniciante patinho palavra palavra palavra tecidos veloc palavra palavra palavra teremos mataria mataria mataria dançaremos saudades mataria dançaremos mataria mataria mataria mataria mataria teremos admito mataria mataria mataria saudades teremos mataria mataria mataria quiseram quiseram quiseram quiseram hokkaido apresente quiseram hokkaido quiseram quiseram quiseram quiseram quiseram quiseram pretende quiseram quiseram quiseram apresente quiseram quiseram quiseram quiseram bondosa ausentei ausentei ausentei tivesse enganamos ausentei tivesse ausentei ausentei ausentei ausentei ausentei bondosa afinando ausentei ausentei ausentei enganamos teremos ausentei ausentei ausentei teremos cobertas cobertas cobertas veloc veloc cobertas veloc cobertas cobertas cobertas cobertas cobertas teremos veloc cobertas cobertas cobertas veloc veloc cobertas cobertas cobertas bondosa cobertas cobertas cobertas lavem saudades cobertas lavem cobertas cobertas cobertas cobertas cobertas bondosa bacanas cobertas cobertas cobertas saudades pecado cobertas cobertas cobertas bondosa cobertas cobertas cobertas lavem saudades cobertas lavem cobertas cobertas cobertas cobertas cobertas bondosa bacanas cobertas cobertas cobertas saudades pecado cobertas cobertas cobertas bondosa astronomia astronomia astronomia lavem saudades astronomia lavem astronomia astronomia astronomia astronomia astronomia bondosa bacanas astronomia astronomia astronomia saudades pecado astronomia astronomia astronomia pulso palavra palavra palavra palavra tecidos palavra palavra palavra palavra palavra palavra palavra pulso patinho palavra palavra palavra tecidos veloc palavra palavra palavra bancos mataria mataria mataria dançaremos fascinante mataria dançaremos mataria mataria mataria mataria mataria bancos admito mataria mataria mataria fascinante teremos mataria mataria mataria quiseram quiseram quiseram quiseram hokkaido apresente quiseram hokkaido quiseram quiseram quiseram quiseram quiseram quiseram pretende quiseram quiseram quiseram apresente quiseram quiseram quiseram quiseram teremos voam voam voam tivesse enganamos voam tivesse voam voam voam voam voam teremos afinando voam voam voam enganamos teremos voam voam voam teremos canceladas canceladas canceladas alimente enganamos canceladas alimente canceladas canceladas canceladas canceladas canceladas teremos pretende canceladas canceladas canceladas enganamos atacaram canceladas canceladas canceladas sobressai cobertas cobertas cobertas dançaremos enganamos cobertas dançaremos cobertas cobertas cobertas cobertas cobertas sobressai oposto cobertas cobertas cobertas enganamos veloc cobertas cobertas cobertas bondosa cobertas cobertas cobertas lavem saudades cobertas lavem cobertas cobertas cobertas cobertas cobertas bondosa pretende cobertas cobertas cobertas saudades pecado cobertas cobertas cobertas bondosa cobertas cobertas cobertas lavem saudades cobertas lavem cobertas cobertas cobertas cobertas cobertas bondosa pretende cobertas cobertas cobertas saudades pecado cobertas cobertas cobertas bondosa astronomia astronomia astronomia astronomia saudades astronomia astronomia astronomia astronomia astronomia astronomia astronomia bondosa pretende astronomia astronomia astronomia saudades pecado astronomia astronomia astronomia puseram palavra palavra palavra usou tecidos palavra usou palavra palavra palavra palavra palavra puseram pretende palavra palavra palavra tecidos veloc palavra palavra palavra bancos cobertas cobertas cobertas dançaremos saudades cobertas dançaremos cobertas cobertas cobertas cobertas cobertas bancos admito cobertas cobertas cobertas saudades teremos cobertas cobertas cobertas bondosa astronomia astronomia astronomia astronomia saudades astronomia astronomia astronomia astronomia astronomia astronomia astronomia bondosa pretende astronomia astronomia astronomia saudades astronomia astronomia astronomia astronomia puseram palavra palavra palavra palavra tecidos palavra palavra palavra palavra palavra palavra palavra puseram palavra palavra palavra palavra tecidos veloc palavra palavra palavra bancos cobertas cobertas cobertas dançaremos saudades cobertas dançaremos cobertas cobertas cobertas cobertas cobertas bancos admito cobertas cobertas cobertas saudades teremos cobertas cobertas cobertas bondosa cobertas cobertas cobertas lavem saudades cobertas lavem cobertas cobertas cobertas cobertas cobertas bondosa bacanas cobertas cobertas cobertas saudades pecado cobertas cobertas cobertas bondosa cobertas cobertas cobertas lavem saudades cobertas lavem cobertas cobertas cobertas cobertas cobertas bondosa bacanas cobertas cobertas cobertas saudades pecado cobertas cobertas cobertas bondosa cobertas cobertas cobertas lavem saudades cobertas lavem cobertas cobertas cobertas cobertas cobertas bondosa bacanas cobertas cobertas cobertas saudades pecado cobertas cobertas cobertas bondosa astronomia astronomia astronomia astronomia saudades astronomia astronomia astronomia astronomia astronomia astronomia astronomia bondosa bacanas astronomia astronomia astronomia saudades pecado astronomia astronomia astronomia iniciante palavra palavra palavra palavra tecidos palavra palavra palavra palavra palavra palavra palavra iniciante palavra palavra palavra palavra tecidos veloc palavra palavra palavra bancos cobertas cobertas cobertas dançaremos saudades cobertas dançaremos cobertas cobertas cobertas cobertas cobertas bancos admito cobertas cobertas cobertas saudades teremos cobertas cobertas cobertas bondosa astronomia astronomia astronomia astronomia saudades astronomia astronomia astronomia astronomia astronomia astronomia astronomia bondosa bacanas astronomia astronomia astronomia saudades pecado astronomia astronomia astronomia iniciante palavra palavra palavra palavra tecidos palavra palavra palavra palavra palavra palavra palavra iniciante palavra palavra palavra palavra tecidos veloc palavra palavra palavra bancos mataria mataria mataria dançaremos saudades mataria dançaremos mataria mataria mataria mataria mataria bancos admito mataria mataria mataria saudades teremos mataria mataria mataria quiseram cobertas cobertas cobertas hokkaido apresente cobertas hokkaido cobertas cobertas cobertas cobertas cobertas quiseram pretende cobertas cobertas cobertas apresente quiseram cobertas cobertas cobertas bondosa cobertas cobertas cobertas lavem saudades cobertas lavem cobertas cobertas cobertas cobertas cobertas bondosa bacanas cobertas cobertas cobertas saudades pecado cobertas cobertas cobertas bondosa cobertas cobertas cobertas lavem saudades cobertas lavem cobertas cobertas cobertas cobertas cobertas bondosa bacanas cobertas cobertas cobertas saudades pecado cobertas cobertas cobertas bondosa astronomia astronomia astronomia astronomia saudades astronomia astronomia astronomia astronomia astronomia astronomia astronomia bondosa bacanas astronomia astronomia astronomia saudades pecado astronomia astronomia astronomia iniciante palavra palavra palavra palavra tecidos palavra palavra palavra palavra palavra palavra palavra iniciante patinho palavra palavra palavra tecidos veloc palavra palavra palavra teremos cobertas cobertas cobertas dançaremos saudades cobertas dançaremos cobertas cobertas cobertas cobertas cobertas teremos admito cobertas cobertas cobertas saudades teremos cobertas cobertas cobertas bondosa astronomia astronomia astronomia astronomia saudades astronomia astronomia astronomia astronomia astronomia astronomia astronomia bondosa bacanas astronomia astronomia astronomia saudades pecado astronomia astronomia astronomia puseram palavra palavra palavra palavra tecidos palavra palavra palavra palavra palavra palavra palavra puseram palavra palavra palavra palavra tecidos veloc palavra palavra palavra bancos mataria mataria mataria dançaremos saudades mataria dançaremos mataria mataria mataria mataria mataria bancos admito mataria mataria mataria saudades teremos mataria mataria mataria quiseram cobertas cobertas cobertas hokkaido apresente cobertas hokkaido cobertas cobertas cobertas cobertas cobertas quiseram pretende cobertas cobertas cobertas apresente repouso cobertas cobertas cobertas bondosa cobertas cobertas cobertas lavem saudades cobertas lavem cobertas cobertas cobertas cobertas cobertas bondosa bacanas cobertas cobertas cobertas saudades pecado cobertas cobertas cobertas bondosa cobertas cobertas cobertas lavem saudades cobertas lavem cobertas cobertas cobertas cobertas cobertas bondosa bacanas cobertas cobertas cobertas saudades pecado cobertas cobertas cobertas bondosa astronomia astronomia astronomia astronomia saudades astronomia astronomia astronomia astronomia astronomia astronomia astronomia bondosa bacanas astronomia astronomia astronomia saudades pecado astronomia astronomia astronomia iniciante palavra palavra palavra palavra tecidos palavra palavra palavra palavra palavra palavra palavra iniciante patinho palavra palavra palavra tecidos veloc palavra palavra palavra teremos cobertas cobertas cobertas dançaremos saudades cobertas dançaremos cobertas cobertas cobertas cobertas cobertas teremos admito cobertas cobertas cobertas saudades teremos cobertas cobertas cobertas bondosa astronomia astronomia astronomia astronomia saudades astronomia astronomia astronomia astronomia astronomia astronomia astronomia bondosa bacanas astronomia astronomia astronomia saudades pecado astronomia astronomia astronomia iniciante palavra palavra palavra palavra tecidos palavra palavra palavra palavra palavra palavra palavra iniciante patinho palavra palavra palavra tecidos veloc palavra palavra palavra bancos mataria mataria mataria dançaremos saudades mataria dançaremos mataria mataria mataria mataria mataria bancos admito mataria mataria mataria saudades teremos mataria mataria mataria quiseram cobertas cobertas cobertas hokkaido apresente cobertas hokkaido cobertas cobertas cobertas cobertas cobertas quiseram pretende cobertas cobertas cobertas apresente repouso cobertas cobertas cobertas bondosa cobertas cobertas cobertas lavem saudades cobertas lavem cobertas cobertas cobertas cobertas cobertas bondosa bacanas cobertas cobertas cobertas saudades pecado cobertas cobertas cobertas bondosa cobertas cobertas cobertas lavem saudades cobertas lavem cobertas cobertas cobertas cobertas cobertas bondosa bacanas cobertas cobertas cobertas saudades pecado cobertas cobertas cobertas bondosa astronomia astronomia astronomia astronomia saudades astronomia astronomia astronomia astronomia astronomia astronomia astronomia bondosa bacanas astronomia astronomia astronomia saudades pecado astronomia astronomia astronomia iniciante palavra palavra palavra palavra tecidos palavra palavra palavra palavra palavra palavra palavra iniciante patinho palavra palavra palavra tecidos veloc palavra palavra palavra teremos cobertas cobertas cobertas dançaremos saudades cobertas dançaremos cobertas cobertas cobertas cobertas cobertas teremos admito cobertas cobertas cobertas saudades teremos cobertas cobertas cobertas bondosa astronomia astronomia astronomia astronomia saudades astronomia astronomia astronomia astronomia astronomia astronomia astronomia bondosa bacanas astronomia astronomia astronomia saudades pecado astronomia astronomia astronomia puseram palavra palavra palavra palavra tecidos palavra palavra palavra palavra palavra palavra palavra puseram patinho palavra palavra palavra tecidos veloc palavra palavra palavra bancos mataria mataria mataria dançaremos saudades mataria dançaremos mataria mataria mataria mataria mataria bancos admito mataria mataria mataria saudades teremos mataria mataria mataria quiseram cobertas cobertas cobertas hokkaido apresente cobertas hokkaido cobertas cobertas cobertas cobertas cobertas quiseram pretende cobertas cobertas cobertas apresente repouso cobertas cobertas cobertas bondosa cobertas cobertas cobertas lavem saudades cobertas lavem cobertas cobertas cobertas cobertas cobertas bondosa bacanas cobertas cobertas cobertas saudades pecado cobertas cobertas cobertas bondosa cobertas cobertas cobertas lavem saudades cobertas lavem cobertas cobertas cobertas cobertas cobertas bondosa bacanas cobertas cobertas cobertas saudades pecado cobertas cobertas cobertas bondosa astronomia astronomia astronomia astronomia saudades astronomia astronomia astronomia astronomia astronomia astronomia astronomia bondosa bacanas astronomia astronomia astronomia saudades pecado astronomia astronomia astronomia iniciante palavra palavra palavra palavra tecidos palavra palavra palavra palavra palavra palavra palavra iniciante patinho palavra palavra palavra tecidos veloc palavra palavra palavra teremos cobertas cobertas cobertas dançaremos saudades cobertas dançaremos cobertas cobertas cobertas cobertas cobertas teremos admito cobertas cobertas cobertas saudades teremos cobertas cobertas cobertas bondosa astronomia astronomia astronomia astronomia saudades astronomia astronomia astronomia astronomia astronomia astronomia astronomia bondosa pretende astronomia astronomia astronomia saudades pecado astronomia astronomia astronomia puseram palavra palavra palavra palavra tecidos palavra palavra palavra palavra palavra palavra palavra puseram patinho palavra palavra palavra tecidos veloc palavra palavra palavra bancos mataria mataria mataria dançaremos saudades mataria dançaremos mataria mataria mataria mataria mataria bancos admito mataria mataria mataria saudades teremos mataria mataria mataria quiseram cobertas cobertas cobertas hokkaido apresente cobertas hokkaido cobertas cobertas cobertas cobertas cobertas quiseram pretende cobertas cobertas cobertas apresente repouso cobertas cobertas cobertas bondosa cobertas cobertas cobertas lavem saudades cobertas lavem cobertas cobertas cobertas cobertas cobertas bondosa bacanas cobertas cobertas cobertas saudades pecado cobertas cobertas cobertas bondosa cobertas cobertas cobertas lavem saudades cobertas lavem cobertas cobertas cobertas cobertas cobertas bondosa bacanas cobertas cobertas cobertas saudades pecado cobertas cobertas cobertas bondosa astronomia astronomia astronomia astronomia saudades astronomia astronomia astronomia astronomia astronomia astronomia astronomia bondosa bacanas astronomia astronomia astronomia saudades pecado astronomia astronomia astronomia iniciante palavra palavra palavra palavra tecidos palavra palavra palavra palavra palavra palavra palavra iniciante patinho palavra palavra palavra tecidos veloc palavra palavra palavra teremos cobertas cobertas cobertas dançaremos saudades cobertas dançaremos cobertas cobertas cobertas cobertas cobertas teremos admito cobertas cobertas cobertas saudades teremos cobertas cobertas cobertas bondosa astronomia astronomia astronomia astronomia saudades astronomia astronomia astronomia astronomia astronomia astronomia astronomia bondosa pretende astronomia astronomia astronomia saudades pecado astronomia astronomia astronomia puseram palavra palavra palavra palavra tecidos palavra palavra palavra palavra palavra palavra palavra puseram patinho palavra palavra palavra tecidos veloc palavra palavra palavra bancos mataria mataria mataria dançaremos saudades mataria dançaremos mataria mataria mataria mataria mataria bancos admito mataria mataria mataria saudades teremos mataria mataria mataria quiseram cobertas cobertas cobertas hokkaido apresente cobertas hokkaido cobertas cobertas cobertas cobertas cobertas quiseram pretende cobertas cobertas cobertas apresente repouso cobertas cobertas cobertas bondosa cobertas cobertas cobertas lavem saudades cobertas lavem cobertas cobertas cobertas cobertas cobertas bondosa bacanas cobertas cobertas cobertas saudades pecado cobertas cobertas cobertas bondosa cobertas cobertas cobertas lavem saudades cobertas lavem cobertas cobertas cobertas cobertas cobertas bondosa bacanas cobertas cobertas cobertas saudades pecado cobertas cobertas cobertas bondosa astronomia astronomia astronomia astronomia saudades astronomia astronomia astronomia astronomia astronomia astronomia astronomia bondosa bacanas astronomia astronomia astronomia saudades pecado astronomia astronomia astronomia iniciante palavra palavra palavra palavra tecidos palavra palavra palavra palavra palavra palavra palavra iniciante patinho palavra palavra palavra tecidos veloc palavra palavra palavra teremos cobertas cobertas cobertas dançaremos saudades cobertas dançaremos cobertas cobertas cobertas cobertas cobertas teremos admito cobertas cobertas cobertas saudades teremos cobertas cobertas cobertas bondosa astronomia astronomia astronomia astronomia saudades astronomia astronomia astronomia astronomia astronomia astronomia astronomia bondosa pretende astronomia astronomia astronomia saudades pecado astronomia astronomia astronomia puseram palavra palavra palavra palavra tecidos palavra palavra palavra palavra palavra palavra palavra puseram patinho palavra palavra palavra tecidos veloc palavra palavra palavra bancos mataria mataria mataria dançaremos saudades mataria dançaremos mataria mataria mataria mataria mataria bancos admito mataria mataria mataria saudades teremos mataria mataria mataria quiseram cobertas cobertas cobertas hokkaido apresente cobertas hokkaido cobertas cobertas cobertas cobertas cobertas quiseram pretende cobertas cobertas cobertas apresente repouso cobertas cobertas cobertas bondosa cobertas cobertas cobertas lavem saudades cobertas lavem cobertas cobertas cobertas cobertas cobertas bondosa bacanas cobertas cobertas cobertas saudades pecado cobertas cobertas cobertas bondosa cobertas cobertas cobertas lavem saudades cobertas lavem cobertas cobertas cobertas cobertas cobertas bondosa bacanas cobertas cobertas cobertas saudades pecado cobertas cobertas cobertas bondosa astronomia astronomia astronomia astronomia saudades astronomia astronomia astronomia astronomia astronomia astronomia astronomia bondosa bacanas astronomia astronomia astronomia saudades pecado astronomia astronomia astronomia iniciante palavra palavra palavra palavra tecidos palavra palavra palavra palavra palavra palavra palavra iniciante patinho palavra palavra palavra tecidos veloc palavra palavra palavra teremos cobertas cobertas cobertas dançaremos saudades cobertas dançaremos cobertas cobertas cobertas cobertas cobertas teremos admito cobertas cobertas cobertas saudades teremos cobertas cobertas cobertas bondosa astronomia astronomia astronomia astronomia saudades astronomia astronomia astronomia astronomia astronomia astronomia astronomia bondosa pretende astronomia astronomia astronomia saudades pecado astronomia astronomia astronomia puseram palavra palavra palavra palavra tecidos palavra palavra palavra palavra palavra palavra palavra puseram patinho palavra palavra palavra tecidos veloc palavra palavra palavra bancos mataria mataria mataria dançaremos saudades mataria dançaremos mataria mataria mataria mataria mataria bancos admito mataria mataria mataria saudades teremos mataria mataria mataria quiseram cobertas cobertas cobertas hokkaido apresente cobertas hokkaido cobertas cobertas cobertas cobertas cobertas quiseram pretende cobertas cobertas cobertas apresente repouso cobertas cobertas cobertas bondosa cobertas cobertas cobertas lavem saudades cobertas lavem cobertas cobertas cobertas cobertas cobertas bondosa bacanas cobertas cobertas cobertas saudades pecado cobertas cobertas cobertas bondosa cobertas cobertas cobertas lavem saudades cobertas lavem cobertas cobertas cobertas cobertas cobertas bondosa bacanas cobertas cobertas cobertas saudades pecado cobertas cobertas cobertas bondosa astronomia astronomia astronomia astronomia saudades astronomia astronomia astronomia astronomia astronomia astronomia astronomia bondosa bacanas astronomia astronomia astronomia saudades pecado astronomia astronomia astronomia iniciante palavra palavra palavra palavra tecidos palavra palavra palavra palavra palavra palavra palavra iniciante patinho palavra palavra palavra tecidos veloc palavra palavra palavra teremos cobertas cobertas cobertas dançaremos saudades cobertas dançaremos cobertas cobertas cobertas cobertas cobertas teremos admito cobertas cobertas cobertas saudades teremos cobertas cobertas cobertas bondosa astronomia astronomia astronomia astronomia saudades astronomia astronomia astronomia astronomia astronomia astronomia astronomia bondosa pretende astronomia astronomia astronomia saudades pecado astronomia astronomia astronomia puseram palavra palavra palavra palavra tecidos palavra palavra palavra palavra palavra palavra palavra puseram patinho palavra palavra palavra tecidos veloc palavra palavra palavra bancos mataria mataria mataria dançaremos saudades mataria dançaremos mataria mataria mataria mataria mataria bancos admito mataria mataria mataria saudades teremos mataria mataria mataria quiseram cobertas cobertas cobertas hokkaido apresente cobertas hokkaido cobertas cobertas cobertas cobertas cobertas quiseram pretende cobertas cobertas cobertas apresente repouso cobertas cobertas cobertas bondosa cobertas cobertas cobertas lavem saudades cobertas lavem cobertas cobertas cobertas cobertas cobertas bondosa bacanas cobertas cobertas cobertas saudades pecado cobertas cobertas cobertas bondosa cobertas cobertas cobertas lavem saudades cobertas lavem cobertas cobertas cobertas cobertas cobertas bondosa bacanas cobertas cobertas cobertas saudades pecado cobertas cobertas cobertas bondosa astronomia astronomia astronomia astronomia saudades astronomia astronomia astronomia astronomia astronomia astronomia astronomia bondosa bacanas astronomia astronomia astronomia saudades pecado astronomia astronomia astronomia iniciante palavra palavra palavra palavra tecidos palavra palavra palavra palavra palavra palavra palavra iniciante patinho palavra palavra palavra tecidos veloc palavra palavra palavra teremos cobertas cobertas cobertas dançaremos saudades cobertas dançaremos cobertas cobertas cobertas cobertas cobertas teremos admito cobertas cobertas cobertas saudades teremos cobertas cobertas cobertas bondosa astronomia astronomia astronomia astronomia saudades astronomia astronomia astronomia astronomia astronomia astronomia astronomia bondosa pretende astronomia astronomia astronomia saudades pecado astronomia astronomia astronomia puseram palavra palavra palavra palavra tecidos palavra palavra palavra palavra palavra palavra palavra puseram patinho palavra palavra palavra tecidos veloc palavra palavra palavra bancos mataria mataria mataria dançaremos saudades mataria dançaremos mataria mataria mataria mataria mataria bancos admito mataria mataria mataria saudades teremos mataria mataria mataria quiseram cobertas cobertas cobertas hokkaido apresente cobertas hokkaido cobertas cobertas cobertas cobertas cobertas quiseram pretende cobertas cobertas cobertas apresente repouso cobertas cobertas cobertas bondosa cobertas cobertas cobertas lavem saudades cobertas lavem cobertas cobertas cobertas cobertas cobertas bondosa bacanas cobertas cobertas cobertas saudades pecado cobertas cobertas cobertas bondosa cobertas cobertas cobertas lavem saudades cobertas lavem cobertas cobertas cobertas cobertas cobertas bondosa bacanas cobertas cobertas cobertas saudades pecado cobertas cobertas cobertas bondosa astronomia astronomia astronomia astronomia saudades astronomia astronomia astronomia astronomia astronomia astronomia astronomia bondosa bacanas astronomia astronomia astronomia saudades pecado astronomia astronomia astronomia iniciante palavra palavra palavra palavra tecidos palavra palavra palavra palavra palavra palavra palavra iniciante patinho palavra palavra palavra tecidos veloc palavra palavra palavra teremos cobertas cobertas cobertas dançaremos saudades cobertas dançaremos cobertas cobertas cobertas cobertas cobertas teremos admito cobertas cobertas cobertas saudades teremos cobertas cobertas cobertas bondosa astronomia astronomia astronomia astronomia saudades astronomia astronomia astronomia astronomia astronomia astronomia astronomia bondosa pretende astronomia astronomia astronomia saudades pecado astronomia astronomia astronomia puseram palavra palavra palavra palavra tecidos palavra palavra palavra palavra palavra palavra palavra puseram patinho palavra palavra palavra tecidos veloc palavra palavra palavra bancos mataria mataria mataria dançaremos saudades mataria dançaremos mataria mataria mataria mataria mataria bancos admito mataria mataria mataria saudades teremos mataria mataria mataria quiseram cobertas cobertas cobertas hokkaido apresente cobertas hokkaido cobertas cobertas cobertas cobertas cobertas quiseram pretende cobertas cobertas cobertas apresente repouso cobertas cobertas cobertas bondosa cobertas cobertas cobertas lavem saudades cobertas lavem cobertas cobertas cobertas cobertas cobertas bondosa bacanas cobertas cobertas cobertas saudades pecado cobertas cobertas cobertas bondosa cobertas cobertas cobertas lavem saudades cobertas lavem cobertas cobertas cobertas cobertas cobertas bondosa bacanas cobertas cobertas cobertas saudades pecado cobertas cobertas cobertas bondosa astronomia astronomia astronomia astronomia saudades astronomia astronomia astronomia astronomia astronomia astronomia astronomia bondosa bacanas astronomia astronomia astronomia saudades pecado astronomia astronomia astronomia iniciante palavra palavra palavra palavra tecidos palavra palavra palavra palavra palavra palavra palavra iniciante patinho palavra palavra palavra tecidos veloc palavra palavra palavra teremos cobertas cobertas cobertas dançaremos saudades cobertas dançaremos cobertas cobertas cobertas cobertas cobertas teremos admito cobertas cobertas cobertas saudades teremos cobertas cobertas cobertas bondosa astronomia astronomia astronomia astronomia saudades astronomia astronomia astronomia astronomia astronomia astronomia astronomia bondosa pretende astronomia astronomia astronomia saudades pecado astronomia astronomia astronomia puseram palavra palavra palavra palavra tecidos palavra palavra palavra palavra palavra palavra palavra puseram patinho palavra palavra palavra tecidos veloc palavra palavra palavra bancos mataria mataria mataria dançaremos saudades mataria dançaremos mataria mataria mataria mataria mataria bancos admito mataria mataria mataria saudades teremos mataria mataria mataria quiseram cobertas cobertas cobertas hokkaido apresente cobertas hokkaido cobertas cobertas cobertas cobertas cobertas quiseram pretende cobertas cobertas cobertas apresente repouso cobertas cobertas cobertas bondosa cobertas cobertas cobertas lavem saudades cobertas lavem cobertas cobertas cobertas cobertas cobertas bondosa bacanas cobertas cobertas cobertas saudades pecado cobertas cobertas cobertas bondosa cobertas cobertas cobertas lavem saudades cobertas lavem cobertas cobertas cobertas cobertas cobertas bondosa bacanas cobertas cobertas cobertas saudades pecado cobertas cobertas cobertas bondosa astronomia astronomia astronomia astronomia saudades astronomia astronomia astronomia astronomia astronomia astronomia astronomia bondosa bacanas astronomia astronomia astronomia saudades pecado astronomia astronomia astronomia iniciante palavra palavra palavra palavra tecidos palavra palavra palavra palavra palavra palavra palavra iniciante patinho palavra palavra palavra tecidos veloc palavra palavra palavra teremos cobertas cobertas cobertas dançaremos saudades cobertas dançaremos cobertas cobertas cobertas cobertas cobertas teremos admito cobertas cobertas cobertas saudades teremos cobertas cobertas cobertas bondosa astronomia astronomia astronomia astronomia saudades astronomia astronomia astronomia astronomia astronomia astronomia astronomia bondosa pretende astronomia astronomia astronomia saudades pecado astronomia astronomia astronomia puseram palavra palavra palavra palavra tecidos palavra palavra palavra palavra palavra palavra palavra puseram patinho palavra palavra palavra tecidos veloc palavra palavra palavra bancos mataria mataria mataria dançaremos saudades mataria dançaremos mataria mataria mataria mataria mataria bancos admito mataria mataria mataria saudades teremos mataria mataria mataria quiseram cobertas cobertas cobertas hokkaido apresente cobertas hokkaido cobertas cobertas cobertas cobertas cobertas quiseram pretende cobertas cobertas cobertas apresente repouso cobertas cobertas cobertas bondosa cobertas cobertas cobertas lavem saudades cobertas lavem cobertas cobertas cobertas cobertas cobertas bondosa bacanas cobertas cobertas cobertas saudades pecado cobertas cobertas cobertas bondosa cobertas cobertas cobertas lavem saudades cobertas lavem cobertas cobertas cobertas cobertas cobertas bondosa bacanas cobertas cobertas cobertas saudades pecado cobertas cobertas cobertas bondosa astronomia astronomia astronomia astronomia saudades astronomia astronomia astronomia astronomia astronomia astronomia astronomia bondosa bacanas astronomia astronomia astronomia saudades pecado astronomia astronomia astronomia iniciante palavra palavra palavra palavra tecidos palavra palavra palavra palavra palavra palavra palavra iniciante patinho palavra palavra palavra tecidos veloc palavra palavra palavra teremos cobertas cobertas cobertas dançaremos saudades cobertas dançaremos cobertas cobertas cobertas cobertas cobertas teremos admito cobertas cobertas cobertas saudades teremos cobertas cobertas cobertas bondosa astronomia astronomia astronomia astronomia saudades astronomia astronomia astronomia astronomia astronomia astronomia astronomia bondosa pretende astronomia astronomia astronomia saudades pecado astronomia astronomia astronomia puseram palavra palavra palavra palavra tecidos palavra palavra palavra palavra palavra palavra palavra puseram patinho palavra palavra palavra tecidos veloc palavra palavra palavra bancos mataria mataria mataria dançaremos saudades mataria dançaremos mataria mataria mataria mataria mataria bancos admito mataria mataria mataria saudades teremos mataria mataria mataria quiseram cobertas cobertas cobertas hokkaido apresente cobertas hokkaido cobertas cobertas cobertas cobertas cobertas quiseram pretende cobertas cobertas cobertas apresente repouso cobertas cobertas cobertas bondosa cobertas cobertas cobertas lavem saudades cobertas lavem cobertas cobertas cobertas cobertas cobertas bondosa bacanas cobertas cobertas cobertas saudades pecado cobertas cobertas cobertas bondosa cobertas cobertas cobertas lavem saudades cobertas lavem cobertas cobertas cobertas cobertas cobertas bondosa bacanas cobertas cobertas cobertas saudades pecado cobertas cobertas cobertas bondosa astronomia astronomia astronomia astronomia saudades astronomia astronomia astronomia astronomia astronomia astronomia astronomia bondosa bacanas astronomia astronomia astronomia saudades pecado astronomia astronomia astronomia iniciante palavra palavra palavra palavra tecidos palavra palavra palavra palavra palavra palavra palavra iniciante patinho palavra palavra palavra tecidos veloc palavra palavra palavra teremos cobertas cobertas cobertas dançaremos saudades cobertas dançaremos cobertas cobertas cobertas cobertas cobertas teremos admito cobertas cobertas cobertas saudades teremos cobertas cobertas cobertas bondosa astronomia astronomia astronomia astronomia saudades astronomia astronomia astronomia astronomia astronomia astronomia astronomia bondosa pretende astronomia astronomia astronomia saudades pecado astronomia astronomia astronomia\n",
      "**************************************************\n",
      "English Sentence :  you must study grammar more\n",
      "Original Portugal Sentence :   sos  você precisa estudar mais gram tica   eos \n"
     ]
    },
    {
     "data": {
      "application/vnd.jupyter.widget-view+json": {
       "model_id": "94f56b4af203457aa56ab4b3cc789584",
       "version_major": 2,
       "version_minor": 0
      },
      "text/plain": [
       "Generating Translations:   0%|                                                                                …"
      ]
     },
     "metadata": {},
     "output_type": "display_data"
    },
    {
     "name": "stdout",
     "output_type": "stream",
     "text": [
      "Predicted Sentence :  <sos> planeje planeje planeje planeje yukio planeje depress planeje planeje depress planeje planeje fibras planeje planeje planeje planeje gênio yukio yukio gênio planeje planeje yukio planeje planeje planeje enfrentaram enfrentaram enfrentaram enfrentaram tecnicamente enfrentaram resolvê enfrentaram enfrentaram resolvê enfrentaram enfrentaram quebrou enfrentaram enfrentaram enfrentaram enfrentaram daltônica tecnicamente tecnicamente daltônica enfrentaram enfrentaram tecnicamente enfrentaram enfrentaram enfrentaram planeje planeje planeje planeje tecnicamente planeje lidar planeje planeje lidar planeje planeje detestasse planeje planeje planeje planeje calar tecnicamente tecnicamente calar planeje planeje tecnicamente planeje planeje planeje ervilhas ervilhas ervilhas ervilhas tecnicamente ervilhas resolvê ervilhas ervilhas resolvê ervilhas ervilhas quebrou ervilhas ervilhas ervilhas ervilhas daltônica tecnicamente tecnicamente daltônica ervilhas ervilhas tecnicamente ervilhas ervilhas ervilhas antissoci antissoci antissoci antissoci comecei antissoci comecei antissoci antissoci comecei antissoci antissoci detestasse antissoci antissoci antissoci antissoci restos comecei comecei restos antissoci antissoci comecei antissoci antissoci antissoci abraç abraç abraç abraç yukio abraç punhado abraç abraç punhado abraç abraç frustrar abraç abraç abraç abraç urbana yukio yukio urbana abraç abraç yukio abraç abraç abraç lagartos lagartos lagartos lagartos japonês lagartos vitrina lagartos lagartos vitrina lagartos lagartos abraçar lagartos lagartos lagartos lagartos restos japonês japonês restos lagartos lagartos japonês lagartos lagartos lagartos afinando afinando afinando afinando japonês afinando escondido afinando afinando escondido afinando afinando dobrando afinando afinando afinando afinando japonês japonês japonês japonês afinando afinando japonês afinando afinando afinando barulhos barulhos barulhos barulhos ximas barulhos chique barulhos barulhos chique barulhos barulhos traveler barulhos barulhos barulhos barulhos alimente ximas ximas alimente barulhos barulhos ximas barulhos barulhos barulhos mestre mestre mestre mestre assassinado mestre tecidos mestre mestre tecidos mestre mestre impeça mestre mestre mestre mestre sequer assassinado assassinado sequer mestre mestre assassinado mestre mestre mestre prestei prestei prestei prestei teremos prestei enganamos prestei prestei enganamos prestei prestei teremos prestei prestei prestei prestei teremos teremos teremos teremos prestei prestei teremos prestei prestei prestei antissoci antissoci antissoci antissoci teremos antissoci alcatroada antissoci antissoci alcatroada antissoci antissoci sofreu antissoci antissoci antissoci antissoci usou teremos teremos usou antissoci antissoci teremos antissoci antissoci antissoci cobertas cobertas cobertas cobertas yukio cobertas punhado cobertas cobertas punhado cobertas cobertas soma cobertas cobertas cobertas cobertas urbana yukio yukio urbana cobertas cobertas yukio cobertas cobertas cobertas astronomia astronomia astronomia astronomia nomeei astronomia saudades astronomia astronomia saudades astronomia astronomia lembro astronomia astronomia astronomia astronomia lavem nomeei nomeei lavem astronomia astronomia nomeei astronomia astronomia astronomia palavra palavra palavra palavra detestasse palavra tecidos palavra palavra tecidos palavra palavra abeto palavra palavra palavra palavra palavra detestasse detestasse palavra palavra palavra detestasse palavra palavra palavra cobertas cobertas cobertas cobertas teremos cobertas fascinante cobertas cobertas fascinante cobertas cobertas muralha cobertas cobertas cobertas cobertas dançaremos teremos teremos dançaremos cobertas cobertas teremos cobertas cobertas cobertas cobertas cobertas cobertas cobertas ingerido cobertas molhada cobertas cobertas molhada cobertas cobertas pecado cobertas cobertas cobertas cobertas lavem ingerido ingerido lavem cobertas cobertas ingerido cobertas cobertas cobertas cobertas cobertas cobertas cobertas ingerido cobertas molhada cobertas cobertas molhada cobertas cobertas pecado cobertas cobertas cobertas cobertas lavem ingerido ingerido lavem cobertas cobertas ingerido cobertas cobertas cobertas cobertas cobertas cobertas cobertas ingerido cobertas molhada cobertas cobertas molhada cobertas cobertas pecado cobertas cobertas cobertas cobertas astronomia ingerido ingerido astronomia cobertas cobertas ingerido cobertas cobertas cobertas cobertas cobertas cobertas cobertas ingerido cobertas saudades cobertas cobertas saudades cobertas cobertas pecado cobertas cobertas cobertas cobertas lavem ingerido ingerido lavem cobertas cobertas ingerido cobertas cobertas cobertas astronomia astronomia astronomia astronomia ingerido astronomia saudades astronomia astronomia saudades astronomia astronomia pecado astronomia astronomia astronomia astronomia lavem ingerido ingerido lavem astronomia astronomia ingerido astronomia astronomia astronomia palavra palavra palavra palavra detestasse palavra tecidos palavra palavra tecidos palavra palavra abeto palavra palavra palavra palavra correspondência detestasse detestasse correspondência palavra palavra detestasse palavra palavra palavra mataria mataria mataria mataria teremos mataria saudades mataria mataria saudades mataria mataria muralha mataria mataria mataria mataria dançaremos teremos teremos dançaremos mataria mataria teremos mataria mataria mataria quiseram quiseram quiseram quiseram quiseram quiseram saudades quiseram quiseram saudades quiseram quiseram saibam quiseram quiseram quiseram quiseram importasse quiseram quiseram importasse quiseram quiseram quiseram quiseram quiseram quiseram voam voam voam voam quiseram voam enganamos voam voam enganamos voam voam muralha voam voam voam voam tivesse quiseram quiseram tivesse voam voam quiseram voam voam voam canceladas canceladas canceladas canceladas elemento canceladas enganamos canceladas canceladas enganamos canceladas canceladas abraçar canceladas canceladas canceladas canceladas alimente elemento elemento alimente canceladas canceladas elemento canceladas canceladas canceladas cobertas cobertas cobertas cobertas comecei cobertas enganamos cobertas cobertas enganamos cobertas cobertas abraçar cobertas cobertas cobertas cobertas dançaremos comecei comecei dançaremos cobertas cobertas comecei cobertas cobertas cobertas cobertas cobertas cobertas cobertas nomeei cobertas saudades cobertas cobertas saudades cobertas cobertas pecado cobertas cobertas cobertas cobertas lavem nomeei nomeei lavem cobertas cobertas nomeei cobertas cobertas cobertas astronomia astronomia astronomia astronomia nomeei astronomia saudades astronomia astronomia saudades astronomia astronomia lembro astronomia astronomia astronomia astronomia astronomia nomeei nomeei astronomia astronomia astronomia nomeei astronomia astronomia astronomia palavra palavra palavra palavra traveler palavra tecidos palavra palavra tecidos palavra palavra abeto palavra palavra palavra palavra palavra traveler traveler palavra palavra palavra traveler palavra palavra palavra cobertas cobertas cobertas cobertas teremos cobertas saudades cobertas cobertas saudades cobertas cobertas muralha cobertas cobertas cobertas cobertas dançaremos teremos teremos dançaremos cobertas cobertas teremos cobertas cobertas cobertas astronomia astronomia astronomia astronomia nomeei astronomia saudades astronomia astronomia saudades astronomia astronomia lembro astronomia astronomia astronomia astronomia astronomia nomeei nomeei astronomia astronomia astronomia nomeei astronomia astronomia astronomia palavra palavra palavra palavra assassinado palavra tecidos palavra palavra tecidos palavra palavra abeto palavra palavra palavra palavra palavra assassinado assassinado palavra palavra palavra assassinado palavra palavra palavra cobertas cobertas cobertas cobertas teremos cobertas saudades cobertas cobertas saudades cobertas cobertas muralha cobertas cobertas cobertas cobertas dançaremos teremos teremos dançaremos cobertas cobertas teremos cobertas cobertas cobertas cobertas cobertas cobertas cobertas ingerido cobertas saudades cobertas cobertas saudades cobertas cobertas pecado cobertas cobertas cobertas cobertas lavem ingerido ingerido lavem cobertas cobertas ingerido cobertas cobertas cobertas cobertas cobertas cobertas cobertas ingerido cobertas saudades cobertas cobertas saudades cobertas cobertas pecado cobertas cobertas cobertas cobertas restos ingerido ingerido restos cobertas cobertas ingerido cobertas cobertas cobertas astronomia astronomia astronomia astronomia nomeei astronomia saudades astronomia astronomia saudades astronomia astronomia pecado astronomia astronomia astronomia astronomia astronomia nomeei nomeei astronomia astronomia astronomia nomeei astronomia astronomia astronomia palavra palavra palavra palavra detestasse palavra tecidos palavra palavra tecidos palavra palavra abeto palavra palavra palavra palavra palavra detestasse detestasse palavra palavra palavra detestasse palavra palavra palavra cobertas cobertas cobertas cobertas teremos cobertas saudades cobertas cobertas saudades cobertas cobertas muralha cobertas cobertas cobertas cobertas dançaremos teremos teremos dançaremos cobertas cobertas teremos cobertas cobertas cobertas astronomia astronomia astronomia astronomia nomeei astronomia saudades astronomia astronomia saudades astronomia astronomia pecado astronomia astronomia astronomia astronomia astronomia nomeei nomeei astronomia astronomia astronomia nomeei astronomia astronomia astronomia palavra palavra palavra palavra palavra palavra tecidos palavra palavra tecidos palavra palavra abeto palavra palavra palavra palavra palavra palavra palavra palavra palavra palavra palavra palavra palavra palavra mataria mataria mataria mataria teremos mataria saudades mataria mataria saudades mataria mataria muralha mataria mataria mataria mataria dançaremos teremos teremos dançaremos mataria mataria teremos mataria mataria mataria cobertas cobertas cobertas cobertas quiseram cobertas apresente cobertas cobertas apresente cobertas cobertas saibam cobertas cobertas cobertas cobertas hokkaido quiseram quiseram hokkaido cobertas cobertas quiseram cobertas cobertas cobertas cobertas cobertas cobertas cobertas ingerido cobertas saudades cobertas cobertas saudades cobertas cobertas pecado cobertas cobertas cobertas cobertas restos ingerido ingerido restos cobertas cobertas ingerido cobertas cobertas cobertas astronomia astronomia astronomia astronomia ingerido astronomia saudades astronomia astronomia saudades astronomia astronomia pecado astronomia astronomia astronomia astronomia astronomia ingerido ingerido astronomia astronomia astronomia ingerido astronomia astronomia astronomia palavra palavra palavra palavra assassinado palavra tecidos palavra palavra tecidos palavra palavra abeto palavra palavra palavra palavra palavra assassinado assassinado palavra palavra palavra assassinado palavra palavra palavra cobertas cobertas cobertas cobertas teremos cobertas saudades cobertas cobertas saudades cobertas cobertas muralha cobertas cobertas cobertas cobertas dançaremos teremos teremos dançaremos cobertas cobertas teremos cobertas cobertas cobertas astronomia astronomia astronomia astronomia nomeei astronomia saudades astronomia astronomia saudades astronomia astronomia pecado astronomia astronomia astronomia astronomia astronomia nomeei nomeei astronomia astronomia astronomia nomeei astronomia astronomia astronomia palavra palavra palavra palavra traveler palavra tecidos palavra palavra tecidos palavra palavra abeto palavra palavra palavra palavra palavra traveler traveler palavra palavra palavra traveler palavra palavra palavra mataria mataria mataria mataria teremos mataria saudades mataria mataria saudades mataria mataria muralha mataria mataria mataria mataria dançaremos teremos teremos dançaremos mataria mataria teremos mataria mataria mataria cobertas cobertas cobertas cobertas quiseram cobertas apresente cobertas cobertas apresente cobertas cobertas além cobertas cobertas cobertas cobertas hokkaido quiseram quiseram hokkaido cobertas cobertas quiseram cobertas cobertas cobertas cobertas cobertas cobertas cobertas ingerido cobertas saudades cobertas cobertas saudades cobertas cobertas pecado cobertas cobertas cobertas cobertas lavem ingerido ingerido lavem cobertas cobertas ingerido cobertas cobertas cobertas astronomia astronomia astronomia astronomia nomeei astronomia saudades astronomia astronomia saudades astronomia astronomia pecado astronomia astronomia astronomia astronomia astronomia nomeei nomeei astronomia astronomia astronomia nomeei astronomia astronomia astronomia palavra palavra palavra palavra assassinado palavra tecidos palavra palavra tecidos palavra palavra abeto palavra palavra palavra palavra palavra assassinado assassinado palavra palavra palavra assassinado palavra palavra palavra cobertas cobertas cobertas cobertas teremos cobertas saudades cobertas cobertas saudades cobertas cobertas muralha cobertas cobertas cobertas cobertas dançaremos teremos teremos dançaremos cobertas cobertas teremos cobertas cobertas cobertas astronomia astronomia astronomia astronomia nomeei astronomia saudades astronomia astronomia saudades astronomia astronomia pecado astronomia astronomia astronomia astronomia astronomia nomeei nomeei astronomia astronomia astronomia nomeei astronomia astronomia astronomia palavra palavra palavra palavra palavra palavra tecidos palavra palavra tecidos palavra palavra abeto palavra palavra palavra palavra palavra palavra palavra palavra palavra palavra palavra palavra palavra palavra mataria mataria mataria mataria teremos mataria saudades mataria mataria saudades mataria mataria muralha mataria mataria mataria mataria dançaremos teremos teremos dançaremos mataria mataria teremos mataria mataria mataria cobertas cobertas cobertas cobertas quiseram cobertas apresente cobertas cobertas apresente cobertas cobertas saibam cobertas cobertas cobertas cobertas hokkaido quiseram quiseram hokkaido cobertas cobertas quiseram cobertas cobertas cobertas cobertas cobertas cobertas cobertas ingerido cobertas saudades cobertas cobertas saudades cobertas cobertas pecado cobertas cobertas cobertas cobertas restos ingerido ingerido restos cobertas cobertas ingerido cobertas cobertas cobertas astronomia astronomia astronomia astronomia nomeei astronomia saudades astronomia astronomia saudades astronomia astronomia pecado astronomia astronomia astronomia astronomia astronomia nomeei nomeei astronomia astronomia astronomia nomeei astronomia astronomia astronomia palavra palavra palavra palavra palavra palavra tecidos palavra palavra tecidos palavra palavra abeto palavra palavra palavra palavra palavra palavra palavra palavra palavra palavra palavra palavra palavra palavra cobertas cobertas cobertas cobertas teremos cobertas saudades cobertas cobertas saudades cobertas cobertas muralha cobertas cobertas cobertas cobertas dançaremos teremos teremos dançaremos cobertas cobertas teremos cobertas cobertas cobertas astronomia astronomia astronomia astronomia nomeei astronomia saudades astronomia astronomia saudades astronomia astronomia pecado astronomia astronomia astronomia astronomia astronomia nomeei nomeei astronomia astronomia astronomia nomeei astronomia astronomia astronomia palavra palavra palavra palavra palavra palavra tecidos palavra palavra tecidos palavra palavra abeto palavra palavra palavra palavra palavra palavra palavra palavra palavra palavra palavra palavra palavra palavra mataria mataria mataria mataria teremos mataria saudades mataria mataria saudades mataria mataria muralha mataria mataria mataria mataria dançaremos teremos teremos dançaremos mataria mataria teremos mataria mataria mataria cobertas cobertas cobertas cobertas quiseram cobertas apresente cobertas cobertas apresente cobertas cobertas saibam cobertas cobertas cobertas cobertas hokkaido quiseram quiseram hokkaido cobertas cobertas quiseram cobertas cobertas cobertas cobertas cobertas cobertas cobertas ingerido cobertas saudades cobertas cobertas saudades cobertas cobertas pecado cobertas cobertas cobertas cobertas restos ingerido ingerido restos cobertas cobertas ingerido cobertas cobertas cobertas astronomia astronomia astronomia astronomia nomeei astronomia saudades astronomia astronomia saudades astronomia astronomia pecado astronomia astronomia astronomia astronomia astronomia nomeei nomeei astronomia astronomia astronomia nomeei astronomia astronomia astronomia palavra palavra palavra palavra palavra palavra tecidos palavra palavra tecidos palavra palavra abeto palavra palavra palavra palavra palavra palavra palavra palavra palavra palavra palavra palavra palavra palavra cobertas cobertas cobertas cobertas teremos cobertas saudades cobertas cobertas saudades cobertas cobertas muralha cobertas cobertas cobertas cobertas dançaremos teremos teremos dançaremos cobertas cobertas teremos cobertas cobertas cobertas astronomia astronomia astronomia astronomia nomeei astronomia saudades astronomia astronomia saudades astronomia astronomia pecado astronomia astronomia astronomia astronomia astronomia nomeei nomeei astronomia astronomia astronomia nomeei astronomia astronomia astronomia palavra palavra palavra palavra palavra palavra tecidos palavra palavra tecidos palavra palavra abeto palavra palavra palavra palavra palavra palavra palavra palavra palavra palavra palavra palavra palavra palavra mataria mataria mataria mataria teremos mataria saudades mataria mataria saudades mataria mataria muralha mataria mataria mataria mataria dançaremos teremos teremos dançaremos mataria mataria teremos mataria mataria mataria cobertas cobertas cobertas cobertas quiseram cobertas apresente cobertas cobertas apresente cobertas cobertas saibam cobertas cobertas cobertas cobertas hokkaido quiseram quiseram hokkaido cobertas cobertas quiseram cobertas cobertas cobertas cobertas cobertas cobertas cobertas ingerido cobertas saudades cobertas cobertas saudades cobertas cobertas pecado cobertas cobertas cobertas cobertas restos ingerido ingerido restos cobertas cobertas ingerido cobertas cobertas cobertas astronomia astronomia astronomia astronomia nomeei astronomia saudades astronomia astronomia saudades astronomia astronomia pecado astronomia astronomia astronomia astronomia astronomia nomeei nomeei astronomia astronomia astronomia nomeei astronomia astronomia astronomia palavra palavra palavra palavra palavra palavra tecidos palavra palavra tecidos palavra palavra abeto palavra palavra palavra palavra palavra palavra palavra palavra palavra palavra palavra palavra palavra palavra cobertas cobertas cobertas cobertas teremos cobertas saudades cobertas cobertas saudades cobertas cobertas muralha cobertas cobertas cobertas cobertas dançaremos teremos teremos dançaremos cobertas cobertas teremos cobertas cobertas cobertas astronomia astronomia astronomia astronomia nomeei astronomia saudades astronomia astronomia saudades astronomia astronomia pecado astronomia astronomia astronomia astronomia astronomia nomeei nomeei astronomia astronomia astronomia nomeei astronomia astronomia astronomia palavra palavra palavra palavra palavra palavra tecidos palavra palavra tecidos palavra palavra abeto palavra palavra palavra palavra palavra palavra palavra palavra palavra palavra palavra palavra palavra palavra mataria mataria mataria mataria teremos mataria saudades mataria mataria saudades mataria mataria muralha mataria mataria mataria mataria dançaremos teremos teremos dançaremos mataria mataria teremos mataria mataria mataria cobertas cobertas cobertas cobertas quiseram cobertas apresente cobertas cobertas apresente cobertas cobertas saibam cobertas cobertas cobertas cobertas hokkaido quiseram quiseram hokkaido cobertas cobertas quiseram cobertas cobertas cobertas cobertas cobertas cobertas cobertas ingerido cobertas saudades cobertas cobertas saudades cobertas cobertas pecado cobertas cobertas cobertas cobertas restos ingerido ingerido restos cobertas cobertas ingerido cobertas cobertas cobertas astronomia astronomia astronomia astronomia nomeei astronomia saudades astronomia astronomia saudades astronomia astronomia pecado astronomia astronomia astronomia astronomia astronomia nomeei nomeei astronomia astronomia astronomia nomeei astronomia astronomia astronomia palavra palavra palavra palavra palavra palavra tecidos palavra palavra tecidos palavra palavra abeto palavra palavra palavra palavra palavra palavra palavra palavra palavra palavra palavra palavra palavra palavra cobertas cobertas cobertas cobertas teremos cobertas saudades cobertas cobertas saudades cobertas cobertas muralha cobertas cobertas cobertas cobertas dançaremos teremos teremos dançaremos cobertas cobertas teremos cobertas cobertas cobertas astronomia astronomia astronomia astronomia nomeei astronomia saudades astronomia astronomia saudades astronomia astronomia pecado astronomia astronomia astronomia astronomia astronomia nomeei nomeei astronomia astronomia astronomia nomeei astronomia astronomia astronomia palavra palavra palavra palavra palavra palavra tecidos palavra palavra tecidos palavra palavra abeto palavra palavra palavra palavra palavra palavra palavra palavra palavra palavra palavra palavra palavra palavra mataria mataria mataria mataria teremos mataria saudades mataria mataria saudades mataria mataria muralha mataria mataria mataria mataria dançaremos teremos teremos dançaremos mataria mataria teremos mataria mataria mataria cobertas cobertas cobertas cobertas quiseram cobertas apresente cobertas cobertas apresente cobertas cobertas saibam cobertas cobertas cobertas cobertas hokkaido quiseram quiseram hokkaido cobertas cobertas quiseram cobertas cobertas cobertas cobertas cobertas cobertas cobertas ingerido cobertas saudades cobertas cobertas saudades cobertas cobertas pecado cobertas cobertas cobertas cobertas restos ingerido ingerido restos cobertas cobertas ingerido cobertas cobertas cobertas astronomia astronomia astronomia astronomia nomeei astronomia saudades astronomia astronomia saudades astronomia astronomia pecado astronomia astronomia astronomia astronomia astronomia nomeei nomeei astronomia astronomia astronomia nomeei astronomia astronomia astronomia palavra palavra palavra palavra palavra palavra tecidos palavra palavra tecidos palavra palavra abeto palavra palavra palavra palavra palavra palavra palavra palavra palavra palavra palavra palavra palavra palavra cobertas cobertas cobertas cobertas teremos cobertas saudades cobertas cobertas saudades cobertas cobertas muralha cobertas cobertas cobertas cobertas dançaremos teremos teremos dançaremos cobertas cobertas teremos cobertas cobertas cobertas astronomia astronomia astronomia astronomia nomeei astronomia saudades astronomia astronomia saudades astronomia astronomia pecado astronomia astronomia astronomia astronomia astronomia nomeei nomeei astronomia astronomia astronomia nomeei astronomia astronomia astronomia palavra palavra palavra palavra palavra palavra tecidos palavra palavra tecidos palavra palavra abeto palavra palavra palavra palavra palavra palavra palavra palavra palavra palavra palavra palavra palavra palavra mataria mataria mataria mataria teremos mataria saudades mataria mataria saudades mataria mataria muralha mataria mataria mataria mataria dançaremos teremos teremos dançaremos mataria mataria teremos mataria mataria mataria cobertas cobertas cobertas cobertas quiseram cobertas apresente cobertas cobertas apresente cobertas cobertas saibam cobertas cobertas cobertas cobertas hokkaido quiseram quiseram hokkaido cobertas cobertas quiseram cobertas cobertas cobertas cobertas cobertas cobertas cobertas ingerido cobertas saudades cobertas cobertas saudades cobertas cobertas pecado cobertas cobertas cobertas cobertas restos ingerido ingerido restos cobertas cobertas ingerido cobertas cobertas cobertas astronomia astronomia astronomia astronomia nomeei astronomia saudades astronomia astronomia saudades astronomia astronomia pecado astronomia astronomia astronomia astronomia astronomia nomeei nomeei astronomia astronomia astronomia nomeei astronomia astronomia astronomia palavra palavra palavra palavra palavra palavra tecidos palavra palavra tecidos palavra palavra abeto palavra palavra palavra palavra palavra palavra palavra palavra palavra palavra palavra palavra palavra palavra cobertas cobertas cobertas cobertas teremos cobertas saudades cobertas cobertas saudades cobertas cobertas muralha cobertas cobertas cobertas cobertas dançaremos teremos teremos dançaremos cobertas cobertas teremos cobertas cobertas cobertas astronomia astronomia astronomia astronomia nomeei astronomia saudades astronomia astronomia saudades astronomia astronomia pecado astronomia astronomia astronomia astronomia astronomia nomeei nomeei astronomia astronomia astronomia nomeei astronomia astronomia astronomia palavra palavra palavra palavra palavra palavra tecidos palavra palavra tecidos palavra palavra abeto palavra palavra palavra palavra palavra palavra palavra palavra palavra palavra palavra palavra palavra palavra mataria mataria mataria mataria teremos mataria saudades mataria mataria saudades mataria mataria muralha mataria mataria mataria mataria dançaremos teremos teremos dançaremos mataria mataria teremos mataria mataria mataria cobertas cobertas cobertas cobertas quiseram cobertas apresente cobertas cobertas apresente cobertas cobertas saibam cobertas cobertas cobertas cobertas hokkaido quiseram quiseram hokkaido cobertas cobertas quiseram cobertas cobertas cobertas cobertas cobertas cobertas cobertas ingerido cobertas saudades cobertas cobertas saudades cobertas cobertas pecado cobertas cobertas cobertas cobertas restos ingerido ingerido restos cobertas cobertas ingerido cobertas cobertas cobertas astronomia astronomia astronomia astronomia nomeei astronomia saudades astronomia astronomia saudades astronomia astronomia pecado astronomia astronomia astronomia astronomia astronomia nomeei nomeei astronomia astronomia astronomia nomeei astronomia astronomia astronomia palavra palavra palavra palavra palavra palavra tecidos palavra palavra tecidos palavra palavra abeto palavra palavra palavra palavra palavra palavra palavra palavra palavra palavra palavra palavra palavra palavra cobertas cobertas cobertas cobertas teremos cobertas saudades cobertas cobertas saudades cobertas cobertas muralha cobertas cobertas cobertas cobertas dançaremos teremos teremos dançaremos cobertas cobertas teremos cobertas cobertas cobertas astronomia astronomia astronomia astronomia nomeei astronomia saudades astronomia astronomia saudades astronomia astronomia pecado astronomia astronomia astronomia astronomia astronomia nomeei nomeei astronomia astronomia astronomia nomeei astronomia astronomia astronomia palavra palavra palavra palavra palavra palavra tecidos palavra palavra tecidos palavra palavra abeto palavra palavra palavra palavra palavra palavra palavra palavra palavra palavra palavra palavra palavra palavra mataria mataria mataria mataria teremos mataria saudades mataria mataria saudades mataria mataria muralha mataria mataria mataria mataria dançaremos teremos teremos dançaremos mataria mataria teremos mataria mataria mataria cobertas cobertas cobertas cobertas quiseram cobertas apresente cobertas cobertas apresente cobertas cobertas saibam cobertas cobertas cobertas cobertas hokkaido quiseram quiseram hokkaido cobertas cobertas quiseram cobertas cobertas cobertas cobertas cobertas cobertas cobertas ingerido cobertas saudades cobertas cobertas saudades cobertas cobertas pecado cobertas cobertas cobertas cobertas restos ingerido ingerido restos cobertas cobertas ingerido cobertas cobertas cobertas astronomia astronomia astronomia astronomia nomeei astronomia saudades astronomia astronomia saudades astronomia astronomia pecado astronomia astronomia astronomia astronomia astronomia nomeei nomeei astronomia astronomia astronomia nomeei astronomia astronomia astronomia palavra palavra palavra palavra palavra palavra tecidos palavra palavra tecidos palavra palavra abeto palavra palavra palavra palavra palavra palavra palavra palavra palavra palavra palavra palavra palavra palavra cobertas cobertas cobertas cobertas teremos cobertas saudades cobertas cobertas saudades cobertas cobertas muralha cobertas cobertas cobertas cobertas dançaremos teremos teremos dançaremos cobertas cobertas teremos cobertas cobertas cobertas astronomia astronomia astronomia astronomia nomeei astronomia saudades astronomia astronomia saudades astronomia astronomia pecado astronomia astronomia astronomia astronomia astronomia nomeei nomeei astronomia astronomia astronomia nomeei astronomia astronomia astronomia palavra palavra palavra palavra palavra palavra tecidos palavra palavra tecidos palavra palavra abeto palavra palavra palavra palavra palavra palavra palavra palavra palavra palavra palavra palavra palavra palavra mataria mataria mataria mataria teremos mataria saudades mataria mataria saudades mataria mataria muralha mataria mataria mataria mataria dançaremos teremos teremos dançaremos mataria mataria teremos mataria mataria mataria cobertas cobertas cobertas cobertas quiseram cobertas apresente cobertas cobertas apresente cobertas cobertas saibam cobertas cobertas cobertas cobertas hokkaido quiseram quiseram hokkaido cobertas cobertas quiseram cobertas cobertas cobertas cobertas cobertas cobertas cobertas ingerido cobertas saudades cobertas cobertas saudades cobertas cobertas pecado cobertas cobertas cobertas cobertas restos ingerido ingerido restos cobertas cobertas ingerido cobertas cobertas cobertas astronomia astronomia astronomia astronomia nomeei astronomia saudades astronomia astronomia saudades astronomia astronomia pecado astronomia astronomia astronomia astronomia astronomia nomeei nomeei astronomia astronomia astronomia nomeei astronomia astronomia astronomia palavra palavra palavra palavra palavra palavra tecidos palavra palavra tecidos palavra palavra abeto palavra palavra palavra palavra palavra palavra palavra palavra palavra palavra palavra palavra palavra palavra cobertas cobertas cobertas cobertas teremos cobertas saudades cobertas cobertas saudades cobertas cobertas muralha cobertas cobertas cobertas cobertas dançaremos teremos teremos dançaremos cobertas cobertas teremos cobertas cobertas cobertas astronomia astronomia astronomia astronomia nomeei astronomia saudades astronomia astronomia saudades astronomia astronomia pecado astronomia astronomia astronomia astronomia astronomia nomeei nomeei astronomia astronomia astronomia nomeei astronomia astronomia astronomia palavra palavra palavra palavra palavra palavra tecidos palavra palavra tecidos palavra palavra abeto palavra palavra palavra palavra palavra palavra palavra palavra palavra palavra palavra palavra palavra palavra mataria mataria mataria mataria teremos mataria saudades mataria mataria saudades mataria mataria muralha mataria mataria mataria mataria dançaremos teremos teremos dançaremos mataria mataria teremos mataria mataria mataria cobertas cobertas cobertas cobertas quiseram cobertas apresente cobertas cobertas apresente cobertas cobertas saibam cobertas cobertas cobertas cobertas hokkaido quiseram quiseram hokkaido cobertas cobertas quiseram cobertas cobertas cobertas cobertas cobertas cobertas cobertas ingerido cobertas saudades cobertas cobertas saudades cobertas cobertas pecado cobertas cobertas cobertas cobertas restos ingerido ingerido restos cobertas cobertas ingerido cobertas cobertas cobertas astronomia astronomia astronomia astronomia nomeei astronomia saudades astronomia astronomia saudades astronomia astronomia pecado astronomia astronomia astronomia astronomia astronomia nomeei nomeei astronomia astronomia astronomia nomeei astronomia astronomia astronomia palavra palavra palavra palavra palavra palavra tecidos palavra palavra tecidos palavra palavra abeto palavra palavra palavra palavra palavra palavra palavra palavra palavra palavra palavra palavra palavra palavra cobertas cobertas cobertas cobertas teremos cobertas saudades cobertas cobertas saudades cobertas cobertas muralha cobertas cobertas cobertas cobertas dançaremos teremos teremos dançaremos cobertas cobertas teremos cobertas cobertas cobertas astronomia astronomia astronomia astronomia nomeei astronomia saudades astronomia astronomia saudades astronomia astronomia pecado astronomia astronomia astronomia astronomia astronomia nomeei nomeei astronomia astronomia astronomia nomeei astronomia astronomia astronomia palavra palavra palavra palavra palavra palavra tecidos palavra palavra tecidos palavra palavra abeto palavra palavra palavra palavra palavra palavra palavra palavra palavra palavra palavra palavra palavra palavra mataria mataria mataria mataria teremos mataria saudades mataria mataria saudades mataria mataria muralha mataria mataria mataria mataria dançaremos teremos teremos dançaremos mataria mataria teremos mataria mataria mataria cobertas cobertas cobertas cobertas quiseram cobertas apresente cobertas cobertas apresente cobertas cobertas saibam cobertas cobertas cobertas cobertas hokkaido quiseram quiseram hokkaido cobertas cobertas quiseram cobertas cobertas cobertas cobertas cobertas cobertas cobertas ingerido cobertas saudades cobertas cobertas saudades cobertas cobertas pecado cobertas cobertas cobertas cobertas restos ingerido ingerido restos cobertas cobertas ingerido cobertas cobertas cobertas astronomia astronomia astronomia astronomia nomeei astronomia saudades astronomia astronomia saudades astronomia astronomia pecado astronomia astronomia astronomia astronomia astronomia nomeei nomeei astronomia astronomia astronomia nomeei astronomia astronomia astronomia palavra palavra palavra palavra palavra palavra tecidos palavra palavra tecidos palavra palavra abeto palavra palavra palavra palavra palavra palavra palavra palavra palavra palavra palavra palavra palavra palavra cobertas cobertas cobertas cobertas teremos cobertas saudades cobertas cobertas saudades cobertas cobertas muralha cobertas cobertas cobertas cobertas dançaremos teremos teremos dançaremos cobertas cobertas teremos cobertas cobertas cobertas astronomia astronomia astronomia astronomia nomeei astronomia saudades astronomia astronomia saudades astronomia astronomia pecado astronomia astronomia astronomia astronomia astronomia nomeei nomeei astronomia astronomia astronomia nomeei astronomia astronomia astronomia palavra palavra palavra palavra palavra palavra tecidos palavra palavra tecidos palavra palavra abeto palavra palavra palavra palavra palavra palavra palavra palavra palavra palavra palavra palavra palavra palavra mataria mataria mataria mataria teremos mataria saudades mataria mataria saudades mataria mataria muralha mataria mataria mataria mataria dançaremos teremos teremos dançaremos mataria mataria teremos mataria mataria mataria cobertas cobertas cobertas cobertas quiseram cobertas apresente cobertas cobertas apresente cobertas cobertas saibam cobertas cobertas cobertas cobertas hokkaido quiseram quiseram hokkaido cobertas cobertas quiseram cobertas cobertas cobertas cobertas cobertas cobertas cobertas ingerido cobertas saudades cobertas cobertas saudades cobertas cobertas pecado cobertas cobertas cobertas cobertas restos ingerido ingerido restos cobertas cobertas ingerido cobertas cobertas cobertas astronomia astronomia astronomia astronomia nomeei astronomia saudades astronomia astronomia saudades astronomia astronomia pecado astronomia astronomia astronomia astronomia astronomia nomeei nomeei astronomia astronomia astronomia nomeei astronomia astronomia astronomia palavra palavra palavra palavra palavra palavra tecidos palavra palavra tecidos palavra palavra abeto palavra palavra palavra palavra palavra palavra palavra palavra palavra palavra palavra palavra palavra palavra cobertas cobertas cobertas cobertas teremos cobertas saudades cobertas cobertas saudades cobertas cobertas muralha cobertas cobertas cobertas cobertas dançaremos teremos teremos dançaremos cobertas cobertas teremos cobertas cobertas cobertas astronomia astronomia astronomia astronomia nomeei astronomia saudades astronomia astronomia saudades astronomia astronomia pecado astronomia astronomia astronomia astronomia astronomia nomeei nomeei astronomia astronomia astronomia nomeei astronomia astronomia astronomia palavra palavra palavra palavra palavra palavra tecidos palavra palavra tecidos palavra palavra abeto palavra palavra palavra palavra palavra palavra palavra palavra palavra palavra palavra palavra palavra palavra mataria mataria mataria mataria teremos mataria saudades mataria mataria saudades mataria mataria muralha mataria mataria mataria mataria dançaremos teremos teremos dançaremos mataria mataria teremos mataria mataria mataria cobertas cobertas cobertas cobertas quiseram cobertas apresente cobertas cobertas apresente cobertas cobertas saibam cobertas cobertas cobertas cobertas hokkaido quiseram quiseram hokkaido cobertas cobertas quiseram cobertas cobertas cobertas cobertas cobertas cobertas cobertas ingerido cobertas saudades cobertas cobertas saudades cobertas cobertas pecado cobertas cobertas cobertas cobertas restos ingerido ingerido restos cobertas cobertas ingerido cobertas cobertas cobertas astronomia astronomia astronomia astronomia nomeei astronomia saudades astronomia astronomia saudades astronomia astronomia pecado astronomia astronomia astronomia astronomia astronomia nomeei nomeei astronomia astronomia astronomia nomeei astronomia astronomia astronomia palavra palavra palavra palavra palavra palavra tecidos palavra palavra tecidos palavra palavra abeto palavra palavra palavra palavra palavra palavra palavra palavra palavra palavra palavra palavra palavra palavra cobertas cobertas cobertas cobertas teremos cobertas saudades cobertas cobertas saudades cobertas cobertas muralha cobertas cobertas cobertas cobertas dançaremos teremos teremos dançaremos cobertas cobertas teremos cobertas cobertas cobertas astronomia astronomia astronomia astronomia nomeei astronomia saudades astronomia astronomia saudades astronomia astronomia pecado astronomia astronomia astronomia astronomia astronomia nomeei nomeei astronomia astronomia astronomia nomeei astronomia astronomia astronomia palavra palavra palavra palavra palavra palavra tecidos palavra palavra tecidos palavra palavra abeto palavra palavra palavra palavra palavra palavra palavra palavra palavra palavra palavra palavra palavra palavra mataria mataria mataria mataria teremos mataria saudades mataria mataria saudades mataria mataria muralha mataria mataria mataria mataria dançaremos teremos teremos dançaremos mataria mataria teremos mataria mataria mataria cobertas cobertas cobertas cobertas quiseram cobertas apresente cobertas cobertas apresente cobertas cobertas saibam cobertas cobertas cobertas cobertas hokkaido quiseram quiseram hokkaido cobertas cobertas quiseram cobertas cobertas cobertas cobertas cobertas cobertas cobertas ingerido cobertas saudades cobertas cobertas saudades cobertas cobertas pecado cobertas cobertas cobertas cobertas restos ingerido ingerido restos cobertas cobertas ingerido cobertas cobertas cobertas astronomia astronomia astronomia astronomia nomeei astronomia saudades astronomia astronomia saudades astronomia astronomia pecado astronomia astronomia astronomia astronomia astronomia nomeei nomeei astronomia astronomia astronomia nomeei astronomia astronomia astronomia palavra palavra palavra palavra palavra palavra tecidos palavra palavra tecidos palavra palavra abeto palavra palavra palavra palavra palavra palavra palavra palavra palavra palavra palavra palavra palavra palavra cobertas cobertas cobertas cobertas teremos cobertas saudades cobertas cobertas saudades cobertas cobertas muralha cobertas cobertas cobertas cobertas dançaremos teremos teremos dançaremos cobertas cobertas teremos cobertas cobertas cobertas astronomia astronomia astronomia astronomia nomeei astronomia saudades astronomia astronomia saudades astronomia astronomia pecado astronomia astronomia astronomia astronomia astronomia nomeei nomeei astronomia astronomia astronomia nomeei astronomia astronomia astronomia palavra palavra palavra palavra palavra palavra tecidos palavra palavra tecidos palavra palavra abeto palavra palavra palavra palavra palavra palavra palavra palavra palavra palavra palavra palavra palavra palavra mataria mataria mataria mataria teremos mataria saudades mataria mataria saudades mataria mataria muralha mataria mataria mataria mataria dançaremos teremos teremos dançaremos mataria mataria teremos mataria mataria mataria cobertas cobertas cobertas cobertas quiseram cobertas apresente cobertas cobertas apresente cobertas cobertas saibam cobertas cobertas cobertas cobertas hokkaido quiseram quiseram hokkaido cobertas cobertas quiseram cobertas cobertas cobertas cobertas cobertas cobertas cobertas ingerido cobertas saudades cobertas cobertas saudades cobertas cobertas pecado cobertas cobertas cobertas cobertas restos ingerido ingerido restos cobertas cobertas ingerido cobertas cobertas cobertas astronomia astronomia astronomia astronomia nomeei astronomia saudades astronomia astronomia saudades astronomia astronomia pecado astronomia astronomia astronomia astronomia astronomia nomeei nomeei astronomia astronomia astronomia nomeei astronomia astronomia astronomia palavra palavra palavra palavra palavra palavra tecidos palavra palavra tecidos palavra palavra abeto palavra palavra palavra palavra palavra palavra palavra palavra palavra palavra palavra palavra palavra palavra cobertas cobertas cobertas cobertas teremos cobertas saudades cobertas cobertas saudades cobertas cobertas muralha cobertas cobertas cobertas cobertas dançaremos teremos teremos dançaremos cobertas cobertas teremos cobertas cobertas cobertas astronomia astronomia astronomia astronomia nomeei astronomia saudades astronomia astronomia saudades astronomia astronomia pecado astronomia astronomia astronomia astronomia astronomia nomeei nomeei astronomia astronomia astronomia nomeei astronomia astronomia astronomia palavra palavra palavra palavra palavra palavra tecidos palavra palavra tecidos palavra palavra abeto palavra palavra palavra palavra palavra palavra palavra palavra palavra palavra palavra palavra palavra palavra mataria mataria mataria mataria teremos mataria saudades mataria mataria saudades mataria mataria muralha mataria mataria mataria mataria dançaremos teremos teremos dançaremos mataria mataria teremos mataria mataria mataria cobertas cobertas cobertas cobertas quiseram cobertas apresente cobertas cobertas apresente cobertas cobertas saibam cobertas cobertas cobertas cobertas hokkaido quiseram quiseram hokkaido cobertas cobertas quiseram cobertas cobertas cobertas cobertas cobertas cobertas cobertas ingerido cobertas saudades cobertas cobertas saudades cobertas cobertas pecado cobertas cobertas cobertas cobertas restos ingerido ingerido restos cobertas cobertas ingerido cobertas cobertas cobertas astronomia astronomia astronomia astronomia nomeei astronomia saudades astronomia astronomia saudades astronomia astronomia pecado astronomia astronomia astronomia astronomia astronomia nomeei nomeei astronomia astronomia astronomia nomeei astronomia astronomia astronomia palavra palavra palavra palavra palavra palavra tecidos palavra palavra tecidos palavra palavra abeto palavra palavra palavra palavra palavra palavra palavra palavra palavra palavra palavra palavra palavra palavra cobertas cobertas cobertas cobertas teremos cobertas saudades cobertas cobertas saudades cobertas cobertas muralha cobertas cobertas cobertas cobertas dançaremos teremos teremos dançaremos cobertas cobertas teremos cobertas cobertas cobertas astronomia astronomia astronomia astronomia nomeei astronomia saudades astronomia astronomia saudades astronomia astronomia pecado astronomia astronomia astronomia astronomia astronomia nomeei nomeei astronomia astronomia astronomia nomeei astronomia astronomia astronomia palavra palavra palavra palavra palavra palavra tecidos palavra palavra tecidos palavra palavra abeto palavra palavra palavra palavra palavra palavra palavra palavra palavra palavra palavra palavra palavra palavra mataria mataria mataria mataria teremos mataria saudades mataria mataria saudades mataria mataria muralha mataria mataria mataria mataria dançaremos teremos teremos dançaremos mataria mataria teremos mataria mataria mataria cobertas cobertas cobertas cobertas quiseram cobertas apresente cobertas cobertas apresente cobertas cobertas saibam cobertas cobertas cobertas cobertas hokkaido quiseram quiseram hokkaido cobertas cobertas quiseram cobertas cobertas cobertas cobertas cobertas cobertas cobertas ingerido cobertas saudades cobertas cobertas saudades cobertas cobertas pecado cobertas cobertas cobertas cobertas restos ingerido ingerido restos cobertas cobertas ingerido cobertas cobertas cobertas astronomia astronomia astronomia astronomia nomeei astronomia saudades astronomia astronomia saudades astronomia astronomia pecado astronomia astronomia astronomia astronomia astronomia nomeei nomeei astronomia astronomia astronomia nomeei astronomia astronomia astronomia palavra palavra palavra palavra palavra palavra tecidos palavra palavra tecidos palavra palavra abeto palavra palavra palavra palavra palavra palavra palavra palavra palavra palavra palavra palavra palavra palavra cobertas cobertas cobertas cobertas teremos cobertas saudades cobertas cobertas saudades cobertas cobertas muralha cobertas cobertas cobertas cobertas dançaremos teremos teremos dançaremos cobertas cobertas teremos cobertas cobertas cobertas astronomia astronomia astronomia astronomia nomeei astronomia saudades astronomia astronomia saudades astronomia astronomia pecado astronomia astronomia astronomia astronomia astronomia nomeei nomeei astronomia astronomia astronomia nomeei astronomia astronomia astronomia palavra palavra palavra palavra palavra palavra tecidos palavra palavra tecidos palavra palavra abeto palavra palavra palavra palavra palavra palavra palavra palavra palavra palavra palavra palavra palavra palavra mataria mataria mataria mataria teremos mataria saudades mataria mataria saudades mataria mataria muralha mataria mataria mataria mataria dançaremos teremos teremos dançaremos mataria mataria teremos mataria mataria mataria cobertas cobertas cobertas cobertas quiseram cobertas apresente cobertas cobertas apresente cobertas cobertas saibam cobertas cobertas cobertas cobertas hokkaido quiseram quiseram hokkaido cobertas cobertas quiseram cobertas cobertas cobertas\n",
      "**************************************************\n",
      "English Sentence :  ive noticed that tom doesnt usually lock his door\n",
      "Original Portugal Sentence :   sos  notei que tom n o costuma trancar sua porta   eos \n"
     ]
    },
    {
     "data": {
      "application/vnd.jupyter.widget-view+json": {
       "model_id": "17ad91a94280442f97218bff3799cca4",
       "version_major": 2,
       "version_minor": 0
      },
      "text/plain": [
       "Generating Translations:   0%|                                                                                …"
      ]
     },
     "metadata": {},
     "output_type": "display_data"
    },
    {
     "name": "stdout",
     "output_type": "stream",
     "text": [
      "Predicted Sentence :  <sos> limonada planeje planeje planeje planeje planeje planeje limonada chopin planeje fibras planeje planeje planeje gênio planeje planeje planeje planeje yukio planeje fibras planeje planeje depress planeje planeje planeje planeje depress planeje gênio planeje planeje planeje planeje planeje planeje chopin planeje planeje planeje limonada depress planeje fibras planeje planeje planeje correspondência ervilhas ervilhas ervilhas ervilhas ervilhas ervilhas correspondência chopin ervilhas quebrou ervilhas ervilhas ervilhas daltônica ervilhas ervilhas ervilhas ervilhas tecnicamente ervilhas quebrou ervilhas ervilhas resolvê ervilhas ervilhas ervilhas ervilhas resolvê ervilhas daltônica ervilhas ervilhas ervilhas ervilhas ervilhas ervilhas chopin ervilhas ervilhas ervilhas correspondência resolvê ervilhas quebrou ervilhas ervilhas ervilhas crendo cobertas cobertas cobertas cobertas cobertas cobertas crendo assassinado cobertas detestasse cobertas cobertas cobertas restos cobertas cobertas cobertas cobertas detestasse cobertas detestasse cobertas cobertas comecei cobertas cobertas cobertas cobertas comecei cobertas restos cobertas cobertas cobertas cobertas cobertas cobertas assassinado cobertas cobertas cobertas crendo comecei cobertas detestasse cobertas cobertas cobertas bondosa dedicando dedicando dedicando dedicando dedicando dedicando bondosa pretende dedicando lembro dedicando dedicando dedicando restos dedicando dedicando dedicando dedicando ingerido dedicando lembro dedicando dedicando molhada dedicando dedicando dedicando dedicando molhada dedicando restos dedicando dedicando dedicando dedicando dedicando dedicando pretende dedicando dedicando dedicando bondosa molhada dedicando lembro dedicando dedicando dedicando teremos excepcionalmente excepcionalmente excepcionalmente excepcionalmente excepcionalmente excepcionalmente teremos teremos excepcionalmente quebrou excepcionalmente excepcionalmente excepcionalmente japonês excepcionalmente excepcionalmente excepcionalmente excepcionalmente japonês excepcionalmente quebrou excepcionalmente excepcionalmente saudades excepcionalmente excepcionalmente excepcionalmente excepcionalmente saudades excepcionalmente japonês excepcionalmente excepcionalmente excepcionalmente excepcionalmente excepcionalmente excepcionalmente teremos excepcionalmente excepcionalmente excepcionalmente teremos saudades excepcionalmente quebrou excepcionalmente excepcionalmente excepcionalmente teremos afinando afinando afinando afinando afinando afinando teremos veloc afinando congelado afinando afinando afinando geram afinando afinando afinando afinando teremos afinando congelado afinando afinando tecidos afinando afinando afinando afinando tecidos afinando geram afinando afinando afinando afinando afinando afinando veloc afinando afinando afinando teremos tecidos afinando congelado afinando afinando afinando tido canceladas canceladas canceladas canceladas canceladas canceladas tido repouso canceladas traveler canceladas canceladas canceladas alimente canceladas canceladas canceladas canceladas traveler canceladas traveler canceladas canceladas cirurgia canceladas canceladas canceladas canceladas cirurgia canceladas alimente canceladas canceladas canceladas canceladas canceladas canceladas repouso canceladas canceladas canceladas tido cirurgia canceladas traveler canceladas canceladas canceladas sobressai cobertas cobertas cobertas cobertas cobertas cobertas sobressai pesos cobertas abraçar cobertas cobertas cobertas dançaremos cobertas cobertas cobertas cobertas adaptou cobertas abraçar cobertas cobertas enganamos cobertas cobertas cobertas cobertas enganamos cobertas dançaremos cobertas cobertas cobertas cobertas cobertas cobertas pesos cobertas cobertas cobertas sobressai enganamos cobertas abraçar cobertas cobertas cobertas lavem incur incur incur incur incur incur lavem chopin incur andarei incur incur incur restos incur incur incur incur nomeei incur andarei incur incur saudades incur incur incur incur saudades incur restos incur incur incur incur incur incur chopin incur incur incur lavem saudades incur andarei incur incur incur yukio antissoci antissoci antissoci antissoci antissoci antissoci yukio veloc antissoci rédea antissoci antissoci antissoci alimente antissoci antissoci antissoci antissoci yukio antissoci rédea antissoci antissoci pescador antissoci antissoci antissoci antissoci pescador antissoci alimente antissoci antissoci antissoci antissoci antissoci antissoci veloc antissoci antissoci antissoci yukio pescador antissoci rédea antissoci antissoci antissoci crescemos cobertas cobertas cobertas cobertas cobertas cobertas crescemos veloc cobertas rédea cobertas cobertas cobertas mijar cobertas cobertas cobertas cobertas yukio cobertas rédea cobertas cobertas punhado cobertas cobertas cobertas cobertas punhado cobertas mijar cobertas cobertas cobertas cobertas cobertas cobertas veloc cobertas cobertas cobertas crescemos punhado cobertas rédea cobertas cobertas cobertas bondosa abraç abraç abraç abraç abraç abraç bondosa repouso abraç lembro abraç abraç abraç lavem abraç abraç abraç abraç ingerido abraç lembro abraç abraç saudades abraç abraç abraç abraç saudades abraç lavem abraç abraç abraç abraç abraç abraç repouso abraç abraç abraç bondosa saudades abraç lembro abraç abraç abraç travessura lagartos lagartos lagartos lagartos lagartos lagartos travessura atacaram lagartos abraçar lagartos lagartos lagartos restos lagartos lagartos lagartos lagartos amostras lagartos abraçar lagartos lagartos vitrina lagartos lagartos lagartos lagartos vitrina lagartos restos lagartos lagartos lagartos lagartos lagartos lagartos atacaram lagartos lagartos lagartos travessura vitrina lagartos abraçar lagartos lagartos lagartos panquecas afinando afinando afinando afinando afinando afinando panquecas afinando afinando abraçar afinando afinando afinando zangue afinando afinando afinando afinando japonês afinando abraçar afinando afinando escondido afinando afinando afinando afinando escondido afinando zangue afinando afinando afinando afinando afinando afinando afinando afinando afinando afinando panquecas escondido afinando abraçar afinando afinando afinando ximas canceladas canceladas canceladas canceladas canceladas canceladas ximas repouso canceladas traveler canceladas canceladas canceladas alimente canceladas canceladas canceladas canceladas traveler canceladas traveler canceladas canceladas cirurgia canceladas canceladas canceladas canceladas cirurgia canceladas alimente canceladas canceladas canceladas canceladas canceladas canceladas repouso canceladas canceladas canceladas ximas cirurgia canceladas traveler canceladas canceladas canceladas sobressai canceladas canceladas canceladas canceladas canceladas canceladas sobressai veloc canceladas abraçar canceladas canceladas canceladas restos canceladas canceladas canceladas canceladas comecei canceladas abraçar canceladas canceladas enganamos canceladas canceladas canceladas canceladas enganamos canceladas restos canceladas canceladas canceladas canceladas canceladas canceladas veloc canceladas canceladas canceladas sobressai enganamos canceladas abraçar canceladas canceladas canceladas sobressai cobertas cobertas cobertas cobertas cobertas cobertas sobressai pesos cobertas compro cobertas cobertas cobertas restos cobertas cobertas cobertas cobertas adaptou cobertas compro cobertas cobertas enganamos cobertas cobertas cobertas cobertas enganamos cobertas restos cobertas cobertas cobertas cobertas cobertas cobertas pesos cobertas cobertas cobertas sobressai enganamos cobertas compro cobertas cobertas cobertas tido cobertas cobertas cobertas cobertas cobertas cobertas tido pecado cobertas pecado cobertas cobertas cobertas restos cobertas cobertas cobertas cobertas nomeei cobertas pecado cobertas cobertas saudades cobertas cobertas cobertas cobertas saudades cobertas restos cobertas cobertas cobertas cobertas cobertas cobertas pecado cobertas cobertas cobertas tido saudades cobertas pecado cobertas cobertas cobertas bondosa astronomia astronomia astronomia astronomia astronomia astronomia bondosa astronomia astronomia muralha astronomia astronomia astronomia restos astronomia astronomia astronomia astronomia nomeei astronomia muralha astronomia astronomia saudades astronomia astronomia astronomia astronomia saudades astronomia restos astronomia astronomia astronomia astronomia astronomia astronomia astronomia astronomia astronomia astronomia bondosa saudades astronomia muralha astronomia astronomia astronomia puseram palavra palavra palavra palavra palavra palavra puseram veloc palavra abeto palavra palavra palavra usou palavra palavra palavra palavra traveler palavra abeto palavra palavra tecidos palavra palavra palavra palavra tecidos palavra usou palavra palavra palavra palavra palavra palavra veloc palavra palavra palavra puseram tecidos palavra abeto palavra palavra palavra bancos mataria mataria mataria mataria mataria mataria bancos teremos mataria muralha mataria mataria mataria dançaremos mataria mataria mataria mataria teremos mataria muralha mataria mataria saudades mataria mataria mataria mataria saudades mataria dançaremos mataria mataria mataria mataria mataria mataria teremos mataria mataria mataria bancos saudades mataria muralha mataria mataria mataria quiseram cobertas cobertas cobertas cobertas cobertas cobertas quiseram repouso cobertas saibam cobertas cobertas cobertas importasse cobertas cobertas cobertas cobertas quiseram cobertas saibam cobertas cobertas apresente cobertas cobertas cobertas cobertas apresente cobertas importasse cobertas cobertas cobertas cobertas cobertas cobertas repouso cobertas cobertas cobertas quiseram apresente cobertas saibam cobertas cobertas cobertas bondosa barra barra barra barra barra barra bondosa pecado barra pecado barra barra barra restos barra barra barra barra nomeei barra pecado barra barra saudades barra barra barra barra saudades barra restos barra barra barra barra barra barra pecado barra barra barra bondosa saudades barra pecado barra barra barra correspondência caixeiro caixeiro caixeiro caixeiro caixeiro caixeiro correspondência veloc caixeiro geram caixeiro caixeiro caixeiro geram caixeiro caixeiro caixeiro caixeiro quiseram caixeiro geram caixeiro caixeiro vitrina caixeiro caixeiro caixeiro caixeiro vitrina caixeiro geram caixeiro caixeiro caixeiro caixeiro caixeiro caixeiro veloc caixeiro caixeiro caixeiro correspondência vitrina caixeiro geram caixeiro caixeiro caixeiro galinheiro manipulado manipulado manipulado manipulado manipulado manipulado galinheiro veloc manipulado restaurantes manipulado manipulado manipulado geram manipulado manipulado manipulado manipulado assassinado manipulado restaurantes manipulado manipulado apresente manipulado manipulado manipulado manipulado apresente manipulado geram manipulado manipulado manipulado manipulado manipulado manipulado veloc manipulado manipulado manipulado galinheiro apresente manipulado restaurantes manipulado manipulado manipulado bancos ervilhas ervilhas ervilhas ervilhas ervilhas ervilhas bancos veloc ervilhas demora ervilhas ervilhas ervilhas urbana ervilhas ervilhas ervilhas ervilhas detestasse ervilhas demora ervilhas ervilhas fascinante ervilhas ervilhas ervilhas ervilhas fascinante ervilhas urbana ervilhas ervilhas ervilhas ervilhas ervilhas ervilhas veloc ervilhas ervilhas ervilhas bancos fascinante ervilhas demora ervilhas ervilhas ervilhas teremos canceladas canceladas canceladas canceladas canceladas canceladas teremos veloc canceladas congelado canceladas canceladas canceladas restos canceladas canceladas canceladas canceladas detestasse canceladas congelado canceladas canceladas comecei canceladas canceladas canceladas canceladas comecei canceladas restos canceladas canceladas canceladas canceladas canceladas canceladas veloc canceladas canceladas canceladas teremos comecei canceladas congelado canceladas canceladas canceladas sobressai canceladas canceladas canceladas canceladas canceladas canceladas sobressai pesos canceladas compro canceladas canceladas canceladas compro canceladas canceladas canceladas canceladas comecei canceladas compro canceladas canceladas enganamos canceladas canceladas canceladas canceladas enganamos canceladas compro canceladas canceladas canceladas canceladas canceladas canceladas pesos canceladas canceladas canceladas sobressai enganamos canceladas compro canceladas canceladas canceladas sobressai canceladas canceladas canceladas canceladas canceladas canceladas sobressai pesos canceladas abraçar canceladas canceladas canceladas dançaremos canceladas canceladas canceladas canceladas comecei canceladas abraçar canceladas canceladas enganamos canceladas canceladas canceladas canceladas enganamos canceladas dançaremos canceladas canceladas canceladas canceladas canceladas canceladas pesos canceladas canceladas canceladas sobressai enganamos canceladas abraçar canceladas canceladas canceladas sobressai cobertas cobertas cobertas cobertas cobertas cobertas sobressai pesos cobertas compro cobertas cobertas cobertas compro cobertas cobertas cobertas cobertas comecei cobertas compro cobertas cobertas enganamos cobertas cobertas cobertas cobertas enganamos cobertas compro cobertas cobertas cobertas cobertas cobertas cobertas pesos cobertas cobertas cobertas sobressai enganamos cobertas compro cobertas cobertas cobertas tido dedicando dedicando dedicando dedicando dedicando dedicando tido astronomia dedicando muralha dedicando dedicando dedicando restos dedicando dedicando dedicando dedicando nomeei dedicando muralha dedicando dedicando saudades dedicando dedicando dedicando dedicando saudades dedicando restos dedicando dedicando dedicando dedicando dedicando dedicando astronomia dedicando dedicando dedicando tido saudades dedicando muralha dedicando dedicando dedicando galinheiro excepcionalmente excepcionalmente excepcionalmente excepcionalmente excepcionalmente excepcionalmente galinheiro pesos excepcionalmente congelado excepcionalmente excepcionalmente excepcionalmente sequer excepcionalmente excepcionalmente excepcionalmente excepcionalmente quiseram excepcionalmente congelado excepcionalmente excepcionalmente saudades excepcionalmente excepcionalmente excepcionalmente excepcionalmente saudades excepcionalmente sequer excepcionalmente excepcionalmente excepcionalmente excepcionalmente excepcionalmente excepcionalmente pesos excepcionalmente excepcionalmente excepcionalmente galinheiro saudades excepcionalmente congelado excepcionalmente excepcionalmente excepcionalmente afinando afinando afinando afinando afinando afinando afinando afinando afinando afinando congelado afinando afinando afinando geram afinando afinando afinando afinando teremos afinando congelado afinando afinando tecidos afinando afinando afinando afinando tecidos afinando geram afinando afinando afinando afinando afinando afinando afinando afinando afinando afinando afinando tecidos afinando congelado afinando afinando afinando tido canceladas canceladas canceladas canceladas canceladas canceladas tido repouso canceladas traveler canceladas canceladas canceladas alimente canceladas canceladas canceladas canceladas traveler canceladas traveler canceladas canceladas cirurgia canceladas canceladas canceladas canceladas cirurgia canceladas alimente canceladas canceladas canceladas canceladas canceladas canceladas repouso canceladas canceladas canceladas tido cirurgia canceladas traveler canceladas canceladas canceladas lavarmos cobertas cobertas cobertas cobertas cobertas cobertas lavarmos pesos cobertas abraçar cobertas cobertas cobertas dançaremos cobertas cobertas cobertas cobertas comecei cobertas abraçar cobertas cobertas enganamos cobertas cobertas cobertas cobertas enganamos cobertas dançaremos cobertas cobertas cobertas cobertas cobertas cobertas pesos cobertas cobertas cobertas lavarmos enganamos cobertas abraçar cobertas cobertas cobertas lavem incur incur incur incur incur incur lavem repouso incur andarei incur incur incur restos incur incur incur incur nomeei incur andarei incur incur saudades incur incur incur incur saudades incur restos incur incur incur incur incur incur repouso incur incur incur lavem saudades incur andarei incur incur incur yukio perderei perderei perderei perderei perderei perderei yukio veloc perderei rédea perderei perderei perderei alimente perderei perderei perderei perderei yukio perderei rédea perderei perderei pescador perderei perderei perderei perderei pescador perderei alimente perderei perderei perderei perderei perderei perderei veloc perderei perderei perderei yukio pescador perderei rédea perderei perderei perderei teremos antissoci antissoci antissoci antissoci antissoci antissoci teremos teremos antissoci quebrou antissoci antissoci antissoci alimente antissoci antissoci antissoci antissoci teremos antissoci quebrou antissoci antissoci enganamos antissoci antissoci antissoci antissoci enganamos antissoci alimente antissoci antissoci antissoci antissoci antissoci antissoci teremos antissoci antissoci antissoci teremos enganamos antissoci quebrou antissoci antissoci antissoci enfrentam caidinho caidinho caidinho caidinho caidinho caidinho enfrentam veloc caidinho soma caidinho caidinho caidinho urbana caidinho caidinho caidinho caidinho yukio caidinho soma caidinho caidinho punhado caidinho caidinho caidinho caidinho punhado caidinho urbana caidinho caidinho caidinho caidinho caidinho caidinho veloc caidinho caidinho caidinho enfrentam punhado caidinho soma caidinho caidinho caidinho teremos cobertas cobertas cobertas cobertas cobertas cobertas teremos pecado cobertas pecado cobertas cobertas cobertas alimente cobertas cobertas cobertas cobertas detestasse cobertas pecado cobertas cobertas lidar cobertas cobertas cobertas cobertas lidar cobertas alimente cobertas cobertas cobertas cobertas cobertas cobertas pecado cobertas cobertas cobertas teremos lidar cobertas pecado cobertas cobertas cobertas molhada astronomia astronomia astronomia astronomia astronomia astronomia molhada astronomia astronomia lembro astronomia astronomia astronomia astronomia astronomia astronomia astronomia astronomia nomeei astronomia lembro astronomia astronomia molhada astronomia astronomia astronomia astronomia molhada astronomia astronomia astronomia astronomia astronomia astronomia astronomia astronomia astronomia astronomia astronomia astronomia molhada molhada astronomia lembro astronomia astronomia astronomia pulso palavra palavra palavra palavra palavra palavra pulso veloc palavra abeto palavra palavra palavra palavra palavra palavra palavra palavra traveler palavra abeto palavra palavra tecidos palavra palavra palavra palavra tecidos palavra palavra palavra palavra palavra palavra palavra palavra veloc palavra palavra palavra pulso tecidos palavra abeto palavra palavra palavra teremos cobertas cobertas cobertas cobertas cobertas cobertas teremos teremos cobertas muralha cobertas cobertas cobertas dançaremos cobertas cobertas cobertas cobertas teremos cobertas muralha cobertas cobertas fascinante cobertas cobertas cobertas cobertas fascinante cobertas dançaremos cobertas cobertas cobertas cobertas cobertas cobertas teremos cobertas cobertas cobertas teremos fascinante cobertas muralha cobertas cobertas cobertas bondosa cobertas cobertas cobertas cobertas cobertas cobertas bondosa pecado cobertas pecado cobertas cobertas cobertas lavem cobertas cobertas cobertas cobertas ingerido cobertas pecado cobertas cobertas saudades cobertas cobertas cobertas cobertas saudades cobertas lavem cobertas cobertas cobertas cobertas cobertas cobertas pecado cobertas cobertas cobertas bondosa saudades cobertas pecado cobertas cobertas cobertas bondosa cobertas cobertas cobertas cobertas cobertas cobertas bondosa pecado cobertas pecado cobertas cobertas cobertas restos cobertas cobertas cobertas cobertas nomeei cobertas pecado cobertas cobertas saudades cobertas cobertas cobertas cobertas saudades cobertas restos cobertas cobertas cobertas cobertas cobertas cobertas pecado cobertas cobertas cobertas bondosa saudades cobertas pecado cobertas cobertas cobertas bondosa astronomia astronomia astronomia astronomia astronomia astronomia bondosa repouso astronomia lembro astronomia astronomia astronomia astronomia astronomia astronomia astronomia astronomia nomeei astronomia lembro astronomia astronomia saudades astronomia astronomia astronomia astronomia saudades astronomia astronomia astronomia astronomia astronomia astronomia astronomia astronomia repouso astronomia astronomia astronomia bondosa saudades astronomia lembro astronomia astronomia astronomia iniciante palavra palavra palavra palavra palavra palavra iniciante veloc palavra traveler palavra palavra palavra usou palavra palavra palavra palavra traveler palavra traveler palavra palavra tecidos palavra palavra palavra palavra tecidos palavra usou palavra palavra palavra palavra palavra palavra veloc palavra palavra palavra iniciante tecidos palavra traveler palavra palavra palavra bancos mataria mataria mataria mataria mataria mataria bancos teremos mataria muralha mataria mataria mataria dançaremos mataria mataria mataria mataria teremos mataria muralha mataria mataria saudades mataria mataria mataria mataria saudades mataria dançaremos mataria mataria mataria mataria mataria mataria teremos mataria mataria mataria bancos saudades mataria muralha mataria mataria mataria quiseram cobertas cobertas cobertas cobertas cobertas cobertas quiseram repouso cobertas além cobertas cobertas cobertas importasse cobertas cobertas cobertas cobertas quiseram cobertas além cobertas cobertas apresente cobertas cobertas cobertas cobertas apresente cobertas importasse cobertas cobertas cobertas cobertas cobertas cobertas repouso cobertas cobertas cobertas quiseram apresente cobertas além cobertas cobertas cobertas bondosa barra barra barra barra barra barra bondosa pecado barra pecado barra barra barra restos barra barra barra barra ingerido barra pecado barra barra saudades barra barra barra barra saudades barra restos barra barra barra barra barra barra pecado barra barra barra bondosa saudades barra pecado barra barra barra correspondência caixeiro caixeiro caixeiro caixeiro caixeiro caixeiro correspondência veloc caixeiro geram caixeiro caixeiro caixeiro geram caixeiro caixeiro caixeiro caixeiro quiseram caixeiro geram caixeiro caixeiro vitrina caixeiro caixeiro caixeiro caixeiro vitrina caixeiro geram caixeiro caixeiro caixeiro caixeiro caixeiro caixeiro veloc caixeiro caixeiro caixeiro correspondência vitrina caixeiro geram caixeiro caixeiro caixeiro galinheiro manipulado manipulado manipulado manipulado manipulado manipulado galinheiro veloc manipulado restaurantes manipulado manipulado manipulado geram manipulado manipulado manipulado manipulado assassinado manipulado restaurantes manipulado manipulado apresente manipulado manipulado manipulado manipulado apresente manipulado geram manipulado manipulado manipulado manipulado manipulado manipulado veloc manipulado manipulado manipulado galinheiro apresente manipulado restaurantes manipulado manipulado manipulado bancos ervilhas ervilhas ervilhas ervilhas ervilhas ervilhas bancos veloc ervilhas demora ervilhas ervilhas ervilhas urbana ervilhas ervilhas ervilhas ervilhas detestasse ervilhas demora ervilhas ervilhas fascinante ervilhas ervilhas ervilhas ervilhas fascinante ervilhas urbana ervilhas ervilhas ervilhas ervilhas ervilhas ervilhas veloc ervilhas ervilhas ervilhas bancos fascinante ervilhas demora ervilhas ervilhas ervilhas teremos canceladas canceladas canceladas canceladas canceladas canceladas teremos veloc canceladas congelado canceladas canceladas canceladas restos canceladas canceladas canceladas canceladas detestasse canceladas congelado canceladas canceladas comecei canceladas canceladas canceladas canceladas comecei canceladas restos canceladas canceladas canceladas canceladas canceladas canceladas veloc canceladas canceladas canceladas teremos comecei canceladas congelado canceladas canceladas canceladas sobressai canceladas canceladas canceladas canceladas canceladas canceladas sobressai pesos canceladas compro canceladas canceladas canceladas compro canceladas canceladas canceladas canceladas comecei canceladas compro canceladas canceladas enganamos canceladas canceladas canceladas canceladas enganamos canceladas compro canceladas canceladas canceladas canceladas canceladas canceladas pesos canceladas canceladas canceladas sobressai enganamos canceladas compro canceladas canceladas canceladas sobressai canceladas canceladas canceladas canceladas canceladas canceladas sobressai pesos canceladas abraçar canceladas canceladas canceladas dançaremos canceladas canceladas canceladas canceladas comecei canceladas abraçar canceladas canceladas enganamos canceladas canceladas canceladas canceladas enganamos canceladas dançaremos canceladas canceladas canceladas canceladas canceladas canceladas pesos canceladas canceladas canceladas sobressai enganamos canceladas abraçar canceladas canceladas canceladas sobressai cobertas cobertas cobertas cobertas cobertas cobertas sobressai pesos cobertas compro cobertas cobertas cobertas compro cobertas cobertas cobertas cobertas comecei cobertas compro cobertas cobertas enganamos cobertas cobertas cobertas cobertas enganamos cobertas compro cobertas cobertas cobertas cobertas cobertas cobertas pesos cobertas cobertas cobertas sobressai enganamos cobertas compro cobertas cobertas cobertas tido dedicando dedicando dedicando dedicando dedicando dedicando tido astronomia dedicando muralha dedicando dedicando dedicando restos dedicando dedicando dedicando dedicando nomeei dedicando muralha dedicando dedicando saudades dedicando dedicando dedicando dedicando saudades dedicando restos dedicando dedicando dedicando dedicando dedicando dedicando astronomia dedicando dedicando dedicando tido saudades dedicando muralha dedicando dedicando dedicando galinheiro excepcionalmente excepcionalmente excepcionalmente excepcionalmente excepcionalmente excepcionalmente galinheiro pesos excepcionalmente congelado excepcionalmente excepcionalmente excepcionalmente sequer excepcionalmente excepcionalmente excepcionalmente excepcionalmente quiseram excepcionalmente congelado excepcionalmente excepcionalmente saudades excepcionalmente excepcionalmente excepcionalmente excepcionalmente saudades excepcionalmente sequer excepcionalmente excepcionalmente excepcionalmente excepcionalmente excepcionalmente excepcionalmente pesos excepcionalmente excepcionalmente excepcionalmente galinheiro saudades excepcionalmente congelado excepcionalmente excepcionalmente excepcionalmente afinando afinando afinando afinando afinando afinando afinando afinando afinando afinando congelado afinando afinando afinando geram afinando afinando afinando afinando teremos afinando congelado afinando afinando tecidos afinando afinando afinando afinando tecidos afinando geram afinando afinando afinando afinando afinando afinando afinando afinando afinando afinando afinando tecidos afinando congelado afinando afinando afinando tido canceladas canceladas canceladas canceladas canceladas canceladas tido repouso canceladas traveler canceladas canceladas canceladas alimente canceladas canceladas canceladas canceladas traveler canceladas traveler canceladas canceladas cirurgia canceladas canceladas canceladas canceladas cirurgia canceladas alimente canceladas canceladas canceladas canceladas canceladas canceladas repouso canceladas canceladas canceladas tido cirurgia canceladas traveler canceladas canceladas canceladas lavarmos cobertas cobertas cobertas cobertas cobertas cobertas lavarmos pesos cobertas abraçar cobertas cobertas cobertas dançaremos cobertas cobertas cobertas cobertas comecei cobertas abraçar cobertas cobertas enganamos cobertas cobertas cobertas cobertas enganamos cobertas dançaremos cobertas cobertas cobertas cobertas cobertas cobertas pesos cobertas cobertas cobertas lavarmos enganamos cobertas abraçar cobertas cobertas cobertas lavem incur incur incur incur incur incur lavem repouso incur andarei incur incur incur restos incur incur incur incur nomeei incur andarei incur incur saudades incur incur incur incur saudades incur restos incur incur incur incur incur incur repouso incur incur incur lavem saudades incur andarei incur incur incur yukio perderei perderei perderei perderei perderei perderei yukio veloc perderei rédea perderei perderei perderei alimente perderei perderei perderei perderei yukio perderei rédea perderei perderei pescador perderei perderei perderei perderei pescador perderei alimente perderei perderei perderei perderei perderei perderei veloc perderei perderei perderei yukio pescador perderei rédea perderei perderei perderei teremos antissoci antissoci antissoci antissoci antissoci antissoci teremos teremos antissoci quebrou antissoci antissoci antissoci alimente antissoci antissoci antissoci antissoci teremos antissoci quebrou antissoci antissoci enganamos antissoci antissoci antissoci antissoci enganamos antissoci alimente antissoci antissoci antissoci antissoci antissoci antissoci teremos antissoci antissoci antissoci teremos enganamos antissoci quebrou antissoci antissoci antissoci enfrentam caidinho caidinho caidinho caidinho caidinho caidinho enfrentam veloc caidinho soma caidinho caidinho caidinho urbana caidinho caidinho caidinho caidinho yukio caidinho soma caidinho caidinho punhado caidinho caidinho caidinho caidinho punhado caidinho urbana caidinho caidinho caidinho caidinho caidinho caidinho veloc caidinho caidinho caidinho enfrentam punhado caidinho soma caidinho caidinho caidinho teremos cobertas cobertas cobertas cobertas cobertas cobertas teremos pecado cobertas pecado cobertas cobertas cobertas alimente cobertas cobertas cobertas cobertas detestasse cobertas pecado cobertas cobertas lidar cobertas cobertas cobertas cobertas lidar cobertas alimente cobertas cobertas cobertas cobertas cobertas cobertas pecado cobertas cobertas cobertas teremos lidar cobertas pecado cobertas cobertas cobertas molhada astronomia astronomia astronomia astronomia astronomia astronomia molhada astronomia astronomia lembro astronomia astronomia astronomia astronomia astronomia astronomia astronomia astronomia nomeei astronomia lembro astronomia astronomia molhada astronomia astronomia astronomia astronomia molhada astronomia astronomia astronomia astronomia astronomia astronomia astronomia astronomia astronomia astronomia astronomia astronomia molhada molhada astronomia lembro astronomia astronomia astronomia pulso palavra palavra palavra palavra palavra palavra pulso veloc palavra abeto palavra palavra palavra palavra palavra palavra palavra palavra traveler palavra abeto palavra palavra tecidos palavra palavra palavra palavra tecidos palavra palavra palavra palavra palavra palavra palavra palavra veloc palavra palavra palavra pulso tecidos palavra abeto palavra palavra palavra teremos cobertas cobertas cobertas cobertas cobertas cobertas teremos teremos cobertas muralha cobertas cobertas cobertas dançaremos cobertas cobertas cobertas cobertas teremos cobertas muralha cobertas cobertas fascinante cobertas cobertas cobertas cobertas fascinante cobertas dançaremos cobertas cobertas cobertas cobertas cobertas cobertas teremos cobertas cobertas cobertas teremos fascinante cobertas muralha cobertas cobertas cobertas bondosa cobertas cobertas cobertas cobertas cobertas cobertas bondosa pecado cobertas pecado cobertas cobertas cobertas lavem cobertas cobertas cobertas cobertas ingerido cobertas pecado cobertas cobertas saudades cobertas cobertas cobertas cobertas saudades cobertas lavem cobertas cobertas cobertas cobertas cobertas cobertas pecado cobertas cobertas cobertas bondosa saudades cobertas pecado cobertas cobertas cobertas bondosa cobertas cobertas cobertas cobertas cobertas cobertas bondosa pecado cobertas pecado cobertas cobertas cobertas restos cobertas cobertas cobertas cobertas nomeei cobertas pecado cobertas cobertas saudades cobertas cobertas cobertas cobertas saudades cobertas restos cobertas cobertas cobertas cobertas cobertas cobertas pecado cobertas cobertas cobertas bondosa saudades cobertas pecado cobertas cobertas cobertas bondosa astronomia astronomia astronomia astronomia astronomia astronomia bondosa repouso astronomia lembro astronomia astronomia astronomia astronomia astronomia astronomia astronomia astronomia nomeei astronomia lembro astronomia astronomia saudades astronomia astronomia astronomia astronomia saudades astronomia astronomia astronomia astronomia astronomia astronomia astronomia astronomia repouso astronomia astronomia astronomia bondosa saudades astronomia lembro astronomia astronomia astronomia iniciante palavra palavra palavra palavra palavra palavra iniciante veloc palavra traveler palavra palavra palavra usou palavra palavra palavra palavra traveler palavra traveler palavra palavra tecidos palavra palavra palavra palavra tecidos palavra usou palavra palavra palavra palavra palavra palavra veloc palavra palavra palavra iniciante tecidos palavra traveler palavra palavra palavra bancos mataria mataria mataria mataria mataria mataria bancos teremos mataria muralha mataria mataria mataria dançaremos mataria mataria mataria mataria teremos mataria muralha mataria mataria saudades mataria mataria mataria mataria saudades mataria dançaremos mataria mataria mataria mataria mataria mataria teremos mataria mataria mataria bancos saudades mataria muralha mataria mataria mataria quiseram cobertas cobertas cobertas cobertas cobertas cobertas quiseram repouso cobertas além cobertas cobertas cobertas importasse cobertas cobertas cobertas cobertas quiseram cobertas além cobertas cobertas apresente cobertas cobertas cobertas cobertas apresente cobertas importasse cobertas cobertas cobertas cobertas cobertas cobertas repouso cobertas cobertas cobertas quiseram apresente cobertas além cobertas cobertas cobertas bondosa barra barra barra barra barra barra bondosa pecado barra pecado barra barra barra restos barra barra barra barra ingerido barra pecado barra barra saudades barra barra barra barra saudades barra restos barra barra barra barra barra barra pecado barra barra barra bondosa saudades barra pecado barra barra barra correspondência caixeiro caixeiro caixeiro caixeiro caixeiro caixeiro correspondência veloc caixeiro geram caixeiro caixeiro caixeiro geram caixeiro caixeiro caixeiro caixeiro quiseram caixeiro geram caixeiro caixeiro vitrina caixeiro caixeiro caixeiro caixeiro vitrina caixeiro geram caixeiro caixeiro caixeiro caixeiro caixeiro caixeiro veloc caixeiro caixeiro caixeiro correspondência vitrina caixeiro geram caixeiro caixeiro caixeiro galinheiro manipulado manipulado manipulado manipulado manipulado manipulado galinheiro veloc manipulado restaurantes manipulado manipulado manipulado geram manipulado manipulado manipulado manipulado assassinado manipulado restaurantes manipulado manipulado apresente manipulado manipulado manipulado manipulado apresente manipulado geram manipulado manipulado manipulado manipulado manipulado manipulado veloc manipulado manipulado manipulado galinheiro apresente manipulado restaurantes manipulado manipulado manipulado bancos ervilhas ervilhas ervilhas ervilhas ervilhas ervilhas bancos veloc ervilhas demora ervilhas ervilhas ervilhas urbana ervilhas ervilhas ervilhas ervilhas detestasse ervilhas demora ervilhas ervilhas fascinante ervilhas ervilhas ervilhas ervilhas fascinante ervilhas urbana ervilhas ervilhas ervilhas ervilhas ervilhas ervilhas veloc ervilhas ervilhas ervilhas bancos fascinante ervilhas demora ervilhas ervilhas ervilhas teremos canceladas canceladas canceladas canceladas canceladas canceladas teremos veloc canceladas congelado canceladas canceladas canceladas restos canceladas canceladas canceladas canceladas detestasse canceladas congelado canceladas canceladas comecei canceladas canceladas canceladas canceladas comecei canceladas restos canceladas canceladas canceladas canceladas canceladas canceladas veloc canceladas canceladas canceladas teremos comecei canceladas congelado canceladas canceladas canceladas sobressai canceladas canceladas canceladas canceladas canceladas canceladas sobressai pesos canceladas compro canceladas canceladas canceladas compro canceladas canceladas canceladas canceladas comecei canceladas compro canceladas canceladas enganamos canceladas canceladas canceladas canceladas enganamos canceladas compro canceladas canceladas canceladas canceladas canceladas canceladas pesos canceladas canceladas canceladas sobressai enganamos canceladas compro canceladas canceladas canceladas sobressai canceladas canceladas canceladas canceladas canceladas canceladas sobressai pesos canceladas abraçar canceladas canceladas canceladas dançaremos canceladas canceladas canceladas canceladas comecei canceladas abraçar canceladas canceladas enganamos canceladas canceladas canceladas canceladas enganamos canceladas dançaremos canceladas canceladas canceladas canceladas canceladas canceladas pesos canceladas canceladas canceladas sobressai enganamos canceladas abraçar canceladas canceladas canceladas sobressai cobertas cobertas cobertas cobertas cobertas cobertas sobressai pesos cobertas compro cobertas cobertas cobertas compro cobertas cobertas cobertas cobertas comecei cobertas compro cobertas cobertas enganamos cobertas cobertas cobertas cobertas enganamos cobertas compro cobertas cobertas cobertas cobertas cobertas cobertas pesos cobertas cobertas cobertas sobressai enganamos cobertas compro cobertas cobertas cobertas tido dedicando dedicando dedicando dedicando dedicando dedicando tido astronomia dedicando muralha dedicando dedicando dedicando restos dedicando dedicando dedicando dedicando nomeei dedicando muralha dedicando dedicando saudades dedicando dedicando dedicando dedicando saudades dedicando restos dedicando dedicando dedicando dedicando dedicando dedicando astronomia dedicando dedicando dedicando tido saudades dedicando muralha dedicando dedicando dedicando galinheiro excepcionalmente excepcionalmente excepcionalmente excepcionalmente excepcionalmente excepcionalmente galinheiro pesos excepcionalmente congelado excepcionalmente excepcionalmente excepcionalmente sequer excepcionalmente excepcionalmente excepcionalmente excepcionalmente quiseram excepcionalmente congelado excepcionalmente excepcionalmente saudades excepcionalmente excepcionalmente excepcionalmente excepcionalmente saudades excepcionalmente sequer excepcionalmente excepcionalmente excepcionalmente excepcionalmente excepcionalmente excepcionalmente pesos excepcionalmente excepcionalmente excepcionalmente galinheiro saudades excepcionalmente congelado excepcionalmente excepcionalmente excepcionalmente afinando afinando afinando afinando afinando afinando afinando afinando afinando afinando congelado afinando afinando afinando geram afinando afinando afinando afinando teremos afinando congelado afinando afinando tecidos afinando afinando afinando afinando tecidos afinando geram afinando afinando afinando afinando afinando afinando afinando afinando afinando afinando afinando tecidos afinando congelado afinando afinando afinando tido canceladas canceladas canceladas canceladas canceladas canceladas tido repouso canceladas traveler canceladas canceladas canceladas alimente canceladas canceladas canceladas canceladas traveler canceladas traveler canceladas canceladas cirurgia canceladas canceladas canceladas canceladas cirurgia canceladas alimente canceladas canceladas canceladas canceladas canceladas canceladas repouso canceladas canceladas canceladas tido cirurgia canceladas traveler canceladas canceladas canceladas lavarmos cobertas cobertas cobertas cobertas cobertas cobertas lavarmos pesos cobertas abraçar cobertas cobertas cobertas dançaremos cobertas cobertas cobertas cobertas comecei cobertas abraçar cobertas cobertas enganamos cobertas cobertas cobertas cobertas enganamos cobertas dançaremos cobertas cobertas cobertas cobertas cobertas cobertas pesos cobertas cobertas cobertas lavarmos enganamos cobertas abraçar cobertas cobertas cobertas lavem incur incur incur incur incur incur lavem repouso incur andarei incur incur incur restos incur incur incur incur nomeei incur andarei incur incur saudades incur incur incur incur saudades incur restos incur incur incur incur incur incur repouso incur incur incur lavem saudades incur andarei incur incur incur yukio perderei perderei perderei perderei perderei perderei yukio veloc perderei rédea perderei perderei perderei alimente perderei perderei perderei perderei yukio perderei rédea perderei perderei pescador perderei perderei perderei perderei pescador perderei alimente perderei perderei perderei perderei perderei perderei veloc perderei perderei perderei yukio pescador perderei rédea perderei perderei perderei teremos antissoci antissoci antissoci antissoci antissoci antissoci teremos teremos antissoci quebrou antissoci antissoci antissoci alimente antissoci antissoci antissoci antissoci teremos antissoci quebrou antissoci antissoci enganamos antissoci antissoci antissoci antissoci enganamos antissoci alimente antissoci antissoci antissoci antissoci antissoci antissoci teremos antissoci antissoci antissoci teremos enganamos antissoci quebrou antissoci antissoci antissoci enfrentam caidinho caidinho caidinho caidinho caidinho caidinho enfrentam veloc caidinho soma caidinho caidinho caidinho urbana caidinho caidinho caidinho caidinho yukio caidinho soma caidinho caidinho punhado caidinho caidinho caidinho caidinho punhado caidinho urbana caidinho caidinho caidinho caidinho caidinho caidinho veloc caidinho caidinho caidinho enfrentam punhado caidinho soma caidinho caidinho caidinho teremos cobertas cobertas cobertas cobertas cobertas cobertas teremos pecado cobertas pecado cobertas cobertas cobertas alimente cobertas cobertas cobertas cobertas detestasse cobertas pecado cobertas cobertas lidar cobertas cobertas cobertas cobertas lidar cobertas alimente cobertas cobertas cobertas cobertas cobertas cobertas pecado cobertas cobertas cobertas teremos lidar cobertas pecado cobertas cobertas cobertas molhada astronomia astronomia astronomia astronomia astronomia astronomia molhada astronomia astronomia lembro astronomia astronomia astronomia astronomia astronomia astronomia astronomia astronomia nomeei astronomia lembro astronomia astronomia molhada astronomia astronomia astronomia astronomia molhada astronomia astronomia astronomia astronomia astronomia astronomia astronomia astronomia astronomia astronomia astronomia astronomia molhada molhada astronomia lembro astronomia astronomia astronomia pulso palavra palavra palavra palavra palavra palavra pulso veloc palavra abeto palavra palavra palavra palavra palavra palavra palavra palavra traveler palavra abeto palavra palavra tecidos palavra palavra palavra palavra tecidos palavra palavra palavra palavra palavra palavra palavra palavra veloc palavra palavra palavra pulso tecidos palavra abeto palavra palavra palavra teremos cobertas cobertas cobertas cobertas cobertas cobertas teremos teremos cobertas muralha cobertas cobertas cobertas dançaremos cobertas cobertas cobertas cobertas teremos cobertas muralha cobertas cobertas fascinante cobertas cobertas cobertas cobertas fascinante cobertas dançaremos cobertas cobertas cobertas cobertas cobertas cobertas teremos cobertas cobertas cobertas teremos fascinante cobertas muralha cobertas cobertas cobertas bondosa cobertas cobertas cobertas cobertas cobertas cobertas bondosa pecado cobertas pecado cobertas cobertas cobertas lavem cobertas cobertas cobertas cobertas ingerido cobertas pecado cobertas cobertas saudades cobertas cobertas cobertas cobertas saudades cobertas lavem cobertas cobertas cobertas cobertas cobertas cobertas pecado cobertas cobertas cobertas bondosa saudades cobertas pecado cobertas cobertas cobertas bondosa cobertas cobertas cobertas cobertas cobertas cobertas bondosa pecado cobertas pecado cobertas cobertas cobertas restos cobertas cobertas cobertas cobertas nomeei cobertas pecado cobertas cobertas saudades cobertas cobertas cobertas cobertas saudades cobertas restos cobertas cobertas cobertas cobertas cobertas cobertas pecado cobertas cobertas cobertas bondosa saudades cobertas pecado cobertas cobertas cobertas bondosa astronomia astronomia astronomia astronomia astronomia astronomia bondosa repouso astronomia lembro astronomia astronomia astronomia astronomia astronomia astronomia astronomia astronomia nomeei astronomia lembro astronomia astronomia saudades astronomia astronomia astronomia astronomia saudades astronomia astronomia astronomia astronomia astronomia astronomia astronomia astronomia repouso astronomia astronomia astronomia bondosa saudades astronomia lembro astronomia astronomia astronomia iniciante palavra palavra palavra palavra palavra palavra iniciante veloc palavra traveler palavra palavra palavra usou palavra palavra palavra palavra traveler palavra traveler palavra palavra tecidos palavra palavra palavra palavra tecidos palavra usou palavra palavra palavra palavra palavra palavra veloc palavra palavra palavra iniciante tecidos palavra traveler palavra palavra palavra bancos mataria mataria mataria mataria mataria mataria bancos teremos mataria muralha mataria mataria mataria dançaremos mataria mataria mataria mataria teremos mataria muralha mataria mataria saudades mataria mataria mataria mataria saudades mataria dançaremos mataria mataria mataria mataria mataria mataria teremos mataria mataria mataria bancos saudades mataria muralha mataria mataria mataria quiseram cobertas cobertas cobertas cobertas cobertas cobertas quiseram repouso cobertas além cobertas cobertas cobertas importasse cobertas cobertas cobertas cobertas quiseram cobertas além cobertas cobertas apresente cobertas cobertas cobertas cobertas apresente cobertas importasse cobertas cobertas cobertas cobertas cobertas cobertas repouso cobertas cobertas cobertas quiseram apresente cobertas além cobertas cobertas cobertas bondosa barra barra barra barra barra barra bondosa pecado barra pecado barra barra barra restos barra barra barra barra ingerido barra pecado barra barra saudades barra barra barra barra saudades barra restos barra barra barra barra barra barra pecado barra barra barra bondosa saudades barra pecado barra barra barra correspondência caixeiro caixeiro caixeiro caixeiro caixeiro caixeiro correspondência veloc caixeiro geram caixeiro caixeiro caixeiro geram caixeiro caixeiro caixeiro caixeiro quiseram caixeiro geram caixeiro caixeiro vitrina caixeiro caixeiro caixeiro caixeiro vitrina caixeiro geram caixeiro caixeiro caixeiro caixeiro caixeiro caixeiro veloc caixeiro caixeiro caixeiro correspondência vitrina caixeiro geram caixeiro caixeiro caixeiro galinheiro manipulado manipulado manipulado manipulado manipulado manipulado galinheiro veloc manipulado restaurantes manipulado manipulado manipulado geram manipulado manipulado manipulado manipulado assassinado manipulado restaurantes manipulado manipulado apresente manipulado manipulado manipulado manipulado apresente manipulado geram manipulado manipulado manipulado manipulado manipulado manipulado veloc manipulado manipulado manipulado galinheiro apresente manipulado restaurantes manipulado manipulado manipulado bancos ervilhas ervilhas ervilhas ervilhas ervilhas ervilhas bancos veloc ervilhas demora ervilhas ervilhas ervilhas urbana ervilhas ervilhas ervilhas ervilhas detestasse ervilhas demora ervilhas ervilhas fascinante ervilhas ervilhas ervilhas ervilhas fascinante ervilhas urbana ervilhas ervilhas ervilhas ervilhas ervilhas ervilhas veloc ervilhas ervilhas ervilhas bancos fascinante ervilhas demora ervilhas ervilhas ervilhas teremos canceladas canceladas canceladas canceladas canceladas canceladas teremos veloc canceladas congelado canceladas canceladas canceladas restos canceladas canceladas canceladas canceladas detestasse canceladas congelado canceladas canceladas comecei canceladas canceladas canceladas canceladas comecei canceladas restos canceladas canceladas canceladas canceladas canceladas canceladas veloc canceladas canceladas canceladas teremos comecei canceladas congelado canceladas canceladas canceladas sobressai canceladas canceladas canceladas canceladas canceladas canceladas sobressai pesos canceladas compro canceladas canceladas canceladas compro canceladas canceladas canceladas canceladas comecei canceladas compro canceladas canceladas enganamos canceladas canceladas canceladas canceladas enganamos canceladas compro canceladas canceladas canceladas canceladas canceladas canceladas pesos canceladas canceladas canceladas sobressai enganamos canceladas compro canceladas canceladas canceladas sobressai canceladas canceladas canceladas canceladas canceladas canceladas sobressai pesos canceladas abraçar canceladas canceladas canceladas dançaremos canceladas canceladas canceladas canceladas comecei canceladas abraçar canceladas canceladas enganamos canceladas canceladas canceladas canceladas enganamos canceladas dançaremos canceladas canceladas canceladas canceladas canceladas canceladas pesos canceladas canceladas canceladas sobressai enganamos canceladas abraçar canceladas canceladas canceladas sobressai cobertas cobertas cobertas cobertas cobertas cobertas sobressai pesos cobertas compro cobertas cobertas cobertas compro cobertas cobertas cobertas cobertas comecei cobertas compro cobertas cobertas enganamos cobertas cobertas cobertas cobertas enganamos cobertas compro cobertas cobertas cobertas cobertas cobertas cobertas pesos cobertas cobertas cobertas sobressai enganamos cobertas compro cobertas cobertas cobertas tido dedicando dedicando dedicando dedicando dedicando dedicando tido astronomia dedicando muralha dedicando dedicando dedicando restos dedicando dedicando dedicando dedicando nomeei dedicando muralha dedicando dedicando saudades dedicando dedicando dedicando dedicando saudades dedicando restos dedicando dedicando dedicando dedicando dedicando dedicando astronomia dedicando dedicando dedicando tido saudades dedicando muralha dedicando dedicando dedicando galinheiro excepcionalmente excepcionalmente excepcionalmente excepcionalmente excepcionalmente excepcionalmente galinheiro pesos excepcionalmente congelado excepcionalmente excepcionalmente excepcionalmente sequer excepcionalmente excepcionalmente excepcionalmente excepcionalmente quiseram excepcionalmente congelado excepcionalmente excepcionalmente saudades excepcionalmente excepcionalmente excepcionalmente excepcionalmente saudades excepcionalmente sequer excepcionalmente excepcionalmente excepcionalmente excepcionalmente excepcionalmente excepcionalmente pesos excepcionalmente excepcionalmente excepcionalmente galinheiro saudades excepcionalmente congelado excepcionalmente excepcionalmente excepcionalmente afinando afinando afinando afinando afinando afinando afinando afinando afinando afinando congelado afinando afinando afinando geram afinando afinando afinando afinando teremos afinando congelado afinando afinando tecidos afinando afinando afinando afinando tecidos afinando geram afinando afinando afinando afinando afinando afinando afinando afinando afinando afinando afinando tecidos afinando congelado afinando afinando afinando tido canceladas canceladas canceladas canceladas canceladas canceladas tido repouso canceladas traveler canceladas canceladas canceladas alimente canceladas canceladas canceladas canceladas traveler canceladas traveler canceladas canceladas cirurgia canceladas canceladas canceladas canceladas cirurgia canceladas alimente canceladas canceladas canceladas canceladas canceladas canceladas repouso canceladas canceladas canceladas tido cirurgia canceladas traveler canceladas canceladas canceladas lavarmos cobertas cobertas cobertas cobertas cobertas cobertas lavarmos pesos cobertas abraçar cobertas cobertas cobertas dançaremos cobertas cobertas cobertas cobertas comecei cobertas abraçar cobertas cobertas enganamos cobertas cobertas cobertas cobertas enganamos cobertas dançaremos cobertas cobertas cobertas cobertas cobertas cobertas pesos cobertas cobertas cobertas lavarmos enganamos cobertas abraçar cobertas cobertas cobertas lavem incur incur incur incur incur incur lavem repouso incur andarei incur incur incur restos incur incur incur incur nomeei incur andarei incur incur saudades incur incur incur incur saudades incur restos incur incur incur incur incur incur repouso incur incur incur lavem saudades incur andarei incur incur incur yukio perderei perderei perderei perderei perderei perderei yukio veloc perderei rédea perderei perderei perderei alimente perderei perderei perderei perderei yukio perderei rédea perderei perderei pescador perderei perderei perderei perderei pescador perderei alimente perderei perderei perderei perderei perderei perderei veloc perderei perderei perderei yukio pescador perderei rédea perderei perderei perderei teremos antissoci antissoci antissoci antissoci antissoci antissoci teremos teremos antissoci quebrou antissoci antissoci antissoci alimente antissoci antissoci antissoci antissoci teremos antissoci quebrou antissoci antissoci enganamos antissoci antissoci antissoci antissoci enganamos antissoci alimente antissoci antissoci antissoci antissoci antissoci antissoci teremos antissoci antissoci antissoci teremos enganamos antissoci quebrou antissoci antissoci antissoci enfrentam caidinho caidinho caidinho caidinho caidinho caidinho enfrentam veloc caidinho soma caidinho caidinho caidinho urbana caidinho caidinho caidinho caidinho yukio caidinho soma caidinho caidinho punhado caidinho caidinho caidinho caidinho punhado caidinho urbana caidinho caidinho caidinho caidinho caidinho caidinho veloc caidinho caidinho caidinho enfrentam punhado caidinho soma caidinho caidinho caidinho teremos cobertas cobertas cobertas cobertas cobertas cobertas teremos pecado cobertas pecado cobertas cobertas cobertas alimente cobertas cobertas cobertas cobertas detestasse cobertas pecado cobertas cobertas lidar cobertas cobertas cobertas cobertas lidar cobertas alimente cobertas cobertas cobertas cobertas cobertas cobertas pecado cobertas cobertas cobertas teremos lidar cobertas pecado cobertas cobertas cobertas molhada astronomia astronomia astronomia astronomia astronomia astronomia molhada astronomia astronomia lembro astronomia astronomia astronomia astronomia astronomia astronomia astronomia astronomia nomeei astronomia lembro astronomia astronomia molhada astronomia astronomia astronomia astronomia molhada astronomia astronomia astronomia astronomia astronomia astronomia astronomia astronomia astronomia astronomia astronomia astronomia molhada molhada astronomia lembro astronomia astronomia astronomia pulso palavra palavra palavra palavra palavra palavra pulso veloc palavra abeto palavra palavra palavra palavra palavra palavra palavra palavra traveler palavra abeto palavra palavra tecidos palavra palavra palavra palavra tecidos palavra palavra palavra palavra palavra palavra palavra palavra veloc palavra palavra palavra pulso tecidos palavra abeto palavra palavra palavra teremos cobertas cobertas cobertas cobertas cobertas cobertas teremos teremos cobertas muralha cobertas cobertas cobertas dançaremos cobertas cobertas cobertas cobertas teremos cobertas muralha cobertas cobertas fascinante cobertas cobertas cobertas cobertas fascinante cobertas dançaremos cobertas cobertas cobertas cobertas cobertas cobertas teremos cobertas cobertas cobertas teremos fascinante cobertas muralha cobertas cobertas cobertas bondosa cobertas cobertas cobertas cobertas cobertas cobertas bondosa pecado cobertas pecado cobertas cobertas cobertas lavem cobertas cobertas cobertas cobertas ingerido cobertas pecado cobertas cobertas saudades cobertas cobertas cobertas cobertas saudades cobertas lavem cobertas cobertas cobertas cobertas cobertas cobertas pecado cobertas cobertas cobertas bondosa saudades cobertas pecado cobertas cobertas cobertas bondosa cobertas cobertas cobertas cobertas cobertas cobertas bondosa pecado cobertas pecado cobertas cobertas cobertas restos cobertas cobertas cobertas cobertas nomeei cobertas pecado cobertas cobertas saudades cobertas cobertas cobertas cobertas saudades cobertas restos cobertas cobertas cobertas cobertas cobertas cobertas pecado cobertas cobertas cobertas bondosa saudades cobertas pecado cobertas cobertas cobertas bondosa astronomia astronomia astronomia astronomia astronomia astronomia bondosa repouso astronomia lembro astronomia astronomia astronomia astronomia astronomia astronomia astronomia astronomia nomeei astronomia lembro astronomia astronomia saudades astronomia astronomia astronomia astronomia saudades astronomia astronomia astronomia astronomia astronomia astronomia astronomia astronomia repouso astronomia astronomia astronomia bondosa saudades astronomia lembro astronomia astronomia astronomia iniciante palavra palavra palavra palavra palavra palavra iniciante veloc palavra traveler palavra palavra palavra usou palavra palavra palavra palavra traveler palavra traveler palavra palavra tecidos palavra palavra palavra palavra tecidos palavra usou palavra palavra palavra palavra palavra palavra veloc palavra palavra palavra iniciante tecidos palavra traveler palavra palavra palavra bancos mataria mataria mataria mataria mataria mataria bancos teremos mataria muralha mataria mataria mataria dançaremos mataria mataria mataria mataria teremos mataria muralha mataria mataria saudades mataria mataria mataria mataria saudades mataria dançaremos mataria mataria mataria mataria mataria mataria teremos mataria mataria mataria bancos saudades mataria muralha mataria mataria mataria quiseram cobertas cobertas cobertas cobertas cobertas cobertas quiseram repouso cobertas além cobertas cobertas cobertas importasse cobertas cobertas cobertas cobertas quiseram cobertas além cobertas cobertas apresente cobertas cobertas cobertas cobertas apresente cobertas importasse cobertas cobertas cobertas cobertas cobertas cobertas repouso cobertas cobertas cobertas quiseram apresente cobertas além cobertas cobertas cobertas bondosa barra barra barra barra barra barra bondosa pecado barra pecado barra barra barra restos barra barra barra barra ingerido barra pecado barra barra saudades barra barra barra barra saudades barra restos barra barra barra barra barra barra pecado barra barra barra bondosa saudades barra pecado barra barra barra correspondência caixeiro caixeiro caixeiro caixeiro caixeiro caixeiro correspondência veloc caixeiro geram caixeiro caixeiro caixeiro geram caixeiro caixeiro caixeiro caixeiro quiseram caixeiro geram caixeiro caixeiro vitrina caixeiro caixeiro caixeiro caixeiro vitrina caixeiro geram caixeiro caixeiro caixeiro caixeiro caixeiro caixeiro veloc caixeiro caixeiro caixeiro correspondência vitrina caixeiro geram caixeiro caixeiro caixeiro galinheiro manipulado manipulado manipulado manipulado manipulado manipulado galinheiro veloc manipulado restaurantes manipulado manipulado manipulado geram manipulado manipulado manipulado manipulado assassinado manipulado restaurantes manipulado manipulado apresente manipulado manipulado manipulado manipulado apresente manipulado geram manipulado manipulado manipulado manipulado manipulado manipulado veloc manipulado manipulado manipulado galinheiro apresente manipulado restaurantes manipulado manipulado manipulado bancos ervilhas ervilhas ervilhas ervilhas ervilhas ervilhas bancos veloc ervilhas demora ervilhas ervilhas ervilhas urbana ervilhas ervilhas ervilhas ervilhas detestasse ervilhas demora ervilhas ervilhas fascinante ervilhas ervilhas ervilhas ervilhas fascinante ervilhas urbana ervilhas ervilhas ervilhas ervilhas ervilhas ervilhas veloc ervilhas ervilhas ervilhas bancos fascinante ervilhas demora ervilhas ervilhas ervilhas teremos canceladas canceladas canceladas canceladas canceladas canceladas teremos veloc canceladas congelado canceladas canceladas canceladas restos canceladas canceladas canceladas canceladas detestasse canceladas congelado canceladas canceladas comecei canceladas canceladas canceladas canceladas comecei canceladas restos canceladas canceladas canceladas canceladas canceladas canceladas veloc canceladas canceladas canceladas teremos comecei canceladas congelado canceladas canceladas canceladas sobressai canceladas canceladas canceladas canceladas canceladas canceladas sobressai pesos canceladas compro canceladas canceladas canceladas compro canceladas canceladas canceladas canceladas comecei canceladas compro canceladas canceladas enganamos canceladas canceladas canceladas canceladas enganamos canceladas compro canceladas canceladas canceladas canceladas canceladas canceladas pesos canceladas canceladas canceladas sobressai enganamos canceladas compro canceladas canceladas canceladas sobressai canceladas canceladas canceladas canceladas canceladas canceladas sobressai pesos canceladas abraçar canceladas canceladas canceladas dançaremos canceladas canceladas canceladas canceladas comecei canceladas abraçar canceladas canceladas enganamos canceladas canceladas canceladas canceladas enganamos canceladas dançaremos canceladas canceladas canceladas canceladas canceladas canceladas pesos canceladas canceladas canceladas sobressai enganamos canceladas abraçar canceladas canceladas canceladas sobressai cobertas cobertas cobertas cobertas cobertas cobertas sobressai pesos cobertas compro cobertas cobertas cobertas compro cobertas cobertas cobertas cobertas comecei cobertas compro cobertas cobertas enganamos cobertas cobertas cobertas cobertas enganamos cobertas compro cobertas cobertas cobertas cobertas cobertas cobertas pesos cobertas cobertas cobertas sobressai enganamos cobertas compro cobertas cobertas cobertas tido dedicando dedicando dedicando dedicando dedicando dedicando tido astronomia dedicando muralha dedicando dedicando dedicando restos dedicando dedicando dedicando dedicando nomeei dedicando muralha dedicando dedicando saudades dedicando dedicando dedicando dedicando saudades dedicando restos dedicando dedicando dedicando dedicando dedicando dedicando astronomia dedicando dedicando dedicando tido saudades dedicando muralha dedicando dedicando dedicando galinheiro excepcionalmente excepcionalmente excepcionalmente excepcionalmente excepcionalmente excepcionalmente galinheiro pesos excepcionalmente congelado excepcionalmente excepcionalmente excepcionalmente sequer excepcionalmente excepcionalmente excepcionalmente excepcionalmente quiseram excepcionalmente congelado excepcionalmente excepcionalmente saudades excepcionalmente excepcionalmente excepcionalmente excepcionalmente saudades excepcionalmente sequer excepcionalmente excepcionalmente excepcionalmente excepcionalmente excepcionalmente excepcionalmente pesos excepcionalmente excepcionalmente excepcionalmente galinheiro saudades excepcionalmente congelado excepcionalmente excepcionalmente excepcionalmente afinando afinando afinando afinando afinando afinando afinando afinando afinando afinando congelado afinando afinando afinando geram afinando afinando afinando afinando teremos afinando congelado afinando afinando tecidos afinando afinando afinando afinando tecidos afinando geram afinando afinando afinando afinando afinando afinando afinando afinando afinando afinando afinando tecidos afinando congelado afinando afinando afinando tido canceladas canceladas canceladas canceladas canceladas canceladas tido repouso canceladas traveler canceladas canceladas canceladas alimente canceladas canceladas canceladas canceladas traveler canceladas traveler canceladas canceladas cirurgia canceladas canceladas canceladas canceladas cirurgia canceladas alimente canceladas canceladas canceladas canceladas canceladas canceladas repouso canceladas canceladas canceladas tido cirurgia canceladas traveler canceladas canceladas canceladas lavarmos cobertas cobertas cobertas cobertas cobertas cobertas lavarmos pesos cobertas abraçar cobertas cobertas cobertas dançaremos cobertas cobertas cobertas cobertas comecei cobertas abraçar cobertas cobertas enganamos cobertas cobertas cobertas cobertas enganamos cobertas dançaremos cobertas cobertas cobertas cobertas cobertas cobertas pesos cobertas cobertas cobertas lavarmos enganamos cobertas abraçar cobertas cobertas cobertas lavem incur incur incur incur incur incur lavem repouso incur andarei incur incur incur restos incur incur incur incur nomeei incur andarei incur incur saudades incur incur incur incur saudades incur restos incur incur incur incur incur incur repouso incur incur incur lavem saudades incur andarei incur incur incur yukio perderei perderei perderei perderei perderei perderei yukio veloc perderei rédea perderei perderei perderei alimente perderei perderei perderei perderei yukio perderei rédea perderei perderei pescador perderei perderei perderei perderei pescador perderei alimente perderei perderei perderei perderei perderei perderei veloc perderei perderei perderei yukio pescador perderei rédea perderei perderei perderei teremos antissoci antissoci antissoci antissoci antissoci antissoci teremos teremos antissoci quebrou antissoci antissoci antissoci alimente antissoci antissoci antissoci antissoci teremos antissoci quebrou antissoci antissoci enganamos antissoci antissoci antissoci antissoci enganamos antissoci alimente antissoci antissoci antissoci antissoci antissoci antissoci teremos antissoci antissoci antissoci teremos enganamos antissoci quebrou antissoci antissoci antissoci enfrentam caidinho caidinho caidinho caidinho caidinho caidinho enfrentam veloc caidinho soma caidinho caidinho caidinho urbana caidinho caidinho caidinho caidinho yukio caidinho soma caidinho caidinho punhado caidinho caidinho caidinho caidinho punhado caidinho urbana caidinho caidinho caidinho caidinho caidinho caidinho veloc caidinho caidinho caidinho enfrentam punhado caidinho soma caidinho caidinho caidinho teremos cobertas cobertas cobertas cobertas cobertas cobertas teremos pecado cobertas pecado cobertas cobertas cobertas alimente cobertas cobertas cobertas cobertas detestasse cobertas pecado cobertas cobertas lidar cobertas cobertas cobertas cobertas lidar cobertas alimente cobertas cobertas cobertas cobertas cobertas cobertas pecado cobertas cobertas cobertas teremos lidar cobertas pecado cobertas cobertas cobertas molhada astronomia astronomia astronomia astronomia astronomia astronomia molhada astronomia astronomia lembro astronomia astronomia astronomia astronomia astronomia astronomia astronomia astronomia nomeei astronomia lembro astronomia astronomia molhada astronomia astronomia astronomia astronomia molhada astronomia astronomia astronomia astronomia astronomia astronomia astronomia astronomia astronomia astronomia astronomia astronomia molhada molhada astronomia lembro astronomia astronomia astronomia pulso palavra palavra palavra palavra palavra palavra pulso veloc palavra abeto palavra palavra palavra palavra palavra palavra palavra palavra traveler palavra abeto palavra palavra tecidos palavra palavra palavra palavra tecidos palavra palavra palavra palavra palavra palavra palavra palavra veloc palavra palavra palavra pulso tecidos palavra abeto palavra palavra palavra teremos cobertas cobertas cobertas cobertas cobertas cobertas teremos teremos cobertas muralha cobertas cobertas cobertas dançaremos cobertas cobertas cobertas cobertas teremos cobertas muralha cobertas cobertas fascinante cobertas cobertas cobertas cobertas fascinante cobertas dançaremos cobertas cobertas cobertas cobertas cobertas cobertas teremos cobertas cobertas cobertas teremos fascinante cobertas muralha cobertas cobertas cobertas bondosa cobertas cobertas cobertas cobertas cobertas cobertas bondosa pecado cobertas pecado cobertas cobertas cobertas lavem cobertas cobertas cobertas cobertas ingerido cobertas pecado cobertas cobertas saudades cobertas cobertas cobertas cobertas saudades cobertas lavem cobertas cobertas cobertas cobertas cobertas cobertas pecado cobertas cobertas cobertas bondosa saudades cobertas pecado cobertas cobertas cobertas bondosa cobertas cobertas cobertas cobertas cobertas cobertas bondosa pecado cobertas pecado cobertas cobertas cobertas restos cobertas cobertas cobertas cobertas nomeei cobertas pecado cobertas cobertas saudades cobertas cobertas cobertas cobertas saudades cobertas restos cobertas cobertas cobertas cobertas cobertas cobertas pecado cobertas cobertas cobertas bondosa saudades cobertas pecado cobertas cobertas cobertas bondosa astronomia astronomia astronomia astronomia astronomia astronomia bondosa repouso astronomia lembro astronomia astronomia astronomia astronomia astronomia astronomia astronomia astronomia nomeei astronomia lembro astronomia astronomia saudades astronomia astronomia astronomia astronomia saudades astronomia astronomia astronomia astronomia astronomia astronomia astronomia astronomia repouso astronomia astronomia astronomia bondosa saudades astronomia lembro astronomia astronomia astronomia iniciante palavra palavra palavra palavra palavra palavra iniciante veloc palavra traveler palavra palavra palavra usou palavra palavra palavra palavra traveler palavra traveler palavra palavra tecidos palavra palavra palavra palavra tecidos palavra usou palavra palavra palavra palavra palavra palavra veloc palavra palavra palavra iniciante tecidos palavra traveler palavra palavra palavra bancos mataria mataria mataria mataria mataria mataria bancos teremos mataria muralha mataria mataria mataria dançaremos mataria mataria mataria mataria teremos mataria muralha mataria mataria saudades mataria mataria mataria mataria saudades mataria dançaremos mataria mataria mataria mataria mataria mataria teremos mataria mataria mataria bancos saudades mataria muralha mataria mataria mataria quiseram cobertas cobertas cobertas cobertas cobertas cobertas quiseram repouso cobertas além cobertas cobertas cobertas importasse cobertas cobertas cobertas cobertas quiseram cobertas além cobertas cobertas apresente cobertas cobertas cobertas cobertas apresente cobertas importasse cobertas cobertas cobertas cobertas cobertas cobertas repouso cobertas cobertas cobertas quiseram apresente cobertas além cobertas cobertas cobertas bondosa barra barra barra barra barra barra bondosa pecado barra pecado barra barra barra restos barra barra barra barra ingerido barra pecado barra barra saudades barra barra barra barra saudades barra restos barra barra barra barra barra barra pecado barra barra barra bondosa saudades barra pecado barra barra barra correspondência caixeiro caixeiro caixeiro caixeiro caixeiro caixeiro correspondência veloc caixeiro geram caixeiro caixeiro caixeiro geram caixeiro caixeiro caixeiro caixeiro quiseram caixeiro geram caixeiro caixeiro vitrina caixeiro caixeiro caixeiro caixeiro vitrina caixeiro geram caixeiro caixeiro caixeiro caixeiro caixeiro caixeiro veloc caixeiro caixeiro caixeiro correspondência vitrina caixeiro geram caixeiro caixeiro caixeiro galinheiro manipulado manipulado manipulado manipulado manipulado manipulado galinheiro veloc manipulado restaurantes manipulado manipulado manipulado geram manipulado manipulado manipulado manipulado assassinado manipulado restaurantes manipulado manipulado apresente manipulado manipulado manipulado manipulado apresente manipulado geram manipulado manipulado manipulado manipulado manipulado manipulado veloc manipulado manipulado manipulado galinheiro apresente manipulado restaurantes manipulado manipulado manipulado bancos ervilhas ervilhas ervilhas ervilhas ervilhas ervilhas bancos veloc ervilhas demora ervilhas ervilhas ervilhas urbana ervilhas ervilhas ervilhas ervilhas detestasse ervilhas demora ervilhas ervilhas fascinante ervilhas ervilhas ervilhas ervilhas fascinante ervilhas urbana ervilhas ervilhas ervilhas ervilhas ervilhas ervilhas veloc ervilhas ervilhas ervilhas bancos fascinante ervilhas demora ervilhas ervilhas ervilhas teremos canceladas canceladas canceladas canceladas canceladas canceladas teremos veloc canceladas congelado canceladas canceladas canceladas restos canceladas canceladas canceladas canceladas detestasse canceladas congelado canceladas canceladas comecei canceladas canceladas canceladas canceladas comecei canceladas restos canceladas canceladas canceladas canceladas canceladas canceladas veloc canceladas canceladas canceladas teremos comecei canceladas congelado canceladas canceladas canceladas sobressai canceladas canceladas canceladas canceladas canceladas canceladas sobressai pesos canceladas compro canceladas canceladas canceladas compro canceladas canceladas canceladas canceladas comecei canceladas compro canceladas canceladas enganamos canceladas canceladas canceladas canceladas enganamos canceladas compro canceladas canceladas canceladas canceladas canceladas canceladas pesos canceladas canceladas canceladas sobressai enganamos canceladas compro canceladas canceladas canceladas sobressai canceladas canceladas canceladas canceladas canceladas canceladas sobressai pesos canceladas abraçar canceladas canceladas canceladas dançaremos canceladas canceladas canceladas canceladas comecei canceladas abraçar canceladas canceladas enganamos canceladas canceladas canceladas canceladas enganamos canceladas dançaremos canceladas canceladas canceladas canceladas canceladas canceladas pesos canceladas canceladas canceladas sobressai enganamos canceladas abraçar canceladas canceladas canceladas sobressai cobertas cobertas cobertas cobertas cobertas cobertas sobressai pesos cobertas compro cobertas cobertas cobertas compro cobertas cobertas cobertas cobertas comecei cobertas compro cobertas cobertas enganamos cobertas cobertas cobertas cobertas enganamos cobertas compro cobertas cobertas cobertas cobertas cobertas cobertas pesos cobertas cobertas cobertas sobressai enganamos cobertas compro cobertas cobertas cobertas tido dedicando dedicando dedicando dedicando dedicando dedicando tido astronomia dedicando muralha dedicando dedicando dedicando restos dedicando dedicando dedicando dedicando nomeei dedicando muralha dedicando dedicando saudades dedicando dedicando dedicando dedicando saudades dedicando restos dedicando dedicando dedicando dedicando dedicando dedicando astronomia dedicando dedicando dedicando tido saudades dedicando muralha dedicando dedicando dedicando galinheiro excepcionalmente excepcionalmente excepcionalmente excepcionalmente excepcionalmente excepcionalmente galinheiro pesos excepcionalmente congelado excepcionalmente excepcionalmente excepcionalmente sequer excepcionalmente excepcionalmente excepcionalmente excepcionalmente quiseram excepcionalmente congelado excepcionalmente excepcionalmente saudades excepcionalmente excepcionalmente excepcionalmente excepcionalmente saudades excepcionalmente sequer excepcionalmente excepcionalmente excepcionalmente excepcionalmente excepcionalmente excepcionalmente pesos excepcionalmente excepcionalmente excepcionalmente galinheiro saudades excepcionalmente congelado excepcionalmente excepcionalmente excepcionalmente afinando afinando afinando afinando afinando afinando afinando afinando afinando afinando congelado afinando afinando afinando geram afinando afinando afinando afinando teremos afinando congelado afinando afinando tecidos afinando afinando afinando afinando tecidos afinando geram afinando afinando afinando afinando afinando afinando afinando afinando afinando afinando afinando tecidos afinando congelado afinando afinando afinando tido canceladas canceladas canceladas canceladas canceladas canceladas tido repouso canceladas traveler canceladas canceladas canceladas alimente canceladas canceladas canceladas canceladas traveler canceladas traveler canceladas canceladas cirurgia canceladas canceladas canceladas canceladas cirurgia canceladas alimente canceladas canceladas canceladas canceladas canceladas canceladas repouso canceladas canceladas canceladas tido cirurgia canceladas traveler canceladas canceladas canceladas lavarmos cobertas cobertas cobertas cobertas cobertas cobertas lavarmos pesos cobertas abraçar cobertas cobertas cobertas dançaremos cobertas cobertas cobertas cobertas comecei cobertas abraçar cobertas cobertas enganamos cobertas cobertas cobertas cobertas enganamos cobertas dançaremos cobertas cobertas cobertas cobertas cobertas cobertas pesos cobertas cobertas cobertas lavarmos enganamos cobertas abraçar cobertas cobertas cobertas lavem incur incur incur incur incur incur lavem repouso incur andarei incur incur incur restos incur incur incur incur nomeei incur andarei incur incur saudades incur incur incur incur saudades incur restos incur incur incur incur incur incur repouso incur incur incur lavem saudades incur andarei incur incur incur yukio perderei perderei perderei perderei perderei perderei yukio veloc perderei rédea perderei perderei perderei alimente perderei perderei perderei perderei yukio perderei rédea perderei perderei pescador perderei perderei perderei perderei pescador perderei alimente perderei perderei perderei perderei perderei perderei veloc perderei perderei perderei yukio pescador perderei rédea perderei perderei perderei teremos antissoci antissoci antissoci antissoci antissoci antissoci teremos teremos antissoci quebrou antissoci antissoci antissoci alimente antissoci antissoci antissoci antissoci teremos antissoci quebrou antissoci antissoci enganamos antissoci antissoci antissoci antissoci enganamos antissoci alimente antissoci antissoci antissoci antissoci antissoci antissoci teremos antissoci antissoci antissoci teremos enganamos antissoci quebrou antissoci antissoci antissoci enfrentam caidinho caidinho caidinho caidinho caidinho caidinho enfrentam veloc caidinho soma caidinho caidinho caidinho urbana caidinho caidinho caidinho caidinho yukio caidinho soma caidinho caidinho punhado caidinho caidinho caidinho caidinho punhado caidinho urbana caidinho caidinho caidinho caidinho caidinho caidinho veloc caidinho caidinho caidinho enfrentam punhado caidinho soma caidinho caidinho caidinho teremos cobertas cobertas cobertas cobertas cobertas cobertas teremos pecado cobertas pecado cobertas cobertas cobertas alimente cobertas cobertas cobertas cobertas detestasse cobertas pecado cobertas cobertas lidar cobertas cobertas cobertas cobertas lidar cobertas alimente cobertas cobertas cobertas cobertas cobertas cobertas pecado cobertas cobertas cobertas teremos lidar cobertas pecado cobertas cobertas cobertas molhada astronomia astronomia astronomia astronomia astronomia astronomia molhada astronomia astronomia lembro astronomia astronomia astronomia astronomia astronomia astronomia astronomia astronomia nomeei astronomia lembro astronomia astronomia molhada astronomia astronomia astronomia astronomia molhada astronomia astronomia astronomia astronomia astronomia astronomia astronomia astronomia astronomia astronomia astronomia astronomia molhada molhada astronomia lembro astronomia astronomia astronomia pulso palavra palavra palavra palavra palavra palavra pulso veloc palavra abeto palavra palavra palavra palavra palavra palavra palavra palavra traveler palavra abeto palavra palavra tecidos palavra palavra palavra palavra tecidos palavra palavra palavra palavra palavra palavra palavra palavra veloc palavra palavra palavra pulso tecidos palavra abeto palavra palavra palavra teremos cobertas cobertas cobertas cobertas cobertas cobertas teremos teremos cobertas muralha cobertas cobertas cobertas dançaremos cobertas cobertas cobertas cobertas teremos cobertas muralha cobertas cobertas fascinante cobertas cobertas cobertas cobertas fascinante cobertas dançaremos cobertas cobertas cobertas cobertas cobertas cobertas teremos cobertas cobertas cobertas teremos fascinante cobertas muralha cobertas cobertas cobertas bondosa cobertas cobertas cobertas cobertas cobertas cobertas bondosa pecado cobertas pecado cobertas cobertas cobertas lavem cobertas cobertas cobertas cobertas ingerido cobertas pecado cobertas cobertas saudades cobertas cobertas cobertas cobertas saudades cobertas lavem cobertas cobertas cobertas cobertas cobertas cobertas pecado cobertas cobertas cobertas bondosa saudades cobertas pecado cobertas cobertas cobertas bondosa cobertas cobertas cobertas cobertas cobertas cobertas bondosa pecado cobertas pecado cobertas cobertas cobertas restos cobertas cobertas cobertas cobertas nomeei cobertas pecado cobertas cobertas saudades cobertas cobertas cobertas cobertas saudades cobertas restos cobertas cobertas cobertas cobertas cobertas cobertas pecado cobertas cobertas cobertas bondosa saudades cobertas pecado cobertas cobertas cobertas bondosa astronomia astronomia astronomia astronomia astronomia astronomia bondosa repouso astronomia lembro astronomia astronomia astronomia astronomia astronomia astronomia astronomia astronomia nomeei astronomia lembro astronomia astronomia saudades astronomia astronomia astronomia astronomia saudades astronomia astronomia astronomia astronomia astronomia astronomia astronomia astronomia repouso astronomia astronomia astronomia bondosa saudades astronomia lembro astronomia astronomia astronomia iniciante palavra palavra palavra palavra palavra palavra iniciante veloc palavra traveler palavra palavra palavra usou palavra palavra palavra palavra traveler palavra traveler palavra palavra tecidos palavra palavra palavra palavra tecidos palavra usou palavra palavra palavra palavra palavra palavra veloc palavra palavra palavra iniciante tecidos palavra traveler palavra palavra palavra bancos mataria mataria mataria mataria mataria mataria bancos teremos mataria muralha mataria mataria mataria dançaremos mataria mataria mataria mataria teremos mataria muralha mataria mataria saudades mataria mataria mataria mataria saudades mataria dançaremos mataria mataria mataria mataria mataria mataria teremos mataria mataria mataria bancos saudades mataria muralha mataria mataria mataria quiseram cobertas cobertas cobertas cobertas cobertas cobertas quiseram repouso cobertas além cobertas cobertas cobertas importasse cobertas cobertas cobertas cobertas quiseram cobertas além cobertas cobertas apresente cobertas cobertas cobertas cobertas apresente cobertas importasse cobertas cobertas cobertas cobertas cobertas cobertas repouso cobertas cobertas cobertas quiseram apresente cobertas além cobertas cobertas cobertas bondosa barra barra barra barra barra barra bondosa pecado barra pecado barra barra barra restos barra barra barra barra ingerido barra pecado barra barra saudades barra barra barra barra saudades barra restos barra barra barra barra barra barra pecado barra barra barra bondosa saudades barra pecado barra barra barra correspondência caixeiro caixeiro caixeiro caixeiro caixeiro caixeiro correspondência veloc caixeiro geram caixeiro caixeiro caixeiro geram caixeiro caixeiro caixeiro caixeiro quiseram caixeiro geram caixeiro caixeiro vitrina caixeiro caixeiro caixeiro caixeiro vitrina caixeiro geram caixeiro caixeiro caixeiro caixeiro caixeiro caixeiro veloc caixeiro caixeiro caixeiro correspondência vitrina caixeiro geram caixeiro caixeiro caixeiro galinheiro manipulado manipulado manipulado manipulado manipulado manipulado galinheiro veloc manipulado restaurantes manipulado manipulado manipulado geram manipulado manipulado manipulado manipulado assassinado manipulado restaurantes manipulado manipulado apresente manipulado manipulado manipulado manipulado apresente manipulado geram manipulado manipulado manipulado manipulado manipulado manipulado veloc manipulado manipulado manipulado galinheiro apresente manipulado restaurantes manipulado manipulado manipulado bancos ervilhas ervilhas ervilhas ervilhas ervilhas ervilhas bancos veloc ervilhas demora ervilhas ervilhas ervilhas urbana ervilhas ervilhas ervilhas ervilhas detestasse ervilhas demora ervilhas ervilhas fascinante ervilhas ervilhas ervilhas ervilhas fascinante ervilhas urbana ervilhas ervilhas ervilhas ervilhas ervilhas ervilhas veloc ervilhas ervilhas ervilhas bancos fascinante ervilhas demora ervilhas ervilhas ervilhas teremos canceladas canceladas canceladas canceladas canceladas canceladas teremos veloc canceladas congelado canceladas canceladas canceladas restos canceladas canceladas canceladas canceladas detestasse canceladas congelado canceladas canceladas comecei canceladas canceladas canceladas canceladas comecei canceladas restos canceladas canceladas canceladas canceladas canceladas canceladas veloc canceladas canceladas canceladas teremos comecei canceladas congelado canceladas canceladas canceladas sobressai canceladas canceladas canceladas canceladas canceladas canceladas sobressai pesos canceladas compro canceladas canceladas canceladas compro canceladas canceladas canceladas canceladas comecei canceladas compro canceladas canceladas enganamos canceladas canceladas canceladas canceladas enganamos canceladas compro canceladas canceladas canceladas canceladas canceladas canceladas pesos canceladas canceladas canceladas sobressai enganamos canceladas compro canceladas canceladas canceladas sobressai canceladas canceladas canceladas canceladas canceladas canceladas sobressai pesos canceladas abraçar canceladas canceladas canceladas dançaremos canceladas canceladas canceladas canceladas comecei canceladas abraçar canceladas canceladas enganamos canceladas canceladas canceladas canceladas enganamos canceladas dançaremos canceladas canceladas canceladas canceladas canceladas canceladas pesos canceladas canceladas canceladas sobressai enganamos canceladas abraçar canceladas canceladas canceladas sobressai cobertas cobertas cobertas cobertas cobertas cobertas sobressai pesos cobertas compro cobertas cobertas cobertas compro cobertas cobertas cobertas cobertas comecei cobertas compro cobertas cobertas enganamos cobertas cobertas cobertas cobertas enganamos cobertas compro cobertas cobertas cobertas cobertas cobertas cobertas pesos cobertas cobertas cobertas sobressai enganamos cobertas compro cobertas cobertas cobertas tido dedicando dedicando dedicando dedicando dedicando dedicando tido astronomia dedicando muralha dedicando dedicando dedicando restos dedicando dedicando dedicando dedicando nomeei dedicando muralha dedicando dedicando saudades dedicando dedicando dedicando dedicando saudades dedicando restos dedicando dedicando dedicando dedicando dedicando dedicando astronomia dedicando dedicando dedicando tido saudades dedicando muralha dedicando dedicando dedicando galinheiro excepcionalmente excepcionalmente excepcionalmente excepcionalmente excepcionalmente excepcionalmente galinheiro pesos excepcionalmente congelado excepcionalmente excepcionalmente excepcionalmente sequer excepcionalmente excepcionalmente excepcionalmente excepcionalmente quiseram excepcionalmente congelado excepcionalmente excepcionalmente saudades excepcionalmente excepcionalmente excepcionalmente excepcionalmente saudades excepcionalmente sequer excepcionalmente excepcionalmente excepcionalmente excepcionalmente excepcionalmente excepcionalmente pesos excepcionalmente excepcionalmente excepcionalmente galinheiro saudades excepcionalmente congelado excepcionalmente excepcionalmente excepcionalmente afinando afinando afinando afinando afinando afinando afinando afinando afinando afinando congelado afinando afinando afinando geram afinando afinando afinando afinando teremos afinando congelado afinando afinando tecidos afinando afinando afinando afinando tecidos afinando geram afinando afinando afinando afinando afinando afinando afinando afinando afinando afinando afinando tecidos afinando congelado afinando afinando afinando\n",
      "**************************************************\n"
     ]
    }
   ],
   "source": [
    "for i in range(5):\n",
    "    print(\"English Sentence : \", df['EN'][i])\n",
    "    print(\"Original Portugal Sentence : \", df['PT'][i])\n",
    "    print(\"Predicted Sentence : \", translate(df[\"EN\"][i]))\n",
    "    print(\"*\" * 50)"
   ]
  },
  {
   "cell_type": "code",
   "execution_count": null,
   "id": "c6744f43-1d3d-4d4d-9173-f9b11e4db562",
   "metadata": {},
   "outputs": [],
   "source": [
    "#-------------------------------------------------------------------"
   ]
  },
  {
   "cell_type": "markdown",
   "id": "08a73e6f-f1bf-4b10-93bc-7a4b413f6632",
   "metadata": {},
   "source": [
    "# Test Sample Texts"
   ]
  },
  {
   "cell_type": "code",
   "execution_count": null,
   "id": "96ea4a92-b8a6-47f2-bbfe-82686598e39c",
   "metadata": {},
   "outputs": [],
   "source": [
    "translate(\"The weather is beautiful today.\")"
   ]
  },
  {
   "cell_type": "code",
   "execution_count": null,
   "id": "3b19dbdd-2cac-47f2-8749-2ffbf6762228",
   "metadata": {},
   "outputs": [],
   "source": [
    "translate(\"I enjoy reading books in my free time.\")"
   ]
  },
  {
   "cell_type": "code",
   "execution_count": null,
   "id": "7c6a811c-62c7-4973-92d4-f31a7c7e53c0",
   "metadata": {},
   "outputs": [],
   "source": [
    "translate(\"Here is the nearest coffee shop?\")"
   ]
  },
  {
   "cell_type": "code",
   "execution_count": null,
   "id": "2514499e-83c4-4ea4-b88e-45a5b00f85f1",
   "metadata": {},
   "outputs": [],
   "source": [
    "translate(\"Learning new languages broadens your perspective.\")"
   ]
  },
  {
   "cell_type": "code",
   "execution_count": null,
   "id": "60694e29-7f33-4f8a-ab1d-d9105c0addbf",
   "metadata": {},
   "outputs": [],
   "source": [
    "translate(\"Can you recommend a good restaurant in the area?\")"
   ]
  },
  {
   "cell_type": "markdown",
   "id": "7277e9c2-47fd-40b7-a30d-6705788c774a",
   "metadata": {},
   "source": [
    "# Input Text and Get Translations"
   ]
  },
  {
   "cell_type": "code",
   "execution_count": null,
   "id": "b24d5f0b-f3e9-461f-9967-c370a3fceb1c",
   "metadata": {},
   "outputs": [],
   "source": [
    "def translate_input():\n",
    "    while True:\n",
    "        # Get user input\n",
    "        user_input = input(\"Enter an English sentence (type 'exit' to quit): \")\n",
    "\n",
    "        # Check if the user wants to exit\n",
    "        if user_input.lower() == 'exit':\n",
    "            print(\"Exiting translation program.\")\n",
    "            break\n",
    "\n",
    "        # Use your existing translate function\n",
    "        translation = translate(user_input)\n",
    "\n",
    "        # Display the translation\n",
    "        print(f\"Translation: {translation}\\n\")"
   ]
  },
  {
   "cell_type": "markdown",
   "id": "6cb8759d-e144-4360-b205-c46c5ae02fde",
   "metadata": {},
   "source": [
    "# Call The Translation Function"
   ]
  },
  {
   "cell_type": "code",
   "execution_count": null,
   "id": "0eff50a1-05ba-48c0-ab2c-ac7031bcacf7",
   "metadata": {},
   "outputs": [],
   "source": [
    "translate_input()"
   ]
  }
 ],
 "metadata": {
  "kernelspec": {
   "display_name": "cuda_GPT_translator",
   "language": "python",
   "name": "cuda"
  },
  "language_info": {
   "codemirror_mode": {
    "name": "ipython",
    "version": 3
   },
   "file_extension": ".py",
   "mimetype": "text/x-python",
   "name": "python",
   "nbconvert_exporter": "python",
   "pygments_lexer": "ipython3",
   "version": "3.11.5"
  }
 },
 "nbformat": 4,
 "nbformat_minor": 5
}
